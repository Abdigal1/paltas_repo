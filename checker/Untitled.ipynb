{
 "cells": [
  {
   "cell_type": "code",
   "execution_count": 2,
   "id": "3a923141",
   "metadata": {},
   "outputs": [],
   "source": [
    "import os\n",
    "from PIL import Image\n",
    "from PIL.ExifTags import TAGS, GPSTAGS\n",
    "import matplotlib.pyplot as plt\n",
    "import numpy as np\n",
    "from main import *"
   ]
  },
  {
   "cell_type": "code",
   "execution_count": 12,
   "id": "eda155b0",
   "metadata": {},
   "outputs": [
    {
     "name": "stdout",
     "output_type": "stream",
     "text": [
      "\u001b[0m\u001b[01;34m13_agosto\u001b[0m/     \u001b[01;34m19_agosto\u001b[0m/   \u001b[01;34m23_julio_2\u001b[0m/    \u001b[01;34m26_mayo_1\u001b[0m/  \u001b[01;34m2_julio\u001b[0m/   \u001b[01;34m9_julio\u001b[0m/\r\n",
      "\u001b[01;34m15_setiembre\u001b[0m/  \u001b[01;34m23_julio_1\u001b[0m/  \u001b[01;34m24_setiembre\u001b[0m/  \u001b[01;34m26_mayo_2\u001b[0m/  \u001b[01;34m5_agosto\u001b[0m/\r\n"
     ]
    }
   ],
   "source": [
    "ls ../../Data_Base"
   ]
  },
  {
   "cell_type": "code",
   "execution_count": 214,
   "id": "84c234eb",
   "metadata": {},
   "outputs": [],
   "source": [
    "st=img_set(path=\"../../Data_Base/26_mayo_1\")\n",
    "pts=st.get_2dcoordinates()"
   ]
  },
  {
   "cell_type": "code",
   "execution_count": 215,
   "id": "328a3381",
   "metadata": {},
   "outputs": [
    {
     "data": {
      "image/png": "[encoded data removed]",
      "text/plain": [
       "<Figure size 432x288 with 1 Axes>"
      ]
     },
     "metadata": {
      "needs_background": "light"
     },
     "output_type": "display_data"
    }
   ],
   "source": [
    "st.get_2dcoordinates().shape\n",
    "b = st.plot()"
   ]
  },
  {
   "cell_type": "code",
   "execution_count": 218,
   "id": "b6d13c0f",
   "metadata": {},
   "outputs": [
    {
     "data": {
      "text/plain": [
       "(<PIL.MpoImagePlugin.MpoImageFile image mode=RGB size=5472x3648 at 0x7FE687DDA390>,\n",
       " 'DJI_0422.JPG',\n",
       " '../../Data_Base/26_mayo_1/DJI_0422.JPG')"
      ]
     },
     "execution_count": 218,
     "metadata": {},
     "output_type": "execute_result"
    }
   ],
   "source": [
    "meta=getim_meta(st[1][0])\n",
    "st[1]"
   ]
  },
  {
   "cell_type": "code",
   "execution_count": 146,
   "id": "42bc33f2",
   "metadata": {},
   "outputs": [
    {
     "name": "stderr",
     "output_type": "stream",
     "text": [
      "/home/lambda/paltas/lib/python3.6/site-packages/ipykernel_launcher.py:1: VisibleDeprecationWarning: Creating an ndarray from ragged nested sequences (which is a list-or-tuple of lists-or-tuples-or ndarrays with different lengths or shapes) is deprecated. If you meant to do this, you must specify 'dtype=object' when creating the ndarray\n",
      "  \"\"\"Entry point for launching an IPython kernel.\n"
     ]
    }
   ],
   "source": [
    "labels=np.vectorize((lambda k:np.array([k,np.array(st.rd[k])])),otypes=[object],signature=\"()->(i)\")(np.array(list(st.rd.keys())))"
   ]
  },
  {
   "cell_type": "code",
   "execution_count": 23,
   "id": "ea891dc7",
   "metadata": {},
   "outputs": [
    {
     "data": {
      "text/plain": [
       "(<PIL.MpoImagePlugin.MpoImageFile image mode=RGB size=5472x3648 at 0x7FE7F7958A90>,\n",
       " 'DJI_0432.JPG',\n",
       " '../../Data_Base/26_mayo_1/DJI_0432.JPG')"
      ]
     },
     "execution_count": 23,
     "metadata": {},
     "output_type": "execute_result"
    }
   ],
   "source": [
    "st[0]\n",
    "#Cambiar el nombre en st[0][2]"
   ]
  },
  {
   "cell_type": "code",
   "execution_count": 198,
   "id": "94d6c90e",
   "metadata": {},
   "outputs": [
    {
     "data": {
      "text/plain": [
       "(array([147.,   0.,   0.,   0.,   0.,   0.,   0.,   0.,   0.,   0.,   0.,\n",
       "          0.,   0.,   0.,   0.,   0.,   0.,   0.,   0.,   0.,   0.,   0.,\n",
       "          0.,   0.,   0.,   0.,   0.,   2.,   0.,   0.,   0.,   2.,   2.,\n",
       "          0.,   0.,   0.,   6.,   8.,   2.,  16.,  14.,  18.,  22.,  20.,\n",
       "         24.,  24.,  22.,  22.,  20.,  40.,  24.,  36.,  76.,  58.,  26.,\n",
       "         20.,   8.,   2.,  10.,   2.,   8.,   4.,   8.,  22.,  36.,  18.,\n",
       "         36.,  48.,  52.,  40.,  46.,  32.,  40.,  24.,  18.,   4.,   8.,\n",
       "          6.,   6.,   6.,  10.,   6.,  10.,   8.,   8.,  14.,  10.,  16.,\n",
       "         18.,  20.,  28.,  16.,  18.,  18.,  22.,  16.,  26.,  16.,  32.,\n",
       "         38.,  40.,  56.,  40.,  72.,  58.,  96.,  38.,  44.,  48.,  36.,\n",
       "         62.,  58.,  42.,  52.,  44.,  54.,  46.,  24.,   8.,  10.,  10.,\n",
       "          6.,  10.,   6.,   2.,  10.,  10.,   8.,  12.,  18.,  14.,  26.,\n",
       "         24.,  38.,  54.,  54.,  42.,  52.,  64.,  84.,  64.,  56.,  50.,\n",
       "         34.,  40.,  30.,  24.,  52.,  26.,  28.,  16.,  16.,  32.,  28.,\n",
       "         60.,  26.,  28.,  54.,  34.,  42.,  64.,  42.,  52.,  54.,  40.,\n",
       "         32.,  40.,  28.,  22.,  42.,  30.,  24.,  48.,  34.,  44.,  40.,\n",
       "         70.,  52.,  60.,  68.,  60.,  42.,  50.,  30.,  52.,  48.,  42.,\n",
       "         44.,  34.,  24.,  20.,  28.,  38.,  22.,  18.,  28.,  14.,  20.,\n",
       "         14.,  16.,  26.,  30.,  44.,  34.,  46.,  56.,  62., 102.,  74.,\n",
       "         52.,  80.,  68.,  78.,  66.,  46.,  30.,  32.,  14.,  18.,  16.,\n",
       "         20.,  30.,  18.,  48.,  52.,  50.,  58.,  66.,  50.,  36.,  48.,\n",
       "         54.,  56.,  34.,  36.,  48.,  36.,  38.,  58.,  40.,  32.,  34.,\n",
       "         42.,  48.,  48.,  50.,  46.,  48.,  50.,  44.,  32.,  28.,  42.,\n",
       "         30.,  24.,  20.,   8.,  16.,  22.,  28.,  44.,  36.,  38.,  56.,\n",
       "         38.,  36.,  46.,  40.,  44.,  50.,  48.,  48.,  68.,  66.,  86.,\n",
       "         68.,  68.,  64.,  60.,  48.,  24.,  48.,  38.,  42.,  56.,  32.,\n",
       "         42.,  30.,  22.,  28.,  32.,  58.,  34.,  36.,  24.,  26.,  30.,\n",
       "         32.,  18.,  22.,  22.,  34.,  24.,  22.,  40.,  26.,  22.,  30.,\n",
       "         28.,  48.,  22.,  42.,  44.,  66.,  64.,  54.,  54.,  58.,  62.,\n",
       "         40.,  30.,  38.,  42.,  44.,  42.,  46.,  46.,  42.,  26.,  38.,\n",
       "         28.,  40.,  18.,  34.,  30.,  40.,  40.,  34.,  46.,  22.,  44.,\n",
       "         42.,  44.,  28.,  40.,  24.,  34.,  24.,  28.,  30.,  28.,  18.,\n",
       "         40.,  42.,  28.,  34.,  22.,  16.,  34.,  32.,  28.,  28.,  20.,\n",
       "         24.,  28.,  24.,  44.,  38.,  36.,  44.,  28.,  36.,  30.,  40.,\n",
       "         30.,  36.,  42.,  44.,  28.,  46.,  48.,  32.,  30.,  36.,  38.,\n",
       "         28.,  30.,  32.,  34.,  30.,  28.,  24.,  26.,  16.,  10.,  14.,\n",
       "         14.,  20.,  20.,  24.,  18.,  16.,  20.,  26.,  20.,  26.,  18.,\n",
       "         40.,  22.,  34.,  34.,  48.,  32.,  30.,  38.,  24.,  32.,  36.,\n",
       "         36.,  44.,  34.,  24.,  22.,  22.,  42.,  48.,  36.,  32.,  40.,\n",
       "         22.,  24.,  26.,  20.,  10.,  14.,  24.,  14.,  14.,  20.,  18.,\n",
       "         16.,  28.,  20.,  36.,  18.,  22.,  24.,  26.,  24.,  28.,  22.,\n",
       "         14.,  16.,  28.,  14.,  30.,  32.,  28.,  32.,  28.,  38.,  32.,\n",
       "         26.,  38.,  22.,  48.,  20.,  26.,  42.,  22.,  36.,  32.,  26.,\n",
       "         36.,  32.,  16.,  16.,  20.,  20.,  34.,   8.,  28.,  26.,  14.,\n",
       "         14.,  12.,  20.,  24.,  24.,  16.,  22.,  26.,  18.,  16.,  22.,\n",
       "         12.,  16.,  24.,  22.,  12.,  14.,  24.,  12.,  32.,  26.,  28.,\n",
       "         26.,  48.,  26.,  34.,  44.,  28.,  38.,  24.,  36.,  32.,  32.,\n",
       "         22.,  28.,  18.,  16.,  22.,  22.,  20.,  24.,  16.,  18.,  18.,\n",
       "         20.,  22.,  20.,  10.,  12.,  20.,  16.,  14.,   8.,  10.,  16.,\n",
       "         22.,   6.,   8.,  16.,  14.,  16.,   6.,  24.,  30.,  22.,  42.,\n",
       "         32.,  30.,  42.,  22.,  32.,  44.,  22.,  22.,  20.,  34.,  42.,\n",
       "         24.,  14.,  38.,  16.,  10.,  22.,  26.,  18.,  20.,  16.,  16.,\n",
       "         14.,  22.,  20.,  10.,  14.,  16.,   8.,   8.,  12.,  12.,  12.,\n",
       "          6.,   8.,  14.,  16.,  12.,  12.,  18.,  22.,  28.,  34.,  34.,\n",
       "         22.,  24.,  40.,  22.,  18.,  34.,  26.,  30.,  22.,  26.,  34.,\n",
       "         36.,  16.,  14.,  16.,  30.,  18.,  26.,  28.,  24.,  20.,  16.,\n",
       "         20.,  14.,  10.,  12.,   8.,  14.,   6.,   8.,  10.,  12.,  16.,\n",
       "         14.,  10.,   6.,  14.,  16.,   8.,   8.,  18.,  14.,  20.,  20.,\n",
       "         32.,  30.,  26.,  18.,  36.,  18.,  28.,  28.,  24.,  24.,  30.,\n",
       "         28.,  18.,  24.,  20.,  14.,  22.,  18.,  20.,  22.,  12.,  22.,\n",
       "         18.,  18.,  14.,  10.,  10.,  10.,   2.,  16.,   8.,   6.,   2.,\n",
       "          2.,   8.,  18.,  14.,  14.,  16.,   8.,  14.,  10.,  12.,  24.,\n",
       "         24.,  12.,  20.,  20.,  24.,  24.,  22.,  28.,  22.,  26.,  32.,\n",
       "         20.,  18.,  24.,  14.,  18.,  16.,  18.,  16.,  24.,  16.,  12.,\n",
       "         14.,   8.,   6.,  14.,  18.,  10.,   8.,   2.,   4.,  14.,   8.,\n",
       "          6.,   8.,  14.,  10.,   4.,  16.,  14.,   4.,   4.,   8.,   8.,\n",
       "          6.,  20.,  16.,  26.,  20.,  26.,  20.,  12.,  26.,  26.,  30.,\n",
       "         28.,  10.,   8.,  16.,  16.,  30.,  14.,   6.,   8.,  20.,  14.,\n",
       "         18.,  18.,   6.,   4.,   6.,  14.,   2.,   6.,   8.,   6.,   2.,\n",
       "         20.,   8.,   2.,  10.,   6.,   6.,   6.,   0.,   4.,  10.,   8.,\n",
       "          8.,  10.,  16.,  18.,  20.,  16.,  16.,  16.,  28.,  16.,  24.,\n",
       "         10.,  12.,  14.,  20.,  12.,  18.,  16.,  12.,   6.,  10.,  16.,\n",
       "         14.,  10.,  12.,   6.,   4.,  12.,   2.,   4.,   6.,   2.,   8.,\n",
       "          6.,   0.,   6.,   4.,   4.,   4.,   4.,   2.,   6.,  16.,   4.,\n",
       "          6.,   8.,  16.,  16.,  18.,   8.,  14.,  18.,   6.,  16.,  16.,\n",
       "         16.,  10.,  12.,  14.,  16.,  10.,   6.,  16.,   6.,  12.,   4.,\n",
       "         10.,  10.,   8.,   2.,   4.,  10.,   6.,   2.,   6.,   4.,   6.,\n",
       "          6.,   2.,   0.,   4.,   2.,   0.,   4.,   0.,   2.,  10.,   2.,\n",
       "         10.,   6.,  10.,  10.,  14.,   8.,   6.,  16.,  16.,  10.,   4.,\n",
       "         12.,  12.,  12.,   6.,  10.,  10.,   4.,   6.,   8.,   8.,   8.,\n",
       "          4.,  14.,   2.,   2.,   6.,   4.,   0.,   6.,   4.,   4.,   2.,\n",
       "          0.,   0.,   2.,   2.,   0.,   2.,   2.,   6.,   6.,   2.,   8.,\n",
       "          2.,   4.,   2.,  16.,   4.,  10.,   8.,   4.,   6.,   2.,   4.,\n",
       "         12.,   4.,   6.,   8.,   6.,   6.,   6.,   8.,   6.,   6.,   0.,\n",
       "          6.,   2.,   0.,   0.,   4.,   2.,   2.,   4.,   0.,   2.,   0.,\n",
       "          0.,   0.,   0.,   4.,   0.,   4.,   2.,   0.,   4.,   2.,   4.,\n",
       "          0.,   2.,   4.,   4.,   2.,   4.,   4.,   2.,   2.,   4.,   8.,\n",
       "          0.,   4.,   6.,   4.,   8.,   2.,   8.,   0.,   0.,   0.,   0.,\n",
       "          2.,   0.,   2.,   0.,   0.,   0.,   4.,   0.,   0.,   0.,   2.,\n",
       "          2.,   0.,   0.,   2.,   0.,   0.,   0.,   2.,   0.,   0.,   0.,\n",
       "          0.,   0.,   0.,   0.,   2.,   0.,   0.,   0.,   0.,   2.]),\n",
       " array([0.        , 0.00436403, 0.00872807, ..., 4.35530458, 4.35966861,\n",
       "        4.36403264]),\n",
       " <BarContainer object of 1000 artists>)"
      ]
     },
     "execution_count": 198,
     "metadata": {},
     "output_type": "execute_result"
    },
    {
     "data": {
      "image/png": "[encoded data removed]",
      "text/plain": [
       "<Figure size 1080x288 with 1 Axes>"
      ]
     },
     "metadata": {
      "needs_background": "light"
     },
     "output_type": "display_data"
    }
   ],
   "source": [
    "a=np.vectorize((lambda a,b: np.linalg.norm(a-b,axis=1)),signature=\"(i,j),(l)->(k)\")(pts,pts)\n",
    "#Selección\n",
    "np.where((a+np.identity(a.shape[0]))<0.15)\n",
    "fig, axs = plt.subplots(1, 1, sharey=True, tight_layout=True,figsize=(15,4))\n",
    "plt.xticks(np.arange(np.min(a), np.max(a)+1, 0.1))\n",
    "axs.hist(a.reshape(1,-1)[0], bins=1000)"
   ]
  },
  {
   "cell_type": "code",
   "execution_count": 201,
   "id": "9b92bbdb",
   "metadata": {},
   "outputs": [
    {
     "data": {
      "image/png": "[encoded data removed]",
      "text/plain": [
       "<Figure size 1080x1080 with 1 Axes>"
      ]
     },
     "metadata": {
      "needs_background": "light"
     },
     "output_type": "display_data"
    }
   ],
   "source": [
    "pts\n",
    "lpts=np.concatenate(labels[:,1]).reshape(-1,2)\n",
    "fig = plt.figure(figsize=(15,15))\n",
    "ax = fig.add_subplot(111)\n",
    "#x1, y1 = lab.to_plot()\n",
    "#x2, y2 = unlab.to_plot()\n",
    "ax.scatter(lpts[:,0], lpts[:,1], c = 'b', linewidths=0.1, label = 'labeled',alpha=0.7)\n",
    "ax.scatter(pts[:,0], pts[:,1], c = 'r', linewidths=0.1, label = 'unlabeled',alpha=0.7)\n",
    "plt.legend(loc='upper left');\n",
    "plt.show()"
   ]
  },
  {
   "cell_type": "code",
   "execution_count": 207,
   "id": "260e2f3c",
   "metadata": {},
   "outputs": [
    {
     "data": {
      "text/plain": [
       "array([['arbol_8_fila_F', array([29.219 , 47.5082])],\n",
       "       ['arbol_7_fila_E', array([28.9468, 47.384 ])],\n",
       "       ['arbol_7_fila_F', array([29.1714, 47.3223])],\n",
       "       ['arbol_17_fila_D', array([29.2253, 49.5393])],\n",
       "       ['arbol_10_fila_E', array([29.1431, 48.1946])],\n",
       "       ['arbol_18_fila_E', array([29.5046, 49.6971])],\n",
       "       ['arbol_4_fila_B', array([28.1369, 46.9011])],\n",
       "       ['arbol_3_fila_G', array([29.2136, 46.5316])],\n",
       "       ['arbol_3_fila_C', array([28.3362, 46.6955])],\n",
       "       ['arbol_18_fila_F', array([29.7242, 49.6459])],\n",
       "       ['arbol_21_fila_C', array([29.2002, 50.3258])],\n",
       "       ['arbol_12_fila_B', array([28.5639, 48.6853])],\n",
       "       ['arbol_9_fila_G', array([29.4911, 47.6732])],\n",
       "       ['arbol_6_fila_C', array([28.4718, 47.2609])],\n",
       "       ['arbol_17_fila_E', array([29.4646, 49.5296])],\n",
       "       ['arbol_13_fila_D', array([29.0541, 48.8035])],\n",
       "       ['arbol_2_fila_D', array([28.4968, 46.4519])],\n",
       "       ['arbol_4_fila_E', array([28.8185, 46.8451])],\n",
       "       ['arbol_18_fila_C', array([29.0752, 49.8126])],\n",
       "       ['arbol_19_fila_F', array([29.7729, 49.8489])],\n",
       "       ['arbol_12_fila_E', array([29.2331, 48.5658])],\n",
       "       ['arbol_17_fila_F', array([29.6794, 49.4516])],\n",
       "       ['arbol_7_fila_G', array([29.3888, 47.2475])],\n",
       "       ['arbol_10_fila_F', array([29.355 , 48.1108])],\n",
       "       ['arbol_15_fila_C', array([28.9331, 49.2263])],\n",
       "       ['arbol_6_fila_E', array([28.9018, 47.195 ])],\n",
       "       ['arbol_12_fila_F', array([29.447 , 48.4867])],\n",
       "       ['arbol_20_fila_C', array([29.1601, 50.1803])],\n",
       "       ['arbol_4_fila_D', array([28.5933, 46.8515])],\n",
       "       ['arbol_13_fila_C', array([28.8384, 48.8303])],\n",
       "       ['arbol_14_fila_F', array([29.542 , 48.8773])],\n",
       "       ['arbol_6_fila_D', array([28.6803, 47.2253])],\n",
       "       ['arbol_9_fila_C', array([28.6057, 47.8398])],\n",
       "       ['arbol_3_fila_D', array([28.5416, 46.6454])],\n",
       "       ['arbol_10_fila_C', array([28.7121, 48.2885])],\n",
       "       ['arbol_11_fila_B', array([28.5216, 48.5127])],\n",
       "       ['arbol_1_fila_D', array([28.4524, 46.2644])],\n",
       "       ['arbol_18_fila_D', array([29.2726, 49.7403])],\n",
       "       ['arbol_3_fila_F', array([28.9818, 46.5415])],\n",
       "       ['arbol_16_fila_E', array([29.4122, 49.3191])],\n",
       "       ['arbol_20_fila_G', array([30.0451, 50.0072])],\n",
       "       ['arbol_20_fila_E', array([29.5935, 50.0725])],\n",
       "       ['arbol_11_fila_C', array([28.7606, 48.4832])],\n",
       "       ['arbol_14_fila_C', array([28.8849, 49.0122])],\n",
       "       ['arbol_11_fila_E', array([29.1864, 48.3719])],\n",
       "       ['arbol_5_fila_E', array([28.8534, 46.991 ])],\n",
       "       ['arbol_10_fila_D', array([28.9165, 48.2267])],\n",
       "       ['arbol_15_fila_D', array([29.1384, 49.1635])],\n",
       "       ['arbol_21_fila_F', array([29.8621, 50.1728])],\n",
       "       ['arbol_2_fila_B', array([28.0431, 46.5199])],\n",
       "       ['arbol_2_fila_F', array([28.9472, 46.3624])],\n",
       "       ['arbol_12_fila_G', array([29.6708, 48.4426])],\n",
       "       ['arbol_1_fila_D', array([28.4524, 46.2644])],\n",
       "       ['arbol_9_fila_F', array([29.2674, 47.7152])],\n",
       "       ['arbol_6_fila_B', array([28.2302, 47.2912])],\n",
       "       ['arbol_15_fila_B', array([28.7033, 49.2775])],\n",
       "       ['arbol_2_fila_G', array([29.1619, 46.3259])],\n",
       "       ['arbol_20_fila_F', array([29.8159, 50.0261])],\n",
       "       ['arbol_2_fila_E', array([28.7129, 46.4131])],\n",
       "       ['arbol_19_fila_G', array([29.9995, 49.8092])],\n",
       "       ['arbol_7_fila_D', array([28.7245, 47.4123])],\n",
       "       ['arbol_6_fila_F', array([29.1248, 47.1186])],\n",
       "       ['arbol_8_fila_C', array([28.5622, 47.6471])],\n",
       "       ['arbol_8_fila_D', array([28.7721, 47.5987])],\n",
       "       ['arbol_14_fila_E', array([29.3201, 48.9355])],\n",
       "       ['arbol_9_fila_B', array([28.3716, 47.8764])],\n",
       "       ['arbol_15_fila_G', array([29.8138, 49.031 ])],\n",
       "       ['arbol_16_fila_F', array([29.6364, 49.2844])],\n",
       "       ['arbol_10_fila_B', array([28.4781, 48.3359])],\n",
       "       ['arbol_1_fila_F', array([28.8958, 46.1537])],\n",
       "       ['arbol_4_fila_C', array([28.3831, 46.887 ])],\n",
       "       ['arbol_10_fila_B', array([28.4781, 48.3359])],\n",
       "       ['arbol_7_fila_C', array([28.5186, 47.465 ])],\n",
       "       ['arbol_21_fila_E', array([29.6359, 50.2426])],\n",
       "       ['arbol_9_fila_E', array([29.0434, 47.7803])],\n",
       "       ['arbol_1_fila_C', array([28.2432, 46.2765])],\n",
       "       ['arbol_16_fila_C', array([28.9782, 49.4125])],\n",
       "       ['arbol_8_fila_E', array([28.9962, 47.5822])],\n",
       "       ['arbol_13_fila_G', array([29.7247, 48.6617])],\n",
       "       ['arbol_14_fila_D', array([29.0934, 48.9761])],\n",
       "       ['arbol_9_fila_D', array([28.82  , 47.8044])],\n",
       "       ['arbol_13_fila_B', array([28.6067, 48.8612])],\n",
       "       ['arbol_15_fila_E', array([29.3661, 49.1288])],\n",
       "       ['arbol_13_fila_E', array([29.2747, 48.7379])],\n",
       "       ['arbol_14_fila_B', array([28.6498, 49.0515])],\n",
       "       ['arbol_4_fila_F', array([29.0322, 46.733 ])],\n",
       "       ['arbol_19_fila_E', array([29.554 , 49.9057])],\n",
       "       ['arbol_19_fila_D', array([29.3196, 49.936 ])],\n",
       "       ['arbol_5_fila_D', array([28.6356, 47.0233])],\n",
       "       ['arbol_19_fila_D', array([29.3196, 49.936 ])],\n",
       "       ['arbol_4_fila_G', array([29.2522, 46.6857])],\n",
       "       ['arbol_6_fila_G', array([29.3534, 47.1024])],\n",
       "       ['arbol_9_fila_E', array([29.0434, 47.7803])],\n",
       "       ['arbol_9_fila_F', array([29.2674, 47.7152])],\n",
       "       ['arbol_1_fila_E', array([28.661 , 46.1751])],\n",
       "       ['arbol_7_fila_B', array([28.2829, 47.5049])],\n",
       "       ['arbol_19_fila_C', array([29.1124, 49.9873])],\n",
       "       ['arbol_18_fila_G', array([29.9548, 49.6141])],\n",
       "       ['arbol_3_fila_B', array([28.0905, 46.7139])],\n",
       "       ['arbol_5_fila_F', array([29.0725, 46.9139])],\n",
       "       ['arbol_1_fila_B', array([28.0022, 46.3406])],\n",
       "       ['arbol_11_fila_F', array([29.4034, 48.3055])],\n",
       "       ['arbol_16_fila_B', array([28.7457, 49.4452])],\n",
       "       ['arbol_5_fila_G', array([29.3058, 46.907 ])],\n",
       "       ['arbol_2_fila_C', array([28.2924, 46.5181])],\n",
       "       ['arbol_11_fila_D', array([28.9556, 48.3928])],\n",
       "       ['arbol_5_fila_C', array([28.4275, 47.0776])],\n",
       "       ['arbol_11_fila_G', array([29.6306, 48.267 ])],\n",
       "       ['arbol_9_fila_C', array([28.6057, 47.8398])],\n",
       "       ['arbol_15_fila_F', array([29.59  , 49.0824])],\n",
       "       ['arbol_8_fila_G', array([29.4443, 47.4781])],\n",
       "       ['arbol_21_fila_D', array([29.4124, 50.2791])],\n",
       "       ['arbol_16_fila_D', array([29.1858, 49.3688])],\n",
       "       ['arbol_13_fila_F', array([29.5011, 48.7047])],\n",
       "       ['arbol_12_fila_C', array([28.798 , 48.6532])],\n",
       "       ['arbol_14_fila_G', array([29.7665, 48.8343])],\n",
       "       ['arbol_12_fila_D', array([29.0062, 48.6035])],\n",
       "       ['arbol_17_fila_G', array([29.908 , 49.4172])],\n",
       "       ['arbol_8_fila_B', array([28.3286, 47.6995])],\n",
       "       ['arbol_17_fila_C', array([29.0247, 49.6146])],\n",
       "       ['arbol_9_fila_D', array([28.82  , 47.8044])],\n",
       "       ['arbol_16_fila_G', array([29.8615, 49.2324])],\n",
       "       ['arbol_5_fila_B', array([28.1846, 47.104 ])],\n",
       "       ['arbol_3_fila_E', array([28.7662, 46.6325])],\n",
       "       ['arbol_1_fila_G', array([29.1196, 46.1038])]], dtype=object)"
      ]
     },
     "execution_count": 207,
     "metadata": {},
     "output_type": "execute_result"
    }
   ],
   "source": [
    "#where in labels are the pts\n",
    "labels[np.vectorize(lambda l,p:np.argmin(np.linalg.norm(l-p,axis=1)),signature=\"(i,j),(k)->()\")(lpts,pts)]"
   ]
  }
 ],
 "metadata": {
  "kernelspec": {
   "display_name": "Python 3",
   "language": "python",
   "name": "python3"
  },
  "language_info": {
   "codemirror_mode": {
    "name": "ipython",
    "version": 3
   },
   "file_extension": ".py",
   "mimetype": "text/x-python",
   "name": "python",
   "nbconvert_exporter": "python",
   "pygments_lexer": "ipython3",
   "version": "3.6.9"
  }
 },
 "nbformat": 4,
 "nbformat_minor": 5
}
