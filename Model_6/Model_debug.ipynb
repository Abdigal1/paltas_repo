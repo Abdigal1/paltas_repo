{
 "cells": [
  {
   "cell_type": "code",
   "execution_count": 1,
   "id": "df8b3981",
   "metadata": {},
   "outputs": [],
   "source": [
    "import pathlib\n",
    "import fire as fire\n",
    "from B_VAE.VAE_v2 import b_encodeco\n",
    "from Train_utils import train_utils\n",
    "from B_VAE.Utils_imp_VAE import loss_fn\n",
    "from Train_utils.train_utils import train,test,K_fold_train\n",
    "\n",
    "import sys\n",
    "import os\n",
    "sys.path.append(os.path.join(\"..\",\"Data_prep\"))\n",
    "from torchvision import transforms\n",
    "from Custom_dataloader import *\n",
    "from Transforms import phantom_segmentation\n",
    "from Transforms import multi_image_resize\n",
    "from Transforms import multi_ToTensor\n",
    "from Transforms import output_transform\n",
    "from Transforms import rgb_normalize\n",
    "\n",
    "import torch"
   ]
  },
  {
   "cell_type": "code",
   "execution_count": 3,
   "id": "4f797723",
   "metadata": {},
   "outputs": [],
   "source": [
    "DB=\"/run/user/1000/gvfs/afp-volume:host=MyCloudPR4100.local,user=aorus_1,volume=Paltas_DataBase/Data_Base_v2\"\n",
    "\n",
    "d_tt=transforms.Compose([\n",
    "        phantom_segmentation(False),\n",
    "        rgb_normalize(ImType=['PhantomRGB']),\n",
    "        multi_image_resize(ImType=['PhantomRGB'],size=(100,100)),\n",
    "        multi_ToTensor(ImType=['PhantomRGB']),\n",
    "        #output_transform()\n",
    "        ])"
   ]
  },
  {
   "cell_type": "code",
   "execution_count": 4,
   "id": "c8a19977",
   "metadata": {},
   "outputs": [],
   "source": [
    "datab=Dataset_direct(root_dir=DB,ImType=['PhantomRGB'],Intersec=False,transform=d_tt)"
   ]
  },
  {
   "cell_type": "code",
   "execution_count": 5,
   "id": "fa1d0955",
   "metadata": {},
   "outputs": [],
   "source": [
    "device='cuda'\n",
    "T_ID=\"VAE_v2_3\"\n",
    "pth=os.path.join(str(pathlib.Path().absolute()),\"results\",T_ID)"
   ]
  },
  {
   "cell_type": "code",
   "execution_count": 6,
   "id": "f000e58b",
   "metadata": {},
   "outputs": [],
   "source": [
    "model=b_encodeco(image_dim=int(100),\n",
    "                 image_channels=3,\n",
    "                 repr_sizes=[5,8,10],\n",
    "                 layer_sizes=[100],\n",
    "                 latent_space_size=20,\n",
    "                 conv_kernel_size=15,\n",
    "                 conv_pooling=False,\n",
    "                 conv_batch_norm=True,\n",
    "                 NN_batch_norm=True,\n",
    "                 stride=2,\n",
    "                device=device)"
   ]
  },
  {
   "cell_type": "code",
   "execution_count": 7,
   "id": "0dd108f9",
   "metadata": {},
   "outputs": [
    {
     "data": {
      "text/plain": [
       "b_encodeco(\n",
       "  (encoder_conv): b_encoder_conv(\n",
       "    (im_layers): ModuleList(\n",
       "      (0): set_conv(\n",
       "        (comp_layer): ModuleList(\n",
       "          (0): Conv2d(3, 5, kernel_size=(15, 15), stride=(1, 1))\n",
       "          (1): ReLU()\n",
       "          (2): BatchNorm2d(5, eps=1e-05, momentum=0.1, affine=True, track_running_stats=True)\n",
       "        )\n",
       "      )\n",
       "      (1): set_conv(\n",
       "        (comp_layer): ModuleList(\n",
       "          (0): Conv2d(5, 8, kernel_size=(15, 15), stride=(1, 1))\n",
       "          (1): ReLU()\n",
       "          (2): BatchNorm2d(8, eps=1e-05, momentum=0.1, affine=True, track_running_stats=True)\n",
       "        )\n",
       "      )\n",
       "      (2): set_conv(\n",
       "        (comp_layer): ModuleList(\n",
       "          (0): Conv2d(8, 10, kernel_size=(15, 15), stride=(1, 1))\n",
       "          (1): ReLU()\n",
       "          (2): BatchNorm2d(10, eps=1e-05, momentum=0.1, affine=True, track_running_stats=True)\n",
       "        )\n",
       "      )\n",
       "    )\n",
       "  )\n",
       "  (encoder_NN_mu): NeuralNet(\n",
       "    (layers): ModuleList(\n",
       "      (0): Sequential(\n",
       "        (0): NN_layer(\n",
       "          (layer): ModuleList(\n",
       "            (0): Linear(in_features=33640, out_features=100, bias=True)\n",
       "            (1): BatchNorm1d(100, eps=1e-05, momentum=0.1, affine=True, track_running_stats=True)\n",
       "            (2): ReLU()\n",
       "          )\n",
       "        )\n",
       "      )\n",
       "      (1): Sequential(\n",
       "        (0): NN_layer(\n",
       "          (layer): ModuleList(\n",
       "            (0): Linear(in_features=100, out_features=20, bias=True)\n",
       "            (1): BatchNorm1d(20, eps=1e-05, momentum=0.1, affine=True, track_running_stats=True)\n",
       "            (2): ReLU()\n",
       "          )\n",
       "        )\n",
       "      )\n",
       "    )\n",
       "  )\n",
       "  (encoder_NN_sig): NeuralNet(\n",
       "    (layers): ModuleList(\n",
       "      (0): Sequential(\n",
       "        (0): NN_layer(\n",
       "          (layer): ModuleList(\n",
       "            (0): Linear(in_features=33640, out_features=100, bias=True)\n",
       "            (1): BatchNorm1d(100, eps=1e-05, momentum=0.1, affine=True, track_running_stats=True)\n",
       "            (2): ReLU()\n",
       "          )\n",
       "        )\n",
       "      )\n",
       "      (1): Sequential(\n",
       "        (0): NN_layer(\n",
       "          (layer): ModuleList(\n",
       "            (0): Linear(in_features=100, out_features=20, bias=True)\n",
       "            (1): BatchNorm1d(20, eps=1e-05, momentum=0.1, affine=True, track_running_stats=True)\n",
       "            (2): ReLU()\n",
       "          )\n",
       "        )\n",
       "      )\n",
       "    )\n",
       "  )\n",
       "  (flatten): s_view()\n",
       "  (decoder_NN): NeuralNet(\n",
       "    (layers): ModuleList(\n",
       "      (0): Sequential(\n",
       "        (0): NN_layer(\n",
       "          (layer): ModuleList(\n",
       "            (0): Linear(in_features=20, out_features=100, bias=True)\n",
       "            (1): BatchNorm1d(100, eps=1e-05, momentum=0.1, affine=True, track_running_stats=True)\n",
       "            (2): ReLU()\n",
       "          )\n",
       "        )\n",
       "      )\n",
       "      (1): Sequential(\n",
       "        (0): NN_layer(\n",
       "          (layer): ModuleList(\n",
       "            (0): Linear(in_features=100, out_features=33640, bias=True)\n",
       "            (1): BatchNorm1d(33640, eps=1e-05, momentum=0.1, affine=True, track_running_stats=True)\n",
       "            (2): ReLU()\n",
       "          )\n",
       "        )\n",
       "      )\n",
       "    )\n",
       "  )\n",
       "  (decoder_conv): b_decoder_conv(\n",
       "    (im_layers): ModuleList(\n",
       "      (0): set_deconv(\n",
       "        (comp_layer): ModuleList(\n",
       "          (0): ConvTranspose2d(10, 8, kernel_size=(15, 15), stride=(1, 1))\n",
       "          (1): ReLU()\n",
       "          (2): BatchNorm2d(8, eps=1e-05, momentum=0.1, affine=True, track_running_stats=True)\n",
       "        )\n",
       "      )\n",
       "      (1): set_deconv(\n",
       "        (comp_layer): ModuleList(\n",
       "          (0): ConvTranspose2d(8, 5, kernel_size=(15, 15), stride=(1, 1))\n",
       "          (1): ReLU()\n",
       "          (2): BatchNorm2d(5, eps=1e-05, momentum=0.1, affine=True, track_running_stats=True)\n",
       "        )\n",
       "      )\n",
       "      (2): set_deconv(\n",
       "        (comp_layer): ModuleList(\n",
       "          (0): ConvTranspose2d(5, 3, kernel_size=(15, 15), stride=(1, 1))\n",
       "          (1): ReLU()\n",
       "          (2): BatchNorm2d(3, eps=1e-05, momentum=0.1, affine=True, track_running_stats=True)\n",
       "        )\n",
       "      )\n",
       "    )\n",
       "  )\n",
       "  (lact): Sigmoid()\n",
       ")"
      ]
     },
     "execution_count": 7,
     "metadata": {},
     "output_type": "execute_result"
    }
   ],
   "source": [
    "model.to(device)"
   ]
  },
  {
   "cell_type": "code",
   "execution_count": 8,
   "id": "5d397c38",
   "metadata": {},
   "outputs": [],
   "source": [
    "dataloader_train=torch.utils.data.DataLoader(datab,batch_size=5,shuffle=False,num_workers=5)"
   ]
  },
  {
   "cell_type": "code",
   "execution_count": 9,
   "id": "feb77923",
   "metadata": {},
   "outputs": [],
   "source": [
    "for idx,batch in enumerate(dataloader_train):\n",
    "    print(idx)\n",
    "    if idx==1:\n",
    "        break"
   ]
  },
  {
   "cell_type": "code",
   "execution_count": 11,
   "id": "adbf052a",
   "metadata": {},
   "outputs": [
    {
     "data": {
      "text/plain": [
       "torch.Size([5, 3, 100, 100])"
      ]
     },
     "execution_count": 11,
     "metadata": {},
     "output_type": "execute_result"
    }
   ],
   "source": [
    "batch['PhantomRGB'].shape"
   ]
  },
  {
   "cell_type": "code",
   "execution_count": 12,
   "id": "ba9c0645",
   "metadata": {},
   "outputs": [],
   "source": [
    "r_img,mu,sig=model(batch[\"PhantomRGB\"].to(device))"
   ]
  },
  {
   "cell_type": "code",
   "execution_count": 53,
   "id": "411be1ce",
   "metadata": {},
   "outputs": [],
   "source": [
    "from torch import nn\n",
    "import torch.nn.functional as F\n",
    "import torch\n",
    "\n",
    "def loss_fn(r_x,x,mu,sig):\n",
    "    BCE=F.binary_cross_entropy(r_x,x,reduction='mean')\n",
    "    KLD=-0.5*torch.mean(1+sig-mu.pow(2)-sig.exp())\n",
    "    #KLD=-0.5*torch.sum(1+sig-mu.pow(2)-sig.exp())\n",
    "    return BCE+KLD,BCE,KLD"
   ]
  },
  {
   "cell_type": "code",
   "execution_count": 54,
   "id": "8e6bbedc",
   "metadata": {},
   "outputs": [],
   "source": [
    "loss,bce,kld=loss_fn(r_img,batch[\"PhantomRGB\"].to(device),mu,sig)"
   ]
  },
  {
   "cell_type": "code",
   "execution_count": 55,
   "id": "beaad3b5",
   "metadata": {},
   "outputs": [
    {
     "data": {
      "text/plain": [
       "tensor(1.2354, device='cuda:0', grad_fn=<AddBackward0>)"
      ]
     },
     "execution_count": 55,
     "metadata": {},
     "output_type": "execute_result"
    }
   ],
   "source": [
    "loss"
   ]
  },
  {
   "cell_type": "code",
   "execution_count": 56,
   "id": "e4cf6371",
   "metadata": {},
   "outputs": [
    {
     "data": {
      "text/plain": [
       "tensor(0.7744, device='cuda:0', grad_fn=<BinaryCrossEntropyBackward0>)"
      ]
     },
     "execution_count": 56,
     "metadata": {},
     "output_type": "execute_result"
    }
   ],
   "source": [
    "bce"
   ]
  },
  {
   "cell_type": "code",
   "execution_count": 57,
   "id": "9ebca7ec",
   "metadata": {},
   "outputs": [
    {
     "data": {
      "text/plain": [
       "tensor(0.4609, device='cuda:0', grad_fn=<MulBackward0>)"
      ]
     },
     "execution_count": 57,
     "metadata": {},
     "output_type": "execute_result"
    }
   ],
   "source": [
    "kld"
   ]
  },
  {
   "cell_type": "code",
   "execution_count": 42,
   "id": "15e97feb",
   "metadata": {},
   "outputs": [
    {
     "data": {
      "text/plain": [
       "tensor([[-6.3392e-01,  0.0000e+00, -2.6897e+00, -5.0880e-01,  0.0000e+00,\n",
       "         -3.5916e-02,  0.0000e+00, -2.2640e+00, -2.4324e+00,  0.0000e+00,\n",
       "         -1.0753e-01, -5.4202e-01, -3.4461e-02,  0.0000e+00, -2.5388e-01,\n",
       "         -1.5793e+00,  0.0000e+00, -2.9524e+00,  0.0000e+00,  0.0000e+00],\n",
       "        [-1.0759e+00, -2.6869e-01, -7.4587e-01, -4.2679e-01, -6.1753e-01,\n",
       "         -3.1100e-02, -1.4006e+00, -3.2391e-02,  0.0000e+00, -3.4836e+00,\n",
       "         -1.0252e-05, -1.7863e-01, -7.7413e-02, -1.6180e+00, -1.1115e+00,\n",
       "         -8.3242e-01,  0.0000e+00, -7.4880e-01,  0.0000e+00, -1.8505e-03],\n",
       "        [-1.6952e+00, -3.9729e+00,  0.0000e+00, -3.7499e-02,  0.0000e+00,\n",
       "         -1.2590e+00, -6.5761e-01, -1.2705e-02,  0.0000e+00,  0.0000e+00,\n",
       "         -1.4285e+00, -1.5866e+00, -1.5741e+00, -6.9874e-01, -9.0892e-01,\n",
       "         -2.2884e+00, -6.9883e-01,  0.0000e+00, -2.2634e+00,  0.0000e+00],\n",
       "        [-8.4756e-01, -3.6447e-02, -2.0547e-01,  0.0000e+00, -3.0932e-01,\n",
       "         -3.8283e+00, -6.1752e-02, -7.3840e-02, -1.9387e+00, -1.1938e+00,\n",
       "         -3.2006e+00, -2.4843e-01, -2.0061e+00, -1.8825e+00,  0.0000e+00,\n",
       "          0.0000e+00, -2.6541e+00, -1.5435e+00, -5.6990e-01, -2.8120e+00],\n",
       "        [ 0.0000e+00,  0.0000e+00, -1.7649e+00, -3.7599e+00, -3.6017e+00,\n",
       "          0.0000e+00, -1.8586e+00, -2.2419e+00, -1.5091e-02, -2.7563e-02,\n",
       "          0.0000e+00, -1.9051e+00, -3.2828e-01,  0.0000e+00, -1.7737e+00,\n",
       "          0.0000e+00, -8.9531e-01,  0.0000e+00, -1.2588e+00, -3.5716e+00]],\n",
       "       device='cuda:0', grad_fn=<SubBackward0>)"
      ]
     },
     "execution_count": 42,
     "metadata": {},
     "output_type": "execute_result"
    }
   ],
   "source": [
    "(1+sig-mu.pow(2)-sig.exp())"
   ]
  }
 ],
 "metadata": {
  "kernelspec": {
   "display_name": "paltas",
   "language": "python",
   "name": "paltas"
  },
  "language_info": {
   "codemirror_mode": {
    "name": "ipython",
    "version": 3
   },
   "file_extension": ".py",
   "mimetype": "text/x-python",
   "name": "python",
   "nbconvert_exporter": "python",
   "pygments_lexer": "ipython3",
   "version": "3.6.9"
  }
 },
 "nbformat": 4,
 "nbformat_minor": 5
}
