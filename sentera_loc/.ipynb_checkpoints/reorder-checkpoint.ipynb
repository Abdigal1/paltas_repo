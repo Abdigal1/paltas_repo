{
 "cells": [
  {
   "cell_type": "code",
   "execution_count": 10,
   "id": "3532acaa-8d8b-4aa7-a999-5b28590d4081",
   "metadata": {},
   "outputs": [],
   "source": [
    "import pandas as pd\n",
    "import os\n",
    "import numpy as np\n",
    "from shutil import copy2"
   ]
  },
  {
   "cell_type": "code",
   "execution_count": 26,
   "id": "ad4366e6-16f7-4e24-95a0-a80efc0a3e0e",
   "metadata": {},
   "outputs": [
    {
     "data": {
      "text/html": [
       "<div>\n",
       "<style scoped>\n",
       "    .dataframe tbody tr th:only-of-type {\n",
       "        vertical-align: middle;\n",
       "    }\n",
       "\n",
       "    .dataframe tbody tr th {\n",
       "        vertical-align: top;\n",
       "    }\n",
       "\n",
       "    .dataframe thead th {\n",
       "        text-align: right;\n",
       "    }\n",
       "</style>\n",
       "<table border=\"1\" class=\"dataframe\">\n",
       "  <thead>\n",
       "    <tr style=\"text-align: right;\">\n",
       "      <th></th>\n",
       "      <th>17_vuelo_agosto-13 (SENTERA V1)</th>\n",
       "      <th>17_vuelo_agosto-13 (SENTERA V2)</th>\n",
       "      <th>18_vuelo_agosto-19 (SENTERA V1)</th>\n",
       "      <th>19_vuelo_setiembre-15 (SENTERA V1)</th>\n",
       "      <th>20_vuelo_setiembre-24 (SENTERA V1)</th>\n",
       "    </tr>\n",
       "  </thead>\n",
       "  <tbody>\n",
       "    <tr>\n",
       "      <th>A01.jpg</th>\n",
       "      <td>['IMG_00062.jpg']</td>\n",
       "      <td>['IMG_00060.jpg']</td>\n",
       "      <td>['IMG_00046.jpg']</td>\n",
       "      <td>['IMG_00088.jpg']</td>\n",
       "      <td>['IMG_00057.jpg']</td>\n",
       "    </tr>\n",
       "    <tr>\n",
       "      <th>A02.jpg</th>\n",
       "      <td>['IMG_00066.jpg']</td>\n",
       "      <td>['IMG_00066.jpg']</td>\n",
       "      <td>['IMG_00050.jpg']</td>\n",
       "      <td>['IMG_00091.jpg']</td>\n",
       "      <td>['IMG_00062.jpg']</td>\n",
       "    </tr>\n",
       "    <tr>\n",
       "      <th>A03.jpg</th>\n",
       "      <td>['IMG_00069.jpg']</td>\n",
       "      <td>['IMG_00069.jpg']</td>\n",
       "      <td>['IMG_00052.jpg']</td>\n",
       "      <td>['IMG_00094.jpg']</td>\n",
       "      <td>['IMG_00064.jpg']</td>\n",
       "    </tr>\n",
       "  </tbody>\n",
       "</table>\n",
       "</div>"
      ],
      "text/plain": [
       "        17_vuelo_agosto-13 (SENTERA V1) 17_vuelo_agosto-13 (SENTERA V2)  \\\n",
       "A01.jpg               ['IMG_00062.jpg']               ['IMG_00060.jpg']   \n",
       "A02.jpg               ['IMG_00066.jpg']               ['IMG_00066.jpg']   \n",
       "A03.jpg               ['IMG_00069.jpg']               ['IMG_00069.jpg']   \n",
       "\n",
       "        18_vuelo_agosto-19 (SENTERA V1) 19_vuelo_setiembre-15 (SENTERA V1)  \\\n",
       "A01.jpg               ['IMG_00046.jpg']                  ['IMG_00088.jpg']   \n",
       "A02.jpg               ['IMG_00050.jpg']                  ['IMG_00091.jpg']   \n",
       "A03.jpg               ['IMG_00052.jpg']                  ['IMG_00094.jpg']   \n",
       "\n",
       "        20_vuelo_setiembre-24 (SENTERA V1)  \n",
       "A01.jpg                  ['IMG_00057.jpg']  \n",
       "A02.jpg                  ['IMG_00062.jpg']  \n",
       "A03.jpg                  ['IMG_00064.jpg']  "
      ]
     },
     "execution_count": 26,
     "metadata": {},
     "output_type": "execute_result"
    }
   ],
   "source": [
    "ndf = pd.read_excel('../selecciones_automaticas.xlsx', index_col=0)\n",
    "ndf.drop(labels = \"Basename\", axis = 0, inplace=True)\n",
    "ndf.head(3)"
   ]
  },
  {
   "cell_type": "code",
   "execution_count": 23,
   "id": "8c7f5240-14ac-4f92-b090-8fc69b44a5c0",
   "metadata": {},
   "outputs": [
    {
     "data": {
      "text/plain": [
       "Index(['17_vuelo_agosto-13 (SENTERA V1)', '17_vuelo_agosto-13 (SENTERA V2)',\n",
       "       '18_vuelo_agosto-19 (SENTERA V1)',\n",
       "       '19_vuelo_setiembre-15 (SENTERA V1) ',\n",
       "       '20_vuelo_setiembre-24 (SENTERA V1) '],\n",
       "      dtype='object')"
      ]
     },
     "execution_count": 23,
     "metadata": {},
     "output_type": "execute_result"
    }
   ],
   "source": [
    "ndf.columns"
   ]
  },
  {
   "cell_type": "code",
   "execution_count": 8,
   "id": "87fd1fd7-0da3-46a4-9600-e28d87a3dfb1",
   "metadata": {},
   "outputs": [
    {
     "data": {
      "text/plain": [
       "1"
      ]
     },
     "execution_count": 8,
     "metadata": {},
     "output_type": "execute_result"
    }
   ],
   "source": [
    "s = \"A01\"\n",
    "int(s[1:])"
   ]
  },
  {
   "cell_type": "code",
   "execution_count": 28,
   "id": "90733c10-7d9c-4eb0-b571-ee8b3c72333e",
   "metadata": {},
   "outputs": [],
   "source": [
    "PATH = \"C://UNI//Paltas\"\n",
    "TARGET_PATH = \"C://UNI//Paltas//LABELED_SENTERA\"\n",
    "if not(os.path.isdir(TARGET_PATH)):\n",
    "    os.mkdir(TARGET_PATH)\n",
    "for i in ndf.index:\n",
    "    j = ndf.loc[i, :]\n",
    "    for k in range(len(j)):\n",
    "        fo = j.index[k]\n",
    "        \n",
    "        \n",
    "        #fo = 17_vuelo_agosto-13 (SENTERA V1)\n",
    "        date_num = fo.split(\"-\")[-1]\n",
    "        date_num = int(date_num.split(\" \")[0])\n",
    "        date_month = fo.split(\"-\")[0]\n",
    "        date_month = date_month.split(\"_\")[-1]\n",
    "        version = fo.split(\" \")[-1]\n",
    "        #print(fo, version)\n",
    "        version = int(version[1])\n",
    "        fold = str(date_num)+\"_\"+date_month+\"_\"+str(version)\n",
    "        #fold = 2_julio_1\n",
    "        \n",
    "        \n",
    "        #fila = A01\n",
    "        fila = i.split(\".\")[0]\n",
    "        fila = fila[0]\n",
    "        n_arbol = i.split(\".\")[0]\n",
    "        n_arbol = int(n_arbol[1:])\n",
    "        c_arbol = \"arbol_\" + str(n_arbol) + \"_fila_\" + fila\n",
    "        #c_arbol = arbol_1_fila_A\n",
    "        \n",
    "        \n",
    "        imn = j.values[k]\n",
    "        \n",
    "        \n",
    "        #IMG_00062.jpg\n",
    "        \n",
    "        g_p = os.path.join(PATH, fo)\n",
    "        if os.path.isdir(g_p) and not(pd.isnull(imn)):\n",
    "            imn = imn[2:-2]\n",
    "            if not(os.path.isdir(os.path.join(TARGET_PATH, fold))):\n",
    "                os.mkdir(os.path.join(TARGET_PATH, fold))\n",
    "                os.mkdir(os.path.join(TARGET_PATH, fold, 'RGB'))\n",
    "                os.mkdir(os.path.join(TARGET_PATH, fold, 'NIR'))\n",
    "                \n",
    "            copy2(os.path.join(g_p, \"RGB\", imn), os.path.join(TARGET_PATH, fold, \"RGB\", fold+\"__\"+c_arbol+\".JPG\"))\n",
    "            copy2(os.path.join(g_p, \"NIR\", imn), os.path.join(TARGET_PATH, fold, \"NIR\", fold+\"__\"+c_arbol+\".JPG\"))\n",
    "            \n",
    "            #print(j.index[k], str(j.values[k][1:-1]))\n",
    "    "
   ]
  },
  {
   "cell_type": "code",
   "execution_count": 18,
   "id": "12fe3f46-7ac6-4ba2-81ef-09ea8f784be7",
   "metadata": {},
   "outputs": [
    {
     "data": {
      "text/plain": [
       "1"
      ]
     },
     "execution_count": 18,
     "metadata": {},
     "output_type": "execute_result"
    }
   ],
   "source": [
    "version = \"V1)\"\n",
    "int(version[1])"
   ]
  },
  {
   "cell_type": "code",
   "execution_count": 71,
   "id": "155af974-1a8c-43be-8e49-6c1205267ab2",
   "metadata": {},
   "outputs": [
    {
     "data": {
      "text/plain": [
       "True"
      ]
     },
     "execution_count": 71,
     "metadata": {},
     "output_type": "execute_result"
    }
   ],
   "source": [
    "pd.isnull(ndf.loc[\"A12.jpg\", \"17_vuelo_agosto-13 (SENTERA V1)\"])"
   ]
  },
  {
   "cell_type": "code",
   "execution_count": 15,
   "id": "628abe0e-3eda-419c-b0c2-a725eb923e6e",
   "metadata": {},
   "outputs": [
    {
     "data": {
      "text/plain": [
       "str"
      ]
     },
     "execution_count": 15,
     "metadata": {},
     "output_type": "execute_result"
    }
   ],
   "source": [
    "s =\"['IMG_00062.jpg']\"\n",
    "type(s[2:-2])"
   ]
  },
  {
   "cell_type": "code",
   "execution_count": null,
   "id": "348e7003-83e2-4f6d-b4d4-d26be8248a84",
   "metadata": {},
   "outputs": [],
   "source": []
  }
 ],
 "metadata": {
  "kernelspec": {
   "display_name": "Python 3 (ipykernel)",
   "language": "python",
   "name": "python3"
  },
  "language_info": {
   "codemirror_mode": {
    "name": "ipython",
    "version": 3
   },
   "file_extension": ".py",
   "mimetype": "text/x-python",
   "name": "python",
   "nbconvert_exporter": "python",
   "pygments_lexer": "ipython3",
   "version": "3.9.7"
  }
 },
 "nbformat": 4,
 "nbformat_minor": 5
}
