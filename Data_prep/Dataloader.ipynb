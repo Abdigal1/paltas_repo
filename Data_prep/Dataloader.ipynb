{
 "cells": [
  {
   "cell_type": "code",
   "execution_count": 1,
   "id": "db3fa88b",
   "metadata": {},
   "outputs": [],
   "source": [
    "import os\n",
    "#import skimage\n",
    "import torch\n",
    "from torchvision import transforms\n",
    "import numpy as np\n",
    "import glob\n",
    "from skimage import io\n",
    "import skimage\n",
    "import matplotlib.pyplot as plt\n",
    "from Custom_dataloader import *\n",
    "from Transforms import sentera_segmentation\n",
    "from Transforms import entropy_mark_transform\n",
    "from Transforms import hsv_stats_transfrom\n",
    "from Transforms import lab_stats_transfrom\n",
    "from Transforms import black_perc_transfrom\n",
    "import matplotlib.pyplot as plt\n",
    "\n",
    "DB=\"/run/user/1000/gvfs/afp-volume:host=MyCloudPR4100.local,user=admin,volume=Paltas_DataBase/Data_Base\"\n",
    "d_t=transforms.Compose([sentera_segmentation(False),black_perc_transfrom()])"
   ]
  },
  {
   "cell_type": "code",
   "execution_count": 7,
   "id": "aa07252d",
   "metadata": {},
   "outputs": [],
   "source": [
    "#tdatab=Dataset_direct(root_dir=DB,ImType=['PhantomRGB'],Trees_fil='*',Intersec=False)\n",
    "datab=Dataset_direct(root_dir=DB,ImType=['PhantomRGB'],Intersec=False)"
   ]
  },
  {
   "cell_type": "code",
   "execution_count": 3,
   "id": "500ee89e",
   "metadata": {},
   "outputs": [],
   "source": [
    "t1=black_perc_transfrom()\n",
    "t2=hsv_stats_transfrom()\n",
    "t3=lab_stats_transfrom()"
   ]
  },
  {
   "cell_type": "code",
   "execution_count": null,
   "id": "074f4f97",
   "metadata": {},
   "outputs": [
    {
     "name": "stdout",
     "output_type": "stream",
     "text": [
      "11_junio_1_10_A.JPG\n"
     ]
    }
   ],
   "source": [
    "T1={}\n",
    "T2={}\n",
    "T3={}\n",
    "\n",
    "for i in range(len(datab.aID)):\n",
    "    print(datab.aID[i])\n",
    "    T1[datab.aID[i]]=t1(datab[i])['bl_per']\n",
    "    T2[datab.aID[i]]=t2(datab[i])['stat_val']\n",
    "    T3[datab.aID[i]]=t3(datab[i])['stat_val']"
   ]
  },
  {
   "cell_type": "code",
   "execution_count": 13,
   "id": "a6c9f92d",
   "metadata": {},
   "outputs": [
    {
     "data": {
      "text/plain": [
       "{'stat_val': {'mean': 0.13662840102064697,\n",
       "  'std': 0.12786410542608864,\n",
       "  'mode': 0.07276143790849672},\n",
       " 'landmarks': array(['Control'], dtype='<U13')}"
      ]
     },
     "execution_count": 13,
     "metadata": {},
     "output_type": "execute_result"
    }
   ],
   "source": [
    "T1[datab.aID[i]]=t1(datab[i])['bl_per']"
   ]
  },
  {
   "cell_type": "code",
   "execution_count": 14,
   "id": "4986aa30",
   "metadata": {},
   "outputs": [
    {
     "data": {
      "text/plain": [
       "{'stat_val': {'mean': 5.191737834828277,\n",
       "  'std': 2.1897942091223204,\n",
       "  'mode': 3.923529306394421},\n",
       " 'landmarks': array(['Control'], dtype='<U13')}"
      ]
     },
     "execution_count": 14,
     "metadata": {},
     "output_type": "execute_result"
    }
   ],
   "source": [
    "t3(datab[i])"
   ]
  },
  {
   "cell_type": "code",
   "execution_count": 11,
   "id": "141d94b7",
   "metadata": {},
   "outputs": [
    {
     "data": {
      "text/plain": [
       "['7_mayo__arbol_1_fila_A.JPG',\n",
       " '29_marzo_1__arbol_1_fila_A.JPG',\n",
       " '28_abril_1__arbol_1_fila_A.JPG',\n",
       " '14_abril_2__arbol_1_fila_A.JPG',\n",
       " '14_abril_1__arbol_1_fila_A.JPG',\n",
       " '29_marzo_2__arbol_1_fila_A.JPG',\n",
       " '13_agosto__arbol_1_fila_A.JPG',\n",
       " '14_julio_1__arbol_1_fila_A.JPG',\n",
       " '19_agosto__arbol_1_fila_A.JPG',\n",
       " '9_julio__arbol_1_fila_A.JPG',\n",
       " '23_junio_1__arbol_1_fila_A.JPG',\n",
       " '5_agosto__arbol_1_fila_A.JPG',\n",
       " '2_julio__arbol_1_fila_A.JPG',\n",
       " '15_setiembre__arbol_1_fila_A.JPG',\n",
       " '2_junio__arbol_1_fila_A.JPG',\n",
       " '11_junio_1__arbol_1_fila_A.JPG',\n",
       " '19_mayo_1__arbol_1_fila_A.JPG',\n",
       " '19_mayo_2__arbol_1_fila_A.JPG',\n",
       " '12_mayo_2__arbol_1_fila_A.JPG',\n",
       " '12_mayo_1__arbol_1_fila_A.JPG']"
      ]
     },
     "execution_count": 11,
     "metadata": {},
     "output_type": "execute_result"
    }
   ],
   "source": [
    "os.listdir(os.path.join(DB,os.listdir(DB)[0],'PhantomRGB'))"
   ]
  }
 ],
 "metadata": {
  "kernelspec": {
   "display_name": "Python 3",
   "language": "python",
   "name": "python3"
  },
  "language_info": {
   "codemirror_mode": {
    "name": "ipython",
    "version": 3
   },
   "file_extension": ".py",
   "mimetype": "text/x-python",
   "name": "python",
   "nbconvert_exporter": "python",
   "pygments_lexer": "ipython3",
   "version": "3.6.9"
  }
 },
 "nbformat": 4,
 "nbformat_minor": 5
}
