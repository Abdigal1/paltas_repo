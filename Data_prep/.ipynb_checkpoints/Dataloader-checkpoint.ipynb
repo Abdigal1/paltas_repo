{
 "cells": [
  {
   "cell_type": "code",
   "execution_count": 1,
   "id": "db3fa88b",
   "metadata": {},
   "outputs": [],
   "source": [
    "import os\n",
    "#import skimage\n",
    "import torch\n",
    "from torchvision import transforms\n",
    "import numpy as np\n",
    "import glob\n",
    "from skimage import io\n",
    "import skimage\n",
    "import matplotlib.pyplot as plt\n",
    "from Custom_dataloader import *\n",
    "from Transforms import phantom_segmentation\n",
    "from Transforms import entropy_mark_transform\n",
    "from Transforms import hsv_stats_transfrom\n",
    "from Transforms import lab_stats_transfrom\n",
    "from Transforms import black_perc_transfrom\n",
    "import matplotlib.pyplot as plt\n",
    "\n",
    "DB=\"/run/user/1000/gvfs/afp-volume:host=MyCloudPR4100.local,user=admin,volume=Paltas_DataBase/Data_Base\"\n",
    "d_t=transforms.Compose([phantom_segmentation(False)])\n",
    "\n",
    "def show_stats(Td,cat=\"control\"):\n",
    "    print(np.max(Td[Td[:,2]==cat][:,1].astype('float')))\n",
    "    print(np.min(Td[Td[:,2]==cat][:,1].astype('float')))\n",
    "    print(np.mean(Td[Td[:,2]==cat][:,1].astype('float')))\n",
    "    print(np.std(Td[Td[:,2]==cat][:,1].astype('float')))"
   ]
  },
  {
   "cell_type": "markdown",
   "id": "c4425058",
   "metadata": {},
   "source": [
    "Sin mascara"
   ]
  },
  {
   "cell_type": "code",
   "execution_count": 2,
   "id": "aa07252d",
   "metadata": {},
   "outputs": [],
   "source": [
    "#tdatab=Dataset_direct(root_dir=DB,ImType=['PhantomRGB'],Trees_fil='*',Intersec=False)\n",
    "datab=Dataset_direct(root_dir=DB,ImType=['PhantomRGB'],Intersec=False)"
   ]
  },
  {
   "cell_type": "code",
   "execution_count": 3,
   "id": "500ee89e",
   "metadata": {},
   "outputs": [],
   "source": [
    "t1=black_perc_transfrom()\n",
    "t2=hsv_stats_transfrom()\n",
    "t3=lab_stats_transfrom()"
   ]
  },
  {
   "cell_type": "code",
   "execution_count": null,
   "id": "074f4f97",
   "metadata": {},
   "outputs": [
    {
     "name": "stdout",
     "output_type": "stream",
     "text": [
      "11_junio_1_10_A.JPG\n",
      "11_junio_1_10_B.JPG\n",
      "11_junio_1_10_C.JPG\n",
      "11_junio_1_10_D.JPG\n",
      "11_junio_1_10_E.JPG\n",
      "11_junio_1_10_F.JPG\n",
      "11_junio_1_11_A.JPG\n",
      "11_junio_1_11_B.JPG\n",
      "11_junio_1_11_C.JPG\n",
      "11_junio_1_11_D.JPG\n",
      "11_junio_1_11_E.JPG\n",
      "11_junio_1_11_F.JPG\n",
      "11_junio_1_11_G.JPG\n",
      "11_junio_1_12_B.JPG\n",
      "11_junio_1_12_C.JPG\n",
      "11_junio_1_12_D.JPG\n",
      "11_junio_1_12_E.JPG\n",
      "11_junio_1_12_F.JPG\n",
      "11_junio_1_12_G.JPG\n",
      "11_junio_1_13_A.JPG\n",
      "11_junio_1_13_B.JPG\n",
      "11_junio_1_13_C.JPG\n",
      "11_junio_1_13_D.JPG\n",
      "11_junio_1_13_E.JPG\n",
      "11_junio_1_13_F.JPG\n",
      "11_junio_1_13_G.JPG\n",
      "11_junio_1_14_A.JPG\n",
      "11_junio_1_14_B.JPG\n",
      "11_junio_1_14_C.JPG\n",
      "11_junio_1_14_D.JPG\n",
      "11_junio_1_14_E.JPG\n",
      "11_junio_1_14_F.JPG\n",
      "11_junio_1_14_G.JPG\n",
      "11_junio_1_15_A.JPG\n",
      "11_junio_1_15_B.JPG\n",
      "11_junio_1_15_C.JPG\n",
      "11_junio_1_15_D.JPG\n",
      "11_junio_1_15_E.JPG\n",
      "11_junio_1_15_F.JPG\n",
      "11_junio_1_15_G.JPG\n",
      "11_junio_1_16_A.JPG\n",
      "11_junio_1_16_B.JPG\n",
      "11_junio_1_16_C.JPG\n",
      "11_junio_1_16_D.JPG\n",
      "11_junio_1_16_E.JPG\n",
      "11_junio_1_16_F.JPG\n",
      "11_junio_1_16_G.JPG\n",
      "11_junio_1_17_A.JPG\n",
      "11_junio_1_17_B.JPG\n",
      "11_junio_1_17_C.JPG\n",
      "11_junio_1_17_D.JPG\n",
      "11_junio_1_17_E.JPG\n",
      "11_junio_1_17_F.JPG\n",
      "11_junio_1_17_G.JPG\n",
      "11_junio_1_18_A.JPG\n",
      "11_junio_1_18_B.JPG\n",
      "11_junio_1_18_C.JPG\n",
      "11_junio_1_18_D.JPG\n",
      "11_junio_1_18_E.JPG\n",
      "11_junio_1_18_F.JPG\n",
      "11_junio_1_18_G.JPG\n",
      "11_junio_1_19_A.JPG\n",
      "11_junio_1_19_B.JPG\n",
      "11_junio_1_19_C.JPG\n",
      "11_junio_1_19_D.JPG\n",
      "11_junio_1_19_E.JPG\n",
      "11_junio_1_19_F.JPG\n",
      "11_junio_1_19_G.JPG\n",
      "11_junio_1_1_A.JPG\n",
      "11_junio_1_1_B.JPG\n",
      "11_junio_1_1_C.JPG\n",
      "11_junio_1_1_D.JPG\n",
      "11_junio_1_1_E.JPG\n",
      "11_junio_1_1_F.JPG\n",
      "11_junio_1_1_G.JPG\n",
      "11_junio_1_20_A.JPG\n",
      "11_junio_1_20_B.JPG\n",
      "11_junio_1_20_C.JPG\n",
      "11_junio_1_20_D.JPG\n",
      "11_junio_1_20_E.JPG\n",
      "11_junio_1_20_F.JPG\n",
      "11_junio_1_20_G.JPG\n",
      "11_junio_1_21_A.JPG\n",
      "11_junio_1_21_B.JPG\n",
      "11_junio_1_21_C.JPG\n",
      "11_junio_1_21_D.JPG\n",
      "11_junio_1_21_E.JPG\n",
      "11_junio_1_21_F.JPG\n",
      "11_junio_1_21_G.JPG\n",
      "11_junio_1_2_A.JPG\n",
      "11_junio_1_2_B.JPG\n",
      "11_junio_1_2_C.JPG\n",
      "11_junio_1_2_D.JPG\n",
      "11_junio_1_2_E.JPG\n",
      "11_junio_1_2_F.JPG\n",
      "11_junio_1_3_A.JPG\n",
      "11_junio_1_3_B.JPG\n",
      "11_junio_1_3_C.JPG\n",
      "11_junio_1_3_D.JPG\n",
      "11_junio_1_3_E.JPG\n",
      "11_junio_1_3_F.JPG\n",
      "11_junio_1_3_G.JPG\n",
      "11_junio_1_4_A.JPG\n",
      "11_junio_1_4_B.JPG\n",
      "11_junio_1_4_C.JPG\n",
      "11_junio_1_4_D.JPG\n",
      "11_junio_1_4_E.JPG\n",
      "11_junio_1_4_F.JPG\n",
      "11_junio_1_4_G.JPG\n",
      "11_junio_1_5_A.JPG\n",
      "11_junio_1_5_B.JPG\n",
      "11_junio_1_5_C.JPG\n",
      "11_junio_1_5_D.JPG\n",
      "11_junio_1_5_E.JPG\n",
      "11_junio_1_5_F.JPG\n",
      "11_junio_1_5_G.JPG\n",
      "11_junio_1_6_A.JPG\n",
      "11_junio_1_6_B.JPG\n",
      "11_junio_1_6_C.JPG\n",
      "11_junio_1_6_D.JPG\n",
      "11_junio_1_6_E.JPG\n",
      "11_junio_1_6_F.JPG\n",
      "11_junio_1_6_G.JPG\n",
      "11_junio_1_7_A.JPG\n",
      "11_junio_1_7_B.JPG\n",
      "11_junio_1_7_C.JPG\n",
      "11_junio_1_7_D.JPG\n",
      "11_junio_1_7_E.JPG\n",
      "11_junio_1_7_F.JPG\n",
      "11_junio_1_7_G.JPG\n",
      "11_junio_1_8_A.JPG\n",
      "11_junio_1_8_B.JPG\n",
      "11_junio_1_8_C.JPG\n",
      "11_junio_1_8_D.JPG\n",
      "11_junio_1_8_E.JPG\n",
      "11_junio_1_8_F.JPG\n",
      "11_junio_1_8_G.JPG\n",
      "11_junio_1_9_A.JPG\n",
      "11_junio_1_9_B.JPG\n",
      "11_junio_1_9_C.JPG\n",
      "11_junio_1_9_D.JPG\n",
      "11_junio_1_9_E.JPG\n",
      "11_junio_1_9_F.JPG\n",
      "11_junio_1_9_G.JPG\n",
      "12_mayo_1_10_A.JPG\n"
     ]
    }
   ],
   "source": [
    "T1={}\n",
    "T2={}\n",
    "T3={}\n",
    "\n",
    "for i in range(len(datab.aID)):\n",
    "    print(datab.aID[i])\n",
    "    T1[datab.aID[i]]=t1(datab[i])['bl_per']\n",
    "    T2[datab.aID[i]]=t2(datab[i])['stat_val']\n",
    "    T3[datab.aID[i]]=t3(datab[i])['stat_val']"
   ]
  },
  {
   "cell_type": "code",
   "execution_count": 21,
   "id": "4e62b334",
   "metadata": {},
   "outputs": [],
   "source": [
    "y=[]\n",
    "for i in range(len(datab.aID)):\n",
    "    y.append(datab[i]['landmarks'])"
   ]
  },
  {
   "cell_type": "code",
   "execution_count": 23,
   "id": "2f9291e3",
   "metadata": {},
   "outputs": [],
   "source": [
    "data = list(T1.items())\n",
    "T1_array = np.array(data)\n",
    "\n",
    "data = list(T2.items())\n",
    "T2_array = np.array(data)\n",
    "\n",
    "data = list(T3.items())\n",
    "T3_array = np.array(data)"
   ]
  },
  {
   "cell_type": "code",
   "execution_count": 25,
   "id": "838d9485",
   "metadata": {},
   "outputs": [],
   "source": [
    "y=np.array(y)"
   ]
  },
  {
   "cell_type": "code",
   "execution_count": 61,
   "id": "35cd8778",
   "metadata": {},
   "outputs": [],
   "source": [
    "T1d=np.hstack((T1_array,y))\n",
    "T2d=np.hstack((T2_array,y))\n",
    "T3d=np.hstack((T3_array,y))"
   ]
  },
  {
   "cell_type": "code",
   "execution_count": 55,
   "id": "26a8aca8",
   "metadata": {},
   "outputs": [
    {
     "name": "stdout",
     "output_type": "stream",
     "text": [
      "['Control' 'H50%' 'H75%' 'K_Control' 'K_Deficiencia' 'K_Exceso'\n",
      " 'N_Control' 'N_Deficiencia' 'N_Exceso' 'P_Control' 'P_Deficiencia'\n",
      " 'P_Exceso']\n"
     ]
    }
   ],
   "source": [
    "print(np.unique(y))\n",
    "def show_stats(Td,cat=\"control\"):\n",
    "    print(np.max(Td[Td[:,2]==cat][:,1].astype('float')))\n",
    "    print(np.min(Td[Td[:,2]==cat][:,1].astype('float')))\n",
    "    print(np.mean(Td[Td[:,2]==cat][:,1].astype('float')))\n",
    "    print(np.std(Td[Td[:,2]==cat][:,1].astype('float')))"
   ]
  },
  {
   "cell_type": "code",
   "execution_count": 54,
   "id": "1a3d05aa",
   "metadata": {},
   "outputs": [
    {
     "name": "stdout",
     "output_type": "stream",
     "text": [
      "0.5346445800436694\n",
      "0.0073283766800041035\n",
      "0.19202294894014738\n",
      "0.10778994055158955\n"
     ]
    }
   ],
   "source": [
    "show_stats(T1d,\"Control\")"
   ]
  },
  {
   "cell_type": "code",
   "execution_count": 56,
   "id": "e2e4d57b",
   "metadata": {},
   "outputs": [
    {
     "name": "stdout",
     "output_type": "stream",
     "text": [
      "0.5141061964325657\n",
      "0.005953504523827844\n",
      "0.16316913225549237\n",
      "0.093404801425512\n"
     ]
    }
   ],
   "source": [
    "show_stats(T1d,\"H50%\")"
   ]
  },
  {
   "cell_type": "code",
   "execution_count": 63,
   "id": "41fb1f35",
   "metadata": {},
   "outputs": [
    {
     "name": "stdout",
     "output_type": "stream",
     "text": [
      "0.48255543663684436\n",
      "0.011070764161408638\n",
      "0.18442093879828783\n",
      "0.09382164847398097\n"
     ]
    }
   ],
   "source": [
    "show_stats(T1d,\"H75%\")"
   ]
  },
  {
   "cell_type": "code",
   "execution_count": 58,
   "id": "c03db1f6",
   "metadata": {},
   "outputs": [
    {
     "name": "stdout",
     "output_type": "stream",
     "text": [
      "0.3863734450784633\n",
      "0.009136425447434619\n",
      "0.16125224545945116\n",
      "0.08592431064479195\n"
     ]
    }
   ],
   "source": [
    "show_stats(T1d,\"N_Control\")"
   ]
  },
  {
   "cell_type": "code",
   "execution_count": 59,
   "id": "69a116e3",
   "metadata": {},
   "outputs": [
    {
     "name": "stdout",
     "output_type": "stream",
     "text": [
      "0.47666567393796605\n",
      "0.010515205651739563\n",
      "0.17624827744724747\n",
      "0.09684472934545352\n"
     ]
    }
   ],
   "source": [
    "show_stats(T1d,\"N_Deficiencia\")"
   ]
  },
  {
   "cell_type": "code",
   "execution_count": 60,
   "id": "8c0caefb",
   "metadata": {},
   "outputs": [
    {
     "name": "stdout",
     "output_type": "stream",
     "text": [
      "0.41504684786994517\n",
      "0.012990076622646203\n",
      "0.18239051124069078\n",
      "0.09808026049826186\n"
     ]
    }
   ],
   "source": [
    "show_stats(T1d,\"N_Exceso\")"
   ]
  },
  {
   "cell_type": "markdown",
   "id": "c733ca7a",
   "metadata": {},
   "source": [
    "Con mascara"
   ]
  },
  {
   "cell_type": "code",
   "execution_count": 2,
   "id": "504ca11a",
   "metadata": {},
   "outputs": [],
   "source": [
    "datab=Dataset_direct(root_dir=DB,ImType=['PhantomRGB'],Intersec=False,transform=d_t)"
   ]
  },
  {
   "cell_type": "code",
   "execution_count": 3,
   "id": "aa3ba226",
   "metadata": {},
   "outputs": [],
   "source": [
    "t1=black_perc_transfrom()\n",
    "t2=hsv_stats_transfrom()\n",
    "t3=lab_stats_transfrom()"
   ]
  },
  {
   "cell_type": "code",
   "execution_count": 4,
   "id": "985df0a9",
   "metadata": {},
   "outputs": [
    {
     "name": "stdout",
     "output_type": "stream",
     "text": [
      "11_junio_1_10_A\n",
      "11_junio_1_10_B\n",
      "11_junio_1_10_C\n",
      "11_junio_1_10_D\n",
      "11_junio_1_10_E\n",
      "11_junio_1_10_F\n",
      "11_junio_1_11_A\n",
      "11_junio_1_11_B\n",
      "11_junio_1_11_C\n",
      "11_junio_1_11_D\n",
      "11_junio_1_11_E\n",
      "11_junio_1_11_F\n",
      "11_junio_1_11_G\n",
      "11_junio_1_12_B\n",
      "11_junio_1_12_C\n",
      "11_junio_1_12_D\n",
      "11_junio_1_12_E\n",
      "11_junio_1_12_F\n",
      "11_junio_1_12_G\n",
      "11_junio_1_13_A\n",
      "11_junio_1_13_B\n",
      "11_junio_1_13_C\n",
      "11_junio_1_13_D\n",
      "11_junio_1_13_E\n",
      "11_junio_1_13_F\n",
      "11_junio_1_13_G\n",
      "11_junio_1_14_A\n",
      "11_junio_1_14_B\n",
      "11_junio_1_14_C\n",
      "11_junio_1_14_D\n",
      "11_junio_1_14_E\n",
      "11_junio_1_14_F\n",
      "11_junio_1_14_G\n",
      "11_junio_1_15_A\n",
      "11_junio_1_15_B\n",
      "11_junio_1_15_C\n",
      "11_junio_1_15_D\n",
      "11_junio_1_15_E\n",
      "11_junio_1_15_F\n",
      "11_junio_1_15_G\n",
      "11_junio_1_16_A\n",
      "11_junio_1_16_B\n",
      "11_junio_1_16_C\n",
      "11_junio_1_16_D\n",
      "11_junio_1_16_E\n"
     ]
    },
    {
     "name": "stderr",
     "output_type": "stream",
     "text": [
      "/home/lambda/paltas/lib/python3.6/site-packages/numpy/core/fromnumeric.py:3373: RuntimeWarning: Mean of empty slice.\n",
      "  out=out, **kwargs)\n",
      "/home/lambda/paltas/lib/python3.6/site-packages/numpy/core/_methods.py:170: RuntimeWarning: invalid value encountered in double_scalars\n",
      "  ret = ret.dtype.type(ret / rcount)\n",
      "/home/lambda/paltas/lib/python3.6/site-packages/numpy/core/_methods.py:234: RuntimeWarning: Degrees of freedom <= 0 for slice\n",
      "  keepdims=keepdims)\n",
      "/home/lambda/paltas/lib/python3.6/site-packages/numpy/core/_methods.py:195: RuntimeWarning: invalid value encountered in true_divide\n",
      "  arrmean, rcount, out=arrmean, casting='unsafe', subok=False)\n",
      "/home/lambda/paltas/lib/python3.6/site-packages/numpy/core/_methods.py:226: RuntimeWarning: invalid value encountered in double_scalars\n",
      "  ret = ret.dtype.type(ret / rcount)\n"
     ]
    },
    {
     "name": "stdout",
     "output_type": "stream",
     "text": [
      "11_junio_1_16_F\n",
      "11_junio_1_16_G\n",
      "11_junio_1_17_A\n",
      "11_junio_1_17_B\n",
      "11_junio_1_17_C\n",
      "11_junio_1_17_D\n",
      "11_junio_1_17_E\n",
      "11_junio_1_17_F\n",
      "11_junio_1_17_G\n",
      "11_junio_1_18_A\n",
      "11_junio_1_18_B\n",
      "11_junio_1_18_C\n",
      "11_junio_1_18_D\n",
      "11_junio_1_18_E\n",
      "11_junio_1_18_F\n",
      "11_junio_1_18_G\n",
      "11_junio_1_19_A\n",
      "11_junio_1_19_B\n",
      "11_junio_1_19_C\n",
      "11_junio_1_19_D\n",
      "11_junio_1_19_E\n",
      "11_junio_1_19_F\n",
      "11_junio_1_19_G\n",
      "11_junio_1_1_A\n",
      "11_junio_1_1_B\n",
      "11_junio_1_1_C\n",
      "11_junio_1_1_D\n",
      "11_junio_1_1_E\n",
      "11_junio_1_1_F\n",
      "11_junio_1_1_G\n",
      "11_junio_1_20_A\n",
      "11_junio_1_20_B\n",
      "11_junio_1_20_C\n",
      "11_junio_1_20_D\n",
      "11_junio_1_20_E\n",
      "11_junio_1_20_F\n",
      "11_junio_1_20_G\n",
      "11_junio_1_21_A\n",
      "11_junio_1_21_B\n",
      "11_junio_1_21_C\n",
      "11_junio_1_21_D\n",
      "11_junio_1_21_E\n",
      "11_junio_1_21_F\n",
      "11_junio_1_21_G\n",
      "11_junio_1_2_A\n",
      "11_junio_1_2_B\n",
      "11_junio_1_2_C\n",
      "11_junio_1_2_D\n",
      "11_junio_1_2_E\n",
      "11_junio_1_2_F\n",
      "11_junio_1_3_A\n",
      "11_junio_1_3_B\n",
      "11_junio_1_3_C\n",
      "11_junio_1_3_D\n",
      "11_junio_1_3_E\n",
      "11_junio_1_3_F\n",
      "11_junio_1_3_G\n",
      "11_junio_1_4_A\n",
      "11_junio_1_4_B\n",
      "11_junio_1_4_C\n",
      "11_junio_1_4_D\n",
      "11_junio_1_4_E\n"
     ]
    },
    {
     "ename": "ZeroDivisionError",
     "evalue": "division by zero",
     "output_type": "error",
     "traceback": [
      "\u001b[0;31m---------------------------------------------------------------------------\u001b[0m",
      "\u001b[0;31mZeroDivisionError\u001b[0m                         Traceback (most recent call last)",
      "\u001b[0;32m<ipython-input-4-e4632e27985d>\u001b[0m in \u001b[0;36m<module>\u001b[0;34m\u001b[0m\n\u001b[1;32m      5\u001b[0m \u001b[0;32mfor\u001b[0m \u001b[0mi\u001b[0m \u001b[0;32min\u001b[0m \u001b[0mrange\u001b[0m\u001b[0;34m(\u001b[0m\u001b[0mlen\u001b[0m\u001b[0;34m(\u001b[0m\u001b[0mdatab\u001b[0m\u001b[0;34m.\u001b[0m\u001b[0maID\u001b[0m\u001b[0;34m)\u001b[0m\u001b[0;34m)\u001b[0m\u001b[0;34m:\u001b[0m\u001b[0;34m\u001b[0m\u001b[0;34m\u001b[0m\u001b[0m\n\u001b[1;32m      6\u001b[0m     \u001b[0mprint\u001b[0m\u001b[0;34m(\u001b[0m\u001b[0mdatab\u001b[0m\u001b[0;34m.\u001b[0m\u001b[0maID\u001b[0m\u001b[0;34m[\u001b[0m\u001b[0mi\u001b[0m\u001b[0;34m]\u001b[0m\u001b[0;34m)\u001b[0m\u001b[0;34m\u001b[0m\u001b[0;34m\u001b[0m\u001b[0m\n\u001b[0;32m----> 7\u001b[0;31m     \u001b[0mT1\u001b[0m\u001b[0;34m[\u001b[0m\u001b[0mdatab\u001b[0m\u001b[0;34m.\u001b[0m\u001b[0maID\u001b[0m\u001b[0;34m[\u001b[0m\u001b[0mi\u001b[0m\u001b[0;34m]\u001b[0m\u001b[0;34m]\u001b[0m\u001b[0;34m=\u001b[0m\u001b[0mt1\u001b[0m\u001b[0;34m(\u001b[0m\u001b[0mdatab\u001b[0m\u001b[0;34m[\u001b[0m\u001b[0mi\u001b[0m\u001b[0;34m]\u001b[0m\u001b[0;34m)\u001b[0m\u001b[0;34m[\u001b[0m\u001b[0;34m'bl_per'\u001b[0m\u001b[0;34m]\u001b[0m\u001b[0;34m\u001b[0m\u001b[0;34m\u001b[0m\u001b[0m\n\u001b[0m\u001b[1;32m      8\u001b[0m     \u001b[0mT2\u001b[0m\u001b[0;34m[\u001b[0m\u001b[0mdatab\u001b[0m\u001b[0;34m.\u001b[0m\u001b[0maID\u001b[0m\u001b[0;34m[\u001b[0m\u001b[0mi\u001b[0m\u001b[0;34m]\u001b[0m\u001b[0;34m]\u001b[0m\u001b[0;34m=\u001b[0m\u001b[0mt2\u001b[0m\u001b[0;34m(\u001b[0m\u001b[0mdatab\u001b[0m\u001b[0;34m[\u001b[0m\u001b[0mi\u001b[0m\u001b[0;34m]\u001b[0m\u001b[0;34m)\u001b[0m\u001b[0;34m[\u001b[0m\u001b[0;34m'stat_val'\u001b[0m\u001b[0;34m]\u001b[0m\u001b[0;34m\u001b[0m\u001b[0;34m\u001b[0m\u001b[0m\n\u001b[1;32m      9\u001b[0m     \u001b[0mT3\u001b[0m\u001b[0;34m[\u001b[0m\u001b[0mdatab\u001b[0m\u001b[0;34m.\u001b[0m\u001b[0maID\u001b[0m\u001b[0;34m[\u001b[0m\u001b[0mi\u001b[0m\u001b[0;34m]\u001b[0m\u001b[0;34m]\u001b[0m\u001b[0;34m=\u001b[0m\u001b[0mt3\u001b[0m\u001b[0;34m(\u001b[0m\u001b[0mdatab\u001b[0m\u001b[0;34m[\u001b[0m\u001b[0mi\u001b[0m\u001b[0;34m]\u001b[0m\u001b[0;34m)\u001b[0m\u001b[0;34m[\u001b[0m\u001b[0;34m'stat_val'\u001b[0m\u001b[0;34m]\u001b[0m\u001b[0;34m\u001b[0m\u001b[0;34m\u001b[0m\u001b[0m\n",
      "\u001b[0;32m~/paltas/repo/paltas_repo/Data_prep/Transforms/stat_transforms.py\u001b[0m in \u001b[0;36m__call__\u001b[0;34m(self, sample)\u001b[0m\n\u001b[1;32m     58\u001b[0m         \u001b[0mimage\u001b[0m\u001b[0;34m,\u001b[0m \u001b[0mlandmarks\u001b[0m \u001b[0;34m=\u001b[0m \u001b[0msample\u001b[0m\u001b[0;34m[\u001b[0m\u001b[0;34m'PhantomRGB'\u001b[0m\u001b[0;34m]\u001b[0m\u001b[0;34m,\u001b[0m \u001b[0msample\u001b[0m\u001b[0;34m[\u001b[0m\u001b[0;34m'landmarks'\u001b[0m\u001b[0;34m]\u001b[0m\u001b[0;34m\u001b[0m\u001b[0;34m\u001b[0m\u001b[0m\n\u001b[1;32m     59\u001b[0m \u001b[0;34m\u001b[0m\u001b[0m\n\u001b[0;32m---> 60\u001b[0;31m         \u001b[0mm\u001b[0m\u001b[0;34m=\u001b[0m\u001b[0mbl_perc\u001b[0m\u001b[0;34m(\u001b[0m\u001b[0mimage\u001b[0m\u001b[0;34m)\u001b[0m\u001b[0;34m\u001b[0m\u001b[0;34m\u001b[0m\u001b[0m\n\u001b[0m\u001b[1;32m     61\u001b[0m \u001b[0;34m\u001b[0m\u001b[0m\n\u001b[1;32m     62\u001b[0m         \u001b[0;32mreturn\u001b[0m \u001b[0;34m{\u001b[0m\u001b[0;34m'bl_per'\u001b[0m\u001b[0;34m:\u001b[0m \u001b[0mm\u001b[0m\u001b[0;34m,\u001b[0m \u001b[0;34m'landmarks'\u001b[0m\u001b[0;34m:\u001b[0m \u001b[0mlandmarks\u001b[0m\u001b[0;34m}\u001b[0m\u001b[0;34m\u001b[0m\u001b[0;34m\u001b[0m\u001b[0m\n",
      "\u001b[0;32m~/paltas/repo/paltas_repo/Data_prep/Transforms/Phantom_stats_trans/phantom_stats_methods.py\u001b[0m in \u001b[0;36mbl_perc\u001b[0;34m(img)\u001b[0m\n\u001b[1;32m     25\u001b[0m     \u001b[0mimg_hsv\u001b[0m\u001b[0;34m=\u001b[0m\u001b[0mskimage\u001b[0m\u001b[0;34m.\u001b[0m\u001b[0mcolor\u001b[0m\u001b[0;34m.\u001b[0m\u001b[0mrgb2lab\u001b[0m\u001b[0;34m(\u001b[0m\u001b[0mimg\u001b[0m\u001b[0;34m.\u001b[0m\u001b[0mastype\u001b[0m\u001b[0;34m(\u001b[0m\u001b[0;34m'uint8'\u001b[0m\u001b[0;34m)\u001b[0m\u001b[0;34m)\u001b[0m\u001b[0;34m\u001b[0m\u001b[0;34m\u001b[0m\u001b[0m\n\u001b[1;32m     26\u001b[0m     \u001b[0mimgr\u001b[0m\u001b[0;34m=\u001b[0m\u001b[0mimg_hsv\u001b[0m\u001b[0;34m[\u001b[0m\u001b[0;34m:\u001b[0m\u001b[0;34m,\u001b[0m\u001b[0;34m:\u001b[0m\u001b[0;34m,\u001b[0m\u001b[0;36m0\u001b[0m\u001b[0;34m]\u001b[0m\u001b[0;34m.\u001b[0m\u001b[0mravel\u001b[0m\u001b[0;34m(\u001b[0m\u001b[0;34m)\u001b[0m\u001b[0;34m[\u001b[0m\u001b[0mnp\u001b[0m\u001b[0;34m.\u001b[0m\u001b[0mlogical_and\u001b[0m\u001b[0;34m(\u001b[0m\u001b[0mimg_hsv\u001b[0m\u001b[0;34m[\u001b[0m\u001b[0;34m:\u001b[0m\u001b[0;34m,\u001b[0m\u001b[0;34m:\u001b[0m\u001b[0;34m,\u001b[0m\u001b[0;36m0\u001b[0m\u001b[0;34m]\u001b[0m\u001b[0;34m.\u001b[0m\u001b[0mravel\u001b[0m\u001b[0;34m(\u001b[0m\u001b[0;34m)\u001b[0m\u001b[0;34m>\u001b[0m\u001b[0;36m0.00001\u001b[0m\u001b[0;34m,\u001b[0m\u001b[0mimg_hsv\u001b[0m\u001b[0;34m[\u001b[0m\u001b[0;34m:\u001b[0m\u001b[0;34m,\u001b[0m\u001b[0;34m:\u001b[0m\u001b[0;34m,\u001b[0m\u001b[0;36m0\u001b[0m\u001b[0;34m]\u001b[0m\u001b[0;34m.\u001b[0m\u001b[0mravel\u001b[0m\u001b[0;34m(\u001b[0m\u001b[0;34m)\u001b[0m\u001b[0;34m<\u001b[0m\u001b[0;36m10\u001b[0m\u001b[0;34m)\u001b[0m\u001b[0;34m]\u001b[0m\u001b[0;34m\u001b[0m\u001b[0;34m\u001b[0m\u001b[0m\n\u001b[0;32m---> 27\u001b[0;31m     \u001b[0mm\u001b[0m\u001b[0;34m=\u001b[0m\u001b[0;34m(\u001b[0m\u001b[0mimgr\u001b[0m\u001b[0;34m.\u001b[0m\u001b[0mshape\u001b[0m\u001b[0;34m[\u001b[0m\u001b[0;36m0\u001b[0m\u001b[0;34m]\u001b[0m\u001b[0;34m)\u001b[0m\u001b[0;34m/\u001b[0m\u001b[0;34m(\u001b[0m\u001b[0;34m(\u001b[0m\u001b[0mimg_hsv\u001b[0m\u001b[0;34m[\u001b[0m\u001b[0;34m:\u001b[0m\u001b[0;34m,\u001b[0m\u001b[0;34m:\u001b[0m\u001b[0;34m,\u001b[0m\u001b[0;36m0\u001b[0m\u001b[0;34m]\u001b[0m\u001b[0;34m.\u001b[0m\u001b[0mravel\u001b[0m\u001b[0;34m(\u001b[0m\u001b[0;34m)\u001b[0m\u001b[0;34m[\u001b[0m\u001b[0mimg_hsv\u001b[0m\u001b[0;34m[\u001b[0m\u001b[0;34m:\u001b[0m\u001b[0;34m,\u001b[0m\u001b[0;34m:\u001b[0m\u001b[0;34m,\u001b[0m\u001b[0;36m0\u001b[0m\u001b[0;34m]\u001b[0m\u001b[0;34m.\u001b[0m\u001b[0mravel\u001b[0m\u001b[0;34m(\u001b[0m\u001b[0;34m)\u001b[0m\u001b[0;34m>\u001b[0m\u001b[0;36m0.00001\u001b[0m\u001b[0;34m]\u001b[0m\u001b[0;34m)\u001b[0m\u001b[0;34m.\u001b[0m\u001b[0mshape\u001b[0m\u001b[0;34m[\u001b[0m\u001b[0;36m0\u001b[0m\u001b[0;34m]\u001b[0m\u001b[0;34m)\u001b[0m\u001b[0;34m\u001b[0m\u001b[0;34m\u001b[0m\u001b[0m\n\u001b[0m\u001b[1;32m     28\u001b[0m     \u001b[0;32mreturn\u001b[0m \u001b[0mm\u001b[0m\u001b[0;34m\u001b[0m\u001b[0;34m\u001b[0m\u001b[0m\n\u001b[1;32m     29\u001b[0m \u001b[0;34m\u001b[0m\u001b[0m\n",
      "\u001b[0;31mZeroDivisionError\u001b[0m: division by zero"
     ]
    }
   ],
   "source": [
    "T1={}\n",
    "T2={}\n",
    "T3={}\n",
    "\n",
    "for i in range(len(datab.aID)):\n",
    "    print(datab.aID[i])\n",
    "    T1[datab.aID[i]]=t1(datab[i])['bl_per']\n",
    "    T2[datab.aID[i]]=t2(datab[i])['stat_val']\n",
    "    T3[datab.aID[i]]=t3(datab[i])['stat_val']"
   ]
  },
  {
   "cell_type": "code",
   "execution_count": null,
   "id": "b65c58fe",
   "metadata": {},
   "outputs": [],
   "source": [
    "y=[]\n",
    "for i in range(len(datab.aID)):\n",
    "    y.append(datab[i]['landmarks'])"
   ]
  },
  {
   "cell_type": "code",
   "execution_count": null,
   "id": "47654c9c",
   "metadata": {},
   "outputs": [],
   "source": [
    "y=np.array(y)"
   ]
  },
  {
   "cell_type": "code",
   "execution_count": 15,
   "id": "8e557bee",
   "metadata": {},
   "outputs": [
    {
     "ename": "ValueError",
     "evalue": "all the input array dimensions for the concatenation axis must match exactly, but along dimension 0, the array at index 0 has size 135 and the array at index 1 has size 2646",
     "output_type": "error",
     "traceback": [
      "\u001b[0;31m---------------------------------------------------------------------------\u001b[0m",
      "\u001b[0;31mValueError\u001b[0m                                Traceback (most recent call last)",
      "\u001b[0;32m<ipython-input-15-35931c46744a>\u001b[0m in \u001b[0;36m<module>\u001b[0;34m\u001b[0m\n\u001b[1;32m      7\u001b[0m \u001b[0mdata\u001b[0m \u001b[0;34m=\u001b[0m \u001b[0mlist\u001b[0m\u001b[0;34m(\u001b[0m\u001b[0mT3\u001b[0m\u001b[0;34m.\u001b[0m\u001b[0mitems\u001b[0m\u001b[0;34m(\u001b[0m\u001b[0;34m)\u001b[0m\u001b[0;34m)\u001b[0m\u001b[0;34m\u001b[0m\u001b[0;34m\u001b[0m\u001b[0m\n\u001b[1;32m      8\u001b[0m \u001b[0mT3_array\u001b[0m \u001b[0;34m=\u001b[0m \u001b[0mnp\u001b[0m\u001b[0;34m.\u001b[0m\u001b[0marray\u001b[0m\u001b[0;34m(\u001b[0m\u001b[0mdata\u001b[0m\u001b[0;34m)\u001b[0m\u001b[0;34m\u001b[0m\u001b[0;34m\u001b[0m\u001b[0m\n\u001b[0;32m----> 9\u001b[0;31m \u001b[0mT1d\u001b[0m\u001b[0;34m=\u001b[0m\u001b[0mnp\u001b[0m\u001b[0;34m.\u001b[0m\u001b[0mhstack\u001b[0m\u001b[0;34m(\u001b[0m\u001b[0;34m(\u001b[0m\u001b[0mT1_array\u001b[0m\u001b[0;34m,\u001b[0m\u001b[0my\u001b[0m\u001b[0;34m)\u001b[0m\u001b[0;34m)\u001b[0m\u001b[0;34m\u001b[0m\u001b[0;34m\u001b[0m\u001b[0m\n\u001b[0m\u001b[1;32m     10\u001b[0m \u001b[0mT2d\u001b[0m\u001b[0;34m=\u001b[0m\u001b[0mnp\u001b[0m\u001b[0;34m.\u001b[0m\u001b[0mhstack\u001b[0m\u001b[0;34m(\u001b[0m\u001b[0;34m(\u001b[0m\u001b[0mT2_array\u001b[0m\u001b[0;34m,\u001b[0m\u001b[0my\u001b[0m\u001b[0;34m)\u001b[0m\u001b[0;34m)\u001b[0m\u001b[0;34m\u001b[0m\u001b[0;34m\u001b[0m\u001b[0m\n\u001b[1;32m     11\u001b[0m \u001b[0mT3d\u001b[0m\u001b[0;34m=\u001b[0m\u001b[0mnp\u001b[0m\u001b[0;34m.\u001b[0m\u001b[0mhstack\u001b[0m\u001b[0;34m(\u001b[0m\u001b[0;34m(\u001b[0m\u001b[0mT3_array\u001b[0m\u001b[0;34m,\u001b[0m\u001b[0my\u001b[0m\u001b[0;34m)\u001b[0m\u001b[0;34m)\u001b[0m\u001b[0;34m\u001b[0m\u001b[0;34m\u001b[0m\u001b[0m\n",
      "\u001b[0;32m<__array_function__ internals>\u001b[0m in \u001b[0;36mhstack\u001b[0;34m(*args, **kwargs)\u001b[0m\n",
      "\u001b[0;32m~/paltas/lib/python3.6/site-packages/numpy/core/shape_base.py\u001b[0m in \u001b[0;36mhstack\u001b[0;34m(tup)\u001b[0m\n\u001b[1;32m    344\u001b[0m         \u001b[0;32mreturn\u001b[0m \u001b[0m_nx\u001b[0m\u001b[0;34m.\u001b[0m\u001b[0mconcatenate\u001b[0m\u001b[0;34m(\u001b[0m\u001b[0marrs\u001b[0m\u001b[0;34m,\u001b[0m \u001b[0;36m0\u001b[0m\u001b[0;34m)\u001b[0m\u001b[0;34m\u001b[0m\u001b[0;34m\u001b[0m\u001b[0m\n\u001b[1;32m    345\u001b[0m     \u001b[0;32melse\u001b[0m\u001b[0;34m:\u001b[0m\u001b[0;34m\u001b[0m\u001b[0;34m\u001b[0m\u001b[0m\n\u001b[0;32m--> 346\u001b[0;31m         \u001b[0;32mreturn\u001b[0m \u001b[0m_nx\u001b[0m\u001b[0;34m.\u001b[0m\u001b[0mconcatenate\u001b[0m\u001b[0;34m(\u001b[0m\u001b[0marrs\u001b[0m\u001b[0;34m,\u001b[0m \u001b[0;36m1\u001b[0m\u001b[0;34m)\u001b[0m\u001b[0;34m\u001b[0m\u001b[0;34m\u001b[0m\u001b[0m\n\u001b[0m\u001b[1;32m    347\u001b[0m \u001b[0;34m\u001b[0m\u001b[0m\n\u001b[1;32m    348\u001b[0m \u001b[0;34m\u001b[0m\u001b[0m\n",
      "\u001b[0;32m<__array_function__ internals>\u001b[0m in \u001b[0;36mconcatenate\u001b[0;34m(*args, **kwargs)\u001b[0m\n",
      "\u001b[0;31mValueError\u001b[0m: all the input array dimensions for the concatenation axis must match exactly, but along dimension 0, the array at index 0 has size 135 and the array at index 1 has size 2646"
     ]
    }
   ],
   "source": [
    "data = list(T1.items())\n",
    "T1_array = np.array(data)\n",
    "\n",
    "data = list(T2.items())\n",
    "T2_array = np.array(data)\n",
    "\n",
    "data = list(T3.items())\n",
    "T3_array = np.array(data)\n",
    "T1d=np.hstack((T1_array,y))\n",
    "T2d=np.hstack((T2_array,y))\n",
    "T3d=np.hstack((T3_array,y))"
   ]
  },
  {
   "cell_type": "code",
   "execution_count": 5,
   "id": "3c967b55",
   "metadata": {},
   "outputs": [],
   "source": [
    "datab=Dataset_direct(root_dir=DB,ImType=['PhantomRGB'],Intersec=False)"
   ]
  },
  {
   "cell_type": "code",
   "execution_count": 11,
   "id": "b4eeeb76",
   "metadata": {},
   "outputs": [
    {
     "data": {
      "text/plain": [
       "<matplotlib.image.AxesImage at 0x7fb5a6d96ef0>"
      ]
     },
     "execution_count": 11,
     "metadata": {},
     "output_type": "execute_result"
    },
    {
     "data": {
      "image/png": "[encoded data removed]",
      "text/plain": [
       "<Figure size 432x288 with 1 Axes>"
      ]
     },
     "metadata": {
      "needs_background": "light"
     },
     "output_type": "display_data"
    }
   ],
   "source": [
    "plt.imshow(datab[np.where(datab.aID=='11_junio_1_4_E')]['PhantomRGB'])\n",
    "#datab[np.where(datab.aID=='11_junio_1_4_E')]['PhantomRGB']"
   ]
  },
  {
   "cell_type": "code",
   "execution_count": 15,
   "id": "31e8fc81",
   "metadata": {},
   "outputs": [
    {
     "data": {
      "text/plain": [
       "<matplotlib.image.AxesImage at 0x7fb5a6cb7978>"
      ]
     },
     "execution_count": 15,
     "metadata": {},
     "output_type": "execute_result"
    },
    {
     "data": {
      "image/png": "[encoded data removed]",
      "text/plain": [
       "<Figure size 432x288 with 1 Axes>"
      ]
     },
     "metadata": {
      "needs_background": "light"
     },
     "output_type": "display_data"
    }
   ],
   "source": [
    "t=phantom_segmentation(False)\n",
    "plt.imshow(t(datab[np.where(datab.aID=='11_junio_1_4_E')])['PhantomRGB'])\n",
    "#t(datab[np.where(datab.aID=='11_junio_1_4_E')])"
   ]
  },
  {
   "cell_type": "code",
   "execution_count": 16,
   "id": "2a9b5f2d",
   "metadata": {},
   "outputs": [],
   "source": [
    "from Transforms.segmentation_methods.segmentation_phantom import seg_mask"
   ]
  },
  {
   "cell_type": "code",
   "execution_count": 17,
   "id": "fa722a98",
   "metadata": {},
   "outputs": [],
   "source": [
    "mask,x_max,x_min,y_max,y_min=seg_mask(datab[np.where(datab.aID=='11_junio_1_4_E')]['PhantomRGB'])"
   ]
  },
  {
   "cell_type": "code",
   "execution_count": 18,
   "id": "15fadc3c",
   "metadata": {},
   "outputs": [
    {
     "data": {
      "text/plain": [
       "<matplotlib.image.AxesImage at 0x7fb5a6c25240>"
      ]
     },
     "execution_count": 18,
     "metadata": {},
     "output_type": "execute_result"
    },
    {
     "data": {
      "image/png": "[encoded data removed]",
      "text/plain": [
       "<Figure size 432x288 with 1 Axes>"
      ]
     },
     "metadata": {
      "needs_background": "light"
     },
     "output_type": "display_data"
    }
   ],
   "source": [
    "plt.imshow(mask)"
   ]
  },
  {
   "cell_type": "code",
   "execution_count": null,
   "id": "22d472e0",
   "metadata": {},
   "outputs": [],
   "source": []
  },
  {
   "cell_type": "code",
   "execution_count": 21,
   "id": "95181d71",
   "metadata": {},
   "outputs": [],
   "source": [
    "x_minp=np.min(np.where(mask==1)[0])\n",
    "y_minp=np.min(np.where(mask==1)[1])\n",
    "x_maxp=np.max(np.where(mask==1)[0])\n",
    "y_maxp=np.max(np.where(mask==1)[1])"
   ]
  },
  {
   "cell_type": "code",
   "execution_count": 22,
   "id": "14432a74",
   "metadata": {},
   "outputs": [
    {
     "name": "stdout",
     "output_type": "stream",
     "text": [
      "2934\n",
      "3535\n"
     ]
    }
   ],
   "source": [
    "print(x_maxp-x_minp)\n",
    "print(y_maxp-y_minp)"
   ]
  },
  {
   "cell_type": "code",
   "execution_count": 6,
   "id": "d6222511",
   "metadata": {},
   "outputs": [
    {
     "name": "stdout",
     "output_type": "stream",
     "text": [
      "3648\n",
      "3876\n",
      "4246\n",
      "1066\n"
     ]
    }
   ],
   "source": [
    "print(x_max)\n",
    "print(x_min)\n",
    "print(y_max)\n",
    "print(y_min)"
   ]
  },
  {
   "cell_type": "code",
   "execution_count": 7,
   "id": "044f42d8",
   "metadata": {},
   "outputs": [
    {
     "data": {
      "text/plain": [
       "(3648, 5472)"
      ]
     },
     "execution_count": 7,
     "metadata": {},
     "output_type": "execute_result"
    }
   ],
   "source": [
    "mask.shape"
   ]
  },
  {
   "cell_type": "code",
   "execution_count": 31,
   "id": "eb79711f",
   "metadata": {},
   "outputs": [
    {
     "data": {
      "text/plain": [
       "(3648, 5472)"
      ]
     },
     "execution_count": 31,
     "metadata": {},
     "output_type": "execute_result"
    }
   ],
   "source": [
    "mask.shape"
   ]
  },
  {
   "cell_type": "code",
   "execution_count": 30,
   "id": "b7b7da8e",
   "metadata": {},
   "outputs": [
    {
     "name": "stdout",
     "output_type": "stream",
     "text": [
      "3768\n",
      "0\n",
      "4751\n",
      "1216\n"
     ]
    }
   ],
   "source": [
    "print(x_max)\n",
    "print(x_min)\n",
    "print(y_max)\n",
    "print(y_min)"
   ]
  },
  {
   "cell_type": "code",
   "execution_count": 32,
   "id": "2faead4b",
   "metadata": {},
   "outputs": [
    {
     "name": "stdout",
     "output_type": "stream",
     "text": [
      "3768\n",
      "3535\n"
     ]
    }
   ],
   "source": [
    "print(x_max-x_min)\n",
    "print(y_max-y_min)"
   ]
  },
  {
   "cell_type": "code",
   "execution_count": 32,
   "id": "896a9470",
   "metadata": {},
   "outputs": [],
   "source": [
    "import numpy as np\n",
    "import skimage\n",
    "from skimage import io\n",
    "from skimage.color import rgb2hsv\n",
    "from skimage.morphology import binary_closing\n",
    "import scipy\n",
    "\n",
    "def seg_mask(img,squared=False):\n",
    "    hsv_i=rgb2hsv(img)\n",
    "    h=hsv_i[:,:,0]\n",
    "    h_b=np.logical_and(h>0.2,h<0.4)\n",
    "    \n",
    "    #Erosion and dilation\n",
    "    disk=skimage.morphology.disk(5)\n",
    "    hl=np.ones((1,100)).astype('uint8')\n",
    "    cimg=skimage.morphology.erosion(h_b,disk)\n",
    "    cimg=binary_closing(cimg,hl)\n",
    "    cimg=binary_closing(cimg,hl.T)\n",
    "\n",
    "    limg=skimage.measure.label(cimg)\n",
    "    props=skimage.measure.regionprops(limg)\n",
    "\n",
    "    cimg=((limg==np.argmax(np.vectorize(lambda p:p.area)(np.array(props)))+1)).astype(\"int\")\n",
    "\n",
    "    #Fill\n",
    "    mask=scipy.ndimage.binary_fill_holes(cimg).astype(\"int\")\n",
    "    \n",
    "    x_min=np.min(np.where(mask==1)[0])\n",
    "    y_min=np.min(np.where(mask==1)[1])\n",
    "    x_max=np.max(np.where(mask==1)[0])\n",
    "    y_max=np.max(np.where(mask==1)[1])\n",
    "    print(x_max)\n",
    "    #if squared:\n",
    "    smk=np.zeros(mask.shape)\n",
    "    Lx=x_max-x_min\n",
    "    Ly=y_max-y_min\n",
    "    if Lx<smk.shape[1] and Ly<smk.shape[0]:\n",
    "        if (Lx)>(Ly):\n",
    "            d=np.floor((abs((Ly)-(Lx)))/2)\n",
    "            dL=d\n",
    "            dR=d+2*((abs((Ly)-(Lx)))/2-d)\n",
    "            if (y_min-dL)<=0:\n",
    "                y_max=int(y_max+dR-(y_min-dL))\n",
    "                y_min=0\n",
    "            elif (y_max+dR)>=smk.shape[0] or (y_max+dR)>=smk.shape[1]:\n",
    "                y_min=int(y_min-(dL+((y_max+dR)-smk.shape[1])))\n",
    "                y_max=smk.shape[1]\n",
    "            else:\n",
    "                y_min=int(y_min-dL)\n",
    "                y_max=int(y_max+dR)\n",
    "        else:\n",
    "            print(\"here\")\n",
    "            print(x_max)\n",
    "            d=np.floor((abs((Ly)-(Lx))/2))\n",
    "            dL=d\n",
    "            dR=d+2*((abs((Ly)-(Lx)))/2-d)\n",
    "            if (x_min-dL)<=0:\n",
    "                print(\"here\")\n",
    "                print((x_min-dL))\n",
    "                print(dR-(x_min-dL))\n",
    "                print(x_max+dR-(x_min-dL))\n",
    "                x_max=int(round(x_max+dR-(x_min-dL)))\n",
    "                x_min=0\n",
    "                print(x_max)\n",
    "            elif (x_max+dR)>=smk.shape[0] or (x_max+dR)>=smk.shape[1]:\n",
    "                x_min=int(x_min-(dL+((x_max+dR)-smk.shape[0])))\n",
    "                x_max=smk.shape[0]\n",
    "                \n",
    "            else:\n",
    "                x_min=int(x_min-dL)\n",
    "                x_max=int(x_max+dR)\n",
    "    \n",
    "    if squared:\n",
    "        smk[x_min:x_max,y_min:y_max]=1\n",
    "        mask=smk.astype(\"int\")\n",
    "        \n",
    "    return mask,x_max,x_min,y_max,y_min"
   ]
  },
  {
   "cell_type": "code",
   "execution_count": 33,
   "id": "bfb12a46",
   "metadata": {},
   "outputs": [
    {
     "name": "stdout",
     "output_type": "stream",
     "text": [
      "3528\n",
      "here\n",
      "3528\n"
     ]
    }
   ],
   "source": [
    "mask,x_max,x_min,y_max,y_min=seg_mask(datab[np.where(datab.aID=='11_junio_1_10_A')]['PhantomRGB'])"
   ]
  },
  {
   "cell_type": "code",
   "execution_count": 34,
   "id": "6fd75052",
   "metadata": {},
   "outputs": [
    {
     "data": {
      "text/plain": [
       "(3648, 5472)"
      ]
     },
     "execution_count": 34,
     "metadata": {},
     "output_type": "execute_result"
    }
   ],
   "source": [
    "mask.shape"
   ]
  },
  {
   "cell_type": "code",
   "execution_count": 28,
   "id": "ebd16c74",
   "metadata": {},
   "outputs": [],
   "source": [
    "x_min=np.min(np.where(mask==1)[0])\n",
    "y_min=np.min(np.where(mask==1)[1])\n",
    "x_max=np.max(np.where(mask==1)[0])\n",
    "y_max=np.max(np.where(mask==1)[1])"
   ]
  },
  {
   "cell_type": "code",
   "execution_count": 13,
   "id": "1a51080b",
   "metadata": {},
   "outputs": [],
   "source": [
    "Lx=x_max-x_min\n",
    "Ly=y_max-y_min"
   ]
  },
  {
   "cell_type": "code",
   "execution_count": 14,
   "id": "c7c7fd39",
   "metadata": {},
   "outputs": [
    {
     "name": "stdout",
     "output_type": "stream",
     "text": [
      "2683\n",
      "3180\n"
     ]
    }
   ],
   "source": [
    "print(Lx)\n",
    "print(Ly)"
   ]
  },
  {
   "cell_type": "code",
   "execution_count": 36,
   "id": "bdab925b",
   "metadata": {},
   "outputs": [
    {
     "data": {
      "text/plain": [
       "300.0"
      ]
     },
     "execution_count": 36,
     "metadata": {},
     "output_type": "execute_result"
    }
   ],
   "source": [
    "np.floor((abs((Ly)-(Lx)))/2)"
   ]
  },
  {
   "cell_type": "code",
   "execution_count": 11,
   "id": "fcb5ce47",
   "metadata": {},
   "outputs": [
    {
     "data": {
      "text/plain": [
       "(3648, 5472)"
      ]
     },
     "execution_count": 11,
     "metadata": {},
     "output_type": "execute_result"
    }
   ],
   "source": [
    "mask.shape"
   ]
  },
  {
   "cell_type": "code",
   "execution_count": 55,
   "id": "ee42dbfd",
   "metadata": {},
   "outputs": [
    {
     "data": {
      "text/plain": [
       "3535"
      ]
     },
     "execution_count": 55,
     "metadata": {},
     "output_type": "execute_result"
    }
   ],
   "source": [
    "int(368.0+3167)"
   ]
  },
  {
   "cell_type": "code",
   "execution_count": 35,
   "id": "9bf4c109",
   "metadata": {},
   "outputs": [
    {
     "name": "stdout",
     "output_type": "stream",
     "text": [
      "3648\n",
      "468\n"
     ]
    }
   ],
   "source": [
    "print(x_max)\n",
    "print(x_min)"
   ]
  }
 ],
 "metadata": {
  "kernelspec": {
   "display_name": "Python 3",
   "language": "python",
   "name": "python3"
  },
  "language_info": {
   "codemirror_mode": {
    "name": "ipython",
    "version": 3
   },
   "file_extension": ".py",
   "mimetype": "text/x-python",
   "name": "python",
   "nbconvert_exporter": "python",
   "pygments_lexer": "ipython3",
   "version": "3.6.9"
  }
 },
 "nbformat": 4,
 "nbformat_minor": 5
}
