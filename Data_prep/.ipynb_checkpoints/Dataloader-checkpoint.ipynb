{
 "cells": [
  {
   "cell_type": "code",
   "execution_count": 1,
   "id": "db3fa88b",
   "metadata": {},
   "outputs": [],
   "source": [
    "import os\n",
    "#import skimage\n",
    "import torch\n",
    "from torchvision import transforms\n",
    "import numpy as np\n",
    "import glob\n",
    "from skimage import io\n",
    "import skimage\n",
    "import matplotlib.pyplot as plt\n",
    "from Custom_dataloader import *\n",
    "from Transforms import sentera_segmentation\n",
    "from Transforms import entropy_mark_transform\n",
    "from Transforms import hsv_stats_transfrom\n",
    "from Transforms import lab_stats_transfrom\n",
    "from Transforms import black_perc_transfrom\n",
    "import matplotlib.pyplot as plt\n",
    "\n",
    "DB=\"/run/user/1000/gvfs/afp-volume:host=MyCloudPR4100.local,user=admin,volume=Paltas_DataBase/Data_Base\"\n",
    "d_t=transforms.Compose([sentera_segmentation(False),black_perc_transfrom()])"
   ]
  },
  {
   "cell_type": "code",
   "execution_count": 2,
   "id": "aa07252d",
   "metadata": {},
   "outputs": [],
   "source": [
    "#tdatab=Dataset_direct(root_dir=DB,ImType=['PhantomRGB'],Trees_fil='*',Intersec=False)\n",
    "datab=Dataset_direct(root_dir=DB,ImType=['PhantomRGB'],Trees_fil='*',Intersec=False,transform=d_t)"
   ]
  },
  {
   "cell_type": "code",
   "execution_count": 3,
   "id": "500ee89e",
   "metadata": {},
   "outputs": [],
   "source": [
    "t1=black_perc_transfrom()\n",
    "t2=hsv_stats_transfrom()\n",
    "t3=lab_stats_transfrom()"
   ]
  },
  {
   "cell_type": "code",
   "execution_count": 4,
   "id": "2eede224",
   "metadata": {},
   "outputs": [],
   "source": [
    "imr=t1(datab[0])"
   ]
  },
  {
   "cell_type": "code",
   "execution_count": 5,
   "id": "0a9aae7e",
   "metadata": {},
   "outputs": [
    {
     "data": {
      "text/plain": [
       "{'bl_per': 0.1693917779956219, 'landmarks': array(['N_Control'], dtype='<U13')}"
      ]
     },
     "execution_count": 5,
     "metadata": {},
     "output_type": "execute_result"
    }
   ],
   "source": [
    "imr"
   ]
  },
  {
   "cell_type": "code",
   "execution_count": 5,
   "id": "700e3a22",
   "metadata": {},
   "outputs": [
    {
     "name": "stdout",
     "output_type": "stream",
     "text": [
      "{'bl_per': 0.2714719231527534, 'landmarks': array(['N_Control'], dtype='<U13')}\n",
      "{'bl_per': 0.24038158500041937, 'landmarks': array(['P_Control'], dtype='<U13')}\n",
      "{'bl_per': 0.249738807962684, 'landmarks': array(['K_Control'], dtype='<U13')}\n",
      "{'bl_per': 0.22034947910895772, 'landmarks': array(['Control'], dtype='<U13')}\n",
      "{'bl_per': 0.20697192193621866, 'landmarks': array(['H50%'], dtype='<U13')}\n"
     ]
    }
   ],
   "source": [
    "for i in range(5):\n",
    "    print(datab[i])"
   ]
  },
  {
   "cell_type": "code",
   "execution_count": 9,
   "id": "074f4f97",
   "metadata": {},
   "outputs": [
    {
     "data": {
      "text/plain": [
       "Compose(\n",
       "    <Transforms.Seg_transform.sentera_segmentation object at 0x7f30c55c7ef0>\n",
       ")"
      ]
     },
     "execution_count": 9,
     "metadata": {},
     "output_type": "execute_result"
    }
   ],
   "source": [
    "d_t"
   ]
  }
 ],
 "metadata": {
  "kernelspec": {
   "display_name": "Python 3",
   "language": "python",
   "name": "python3"
  },
  "language_info": {
   "codemirror_mode": {
    "name": "ipython",
    "version": 3
   },
   "file_extension": ".py",
   "mimetype": "text/x-python",
   "name": "python",
   "nbconvert_exporter": "python",
   "pygments_lexer": "ipython3",
   "version": "3.6.9"
  }
 },
 "nbformat": 4,
 "nbformat_minor": 5
}
