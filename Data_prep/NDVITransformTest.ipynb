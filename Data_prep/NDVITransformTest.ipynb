{
 "cells": [
  {
   "cell_type": "code",
   "execution_count": 7,
   "id": "243124ae-1a74-4883-b4ab-f08ea4f591c8",
   "metadata": {},
   "outputs": [],
   "source": [
    "import os\n",
    "#import skimage\n",
    "import torch\n",
    "from torchvision import transforms\n",
    "import numpy as np\n",
    "import glob\n",
    "from skimage import io\n",
    "import skimage\n",
    "import matplotlib.pyplot as plt\n",
    "from Custom_dataloader import *\n",
    "from Transforms import phantom_segmentation\n",
    "from Transforms import entropy_mark_transform\n",
    "from Transforms import hsv_stats_transfrom\n",
    "from Transforms import lab_stats_transfrom\n",
    "from Transforms import black_perc_transfrom\n",
    "from Transforms import ndvi_desc\n",
    "from Transforms import multi_image_resize\n",
    "import matplotlib.pyplot as plt\n",
    "\n",
    "#DB=\"/run/user/1000/gvfs/afp-volume:host=MyCloudPR4100.local,user=admin,volume=Paltas_DataBase/Data_Base\"\n",
    "DB=\"/run/user/1000/gvfs/afp-volume:host=MyCloudPR4100.local,user=paltas,volume=Paltas_DataBase/Data_Base_v2\"\n",
    "d_t=transforms.Compose([\n",
    "                        ndvi_desc()\n",
    "                       ])\n"
   ]
  },
  {
   "cell_type": "code",
   "execution_count": 8,
   "id": "3df47573-7db4-4029-b40e-a63cc4662881",
   "metadata": {},
   "outputs": [],
   "source": [
    "#d_t=transforms.Compose([sentera_segmentation(False)])\n",
    "tdatab=Dataset_direct(root_dir=DB,ImType=['SenteraRGB','SenteraNIR','SenteraMASK'],Trees_fil='*',Intersec=False,transform=d_t)\n",
    "#datab=Dataset_direct(root_dir=DB,ImType=['SenteraRGB','SenteraNIR','SenteraMASK'],Trees_fil='*',Intersec=False)"
   ]
  },
  {
   "cell_type": "code",
   "execution_count": 9,
   "id": "39b13cb9-7728-47e0-a1a3-098501120d28",
   "metadata": {},
   "outputs": [
    {
     "data": {
      "text/plain": [
       "{'SenteraNDVI': array([[0., 0., 0., ..., 0., 0., 0.],\n",
       "        [0., 0., 0., ..., 0., 0., 0.],\n",
       "        [0., 0., 0., ..., 0., 0., 0.],\n",
       "        ...,\n",
       "        [0., 0., 0., ..., 0., 0., 0.],\n",
       "        [0., 0., 0., ..., 0., 0., 0.],\n",
       "        [0., 0., 0., ..., 0., 0., 0.]]),\n",
       " 'landmarks': 'N_Control'}"
      ]
     },
     "execution_count": 9,
     "metadata": {},
     "output_type": "execute_result"
    }
   ],
   "source": [
    "tdatab[0]"
   ]
  },
  {
   "cell_type": "code",
   "execution_count": null,
   "id": "1adc6ad0-779d-4113-8460-06da28add90c",
   "metadata": {},
   "outputs": [],
   "source": []
  }
 ],
 "metadata": {
  "kernelspec": {
   "display_name": "Python 3",
   "language": "python",
   "name": "python3"
  },
  "language_info": {
   "codemirror_mode": {
    "name": "ipython",
    "version": 3
   },
   "file_extension": ".py",
   "mimetype": "text/x-python",
   "name": "python",
   "nbconvert_exporter": "python",
   "pygments_lexer": "ipython3",
   "version": "3.6.9"
  }
 },
 "nbformat": 4,
 "nbformat_minor": 5
}
