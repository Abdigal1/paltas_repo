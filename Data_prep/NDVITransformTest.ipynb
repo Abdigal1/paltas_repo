{
 "cells": [
  {
   "cell_type": "code",
   "execution_count": 1,
   "id": "243124ae-1a74-4883-b4ab-f08ea4f591c8",
   "metadata": {},
   "outputs": [],
   "source": [
    "import os\n",
    "#import skimage\n",
    "import torch\n",
    "from torchvision import transforms\n",
    "import numpy as np\n",
    "import glob\n",
    "from skimage import io\n",
    "import skimage\n",
    "import matplotlib.pyplot as plt\n",
    "from Custom_dataloader import *\n",
    "from Transforms import phantom_segmentation\n",
    "from Transforms import entropy_mark_transform\n",
    "from Transforms import hsv_stats_transfrom\n",
    "from Transforms import lab_stats_transfrom\n",
    "from Transforms import black_perc_transfrom\n",
    "from Transforms import ndvi_desc\n",
    "from Transforms import *\n",
    "import matplotlib.pyplot as plt\n",
    "\n",
    "#DB=\"/run/user/1000/gvfs/afp-volume:host=MyCloudPR4100.local,user=admin,volume=Paltas_DataBase/Data_Base\"\n",
    "#DB=\"/run/user/1000/gvfs/afp-volume:host=MyCloudPR4100.local,user=paltas,volume=Paltas_DataBase/Data_Base_v2\"\n",
    "DB=\"/home/lambda/paltas/Local_data_base/Data_Base_v2\"\n",
    "d_t=transforms.Compose([\n",
    "                        trans_registration(),\n",
    "        multi_image_resize(ImType=['SenteraRGB','SenteraNIR'],size=(512,512)),\n",
    "                       ])\n"
   ]
  },
  {
   "cell_type": "code",
   "execution_count": 2,
   "id": "3df47573-7db4-4029-b40e-a63cc4662881",
   "metadata": {},
   "outputs": [],
   "source": [
    "#d_t=transforms.Compose([sentera_segmentation(False)])\n",
    "tdatab=Dataset_direct(root_dir=DB,ImType=['SenteraRGB','SenteraNIR','SenteraMASK'],Trees_fil='*',Intersec=False,transform=d_t)\n",
    "#datab=Dataset_direct(root_dir=DB,ImType=['SenteraRGB','SenteraNIR','SenteraMASK'],Trees_fil='*',Intersec=False)"
   ]
  },
  {
   "cell_type": "code",
   "execution_count": 3,
   "id": "39b13cb9-7728-47e0-a1a3-098501120d28",
   "metadata": {},
   "outputs": [],
   "source": [
    "rgb=tdatab[40]['SenteraRGB']\n",
    "nir=tdatab[40]['SenteraNIR']"
   ]
  },
  {
   "cell_type": "code",
   "execution_count": 4,
   "id": "d9106cae",
   "metadata": {},
   "outputs": [
    {
     "name": "stdout",
     "output_type": "stream",
     "text": [
      "0.2588554991644555\n",
      "0.0028528060593443704\n"
     ]
    }
   ],
   "source": [
    "print(np.max(rgb))\n",
    "print(np.min(rgb))"
   ]
  },
  {
   "cell_type": "code",
   "execution_count": 5,
   "id": "e87851f5",
   "metadata": {},
   "outputs": [
    {
     "name": "stdout",
     "output_type": "stream",
     "text": [
      "0.44085768508969375\n",
      "0.0\n"
     ]
    }
   ],
   "source": [
    "print(np.max(nir))\n",
    "print(np.min(nir))"
   ]
  },
  {
   "cell_type": "code",
   "execution_count": 6,
   "id": "1adc6ad0-779d-4113-8460-06da28add90c",
   "metadata": {},
   "outputs": [
    {
     "ename": "KeyError",
     "evalue": "'SenteraNDVI'",
     "output_type": "error",
     "traceback": [
      "\u001b[0;31m---------------------------------------------------------------------------\u001b[0m",
      "\u001b[0;31mKeyError\u001b[0m                                  Traceback (most recent call last)",
      "\u001b[0;32m<ipython-input-6-8cdaaa7797d2>\u001b[0m in \u001b[0;36m<module>\u001b[0;34m\u001b[0m\n\u001b[0;32m----> 1\u001b[0;31m \u001b[0mplt\u001b[0m\u001b[0;34m.\u001b[0m\u001b[0mimshow\u001b[0m\u001b[0;34m(\u001b[0m\u001b[0mtdatab\u001b[0m\u001b[0;34m[\u001b[0m\u001b[0;36m0\u001b[0m\u001b[0;34m]\u001b[0m\u001b[0;34m[\u001b[0m\u001b[0;34m'SenteraNDVI'\u001b[0m\u001b[0;34m]\u001b[0m\u001b[0;34m)\u001b[0m\u001b[0;34m\u001b[0m\u001b[0;34m\u001b[0m\u001b[0m\n\u001b[0m",
      "\u001b[0;31mKeyError\u001b[0m: 'SenteraNDVI'"
     ]
    }
   ],
   "source": [
    "plt.imshow(tdatab[0]['SenteraNDVI'])"
   ]
  },
  {
   "cell_type": "code",
   "execution_count": 5,
   "id": "7f2a87bf-16a8-48ed-b205-0d85d5b04bb2",
   "metadata": {},
   "outputs": [
    {
     "data": {
      "text/plain": [
       "0.3654907719311833"
      ]
     },
     "execution_count": 5,
     "metadata": {},
     "output_type": "execute_result"
    }
   ],
   "source": [
    "tdatab[0]['SenteraNDVI'].min()"
   ]
  },
  {
   "cell_type": "code",
   "execution_count": 6,
   "id": "d783b2fc-d1a6-4255-a6fc-91c6cd0a6686",
   "metadata": {},
   "outputs": [
    {
     "data": {
      "text/plain": [
       "0.9977422855929772"
      ]
     },
     "execution_count": 6,
     "metadata": {},
     "output_type": "execute_result"
    }
   ],
   "source": [
    "tdatab[0]['SenteraNDVI'].max()"
   ]
  },
  {
   "cell_type": "code",
   "execution_count": 8,
   "id": "aeceec16-fca3-4944-9783-76e8d15c05a4",
   "metadata": {},
   "outputs": [],
   "source": [
    "import matplotlib.pyplot as plt\n",
    "im = tdatab[0]['SenteraNDVI']"
   ]
  },
  {
   "cell_type": "code",
   "execution_count": 10,
   "id": "11c23965-c610-474c-a8ad-a6f780765990",
   "metadata": {},
   "outputs": [
    {
     "data": {
      "image/png": "[encoded data removed]",
      "text/plain": [
       "<Figure size 432x288 with 1 Axes>"
      ]
     },
     "metadata": {
      "needs_background": "light"
     },
     "output_type": "display_data"
    }
   ],
   "source": [
    "b, bins, patches = plt.hist(im, 255)\n",
    "plt.xlim([0,1])\n",
    "plt.show()"
   ]
  },
  {
   "cell_type": "code",
   "execution_count": null,
   "id": "51c0030b-4029-4119-88ff-959c80d86935",
   "metadata": {},
   "outputs": [],
   "source": []
  }
 ],
 "metadata": {
  "kernelspec": {
   "display_name": "Python 3",
   "language": "python",
   "name": "python3"
  },
  "language_info": {
   "codemirror_mode": {
    "name": "ipython",
    "version": 3
   },
   "file_extension": ".py",
   "mimetype": "text/x-python",
   "name": "python",
   "nbconvert_exporter": "python",
   "pygments_lexer": "ipython3",
   "version": "3.6.9"
  }
 },
 "nbformat": 4,
 "nbformat_minor": 5
}
