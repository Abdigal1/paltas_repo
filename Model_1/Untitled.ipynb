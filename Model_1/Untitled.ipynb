{
 "cells": [
  {
   "cell_type": "code",
   "execution_count": 3,
   "metadata": {},
   "outputs": [
    {
     "data": {
      "text/plain": [
       "<torch.autograd.grad_mode.no_grad at 0x1be0145da60>"
      ]
     },
     "execution_count": 3,
     "metadata": {},
     "output_type": "execute_result"
    }
   ],
   "source": [
    "import torch\n",
    "from torch import nn\n",
    "import numpy as np\n",
    "torch.cuda.empty_cache()\n",
    "#device = torch.device('cuda' if torch.cuda.is_available() else 'cpu')\n",
    "device='cpu'\n",
    "\n",
    "import gc\n",
    "#del y,prt\n",
    "gc.collect()\n",
    "\n",
    "torch.no_grad()"
   ]
  },
  {
   "cell_type": "code",
   "execution_count": 54,
   "metadata": {},
   "outputs": [],
   "source": [
    "class s_view(nn.Module):\n",
    "    def forward(self,x):\n",
    "        if len(x.shape)==4:\n",
    "            self.i_shape=x.shape\n",
    "            out=x.view(x.shape[0],-1)\n",
    "        elif len(x.shape)==2:\n",
    "            out=x.view(self.i_shape)\n",
    "        return out\n",
    "\n",
    "class s_conv(nn.Module):\n",
    "    def __init__(self,repr_size_in,repr_size_out):\n",
    "        super(s_conv, self).__init__()\n",
    "        self.Conv=nn.Conv2d(repr_size_in,repr_size_out,kernel_size=3,stride=2,padding=1)\n",
    "        self.act=nn.ReLU()\n",
    "    def forward(self,x):\n",
    "        return self.act(self.Conv(x))\n",
    "    \n",
    "class s_deconv(nn.Module):\n",
    "    def __init__(self,repr_size_in,repr_size_out):\n",
    "        super(s_deconv, self).__init__()\n",
    "        self.Conv=nn.ConvTranspose2d(repr_size_in,repr_size_out,kernel_size=2,stride=2)\n",
    "        self.act=nn.ReLU()\n",
    "    def forward(self,x):\n",
    "        return self.act(self.Conv(x))"
   ]
  },
  {
   "cell_type": "code",
   "execution_count": 55,
   "metadata": {},
   "outputs": [],
   "source": [
    "class b_encoder_conv(nn.Module):\n",
    "    def __init__(self,image_channels=3,repr_sizes=[32,64,128,256]):\n",
    "        super(b_encoder_conv, self).__init__()\n",
    "        self.repr_sizes=[3]+repr_sizes\n",
    "        \n",
    "        self.im_layers=nn.ModuleList(\n",
    "            [\n",
    "                s_conv(repr_in,repr_out)\n",
    "                for repr_in,repr_out in zip(\n",
    "                    self.repr_sizes[:-1],\n",
    "                    self.repr_sizes[1:]\n",
    "                )\n",
    "            ]\n",
    "        )\n",
    "    def forward(self,x):\n",
    "        for l in self.im_layers:\n",
    "            x=l(x)\n",
    "        return x\n",
    "    \n",
    "class b_decoder_conv(nn.Module):\n",
    "    def __init__(self,image_channels=3,repr_sizes=[32,64,128,256]):\n",
    "        super(b_decoder_conv,self).__init__()\n",
    "        self.repr_sizes=[3]+repr_sizes\n",
    "        self.repr_sizes.reverse()\n",
    "        \n",
    "        self.im_layers=nn.ModuleList(\n",
    "            [\n",
    "                s_deconv(repr_in,repr_out)\n",
    "                for repr_in,repr_out in zip(\n",
    "                    self.repr_sizes[:-1],\n",
    "                    self.repr_sizes[1:]\n",
    "                )\n",
    "            ]\n",
    "        )\n",
    "    def forward(self,x):\n",
    "        for l in self.im_layers:\n",
    "            x=l(x)\n",
    "        return x\n",
    "    \n",
    "class NeuralNet(nn.Module):\n",
    "    def __init__(self,input_size,output_size,layer_sizes=[300,150,50]):\n",
    "        super(NeuralNet,self).__init__()\n",
    "        self.layer_sizes=[input_size]+layer_sizes+[output_size]\n",
    "        self.layers=nn.ModuleList(\n",
    "            [\n",
    "                nn.Sequential(nn.Linear(in_size,out_size),nn.ReLU())\n",
    "                for in_size,out_size in zip(\n",
    "                    self.layer_sizes[:-1],\n",
    "                    self.layer_sizes[1:],\n",
    "                )\n",
    "            ]\n",
    "        )\n",
    "    def forward(self,x):\n",
    "        for l in self.layers:\n",
    "            x=l(x)\n",
    "        return x"
   ]
  },
  {
   "cell_type": "code",
   "execution_count": 16,
   "metadata": {},
   "outputs": [],
   "source": [
    "NNet=NeuralNet(500,20)"
   ]
  },
  {
   "cell_type": "code",
   "execution_count": 17,
   "metadata": {},
   "outputs": [
    {
     "data": {
      "text/plain": [
       "NeuralNet(\n",
       "  (layers): ModuleList(\n",
       "    (0): Sequential(\n",
       "      (0): Linear(in_features=500, out_features=300, bias=True)\n",
       "      (1): ReLU()\n",
       "    )\n",
       "    (1): Sequential(\n",
       "      (0): Linear(in_features=300, out_features=150, bias=True)\n",
       "      (1): ReLU()\n",
       "    )\n",
       "    (2): Sequential(\n",
       "      (0): Linear(in_features=150, out_features=50, bias=True)\n",
       "      (1): ReLU()\n",
       "    )\n",
       "    (3): Sequential(\n",
       "      (0): Linear(in_features=50, out_features=20, bias=True)\n",
       "      (1): ReLU()\n",
       "    )\n",
       "  )\n",
       ")"
      ]
     },
     "execution_count": 17,
     "metadata": {},
     "output_type": "execute_result"
    }
   ],
   "source": [
    "NNet"
   ]
  },
  {
   "cell_type": "code",
   "execution_count": 65,
   "metadata": {},
   "outputs": [],
   "source": [
    "class b_encodeco(nn.Module):\n",
    "    def __init__(self,\n",
    "                 image_dim=4096,\n",
    "                 image_channels=3,\n",
    "                 repr_sizes=[32,64,128,256],\n",
    "                 layer_sizes=[300,150,50],\n",
    "                 latent_space_size=20\n",
    "                ):\n",
    "        super(b_encodeco,self).__init__()\n",
    "        self.layer_sizes=layer_sizes\n",
    "        self.NN_input=int(image_dim/(2**(len(repr_sizes))))\n",
    "        self.latent_space_size=latent_space_size\n",
    "        \n",
    "        self.encoder_conv=b_encoder_conv(image_channels=image_channels,repr_sizes=repr_sizes)\n",
    "        \n",
    "        self.encoder_NN=NeuralNet(self.NN_input,self.latent_space_size,layer_sizes=self.layer_sizes)\n",
    "        \n",
    "        self.flatten=s_view()\n",
    "        \n",
    "        self.decoder_NN=NeuralNet(self.latent_space_size,self.NN_input,layer_sizes=self.layer_sizes[::-1])\n",
    "        \n",
    "        self.decoder_conv=b_decoder_conv(image_channels=image_channels,repr_sizes=repr_sizes)\n",
    "        \n",
    "    \n",
    "    def forward(self,x):\n",
    "        x=self.encoder_conv(x)\n",
    "        print(x.shape)\n",
    "        x=self.flatten(x)\n",
    "        print(x.shape)\n",
    "        #FCNN\n",
    "        \n",
    "        x=self.flatten(x)\n",
    "        x=self.decoder_conv(x)\n",
    "        \n",
    "        return x"
   ]
  },
  {
   "cell_type": "code",
   "execution_count": 66,
   "metadata": {},
   "outputs": [],
   "source": [
    "enc=b_encoder_conv().to(device)\n",
    "ed=b_encodeco().to(device)\n",
    "de=b_decoder_conv().to(device)"
   ]
  },
  {
   "cell_type": "code",
   "execution_count": 52,
   "metadata": {},
   "outputs": [],
   "source": [
    "pr=np.random.randint(0,10,(2,3,4096,4096))\n",
    "prt=torch.Tensor(pr)"
   ]
  },
  {
   "cell_type": "code",
   "execution_count": 64,
   "metadata": {},
   "outputs": [],
   "source": [
    "y=enc(prt.to(device))"
   ]
  },
  {
   "cell_type": "code",
   "execution_count": 67,
   "metadata": {},
   "outputs": [
    {
     "name": "stdout",
     "output_type": "stream",
     "text": [
      "torch.Size([2, 256, 256, 256])\n",
      "torch.Size([2, 16777216])\n"
     ]
    }
   ],
   "source": [
    "y=ed(prt.to(device))"
   ]
  },
  {
   "cell_type": "code",
   "execution_count": 33,
   "metadata": {},
   "outputs": [
    {
     "data": {
      "text/plain": [
       "torch.Size([2, 256, 256, 256])"
      ]
     },
     "execution_count": 33,
     "metadata": {},
     "output_type": "execute_result"
    }
   ],
   "source": [
    "y.shape"
   ]
  },
  {
   "cell_type": "code",
   "execution_count": 34,
   "metadata": {},
   "outputs": [
    {
     "name": "stdout",
     "output_type": "stream",
     "text": [
      "torch.Size([2, 128, 512, 512])\n",
      "torch.Size([2, 64, 1024, 1024])\n",
      "torch.Size([2, 32, 2048, 2048])\n",
      "torch.Size([2, 3, 4096, 4096])\n"
     ]
    }
   ],
   "source": [
    "y=de(y)"
   ]
  },
  {
   "cell_type": "code",
   "execution_count": 8,
   "metadata": {},
   "outputs": [
    {
     "data": {
      "text/plain": [
       "b_encodeco(\n",
       "  (encoder): b_encoder(\n",
       "    (im_layers): ModuleList(\n",
       "      (0): s_conv(\n",
       "        (Conv): Conv2d(3, 32, kernel_size=(3, 3), stride=(2, 2), padding=(1, 1))\n",
       "        (act): ReLU()\n",
       "      )\n",
       "      (1): s_conv(\n",
       "        (Conv): Conv2d(32, 64, kernel_size=(3, 3), stride=(2, 2), padding=(1, 1))\n",
       "        (act): ReLU()\n",
       "      )\n",
       "      (2): s_conv(\n",
       "        (Conv): Conv2d(64, 128, kernel_size=(3, 3), stride=(2, 2), padding=(1, 1))\n",
       "        (act): ReLU()\n",
       "      )\n",
       "      (3): s_conv(\n",
       "        (Conv): Conv2d(128, 256, kernel_size=(3, 3), stride=(2, 2), padding=(1, 1))\n",
       "        (act): ReLU()\n",
       "      )\n",
       "    )\n",
       "  )\n",
       "  (flatten): s_view()\n",
       "  (decoder): b_decoder(\n",
       "    (im_layers): ModuleList(\n",
       "      (0): s_deconv(\n",
       "        (Conv): ConvTranspose2d(256, 128, kernel_size=(2, 2), stride=(2, 2))\n",
       "        (act): ReLU()\n",
       "      )\n",
       "      (1): s_deconv(\n",
       "        (Conv): ConvTranspose2d(128, 64, kernel_size=(2, 2), stride=(2, 2))\n",
       "        (act): ReLU()\n",
       "      )\n",
       "      (2): s_deconv(\n",
       "        (Conv): ConvTranspose2d(64, 32, kernel_size=(2, 2), stride=(2, 2))\n",
       "        (act): ReLU()\n",
       "      )\n",
       "      (3): s_deconv(\n",
       "        (Conv): ConvTranspose2d(32, 3, kernel_size=(2, 2), stride=(2, 2))\n",
       "        (act): ReLU()\n",
       "      )\n",
       "    )\n",
       "  )\n",
       ")"
      ]
     },
     "execution_count": 8,
     "metadata": {},
     "output_type": "execute_result"
    }
   ],
   "source": [
    "ed"
   ]
  },
  {
   "cell_type": "code",
   "execution_count": 68,
   "metadata": {},
   "outputs": [
    {
     "data": {
      "text/plain": [
       "16777216"
      ]
     },
     "execution_count": 68,
     "metadata": {},
     "output_type": "execute_result"
    }
   ],
   "source": [
    "256**3"
   ]
  }
 ],
 "metadata": {
  "kernelspec": {
   "display_name": "paltas",
   "language": "python",
   "name": "paltas"
  },
  "language_info": {
   "codemirror_mode": {
    "name": "ipython",
    "version": 3
   },
   "file_extension": ".py",
   "mimetype": "text/x-python",
   "name": "python",
   "nbconvert_exporter": "python",
   "pygments_lexer": "ipython3",
   "version": "3.9.7"
  }
 },
 "nbformat": 4,
 "nbformat_minor": 4
}
