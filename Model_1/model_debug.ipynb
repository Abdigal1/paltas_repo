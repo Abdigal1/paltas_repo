{
 "cells": [
  {
   "cell_type": "code",
   "execution_count": 6,
   "metadata": {},
   "outputs": [],
   "source": [
    "from B_VAE.VAE_v2 import b_encodeco\n",
    "from Train_utils import train_utils\n",
    "from B_VAE.Utils_imp_VAE import loss_fn\n",
    "from Train_utils.train_utils import train,test,K_fold_train\n",
    "\n",
    "import torch\n",
    "\n",
    "device='cpu'\n",
    "\n",
    "import sys\n",
    "import os\n",
    "sys.path.append(os.path.join(\"..\",\"Data_prep\"))\n",
    "from torchvision import transforms\n",
    "from Custom_dataloader import *\n",
    "from Transforms import phantom_segmentation\n",
    "from Transforms import multi_image_resize\n",
    "from Transforms import multi_ToTensor\n",
    "from Transforms import output_transform\n",
    "from Transforms import rgb_normalize\n",
    "\n",
    "import matplotlib.pyplot as plt\n",
    "import torch\n",
    "\n",
    "DB=\"/run/user/1000/gvfs/afp-volume:host=MyCloudPR4100.local,user=aorus_1,volume=Paltas_DataBase/Data_Base_v2\"\n",
    "#DB=\"//MYCLOUDPR4100/Paltas_DataBase/Data_Base_v2\"\n",
    "d_tt=transforms.Compose([\n",
    "    phantom_segmentation(False),\n",
    "    rgb_normalize(ImType=['PhantomRGB']),\n",
    "    multi_image_resize(ImType=['PhantomRGB'],size=(100,100)),\n",
    "    multi_ToTensor(ImType=['PhantomRGB']),\n",
    "    output_transform()\n",
    "    ])\n",
    "#datar=Dataset_direct(root_dir=DB,ImType=['PhantomRGB','SenteraRGB'],Intersec=False)\n",
    "#datab=Dataset_direct(root_dir=DB,ImType=['PhantomRGB'],Intersec=False,transform=d_tt)\n"
   ]
  },
  {
   "cell_type": "code",
   "execution_count": 7,
   "metadata": {},
   "outputs": [],
   "source": [
    "datab=Dataset_direct(root_dir=DB,ImType=['PhantomRGB'],Intersec=False,transform=d_tt)\n",
    "\n",
    "train_s=int((len(datab))*0.7)\n",
    "test_s=int(len(datab)-train_s)\n",
    "train_set, test_set = torch.utils.data.random_split(datab, [train_s, test_s])\n",
    "\n",
    "dataloader_train=torch.utils.data.DataLoader(train_set,batch_size=2,shuffle=True)\n",
    "dataloader_test=torch.utils.data.DataLoader(test_set,batch_size=2,shuffle=True)"
   ]
  },
  {
   "cell_type": "code",
   "execution_count": 4,
   "metadata": {},
   "outputs": [
    {
     "name": "stdout",
     "output_type": "stream",
     "text": [
      "[5 7]\n",
      "(246, 246)\n",
      "(236, 236)\n",
      "(226, 226)\n",
      "(216, 216)\n",
      "[5 7]\n",
      "(216, 216)\n",
      "[5 7]\n",
      "(246, 246)\n",
      "(236, 236)\n",
      "(226, 226)\n",
      "(216, 216)\n",
      "[5 7]\n",
      "(216, 216)\n",
      "0\n",
      "0\n",
      "padding\n",
      "0\n",
      "padding\n",
      "0\n"
     ]
    },
    {
     "data": {
      "text/plain": [
       "b_encodeco(\n",
       "  (encoder_conv): b_encoder_conv(\n",
       "    (im_layers): ModuleList(\n",
       "      (0): set_conv(\n",
       "        (comp_layer): ModuleList(\n",
       "          (0): Conv2d(3, 3, kernel_size=(11, 11), stride=(1, 1))\n",
       "          (1): ReLU()\n",
       "          (2): MaxPool2d(kernel_size=11, stride=1, padding=0, dilation=1, ceil_mode=False)\n",
       "          (3): BatchNorm2d(3, eps=1e-05, momentum=0.1, affine=True, track_running_stats=True)\n",
       "        )\n",
       "      )\n",
       "      (1): set_conv(\n",
       "        (comp_layer): ModuleList(\n",
       "          (0): Conv2d(3, 5, kernel_size=(11, 11), stride=(1, 1))\n",
       "          (1): ReLU()\n",
       "          (2): MaxPool2d(kernel_size=11, stride=1, padding=0, dilation=1, ceil_mode=False)\n",
       "        )\n",
       "      )\n",
       "    )\n",
       "  )\n",
       "  (encoder_NN_mu): NeuralNet(\n",
       "    (layers): ModuleList(\n",
       "      (0): Sequential(\n",
       "        (0): NN_layer(\n",
       "          (layer): ModuleList(\n",
       "            (0): Linear(in_features=233280, out_features=100, bias=True)\n",
       "            (1): BatchNorm1d(100, eps=1e-05, momentum=0.1, affine=True, track_running_stats=True)\n",
       "            (2): ReLU()\n",
       "          )\n",
       "        )\n",
       "      )\n",
       "      (1): Sequential(\n",
       "        (0): NN_layer(\n",
       "          (layer): ModuleList(\n",
       "            (0): Linear(in_features=100, out_features=50, bias=True)\n",
       "            (1): ReLU()\n",
       "          )\n",
       "        )\n",
       "      )\n",
       "    )\n",
       "  )\n",
       "  (encoder_NN_sig): NeuralNet(\n",
       "    (layers): ModuleList(\n",
       "      (0): Sequential(\n",
       "        (0): NN_layer(\n",
       "          (layer): ModuleList(\n",
       "            (0): Linear(in_features=233280, out_features=100, bias=True)\n",
       "            (1): BatchNorm1d(100, eps=1e-05, momentum=0.1, affine=True, track_running_stats=True)\n",
       "            (2): ReLU()\n",
       "          )\n",
       "        )\n",
       "      )\n",
       "      (1): Sequential(\n",
       "        (0): NN_layer(\n",
       "          (layer): ModuleList(\n",
       "            (0): Linear(in_features=100, out_features=50, bias=True)\n",
       "            (1): ReLU()\n",
       "          )\n",
       "        )\n",
       "      )\n",
       "    )\n",
       "  )\n",
       "  (flatten): s_view()\n",
       "  (decoder_NN): NeuralNet(\n",
       "    (layers): ModuleList(\n",
       "      (0): Sequential(\n",
       "        (0): NN_layer(\n",
       "          (layer): ModuleList(\n",
       "            (0): Linear(in_features=20, out_features=50, bias=True)\n",
       "            (1): BatchNorm1d(50, eps=1e-05, momentum=0.1, affine=True, track_running_stats=True)\n",
       "            (2): ReLU()\n",
       "          )\n",
       "        )\n",
       "      )\n",
       "      (1): Sequential(\n",
       "        (0): NN_layer(\n",
       "          (layer): ModuleList(\n",
       "            (0): Linear(in_features=50, out_features=100, bias=True)\n",
       "            (1): ReLU()\n",
       "          )\n",
       "        )\n",
       "      )\n",
       "    )\n",
       "  )\n",
       "  (decoder_conv): b_decoder_conv(\n",
       "    (im_layers): ModuleList(\n",
       "      (0): set_deconv(\n",
       "        (comp_layer): ModuleList(\n",
       "          (0): ConvTranspose2d(5, 3, kernel_size=(11, 11), stride=(1, 1))\n",
       "          (1): ReLU()\n",
       "          (2): MaxUnpool2d(kernel_size=(11, 11), stride=(1, 1), padding=(0, 0))\n",
       "          (3): BatchNorm2d(3, eps=1e-05, momentum=0.1, affine=True, track_running_stats=True)\n",
       "        )\n",
       "      )\n",
       "      (1): set_deconv(\n",
       "        (comp_layer): ModuleList(\n",
       "          (0): ConvTranspose2d(3, 3, kernel_size=(11, 11), stride=(1, 1))\n",
       "          (1): ReLU()\n",
       "          (2): MaxUnpool2d(kernel_size=(11, 11), stride=(1, 1), padding=(0, 0))\n",
       "        )\n",
       "      )\n",
       "    )\n",
       "  )\n",
       "  (lact): Sigmoid()\n",
       ")"
      ]
     },
     "execution_count": 4,
     "metadata": {},
     "output_type": "execute_result"
    }
   ],
   "source": [
    "model=b_encodeco(image_dim=int(256),\n",
    "                 image_channels=3,\n",
    "                 repr_sizes=[3,5],\n",
    "                 layer_sizes=[100,50],\n",
    "                 latent_space_size=20,\n",
    "                 conv_kernel_size=11,\n",
    "                 conv_pooling=[True,True],\n",
    "                 conv_batch_norm=[True,False],\n",
    "                 NN_batch_norm=[True,False],\n",
    "                 stride=2,\n",
    "                 device=\"cpu\")\n",
    "model.to(device)\n",
    "\n"
   ]
  },
  {
   "cell_type": "code",
   "execution_count": 8,
   "metadata": {},
   "outputs": [],
   "source": [
    " inputs = next(iter(dataloader_train))"
   ]
  },
  {
   "cell_type": "code",
   "execution_count": 11,
   "metadata": {},
   "outputs": [
    {
     "data": {
      "text/plain": [
       "array([ 0,  0,  0, ..., 86, 86, 89])"
      ]
     },
     "execution_count": 11,
     "metadata": {},
     "output_type": "execute_result"
    }
   ],
   "source": []
  },
  {
   "cell_type": "code",
   "execution_count": 5,
   "metadata": {},
   "outputs": [
    {
     "name": "stdout",
     "output_type": "stream",
     "text": [
      "torch.Size([2, 3, 2048, 2048])\n",
      "torch.Size([2, 3, 2038, 2038])\n",
      "torch.Size([2, 3, 2038, 2038])\n",
      "torch.Size([2, 3, 2038, 2038])\n",
      "torch.Size([2, 5, 2028, 2028])\n",
      "torch.Size([2, 5, 2028, 2028])\n",
      "torch.Size([2, 5, 2028, 2028])\n",
      "torch.Size([2, 5, 2028, 2028])\n",
      "torch.Size([2, 3, 2038, 2038])\n",
      "torch.Size([2, 3, 2038, 2038])\n",
      "torch.Size([2, 3, 2038, 2038])\n",
      "torch.Size([2, 3, 2048, 2048])\n",
      "torch.Size([2, 3, 2048, 2048])\n"
     ]
    }
   ],
   "source": [
    "a=model(inputs[\"PhantomRGB\"])"
   ]
  },
  {
   "cell_type": "code",
   "execution_count": 10,
   "metadata": {},
   "outputs": [
    {
     "data": {
      "text/plain": [
       "torch.Size([2, 3, 2048, 2048])"
      ]
     },
     "execution_count": 10,
     "metadata": {},
     "output_type": "execute_result"
    }
   ],
   "source": [
    "a[0].shape"
   ]
  },
  {
   "cell_type": "code",
   "execution_count": 4,
   "metadata": {},
   "outputs": [],
   "source": [
    "from skimage.transform import resize\n",
    "img=datab[10][\"PhantomRGB\"]"
   ]
  },
  {
   "cell_type": "code",
   "execution_count": 47,
   "metadata": {},
   "outputs": [],
   "source": [
    "imgr=resize(img/255,(1024,1024))"
   ]
  },
  {
   "cell_type": "code",
   "execution_count": 5,
   "metadata": {},
   "outputs": [
    {
     "data": {
      "text/plain": [
       "<matplotlib.image.AxesImage at 0x7f28f440acf8>"
      ]
     },
     "execution_count": 5,
     "metadata": {},
     "output_type": "execute_result"
    },
    {
     "data": {
      "image/png": "[encoded data removed]",
      "text/plain": [
       "<Figure size 432x288 with 1 Axes>"
      ]
     },
     "metadata": {
      "needs_background": "light"
     },
     "output_type": "display_data"
    }
   ],
   "source": [
    "#ttt=multi_image_resize(ImType=['PhantomRGB'],size=(2048,2048))\n",
    "#pr=ttt(datab[10])\n",
    "plt.imshow(datab[10][\"PhantomRGB\"])"
   ]
  },
  {
   "cell_type": "code",
   "execution_count": 42,
   "metadata": {},
   "outputs": [
    {
     "data": {
      "text/plain": [
       "(3168, 3757, 3)"
      ]
     },
     "execution_count": 42,
     "metadata": {},
     "output_type": "execute_result"
    }
   ],
   "source": [
    "img.shape"
   ]
  },
  {
   "cell_type": "code",
   "execution_count": 5,
   "metadata": {},
   "outputs": [],
   "source": [
    "import pathlib\n",
    "from Train_utils.train_utils import train,test,train_test,K_fold_train"
   ]
  },
  {
   "cell_type": "code",
   "execution_count": null,
   "metadata": {},
   "outputs": [
    {
     "name": "stderr",
     "output_type": "stream",
     "text": [
      "\r",
      "instances: 0it [00:00, ?it/s]"
     ]
    },
    {
     "name": "stdout",
     "output_type": "stream",
     "text": [
      "iniciio\n",
      "model result\n",
      "model loss\n",
      "zero grad\n"
     ]
    },
    {
     "name": "stderr",
     "output_type": "stream",
     "text": [
      "/home/lambda/paltas/lib/python3.6/site-packages/torch/nn/_reduction.py:42: UserWarning: size_average and reduce args will be deprecated, please use reduction='sum' instead.\n",
      "  warnings.warn(warning.format(ret))\n"
     ]
    },
    {
     "name": "stdout",
     "output_type": "stream",
     "text": [
      "loss back\n"
     ]
    },
    {
     "name": "stderr",
     "output_type": "stream",
     "text": [
      "instances: 1it [01:08, 68.93s/it]"
     ]
    },
    {
     "name": "stdout",
     "output_type": "stream",
     "text": [
      "step\n",
      "total loss 10876896.0000\t BCE 10876896.0000\t KLD 0.0002\n"
     ]
    }
   ],
   "source": [
    "opt=torch.optim.Adam(model.parameters(),lr=1e-3)\n",
    "train(model=model,\n",
    "      optimizer=opt,\n",
    "     dataloader=dataloader_test,\n",
    "     use_cuda=False,\n",
    "     loss_function=loss_fn)"
   ]
  },
  {
   "cell_type": "code",
   "execution_count": null,
   "metadata": {},
   "outputs": [],
   "source": [
    "opt=torch.optim.Adam(model.parameters(),lr=1e-3)\n",
    "test(model=model,\n",
    "     dataloader=dataloader_test,\n",
    "     use_cuda=False,\n",
    "     loss_function=loss_fn)"
   ]
  },
  {
   "cell_type": "code",
   "execution_count": null,
   "metadata": {},
   "outputs": [],
   "source": [
    "opt=torch.optim.Adam(model.parameters(),lr=1e-3)\n",
    "\n",
    "train_test(model=model,\n",
    "           optimizer=opt,\n",
    "           dataloader_train=dataloader_train,\n",
    "           dataloader_test=dataloader_test,\n",
    "           use_cuda=False,\n",
    "           loss_function=loss_fn,\n",
    "           epochs=2,\n",
    "           data_train_dir=str(pathlib.Path().absolute()))"
   ]
  },
  {
   "cell_type": "code",
   "execution_count": null,
   "metadata": {},
   "outputs": [],
   "source": [
    "str(pathlib.Path().absolute())\n",
    "\n",
    "K_fold_train(model=model,\n",
    "                dataset=datab,\n",
    "                epochs=100,\n",
    "                batch_size=200,\n",
    "                use_cuda=False,\n",
    "                folds=5,\n",
    "                data_train_dir=str(pathlib.Path().absolute()),\n",
    "                loss_fn=loss_fn\n",
    "     )"
   ]
  }
 ],
 "metadata": {
  "kernelspec": {
   "display_name": "Python 3",
   "language": "python",
   "name": "python3"
  },
  "language_info": {
   "codemirror_mode": {
    "name": "ipython",
    "version": 3
   },
   "file_extension": ".py",
   "mimetype": "text/x-python",
   "name": "python",
   "nbconvert_exporter": "python",
   "pygments_lexer": "ipython3",
   "version": "3.6.9"
  }
 },
 "nbformat": 4,
 "nbformat_minor": 4
}
