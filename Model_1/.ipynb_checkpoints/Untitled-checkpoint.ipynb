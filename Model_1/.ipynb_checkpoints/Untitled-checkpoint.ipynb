{
 "cells": [
  {
   "cell_type": "code",
   "execution_count": 65,
   "metadata": {},
   "outputs": [
    {
     "data": {
      "text/plain": [
       "device(type='cuda')"
      ]
     },
     "execution_count": 65,
     "metadata": {},
     "output_type": "execute_result"
    }
   ],
   "source": [
    "import torch\n",
    "from torch import nn\n",
    "import numpy as np\n",
    "\n",
    "device = torch.device('cuda' if torch.cuda.is_available() else 'cpu')\n",
    "device"
   ]
  },
  {
   "cell_type": "code",
   "execution_count": 93,
   "metadata": {},
   "outputs": [],
   "source": [
    "class s_conv(nn.Module):\n",
    "    \n",
    "    def __init__(self,repr_size_in,repr_size_out):\n",
    "        super(s_conv, self).__init__()\n",
    "        self.Conv=nn.Conv2d(repr_size_in,repr_size_out,kernel_size=4,stride=2)\n",
    "        self.act=nn.ReLU()\n",
    "    def forward(self,x):\n",
    "        return self.act(self.Conv(x))\n",
    "\n",
    "class s_view(nn.module):\n",
    "    def __init__(self):\n",
    "        pass\n",
    "    def forward(self,x):\n",
    "        if len(x.shape)==4:\n",
    "            self.i_shape=x.shape\n",
    "            out=x.view(x.shape[0],-1)\n",
    "        elif len(x.shape)==2:\n",
    "            out=x.view(self.i_shape)\n",
    "        return \n",
    "\n",
    "class b_encoder(nn.Module):\n",
    "    def __init__(self,image_channels=3,repr_sizes=[32,64,128,256]):\n",
    "        super(b_encoder, self).__init__()\n",
    "        self.repr_sizes=[3]+repr_sizes\n",
    "        \n",
    "        self.im_layers=nn.ModuleList(\n",
    "            [\n",
    "                s_conv(repr_in,repr_out)\n",
    "                for repr_in,repr_out in zip(\n",
    "                    self.repr_sizes[:-1],\n",
    "                    self.repr_sizes[1:]\n",
    "                )\n",
    "            ]\n",
    "        )\n",
    "        self.tOut=nn.Flatten()\n",
    "    def forward(self,x):\n",
    "        for l in self.im_layers:\n",
    "            x=l(x)\n",
    "        return self.tOut(x)"
   ]
  },
  {
   "cell_type": "code",
   "execution_count": null,
   "metadata": {},
   "outputs": [],
   "source": [
    "class b_decoder(mm.Module):\n",
    "    def __init__(self,):\n",
    "        super(b_decoder,self).__init__()\n",
    "        "
   ]
  },
  {
   "cell_type": "code",
   "execution_count": 94,
   "metadata": {},
   "outputs": [],
   "source": [
    "enc=encoder(repr_sizes=[32,64,128,256,256*2]).to(device)"
   ]
  },
  {
   "cell_type": "code",
   "execution_count": 95,
   "metadata": {},
   "outputs": [],
   "source": [
    "pr=np.random.randint(0,10,(5,3,500,500))\n",
    "prt=torch.Tensor(pr)"
   ]
  },
  {
   "cell_type": "code",
   "execution_count": 54,
   "metadata": {},
   "outputs": [],
   "source": [
    "c=s_conv(3,12)"
   ]
  },
  {
   "cell_type": "code",
   "execution_count": 96,
   "metadata": {},
   "outputs": [],
   "source": [
    "y=enc(prt.to(device))"
   ]
  },
  {
   "cell_type": "code",
   "execution_count": 102,
   "metadata": {},
   "outputs": [
    {
     "data": {
      "text/plain": [
       "2"
      ]
     },
     "execution_count": 102,
     "metadata": {},
     "output_type": "execute_result"
    }
   ],
   "source": [
    "len(y.shape)"
   ]
  },
  {
   "cell_type": "code",
   "execution_count": 104,
   "metadata": {},
   "outputs": [],
   "source": [
    "aa=c(prt.to(device))"
   ]
  },
  {
   "cell_type": "code",
   "execution_count": 112,
   "metadata": {},
   "outputs": [
    {
     "data": {
      "text/plain": [
       "5"
      ]
     },
     "execution_count": 112,
     "metadata": {},
     "output_type": "execute_result"
    }
   ],
   "source": [
    "aa.shape[0]"
   ]
  },
  {
   "cell_type": "code",
   "execution_count": 110,
   "metadata": {},
   "outputs": [],
   "source": [
    "bb=nn.Flatten(aa)"
   ]
  },
  {
   "cell_type": "code",
   "execution_count": 114,
   "metadata": {},
   "outputs": [
    {
     "data": {
      "text/plain": [
       "tensor([[3.9111, 3.6757, 2.0050,  ..., 0.6741, 0.4394, 0.0000],\n",
       "        [4.6152, 4.5363, 4.3838,  ..., 0.0000, 0.0000, 0.0000],\n",
       "        [5.5873, 2.6783, 2.8090,  ..., 1.2894, 2.3162, 0.5086],\n",
       "        [4.1558, 4.2100, 4.9040,  ..., 0.0704, 0.0000, 0.0000],\n",
       "        [4.6166, 6.6742, 6.6871,  ..., 0.0000, 0.0000, 1.7358]],\n",
       "       device='cuda:0', grad_fn=<ViewBackward0>)"
      ]
     },
     "execution_count": 114,
     "metadata": {},
     "output_type": "execute_result"
    }
   ],
   "source": [
    "aa.view(aa.shape[0],-1)"
   ]
  }
 ],
 "metadata": {
  "kernelspec": {
   "display_name": "paltas",
   "language": "python",
   "name": "paltas"
  },
  "language_info": {
   "codemirror_mode": {
    "name": "ipython",
    "version": 3
   },
   "file_extension": ".py",
   "mimetype": "text/x-python",
   "name": "python",
   "nbconvert_exporter": "python",
   "pygments_lexer": "ipython3",
   "version": "3.9.7"
  }
 },
 "nbformat": 4,
 "nbformat_minor": 4
}
