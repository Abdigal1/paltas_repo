{
 "cells": [
  {
   "cell_type": "code",
   "execution_count": null,
   "metadata": {},
   "outputs": [],
   "source": [
    "import torch\n",
    "from torch import nn\n",
    "import numpy as np\n",
    "torch.cuda.empty_cache()\n",
    "import torch.nn.functional as F\n",
    "#device = torch.device('cuda' if torch.cuda.is_available() else 'cpu')\n",
    "\n",
    "\n",
    "import gc\n",
    "#del y,prt\n",
    "gc.collect()\n",
    "\n",
    "torch.no_grad()"
   ]
  },
  {
   "cell_type": "code",
   "execution_count": 1,
   "metadata": {},
   "outputs": [],
   "source": [
    "from B_VAE.B_VAE import b_encodeco\n",
    "from Train_utils import train_utils\n",
    "from B_VAE.Utils_VAE import loss_fn\n",
    "from Train_utils.train_utils import train,test,K_fold_train\n",
    "\n",
    "import torch\n",
    "\n",
    "device='cpu'\n",
    "\n",
    "import sys\n",
    "import os\n",
    "sys.path.append(os.path.join(\"..\",\"Data_prep\"))\n",
    "from torchvision import transforms\n",
    "from Custom_dataloader import *\n",
    "from Transforms import phantom_segmentation\n",
    "from Transforms import multi_image_resize\n",
    "from Transforms import multi_ToTensor\n",
    "from Transforms import output_transform\n",
    "\n",
    "import matplotlib.pyplot as plt\n",
    "import torch\n",
    "\n",
    "DB=\"/run/user/1000/gvfs/afp-volume:host=MyCloudPR4100.local,user=paltas,volume=Paltas_DataBase/Data_Base_v2\"\n",
    "#DB=\"//MYCLOUDPR4100/Paltas_DataBase/Data_Base_v2\"\n",
    "d_tt=transforms.Compose([\n",
    "    phantom_segmentation(False),\n",
    "    multi_image_resize(ImType=['PhantomRGB'],size=(500,500)),\n",
    "    multi_ToTensor(ImType=['PhantomRGB']),\n",
    "    output_transform()\n",
    "    ])\n",
    "#datar=Dataset_direct(root_dir=DB,ImType=['PhantomRGB','SenteraRGB'],Intersec=False)\n",
    "#datab=Dataset_direct(root_dir=DB,ImType=['PhantomRGB'],Intersec=False,transform=d_tt)\n"
   ]
  },
  {
   "cell_type": "code",
   "execution_count": 2,
   "metadata": {},
   "outputs": [],
   "source": [
    "datab=Dataset_direct(root_dir=DB,ImType=['PhantomRGB'],Intersec=False,transform=d_tt)\n",
    "\n",
    "train_s=int((len(datab))*0.7)\n",
    "test_s=int(len(datab)-train_s)\n",
    "train_set, test_set = torch.utils.data.random_split(datab, [train_s, test_s])\n",
    "\n",
    "dataloader_train=torch.utils.data.DataLoader(train_set,batch_size=5,shuffle=True)\n",
    "dataloader_test=torch.utils.data.DataLoader(test_set,batch_size=5,shuffle=True)"
   ]
  },
  {
   "cell_type": "code",
   "execution_count": 3,
   "metadata": {},
   "outputs": [
    {
     "data": {
      "text/plain": [
       "b_encodeco(\n",
       "  (encoder_conv): b_encoder_conv(\n",
       "    (im_layers): ModuleList(\n",
       "      (0): s_conv(\n",
       "        (Conv): Conv2d(3, 32, kernel_size=(3, 3), stride=(2, 2), padding=(1, 1))\n",
       "        (act): ReLU()\n",
       "      )\n",
       "      (1): s_conv(\n",
       "        (Conv): Conv2d(32, 256, kernel_size=(3, 3), stride=(2, 2), padding=(1, 1))\n",
       "        (act): ReLU()\n",
       "      )\n",
       "    )\n",
       "  )\n",
       "  (encoder_NN_mu): NeuralNet(\n",
       "    (layers): ModuleList(\n",
       "      (0): Sequential(\n",
       "        (0): Linear(in_features=4000000, out_features=10, bias=True)\n",
       "        (1): ReLU()\n",
       "      )\n",
       "    )\n",
       "  )\n",
       "  (encoder_NN_sig): NeuralNet(\n",
       "    (layers): ModuleList(\n",
       "      (0): Sequential(\n",
       "        (0): Linear(in_features=4000000, out_features=10, bias=True)\n",
       "        (1): ReLU()\n",
       "      )\n",
       "    )\n",
       "  )\n",
       "  (flatten): s_view()\n",
       "  (decoder_NN): NeuralNet(\n",
       "    (layers): ModuleList(\n",
       "      (0): Sequential(\n",
       "        (0): Linear(in_features=10, out_features=4000000, bias=True)\n",
       "        (1): ReLU()\n",
       "      )\n",
       "    )\n",
       "  )\n",
       "  (decoder_conv): b_decoder_conv(\n",
       "    (im_layers): ModuleList(\n",
       "      (0): s_deconv(\n",
       "        (Conv): ConvTranspose2d(256, 32, kernel_size=(2, 2), stride=(2, 2))\n",
       "        (act): ReLU()\n",
       "      )\n",
       "      (1): s_deconv(\n",
       "        (Conv): ConvTranspose2d(32, 3, kernel_size=(2, 2), stride=(2, 2))\n",
       "        (act): ReLU()\n",
       "      )\n",
       "    )\n",
       "  )\n",
       "  (lact): Sigmoid()\n",
       ")"
      ]
     },
     "execution_count": 3,
     "metadata": {},
     "output_type": "execute_result"
    }
   ],
   "source": [
    "model=b_encodeco(image_dim=int(500),\n",
    "                 image_channels=3,\n",
    "                 repr_sizes=[32,256],\n",
    "                 layer_sizes=[],\n",
    "                 latent_space_size=10,\n",
    "                device=device)\n",
    "model.to(device)\n",
    "\n",
    "#opt=torch.optim.Adam(model.parameters(),lr=1e-3)"
   ]
  },
  {
   "cell_type": "code",
   "execution_count": 5,
   "metadata": {},
   "outputs": [],
   "source": [
    "import pathlib\n",
    "from Train_utils.train_utils import train,test,train_test,K_fold_train"
   ]
  },
  {
   "cell_type": "code",
   "execution_count": null,
   "metadata": {},
   "outputs": [
    {
     "name": "stderr",
     "output_type": "stream",
     "text": [
      "\r",
      "instances: 0it [00:00, ?it/s]"
     ]
    },
    {
     "name": "stdout",
     "output_type": "stream",
     "text": [
      "iniciio\n",
      "model result\n",
      "model loss\n",
      "zero grad\n"
     ]
    },
    {
     "name": "stderr",
     "output_type": "stream",
     "text": [
      "/home/lambda/paltas/lib/python3.6/site-packages/torch/nn/_reduction.py:42: UserWarning: size_average and reduce args will be deprecated, please use reduction='sum' instead.\n",
      "  warnings.warn(warning.format(ret))\n"
     ]
    },
    {
     "name": "stdout",
     "output_type": "stream",
     "text": [
      "loss back\n"
     ]
    },
    {
     "name": "stderr",
     "output_type": "stream",
     "text": [
      "instances: 1it [01:08, 68.93s/it]"
     ]
    },
    {
     "name": "stdout",
     "output_type": "stream",
     "text": [
      "step\n",
      "total loss 10876896.0000\t BCE 10876896.0000\t KLD 0.0002\n"
     ]
    }
   ],
   "source": [
    "opt=torch.optim.Adam(model.parameters(),lr=1e-3)\n",
    "train(model=model,\n",
    "      optimizer=opt,\n",
    "     dataloader=dataloader_test,\n",
    "     use_cuda=False,\n",
    "     loss_function=loss_fn)"
   ]
  },
  {
   "cell_type": "code",
   "execution_count": null,
   "metadata": {},
   "outputs": [],
   "source": [
    "opt=torch.optim.Adam(model.parameters(),lr=1e-3)\n",
    "test(model=model,\n",
    "     dataloader=dataloader_test,\n",
    "     use_cuda=False,\n",
    "     loss_function=loss_fn)"
   ]
  },
  {
   "cell_type": "code",
   "execution_count": null,
   "metadata": {},
   "outputs": [],
   "source": [
    "opt=torch.optim.Adam(model.parameters(),lr=1e-3)\n",
    "\n",
    "train_test(model=model,\n",
    "           optimizer=opt,\n",
    "           dataloader_train=dataloader_train,\n",
    "           dataloader_test=dataloader_test,\n",
    "           use_cuda=False,\n",
    "           loss_function=loss_fn,\n",
    "           epochs=2,\n",
    "           data_train_dir=str(pathlib.Path().absolute()))"
   ]
  },
  {
   "cell_type": "code",
   "execution_count": null,
   "metadata": {},
   "outputs": [],
   "source": [
    "str(pathlib.Path().absolute())\n",
    "\n",
    "K_fold_train(model=model,\n",
    "                dataset=datab,\n",
    "                epochs=100,\n",
    "                batch_size=200,\n",
    "                use_cuda=False,\n",
    "                folds=5,\n",
    "                data_train_dir=str(pathlib.Path().absolute()),\n",
    "                loss_fn=loss_fn\n",
    "     )"
   ]
  }
 ],
 "metadata": {
  "kernelspec": {
   "display_name": "Python 3",
   "language": "python",
   "name": "python3"
  },
  "language_info": {
   "codemirror_mode": {
    "name": "ipython",
    "version": 3
   },
   "file_extension": ".py",
   "mimetype": "text/x-python",
   "name": "python",
   "nbconvert_exporter": "python",
   "pygments_lexer": "ipython3",
   "version": "3.6.9"
  }
 },
 "nbformat": 4,
 "nbformat_minor": 4
}
