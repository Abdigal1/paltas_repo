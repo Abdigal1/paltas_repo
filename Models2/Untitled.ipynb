{
 "cells": [
  {
   "cell_type": "code",
   "execution_count": 29,
   "id": "ae3c9590",
   "metadata": {},
   "outputs": [],
   "source": [
    "import os\n",
    "import pickle\n",
    "import torch\n",
    "from torch.utils.data import DataLoader, Dataset\n",
    "import torch.nn as nn\n",
    "import torch.functional as F\n",
    "from sklearn.preprocessing import MinMaxScaler\n",
    "import torch.optim as optim\n",
    "from tqdm import tqdm\n",
    "from sklearn.metrics import f1_score"
   ]
  },
  {
   "cell_type": "code",
   "execution_count": 30,
   "id": "d6b1d9fb",
   "metadata": {},
   "outputs": [],
   "source": [
    "from meta_load import *"
   ]
  },
  {
   "cell_type": "code",
   "execution_count": 31,
   "id": "3d3c967e",
   "metadata": {},
   "outputs": [
    {
     "name": "stdout",
     "output_type": "stream",
     "text": [
      "6 4133\n",
      "(4133, 36) (4133,) (4133,) (4133,)\n"
     ]
    },
    {
     "data": {
      "text/html": [
       "<div>\n",
       "<style scoped>\n",
       "    .dataframe tbody tr th:only-of-type {\n",
       "        vertical-align: middle;\n",
       "    }\n",
       "\n",
       "    .dataframe tbody tr th {\n",
       "        vertical-align: top;\n",
       "    }\n",
       "\n",
       "    .dataframe thead th {\n",
       "        text-align: right;\n",
       "    }\n",
       "</style>\n",
       "<table border=\"1\" class=\"dataframe\">\n",
       "  <thead>\n",
       "    <tr style=\"text-align: right;\">\n",
       "      <th></th>\n",
       "      <th>SenteraASM15_0</th>\n",
       "      <th>SenteraASM15_90</th>\n",
       "      <th>SenteraASM30_0</th>\n",
       "      <th>SenteraASM30_90</th>\n",
       "      <th>SenteraASM50_0</th>\n",
       "      <th>SenteraASM50_90</th>\n",
       "      <th>Senteracontrast15_0</th>\n",
       "      <th>Senteracontrast15_90</th>\n",
       "      <th>Senteracontrast30_0</th>\n",
       "      <th>Senteracontrast30_90</th>\n",
       "      <th>...</th>\n",
       "      <th>Senteraenergy50_90</th>\n",
       "      <th>Senterahomogeneity15_0</th>\n",
       "      <th>Senterahomogeneity15_90</th>\n",
       "      <th>Senterahomogeneity30_0</th>\n",
       "      <th>Senterahomogeneity30_90</th>\n",
       "      <th>Senterahomogeneity50_0</th>\n",
       "      <th>Senterahomogeneity50_90</th>\n",
       "      <th>fly</th>\n",
       "      <th>landmark</th>\n",
       "      <th>Place</th>\n",
       "    </tr>\n",
       "  </thead>\n",
       "  <tbody>\n",
       "    <tr>\n",
       "      <th>0</th>\n",
       "      <td>0.000705</td>\n",
       "      <td>0.000711</td>\n",
       "      <td>0.000594</td>\n",
       "      <td>0.000592</td>\n",
       "      <td>0.000560</td>\n",
       "      <td>0.000559</td>\n",
       "      <td>143.419535</td>\n",
       "      <td>127.969690</td>\n",
       "      <td>200.391433</td>\n",
       "      <td>196.198353</td>\n",
       "      <td>...</td>\n",
       "      <td>0.023634</td>\n",
       "      <td>0.144670</td>\n",
       "      <td>0.144798</td>\n",
       "      <td>0.116794</td>\n",
       "      <td>0.115318</td>\n",
       "      <td>0.106531</td>\n",
       "      <td>0.105428</td>\n",
       "      <td>8</td>\n",
       "      <td>N_Control</td>\n",
       "      <td>10_A</td>\n",
       "    </tr>\n",
       "    <tr>\n",
       "      <th>1</th>\n",
       "      <td>0.000855</td>\n",
       "      <td>0.000869</td>\n",
       "      <td>0.000725</td>\n",
       "      <td>0.000722</td>\n",
       "      <td>0.000690</td>\n",
       "      <td>0.000680</td>\n",
       "      <td>112.393476</td>\n",
       "      <td>104.478127</td>\n",
       "      <td>154.060668</td>\n",
       "      <td>155.406801</td>\n",
       "      <td>...</td>\n",
       "      <td>0.026083</td>\n",
       "      <td>0.151051</td>\n",
       "      <td>0.152582</td>\n",
       "      <td>0.122054</td>\n",
       "      <td>0.121578</td>\n",
       "      <td>0.112162</td>\n",
       "      <td>0.110044</td>\n",
       "      <td>8</td>\n",
       "      <td>P_Control</td>\n",
       "      <td>10_B</td>\n",
       "    </tr>\n",
       "    <tr>\n",
       "      <th>2</th>\n",
       "      <td>0.000813</td>\n",
       "      <td>0.000833</td>\n",
       "      <td>0.000672</td>\n",
       "      <td>0.000673</td>\n",
       "      <td>0.000635</td>\n",
       "      <td>0.000637</td>\n",
       "      <td>123.028084</td>\n",
       "      <td>106.878970</td>\n",
       "      <td>183.036163</td>\n",
       "      <td>180.869956</td>\n",
       "      <td>...</td>\n",
       "      <td>0.025233</td>\n",
       "      <td>0.147733</td>\n",
       "      <td>0.151046</td>\n",
       "      <td>0.115586</td>\n",
       "      <td>0.115848</td>\n",
       "      <td>0.105117</td>\n",
       "      <td>0.105493</td>\n",
       "      <td>8</td>\n",
       "      <td>K_Control</td>\n",
       "      <td>10_C</td>\n",
       "    </tr>\n",
       "    <tr>\n",
       "      <th>3</th>\n",
       "      <td>0.000728</td>\n",
       "      <td>0.000766</td>\n",
       "      <td>0.000647</td>\n",
       "      <td>0.000642</td>\n",
       "      <td>0.000618</td>\n",
       "      <td>0.000607</td>\n",
       "      <td>151.597590</td>\n",
       "      <td>132.826108</td>\n",
       "      <td>193.162567</td>\n",
       "      <td>206.125643</td>\n",
       "      <td>...</td>\n",
       "      <td>0.024637</td>\n",
       "      <td>0.131963</td>\n",
       "      <td>0.140764</td>\n",
       "      <td>0.112058</td>\n",
       "      <td>0.111860</td>\n",
       "      <td>0.103291</td>\n",
       "      <td>0.103053</td>\n",
       "      <td>8</td>\n",
       "      <td>Control</td>\n",
       "      <td>10_D</td>\n",
       "    </tr>\n",
       "    <tr>\n",
       "      <th>4</th>\n",
       "      <td>0.000926</td>\n",
       "      <td>0.000944</td>\n",
       "      <td>0.000776</td>\n",
       "      <td>0.000771</td>\n",
       "      <td>0.000737</td>\n",
       "      <td>0.000721</td>\n",
       "      <td>117.817314</td>\n",
       "      <td>100.882589</td>\n",
       "      <td>167.043099</td>\n",
       "      <td>161.468386</td>\n",
       "      <td>...</td>\n",
       "      <td>0.026853</td>\n",
       "      <td>0.158860</td>\n",
       "      <td>0.162291</td>\n",
       "      <td>0.127165</td>\n",
       "      <td>0.126652</td>\n",
       "      <td>0.118328</td>\n",
       "      <td>0.113454</td>\n",
       "      <td>8</td>\n",
       "      <td>H50%</td>\n",
       "      <td>10_E</td>\n",
       "    </tr>\n",
       "    <tr>\n",
       "      <th>...</th>\n",
       "      <td>...</td>\n",
       "      <td>...</td>\n",
       "      <td>...</td>\n",
       "      <td>...</td>\n",
       "      <td>...</td>\n",
       "      <td>...</td>\n",
       "      <td>...</td>\n",
       "      <td>...</td>\n",
       "      <td>...</td>\n",
       "      <td>...</td>\n",
       "      <td>...</td>\n",
       "      <td>...</td>\n",
       "      <td>...</td>\n",
       "      <td>...</td>\n",
       "      <td>...</td>\n",
       "      <td>...</td>\n",
       "      <td>...</td>\n",
       "      <td>...</td>\n",
       "      <td>...</td>\n",
       "      <td>...</td>\n",
       "      <td>...</td>\n",
       "    </tr>\n",
       "    <tr>\n",
       "      <th>4128</th>\n",
       "      <td>0.000449</td>\n",
       "      <td>0.000461</td>\n",
       "      <td>0.000397</td>\n",
       "      <td>0.000400</td>\n",
       "      <td>0.000374</td>\n",
       "      <td>0.000378</td>\n",
       "      <td>291.551824</td>\n",
       "      <td>279.614601</td>\n",
       "      <td>357.266417</td>\n",
       "      <td>356.500160</td>\n",
       "      <td>...</td>\n",
       "      <td>0.019449</td>\n",
       "      <td>0.116537</td>\n",
       "      <td>0.120360</td>\n",
       "      <td>0.100817</td>\n",
       "      <td>0.102188</td>\n",
       "      <td>0.092546</td>\n",
       "      <td>0.095513</td>\n",
       "      <td>12</td>\n",
       "      <td>K_Control</td>\n",
       "      <td>9_C</td>\n",
       "    </tr>\n",
       "    <tr>\n",
       "      <th>4129</th>\n",
       "      <td>0.000389</td>\n",
       "      <td>0.000401</td>\n",
       "      <td>0.000342</td>\n",
       "      <td>0.000351</td>\n",
       "      <td>0.000325</td>\n",
       "      <td>0.000337</td>\n",
       "      <td>329.941675</td>\n",
       "      <td>309.016892</td>\n",
       "      <td>396.023013</td>\n",
       "      <td>383.123028</td>\n",
       "      <td>...</td>\n",
       "      <td>0.018349</td>\n",
       "      <td>0.102952</td>\n",
       "      <td>0.105841</td>\n",
       "      <td>0.086658</td>\n",
       "      <td>0.089652</td>\n",
       "      <td>0.079483</td>\n",
       "      <td>0.083362</td>\n",
       "      <td>12</td>\n",
       "      <td>Control</td>\n",
       "      <td>9_D</td>\n",
       "    </tr>\n",
       "    <tr>\n",
       "      <th>4130</th>\n",
       "      <td>0.000531</td>\n",
       "      <td>0.000527</td>\n",
       "      <td>0.000468</td>\n",
       "      <td>0.000471</td>\n",
       "      <td>0.000451</td>\n",
       "      <td>0.000453</td>\n",
       "      <td>259.923293</td>\n",
       "      <td>263.598031</td>\n",
       "      <td>314.750834</td>\n",
       "      <td>312.506270</td>\n",
       "      <td>...</td>\n",
       "      <td>0.021276</td>\n",
       "      <td>0.114995</td>\n",
       "      <td>0.113984</td>\n",
       "      <td>0.097978</td>\n",
       "      <td>0.097928</td>\n",
       "      <td>0.092691</td>\n",
       "      <td>0.092209</td>\n",
       "      <td>12</td>\n",
       "      <td>H50%</td>\n",
       "      <td>9_E</td>\n",
       "    </tr>\n",
       "    <tr>\n",
       "      <th>4131</th>\n",
       "      <td>0.000394</td>\n",
       "      <td>0.000403</td>\n",
       "      <td>0.000348</td>\n",
       "      <td>0.000354</td>\n",
       "      <td>0.000332</td>\n",
       "      <td>0.000341</td>\n",
       "      <td>338.214450</td>\n",
       "      <td>322.251519</td>\n",
       "      <td>402.663766</td>\n",
       "      <td>391.480817</td>\n",
       "      <td>...</td>\n",
       "      <td>0.018455</td>\n",
       "      <td>0.107977</td>\n",
       "      <td>0.111161</td>\n",
       "      <td>0.092265</td>\n",
       "      <td>0.093713</td>\n",
       "      <td>0.085414</td>\n",
       "      <td>0.087113</td>\n",
       "      <td>12</td>\n",
       "      <td>H75%</td>\n",
       "      <td>9_F</td>\n",
       "    </tr>\n",
       "    <tr>\n",
       "      <th>4132</th>\n",
       "      <td>0.000430</td>\n",
       "      <td>0.000446</td>\n",
       "      <td>0.000377</td>\n",
       "      <td>0.000387</td>\n",
       "      <td>0.000360</td>\n",
       "      <td>0.000367</td>\n",
       "      <td>303.804310</td>\n",
       "      <td>271.122719</td>\n",
       "      <td>390.387043</td>\n",
       "      <td>358.919336</td>\n",
       "      <td>...</td>\n",
       "      <td>0.019158</td>\n",
       "      <td>0.110396</td>\n",
       "      <td>0.116226</td>\n",
       "      <td>0.093093</td>\n",
       "      <td>0.097496</td>\n",
       "      <td>0.087228</td>\n",
       "      <td>0.090680</td>\n",
       "      <td>12</td>\n",
       "      <td>Control</td>\n",
       "      <td>9_G</td>\n",
       "    </tr>\n",
       "  </tbody>\n",
       "</table>\n",
       "<p>4133 rows × 39 columns</p>\n",
       "</div>"
      ],
      "text/plain": [
       "      SenteraASM15_0  SenteraASM15_90  SenteraASM30_0  SenteraASM30_90  \\\n",
       "0           0.000705         0.000711        0.000594         0.000592   \n",
       "1           0.000855         0.000869        0.000725         0.000722   \n",
       "2           0.000813         0.000833        0.000672         0.000673   \n",
       "3           0.000728         0.000766        0.000647         0.000642   \n",
       "4           0.000926         0.000944        0.000776         0.000771   \n",
       "...              ...              ...             ...              ...   \n",
       "4128        0.000449         0.000461        0.000397         0.000400   \n",
       "4129        0.000389         0.000401        0.000342         0.000351   \n",
       "4130        0.000531         0.000527        0.000468         0.000471   \n",
       "4131        0.000394         0.000403        0.000348         0.000354   \n",
       "4132        0.000430         0.000446        0.000377         0.000387   \n",
       "\n",
       "      SenteraASM50_0  SenteraASM50_90  Senteracontrast15_0  \\\n",
       "0           0.000560         0.000559           143.419535   \n",
       "1           0.000690         0.000680           112.393476   \n",
       "2           0.000635         0.000637           123.028084   \n",
       "3           0.000618         0.000607           151.597590   \n",
       "4           0.000737         0.000721           117.817314   \n",
       "...              ...              ...                  ...   \n",
       "4128        0.000374         0.000378           291.551824   \n",
       "4129        0.000325         0.000337           329.941675   \n",
       "4130        0.000451         0.000453           259.923293   \n",
       "4131        0.000332         0.000341           338.214450   \n",
       "4132        0.000360         0.000367           303.804310   \n",
       "\n",
       "      Senteracontrast15_90  Senteracontrast30_0  Senteracontrast30_90  ...  \\\n",
       "0               127.969690           200.391433            196.198353  ...   \n",
       "1               104.478127           154.060668            155.406801  ...   \n",
       "2               106.878970           183.036163            180.869956  ...   \n",
       "3               132.826108           193.162567            206.125643  ...   \n",
       "4               100.882589           167.043099            161.468386  ...   \n",
       "...                    ...                  ...                   ...  ...   \n",
       "4128            279.614601           357.266417            356.500160  ...   \n",
       "4129            309.016892           396.023013            383.123028  ...   \n",
       "4130            263.598031           314.750834            312.506270  ...   \n",
       "4131            322.251519           402.663766            391.480817  ...   \n",
       "4132            271.122719           390.387043            358.919336  ...   \n",
       "\n",
       "      Senteraenergy50_90  Senterahomogeneity15_0  Senterahomogeneity15_90  \\\n",
       "0               0.023634                0.144670                 0.144798   \n",
       "1               0.026083                0.151051                 0.152582   \n",
       "2               0.025233                0.147733                 0.151046   \n",
       "3               0.024637                0.131963                 0.140764   \n",
       "4               0.026853                0.158860                 0.162291   \n",
       "...                  ...                     ...                      ...   \n",
       "4128            0.019449                0.116537                 0.120360   \n",
       "4129            0.018349                0.102952                 0.105841   \n",
       "4130            0.021276                0.114995                 0.113984   \n",
       "4131            0.018455                0.107977                 0.111161   \n",
       "4132            0.019158                0.110396                 0.116226   \n",
       "\n",
       "      Senterahomogeneity30_0  Senterahomogeneity30_90  Senterahomogeneity50_0  \\\n",
       "0                   0.116794                 0.115318                0.106531   \n",
       "1                   0.122054                 0.121578                0.112162   \n",
       "2                   0.115586                 0.115848                0.105117   \n",
       "3                   0.112058                 0.111860                0.103291   \n",
       "4                   0.127165                 0.126652                0.118328   \n",
       "...                      ...                      ...                     ...   \n",
       "4128                0.100817                 0.102188                0.092546   \n",
       "4129                0.086658                 0.089652                0.079483   \n",
       "4130                0.097978                 0.097928                0.092691   \n",
       "4131                0.092265                 0.093713                0.085414   \n",
       "4132                0.093093                 0.097496                0.087228   \n",
       "\n",
       "      Senterahomogeneity50_90  fly   landmark  Place  \n",
       "0                    0.105428    8  N_Control   10_A  \n",
       "1                    0.110044    8  P_Control   10_B  \n",
       "2                    0.105493    8  K_Control   10_C  \n",
       "3                    0.103053    8    Control   10_D  \n",
       "4                    0.113454    8       H50%   10_E  \n",
       "...                       ...  ...        ...    ...  \n",
       "4128                 0.095513   12  K_Control    9_C  \n",
       "4129                 0.083362   12    Control    9_D  \n",
       "4130                 0.092209   12       H50%    9_E  \n",
       "4131                 0.087113   12       H75%    9_F  \n",
       "4132                 0.090680   12    Control    9_G  \n",
       "\n",
       "[4133 rows x 39 columns]"
      ]
     },
     "execution_count": 31,
     "metadata": {},
     "output_type": "execute_result"
    }
   ],
   "source": [
    "df = load_meta_v2()\n",
    "df"
   ]
  },
  {
   "cell_type": "code",
   "execution_count": 32,
   "id": "cfdef6d0",
   "metadata": {},
   "outputs": [],
   "source": [
    "device = 'cuda' if torch.cuda.is_available() else 'cpu'\n"
   ]
  },
  {
   "cell_type": "code",
   "execution_count": 33,
   "id": "ecebef1f",
   "metadata": {},
   "outputs": [
    {
     "name": "stdout",
     "output_type": "stream",
     "text": [
      "Index(['SenteraASM50_0', 'SenteraASM50_90', 'Senteracontrast50_0',\n",
      "       'Senteracontrast50_90', 'Senteracorrelation50_0',\n",
      "       'Senteracorrelation50_90', 'Senteradissimilarity50_0',\n",
      "       'Senteradissimilarity50_90', 'Senteraenergy50_0', 'Senteraenergy50_90',\n",
      "       'Senterahomogeneity50_0', 'Senterahomogeneity50_90', 'fly', 'landmark',\n",
      "       'Place'],\n",
      "      dtype='object')\n"
     ]
    },
    {
     "data": {
      "text/html": [
       "<div>\n",
       "<style scoped>\n",
       "    .dataframe tbody tr th:only-of-type {\n",
       "        vertical-align: middle;\n",
       "    }\n",
       "\n",
       "    .dataframe tbody tr th {\n",
       "        vertical-align: top;\n",
       "    }\n",
       "\n",
       "    .dataframe thead th {\n",
       "        text-align: right;\n",
       "    }\n",
       "</style>\n",
       "<table border=\"1\" class=\"dataframe\">\n",
       "  <thead>\n",
       "    <tr style=\"text-align: right;\">\n",
       "      <th></th>\n",
       "      <th>SenteraASM50_0</th>\n",
       "      <th>SenteraASM50_90</th>\n",
       "      <th>Senteracontrast50_0</th>\n",
       "      <th>Senteracontrast50_90</th>\n",
       "      <th>Senteracorrelation50_0</th>\n",
       "      <th>Senteracorrelation50_90</th>\n",
       "      <th>Senteradissimilarity50_0</th>\n",
       "      <th>Senteradissimilarity50_90</th>\n",
       "      <th>Senteraenergy50_0</th>\n",
       "      <th>Senteraenergy50_90</th>\n",
       "      <th>Senterahomogeneity50_0</th>\n",
       "      <th>Senterahomogeneity50_90</th>\n",
       "      <th>fly</th>\n",
       "      <th>landmark</th>\n",
       "      <th>Place</th>\n",
       "    </tr>\n",
       "  </thead>\n",
       "  <tbody>\n",
       "    <tr>\n",
       "      <th>0</th>\n",
       "      <td>0.000560</td>\n",
       "      <td>0.000559</td>\n",
       "      <td>218.931111</td>\n",
       "      <td>219.047059</td>\n",
       "      <td>0.385036</td>\n",
       "      <td>0.382759</td>\n",
       "      <td>11.041644</td>\n",
       "      <td>11.056423</td>\n",
       "      <td>0.023664</td>\n",
       "      <td>0.023634</td>\n",
       "      <td>0.106531</td>\n",
       "      <td>0.105428</td>\n",
       "      <td>8</td>\n",
       "      <td>N_Control</td>\n",
       "      <td>10_A</td>\n",
       "    </tr>\n",
       "    <tr>\n",
       "      <th>5</th>\n",
       "      <td>0.000381</td>\n",
       "      <td>0.000383</td>\n",
       "      <td>302.398967</td>\n",
       "      <td>299.681248</td>\n",
       "      <td>0.367352</td>\n",
       "      <td>0.371699</td>\n",
       "      <td>13.224918</td>\n",
       "      <td>13.158797</td>\n",
       "      <td>0.019511</td>\n",
       "      <td>0.019573</td>\n",
       "      <td>0.086932</td>\n",
       "      <td>0.086379</td>\n",
       "      <td>8</td>\n",
       "      <td>N_Control</td>\n",
       "      <td>11_A</td>\n",
       "    </tr>\n",
       "    <tr>\n",
       "      <th>14</th>\n",
       "      <td>0.000740</td>\n",
       "      <td>0.000737</td>\n",
       "      <td>194.193897</td>\n",
       "      <td>192.186004</td>\n",
       "      <td>0.340949</td>\n",
       "      <td>0.347341</td>\n",
       "      <td>10.389573</td>\n",
       "      <td>10.355175</td>\n",
       "      <td>0.027209</td>\n",
       "      <td>0.027140</td>\n",
       "      <td>0.112421</td>\n",
       "      <td>0.112791</td>\n",
       "      <td>8</td>\n",
       "      <td>N_Control</td>\n",
       "      <td>13_A</td>\n",
       "    </tr>\n",
       "    <tr>\n",
       "      <th>19</th>\n",
       "      <td>0.000589</td>\n",
       "      <td>0.000578</td>\n",
       "      <td>211.280959</td>\n",
       "      <td>216.151676</td>\n",
       "      <td>0.365355</td>\n",
       "      <td>0.349626</td>\n",
       "      <td>10.963472</td>\n",
       "      <td>11.088518</td>\n",
       "      <td>0.024268</td>\n",
       "      <td>0.024038</td>\n",
       "      <td>0.105244</td>\n",
       "      <td>0.103858</td>\n",
       "      <td>8</td>\n",
       "      <td>N_Control</td>\n",
       "      <td>14_A</td>\n",
       "    </tr>\n",
       "    <tr>\n",
       "      <th>25</th>\n",
       "      <td>0.001016</td>\n",
       "      <td>0.001005</td>\n",
       "      <td>125.493477</td>\n",
       "      <td>129.942448</td>\n",
       "      <td>0.389787</td>\n",
       "      <td>0.368334</td>\n",
       "      <td>8.384933</td>\n",
       "      <td>8.504090</td>\n",
       "      <td>0.031880</td>\n",
       "      <td>0.031707</td>\n",
       "      <td>0.130143</td>\n",
       "      <td>0.130093</td>\n",
       "      <td>8</td>\n",
       "      <td>N_Deficiencia</td>\n",
       "      <td>15_A</td>\n",
       "    </tr>\n",
       "    <tr>\n",
       "      <th>...</th>\n",
       "      <td>...</td>\n",
       "      <td>...</td>\n",
       "      <td>...</td>\n",
       "      <td>...</td>\n",
       "      <td>...</td>\n",
       "      <td>...</td>\n",
       "      <td>...</td>\n",
       "      <td>...</td>\n",
       "      <td>...</td>\n",
       "      <td>...</td>\n",
       "      <td>...</td>\n",
       "      <td>...</td>\n",
       "      <td>...</td>\n",
       "      <td>...</td>\n",
       "      <td>...</td>\n",
       "    </tr>\n",
       "    <tr>\n",
       "      <th>4098</th>\n",
       "      <td>0.000355</td>\n",
       "      <td>0.000356</td>\n",
       "      <td>401.295713</td>\n",
       "      <td>406.205535</td>\n",
       "      <td>0.309834</td>\n",
       "      <td>0.301848</td>\n",
       "      <td>14.724052</td>\n",
       "      <td>14.745610</td>\n",
       "      <td>0.018836</td>\n",
       "      <td>0.018858</td>\n",
       "      <td>0.087387</td>\n",
       "      <td>0.088539</td>\n",
       "      <td>12</td>\n",
       "      <td>N_Exceso</td>\n",
       "      <td>5_A</td>\n",
       "    </tr>\n",
       "    <tr>\n",
       "      <th>4105</th>\n",
       "      <td>0.000212</td>\n",
       "      <td>0.000212</td>\n",
       "      <td>775.322718</td>\n",
       "      <td>773.187599</td>\n",
       "      <td>0.237944</td>\n",
       "      <td>0.241044</td>\n",
       "      <td>20.692041</td>\n",
       "      <td>20.709060</td>\n",
       "      <td>0.014551</td>\n",
       "      <td>0.014546</td>\n",
       "      <td>0.066327</td>\n",
       "      <td>0.064902</td>\n",
       "      <td>12</td>\n",
       "      <td>N_Exceso</td>\n",
       "      <td>6_A</td>\n",
       "    </tr>\n",
       "    <tr>\n",
       "      <th>4112</th>\n",
       "      <td>0.000346</td>\n",
       "      <td>0.000347</td>\n",
       "      <td>481.172257</td>\n",
       "      <td>486.141844</td>\n",
       "      <td>0.332131</td>\n",
       "      <td>0.325299</td>\n",
       "      <td>15.667647</td>\n",
       "      <td>15.703994</td>\n",
       "      <td>0.018600</td>\n",
       "      <td>0.018629</td>\n",
       "      <td>0.098011</td>\n",
       "      <td>0.097584</td>\n",
       "      <td>12</td>\n",
       "      <td>N_Exceso</td>\n",
       "      <td>7_A</td>\n",
       "    </tr>\n",
       "    <tr>\n",
       "      <th>4119</th>\n",
       "      <td>0.000319</td>\n",
       "      <td>0.000332</td>\n",
       "      <td>403.020283</td>\n",
       "      <td>391.572719</td>\n",
       "      <td>0.349588</td>\n",
       "      <td>0.363965</td>\n",
       "      <td>15.088874</td>\n",
       "      <td>14.694055</td>\n",
       "      <td>0.017864</td>\n",
       "      <td>0.018217</td>\n",
       "      <td>0.080117</td>\n",
       "      <td>0.085360</td>\n",
       "      <td>12</td>\n",
       "      <td>N_Control</td>\n",
       "      <td>8_A</td>\n",
       "    </tr>\n",
       "    <tr>\n",
       "      <th>4126</th>\n",
       "      <td>0.000330</td>\n",
       "      <td>0.000335</td>\n",
       "      <td>427.912013</td>\n",
       "      <td>425.953137</td>\n",
       "      <td>0.352564</td>\n",
       "      <td>0.359163</td>\n",
       "      <td>15.297405</td>\n",
       "      <td>15.184957</td>\n",
       "      <td>0.018162</td>\n",
       "      <td>0.018303</td>\n",
       "      <td>0.084012</td>\n",
       "      <td>0.087000</td>\n",
       "      <td>12</td>\n",
       "      <td>N_Control</td>\n",
       "      <td>9_A</td>\n",
       "    </tr>\n",
       "  </tbody>\n",
       "</table>\n",
       "<p>540 rows × 15 columns</p>\n",
       "</div>"
      ],
      "text/plain": [
       "      SenteraASM50_0  SenteraASM50_90  Senteracontrast50_0  \\\n",
       "0           0.000560         0.000559           218.931111   \n",
       "5           0.000381         0.000383           302.398967   \n",
       "14          0.000740         0.000737           194.193897   \n",
       "19          0.000589         0.000578           211.280959   \n",
       "25          0.001016         0.001005           125.493477   \n",
       "...              ...              ...                  ...   \n",
       "4098        0.000355         0.000356           401.295713   \n",
       "4105        0.000212         0.000212           775.322718   \n",
       "4112        0.000346         0.000347           481.172257   \n",
       "4119        0.000319         0.000332           403.020283   \n",
       "4126        0.000330         0.000335           427.912013   \n",
       "\n",
       "      Senteracontrast50_90  Senteracorrelation50_0  Senteracorrelation50_90  \\\n",
       "0               219.047059                0.385036                 0.382759   \n",
       "5               299.681248                0.367352                 0.371699   \n",
       "14              192.186004                0.340949                 0.347341   \n",
       "19              216.151676                0.365355                 0.349626   \n",
       "25              129.942448                0.389787                 0.368334   \n",
       "...                    ...                     ...                      ...   \n",
       "4098            406.205535                0.309834                 0.301848   \n",
       "4105            773.187599                0.237944                 0.241044   \n",
       "4112            486.141844                0.332131                 0.325299   \n",
       "4119            391.572719                0.349588                 0.363965   \n",
       "4126            425.953137                0.352564                 0.359163   \n",
       "\n",
       "      Senteradissimilarity50_0  Senteradissimilarity50_90  Senteraenergy50_0  \\\n",
       "0                    11.041644                  11.056423           0.023664   \n",
       "5                    13.224918                  13.158797           0.019511   \n",
       "14                   10.389573                  10.355175           0.027209   \n",
       "19                   10.963472                  11.088518           0.024268   \n",
       "25                    8.384933                   8.504090           0.031880   \n",
       "...                        ...                        ...                ...   \n",
       "4098                 14.724052                  14.745610           0.018836   \n",
       "4105                 20.692041                  20.709060           0.014551   \n",
       "4112                 15.667647                  15.703994           0.018600   \n",
       "4119                 15.088874                  14.694055           0.017864   \n",
       "4126                 15.297405                  15.184957           0.018162   \n",
       "\n",
       "      Senteraenergy50_90  Senterahomogeneity50_0  Senterahomogeneity50_90  \\\n",
       "0               0.023634                0.106531                 0.105428   \n",
       "5               0.019573                0.086932                 0.086379   \n",
       "14              0.027140                0.112421                 0.112791   \n",
       "19              0.024038                0.105244                 0.103858   \n",
       "25              0.031707                0.130143                 0.130093   \n",
       "...                  ...                     ...                      ...   \n",
       "4098            0.018858                0.087387                 0.088539   \n",
       "4105            0.014546                0.066327                 0.064902   \n",
       "4112            0.018629                0.098011                 0.097584   \n",
       "4119            0.018217                0.080117                 0.085360   \n",
       "4126            0.018303                0.084012                 0.087000   \n",
       "\n",
       "      fly       landmark Place  \n",
       "0       8      N_Control  10_A  \n",
       "5       8      N_Control  11_A  \n",
       "14      8      N_Control  13_A  \n",
       "19      8      N_Control  14_A  \n",
       "25      8  N_Deficiencia  15_A  \n",
       "...   ...            ...   ...  \n",
       "4098   12       N_Exceso   5_A  \n",
       "4105   12       N_Exceso   6_A  \n",
       "4112   12       N_Exceso   7_A  \n",
       "4119   12      N_Control   8_A  \n",
       "4126   12      N_Control   9_A  \n",
       "\n",
       "[540 rows x 15 columns]"
      ]
     },
     "execution_count": 33,
     "metadata": {},
     "output_type": "execute_result"
    }
   ],
   "source": [
    "N_data = df[(df['landmark']=='N_Control') | (df['landmark']=='N_Exceso') | (df['landmark']=='N_Deficiencia')]\n",
    "#optional\n",
    "N_data = N_data.iloc[:,[4,5,10,11,16,17,22,23,28,29,34,35,36,37,38]]\n",
    "print(N_data.columns)\n",
    "N_data = N_data[N_data['fly']!=0]\n",
    "N_data"
   ]
  },
  {
   "cell_type": "code",
   "execution_count": 34,
   "id": "0f48db0f",
   "metadata": {},
   "outputs": [],
   "source": [
    "n2clas={'N_Deficiencia':0, 'N_Control':1, 'N_Exceso':2}"
   ]
  },
  {
   "cell_type": "code",
   "execution_count": 35,
   "id": "aca7f744",
   "metadata": {},
   "outputs": [
    {
     "data": {
      "text/html": [
       "<div>\n",
       "<style scoped>\n",
       "    .dataframe tbody tr th:only-of-type {\n",
       "        vertical-align: middle;\n",
       "    }\n",
       "\n",
       "    .dataframe tbody tr th {\n",
       "        vertical-align: top;\n",
       "    }\n",
       "\n",
       "    .dataframe thead th {\n",
       "        text-align: right;\n",
       "    }\n",
       "</style>\n",
       "<table border=\"1\" class=\"dataframe\">\n",
       "  <thead>\n",
       "    <tr style=\"text-align: right;\">\n",
       "      <th></th>\n",
       "      <th>SenteraASM50_0</th>\n",
       "      <th>SenteraASM50_90</th>\n",
       "      <th>Senteracontrast50_0</th>\n",
       "      <th>Senteracontrast50_90</th>\n",
       "      <th>Senteracorrelation50_0</th>\n",
       "      <th>Senteracorrelation50_90</th>\n",
       "      <th>Senteradissimilarity50_0</th>\n",
       "      <th>Senteradissimilarity50_90</th>\n",
       "      <th>Senteraenergy50_0</th>\n",
       "      <th>Senteraenergy50_90</th>\n",
       "      <th>Senterahomogeneity50_0</th>\n",
       "      <th>Senterahomogeneity50_90</th>\n",
       "      <th>fly</th>\n",
       "      <th>landmark</th>\n",
       "      <th>Place</th>\n",
       "    </tr>\n",
       "  </thead>\n",
       "  <tbody>\n",
       "    <tr>\n",
       "      <th>0</th>\n",
       "      <td>0.000560</td>\n",
       "      <td>0.000559</td>\n",
       "      <td>218.931111</td>\n",
       "      <td>219.047059</td>\n",
       "      <td>0.385036</td>\n",
       "      <td>0.382759</td>\n",
       "      <td>11.041644</td>\n",
       "      <td>11.056423</td>\n",
       "      <td>0.023664</td>\n",
       "      <td>0.023634</td>\n",
       "      <td>0.106531</td>\n",
       "      <td>0.105428</td>\n",
       "      <td>8</td>\n",
       "      <td>1</td>\n",
       "      <td>10_A</td>\n",
       "    </tr>\n",
       "    <tr>\n",
       "      <th>5</th>\n",
       "      <td>0.000381</td>\n",
       "      <td>0.000383</td>\n",
       "      <td>302.398967</td>\n",
       "      <td>299.681248</td>\n",
       "      <td>0.367352</td>\n",
       "      <td>0.371699</td>\n",
       "      <td>13.224918</td>\n",
       "      <td>13.158797</td>\n",
       "      <td>0.019511</td>\n",
       "      <td>0.019573</td>\n",
       "      <td>0.086932</td>\n",
       "      <td>0.086379</td>\n",
       "      <td>8</td>\n",
       "      <td>1</td>\n",
       "      <td>11_A</td>\n",
       "    </tr>\n",
       "    <tr>\n",
       "      <th>14</th>\n",
       "      <td>0.000740</td>\n",
       "      <td>0.000737</td>\n",
       "      <td>194.193897</td>\n",
       "      <td>192.186004</td>\n",
       "      <td>0.340949</td>\n",
       "      <td>0.347341</td>\n",
       "      <td>10.389573</td>\n",
       "      <td>10.355175</td>\n",
       "      <td>0.027209</td>\n",
       "      <td>0.027140</td>\n",
       "      <td>0.112421</td>\n",
       "      <td>0.112791</td>\n",
       "      <td>8</td>\n",
       "      <td>1</td>\n",
       "      <td>13_A</td>\n",
       "    </tr>\n",
       "    <tr>\n",
       "      <th>19</th>\n",
       "      <td>0.000589</td>\n",
       "      <td>0.000578</td>\n",
       "      <td>211.280959</td>\n",
       "      <td>216.151676</td>\n",
       "      <td>0.365355</td>\n",
       "      <td>0.349626</td>\n",
       "      <td>10.963472</td>\n",
       "      <td>11.088518</td>\n",
       "      <td>0.024268</td>\n",
       "      <td>0.024038</td>\n",
       "      <td>0.105244</td>\n",
       "      <td>0.103858</td>\n",
       "      <td>8</td>\n",
       "      <td>1</td>\n",
       "      <td>14_A</td>\n",
       "    </tr>\n",
       "    <tr>\n",
       "      <th>25</th>\n",
       "      <td>0.001016</td>\n",
       "      <td>0.001005</td>\n",
       "      <td>125.493477</td>\n",
       "      <td>129.942448</td>\n",
       "      <td>0.389787</td>\n",
       "      <td>0.368334</td>\n",
       "      <td>8.384933</td>\n",
       "      <td>8.504090</td>\n",
       "      <td>0.031880</td>\n",
       "      <td>0.031707</td>\n",
       "      <td>0.130143</td>\n",
       "      <td>0.130093</td>\n",
       "      <td>8</td>\n",
       "      <td>0</td>\n",
       "      <td>15_A</td>\n",
       "    </tr>\n",
       "    <tr>\n",
       "      <th>...</th>\n",
       "      <td>...</td>\n",
       "      <td>...</td>\n",
       "      <td>...</td>\n",
       "      <td>...</td>\n",
       "      <td>...</td>\n",
       "      <td>...</td>\n",
       "      <td>...</td>\n",
       "      <td>...</td>\n",
       "      <td>...</td>\n",
       "      <td>...</td>\n",
       "      <td>...</td>\n",
       "      <td>...</td>\n",
       "      <td>...</td>\n",
       "      <td>...</td>\n",
       "      <td>...</td>\n",
       "    </tr>\n",
       "    <tr>\n",
       "      <th>4098</th>\n",
       "      <td>0.000355</td>\n",
       "      <td>0.000356</td>\n",
       "      <td>401.295713</td>\n",
       "      <td>406.205535</td>\n",
       "      <td>0.309834</td>\n",
       "      <td>0.301848</td>\n",
       "      <td>14.724052</td>\n",
       "      <td>14.745610</td>\n",
       "      <td>0.018836</td>\n",
       "      <td>0.018858</td>\n",
       "      <td>0.087387</td>\n",
       "      <td>0.088539</td>\n",
       "      <td>12</td>\n",
       "      <td>2</td>\n",
       "      <td>5_A</td>\n",
       "    </tr>\n",
       "    <tr>\n",
       "      <th>4105</th>\n",
       "      <td>0.000212</td>\n",
       "      <td>0.000212</td>\n",
       "      <td>775.322718</td>\n",
       "      <td>773.187599</td>\n",
       "      <td>0.237944</td>\n",
       "      <td>0.241044</td>\n",
       "      <td>20.692041</td>\n",
       "      <td>20.709060</td>\n",
       "      <td>0.014551</td>\n",
       "      <td>0.014546</td>\n",
       "      <td>0.066327</td>\n",
       "      <td>0.064902</td>\n",
       "      <td>12</td>\n",
       "      <td>2</td>\n",
       "      <td>6_A</td>\n",
       "    </tr>\n",
       "    <tr>\n",
       "      <th>4112</th>\n",
       "      <td>0.000346</td>\n",
       "      <td>0.000347</td>\n",
       "      <td>481.172257</td>\n",
       "      <td>486.141844</td>\n",
       "      <td>0.332131</td>\n",
       "      <td>0.325299</td>\n",
       "      <td>15.667647</td>\n",
       "      <td>15.703994</td>\n",
       "      <td>0.018600</td>\n",
       "      <td>0.018629</td>\n",
       "      <td>0.098011</td>\n",
       "      <td>0.097584</td>\n",
       "      <td>12</td>\n",
       "      <td>2</td>\n",
       "      <td>7_A</td>\n",
       "    </tr>\n",
       "    <tr>\n",
       "      <th>4119</th>\n",
       "      <td>0.000319</td>\n",
       "      <td>0.000332</td>\n",
       "      <td>403.020283</td>\n",
       "      <td>391.572719</td>\n",
       "      <td>0.349588</td>\n",
       "      <td>0.363965</td>\n",
       "      <td>15.088874</td>\n",
       "      <td>14.694055</td>\n",
       "      <td>0.017864</td>\n",
       "      <td>0.018217</td>\n",
       "      <td>0.080117</td>\n",
       "      <td>0.085360</td>\n",
       "      <td>12</td>\n",
       "      <td>1</td>\n",
       "      <td>8_A</td>\n",
       "    </tr>\n",
       "    <tr>\n",
       "      <th>4126</th>\n",
       "      <td>0.000330</td>\n",
       "      <td>0.000335</td>\n",
       "      <td>427.912013</td>\n",
       "      <td>425.953137</td>\n",
       "      <td>0.352564</td>\n",
       "      <td>0.359163</td>\n",
       "      <td>15.297405</td>\n",
       "      <td>15.184957</td>\n",
       "      <td>0.018162</td>\n",
       "      <td>0.018303</td>\n",
       "      <td>0.084012</td>\n",
       "      <td>0.087000</td>\n",
       "      <td>12</td>\n",
       "      <td>1</td>\n",
       "      <td>9_A</td>\n",
       "    </tr>\n",
       "  </tbody>\n",
       "</table>\n",
       "<p>540 rows × 15 columns</p>\n",
       "</div>"
      ],
      "text/plain": [
       "      SenteraASM50_0  SenteraASM50_90  Senteracontrast50_0  \\\n",
       "0           0.000560         0.000559           218.931111   \n",
       "5           0.000381         0.000383           302.398967   \n",
       "14          0.000740         0.000737           194.193897   \n",
       "19          0.000589         0.000578           211.280959   \n",
       "25          0.001016         0.001005           125.493477   \n",
       "...              ...              ...                  ...   \n",
       "4098        0.000355         0.000356           401.295713   \n",
       "4105        0.000212         0.000212           775.322718   \n",
       "4112        0.000346         0.000347           481.172257   \n",
       "4119        0.000319         0.000332           403.020283   \n",
       "4126        0.000330         0.000335           427.912013   \n",
       "\n",
       "      Senteracontrast50_90  Senteracorrelation50_0  Senteracorrelation50_90  \\\n",
       "0               219.047059                0.385036                 0.382759   \n",
       "5               299.681248                0.367352                 0.371699   \n",
       "14              192.186004                0.340949                 0.347341   \n",
       "19              216.151676                0.365355                 0.349626   \n",
       "25              129.942448                0.389787                 0.368334   \n",
       "...                    ...                     ...                      ...   \n",
       "4098            406.205535                0.309834                 0.301848   \n",
       "4105            773.187599                0.237944                 0.241044   \n",
       "4112            486.141844                0.332131                 0.325299   \n",
       "4119            391.572719                0.349588                 0.363965   \n",
       "4126            425.953137                0.352564                 0.359163   \n",
       "\n",
       "      Senteradissimilarity50_0  Senteradissimilarity50_90  Senteraenergy50_0  \\\n",
       "0                    11.041644                  11.056423           0.023664   \n",
       "5                    13.224918                  13.158797           0.019511   \n",
       "14                   10.389573                  10.355175           0.027209   \n",
       "19                   10.963472                  11.088518           0.024268   \n",
       "25                    8.384933                   8.504090           0.031880   \n",
       "...                        ...                        ...                ...   \n",
       "4098                 14.724052                  14.745610           0.018836   \n",
       "4105                 20.692041                  20.709060           0.014551   \n",
       "4112                 15.667647                  15.703994           0.018600   \n",
       "4119                 15.088874                  14.694055           0.017864   \n",
       "4126                 15.297405                  15.184957           0.018162   \n",
       "\n",
       "      Senteraenergy50_90  Senterahomogeneity50_0  Senterahomogeneity50_90  \\\n",
       "0               0.023634                0.106531                 0.105428   \n",
       "5               0.019573                0.086932                 0.086379   \n",
       "14              0.027140                0.112421                 0.112791   \n",
       "19              0.024038                0.105244                 0.103858   \n",
       "25              0.031707                0.130143                 0.130093   \n",
       "...                  ...                     ...                      ...   \n",
       "4098            0.018858                0.087387                 0.088539   \n",
       "4105            0.014546                0.066327                 0.064902   \n",
       "4112            0.018629                0.098011                 0.097584   \n",
       "4119            0.018217                0.080117                 0.085360   \n",
       "4126            0.018303                0.084012                 0.087000   \n",
       "\n",
       "      fly  landmark Place  \n",
       "0       8         1  10_A  \n",
       "5       8         1  11_A  \n",
       "14      8         1  13_A  \n",
       "19      8         1  14_A  \n",
       "25      8         0  15_A  \n",
       "...   ...       ...   ...  \n",
       "4098   12         2   5_A  \n",
       "4105   12         2   6_A  \n",
       "4112   12         2   7_A  \n",
       "4119   12         1   8_A  \n",
       "4126   12         1   9_A  \n",
       "\n",
       "[540 rows x 15 columns]"
      ]
     },
     "execution_count": 35,
     "metadata": {},
     "output_type": "execute_result"
    }
   ],
   "source": [
    "N_data.landmark.replace(n2clas, inplace=True)\n",
    "N_data"
   ]
  },
  {
   "cell_type": "code",
   "execution_count": 36,
   "id": "45c298c7",
   "metadata": {},
   "outputs": [
    {
     "data": {
      "text/plain": [
       "(540, 15)"
      ]
     },
     "execution_count": 36,
     "metadata": {},
     "output_type": "execute_result"
    }
   ],
   "source": [
    "N_data.shape"
   ]
  },
  {
   "cell_type": "code",
   "execution_count": 37,
   "id": "e7ed3ad4",
   "metadata": {},
   "outputs": [],
   "source": [
    "\n",
    "class datapaltas(Dataset):\n",
    "    def __init__(self, df=N_data, scale =True):\n",
    "        self.df = df\n",
    "\n",
    "    def __getitem__(self, index):\n",
    "        X = (self.df.iloc[index,:12]).values\n",
    "        X = X.astype(np.float64)\n",
    "        X = torch.from_numpy(X).float()\n",
    "        y = self.df.iloc[index,13]\n",
    "        #print(y)\n",
    "        y = torch.Tensor([y]).long()\n",
    "        return X, y\n",
    "    \n",
    "    def __len__(self):\n",
    "        return self.df.shape[0]"
   ]
  },
  {
   "cell_type": "code",
   "execution_count": 38,
   "id": "dac055bb",
   "metadata": {},
   "outputs": [],
   "source": [
    "class SimpleClassification(nn.Module):\n",
    "    \n",
    "    def __init__(self, n_features = 12, n_classes = 3):\n",
    "        super(SimpleClassification, self).__init__()\n",
    "        \n",
    "        self.l1 = nn.Linear(n_features, 64)\n",
    "        self.l2 = nn.Linear(64, 32)\n",
    "        self.l3 = nn.Linear(32, 16)\n",
    "        self.l4 = nn.Linear(16, n_classes)\n",
    "        \n",
    "        self.relu = nn.ReLU()\n",
    "        self.batchnorm1 = nn.BatchNorm1d(64)\n",
    "        self.batchnorm2 = nn.BatchNorm1d(32)\n",
    "        self.batchnorm3 = nn.BatchNorm1d(16)\n",
    "    \n",
    "    def forward(self, x):\n",
    "        x = self.relu(self.batchnorm1(self.l1(x)))\n",
    "        x = self.relu(self.batchnorm2(self.l2(x)))\n",
    "        x = self.relu(self.batchnorm3(self.l3(x)))\n",
    "        return self.l4(x)"
   ]
  },
  {
   "cell_type": "code",
   "execution_count": 39,
   "id": "18d19a1c",
   "metadata": {},
   "outputs": [
    {
     "data": {
      "text/plain": [
       "((tensor([5.5998e-04, 5.5856e-04, 2.1893e+02, 2.1905e+02, 3.8504e-01, 3.8276e-01,\n",
       "          1.1042e+01, 1.1056e+01, 2.3664e-02, 2.3634e-02, 1.0653e-01, 1.0543e-01]),\n",
       "  tensor([1])),\n",
       " (tensor([1.0163e-03, 1.0053e-03, 1.2549e+02, 1.2994e+02, 3.8979e-01, 3.6833e-01,\n",
       "          8.3849e+00, 8.5041e+00, 3.1880e-02, 3.1707e-02, 1.3014e-01, 1.3009e-01]),\n",
       "  tensor([0])))"
      ]
     },
     "execution_count": 39,
     "metadata": {},
     "output_type": "execute_result"
    }
   ],
   "source": [
    "a = datapaltas()\n",
    "a[0], a[4]"
   ]
  },
  {
   "cell_type": "code",
   "execution_count": 40,
   "id": "72dc67cb",
   "metadata": {},
   "outputs": [
    {
     "name": "stdout",
     "output_type": "stream",
     "text": [
      "SimpleClassification(\n",
      "  (l1): Linear(in_features=12, out_features=64, bias=True)\n",
      "  (l2): Linear(in_features=64, out_features=32, bias=True)\n",
      "  (l3): Linear(in_features=32, out_features=16, bias=True)\n",
      "  (l4): Linear(in_features=16, out_features=3, bias=True)\n",
      "  (relu): ReLU()\n",
      "  (batchnorm1): BatchNorm1d(64, eps=1e-05, momentum=0.1, affine=True, track_running_stats=True)\n",
      "  (batchnorm2): BatchNorm1d(32, eps=1e-05, momentum=0.1, affine=True, track_running_stats=True)\n",
      "  (batchnorm3): BatchNorm1d(16, eps=1e-05, momentum=0.1, affine=True, track_running_stats=True)\n",
      ")\n"
     ]
    }
   ],
   "source": [
    "a = datapaltas()\n",
    "train_loader = DataLoader(dataset=a, batch_size=64)\n",
    "model = SimpleClassification()\n",
    "model.to(device)\n",
    "criterion = nn.CrossEntropyLoss()\n",
    "optimizer = optim.Adam(model.parameters(), lr = 0.001)\n",
    "print(model)\n"
   ]
  },
  {
   "cell_type": "code",
   "execution_count": 44,
   "id": "fb7bf075",
   "metadata": {},
   "outputs": [],
   "source": [
    "def multi_acc(y_pred, y_test):\n",
    "    y_pred_softmax = torch.log_softmax(y_pred, dim = 1)\n",
    "    _, y_pred_tags = torch.max(y_pred_softmax, dim = 1)    \n",
    "    \n",
    "    correct_pred = (y_pred_tags == y_test).float()\n",
    "    acc = correct_pred.sum() / len(correct_pred)\n",
    "    \n",
    "    acc = torch.round(acc * 100)\n",
    "    \n",
    "    return acc\n",
    "\n",
    "def F1_score(prob, label):\n",
    "    y_pred_softmax = torch.log_softmax(prob, dim = 1)\n",
    "    _, y_pred_tags = torch.max(y_pred_softmax, dim = 1)\n",
    "    #print(y_pred_tags, label)\n",
    "    return f1_score(label.cpu(), y_pred_tags.cpu(), average='macro')"
   ]
  },
  {
   "cell_type": "code",
   "execution_count": 45,
   "id": "8c25e4b8",
   "metadata": {},
   "outputs": [
    {
     "name": "stderr",
     "output_type": "stream",
     "text": [
      "  1%|▌                                                                                 | 2/300 [00:00<00:58,  5.13it/s]"
     ]
    },
    {
     "name": "stdout",
     "output_type": "stream",
     "text": [
      "Loss 1: 9.853005588054657\n",
      "Acc 1: 38.111111111111114\n",
      "F1 1: 0.37939526737799534\n",
      "Loss 2: 9.445013403892517\n",
      "Acc 2: 43.44444444444444\n",
      "F1 2: 0.42755905795444654\n"
     ]
    },
    {
     "name": "stderr",
     "output_type": "stream",
     "text": [
      "  1%|█                                                                                 | 4/300 [00:00<00:52,  5.64it/s]"
     ]
    },
    {
     "name": "stdout",
     "output_type": "stream",
     "text": [
      "Loss 3: 9.340367496013641\n",
      "Acc 3: 44.44444444444444\n",
      "F1 3: 0.43488257079640946\n",
      "Loss 4: 9.266502141952515\n",
      "Acc 4: 44.333333333333336\n",
      "F1 4: 0.4351963855284287\n"
     ]
    },
    {
     "name": "stderr",
     "output_type": "stream",
     "text": [
      "  2%|█▋                                                                                | 6/300 [00:01<00:51,  5.73it/s]"
     ]
    },
    {
     "name": "stdout",
     "output_type": "stream",
     "text": [
      "Loss 5: 9.20389837026596\n",
      "Acc 5: 44.77777777777778\n",
      "F1 5: 0.43365607513021326\n",
      "Loss 6: 9.14435088634491\n",
      "Acc 6: 46.77777777777778\n",
      "F1 6: 0.4589205518382263\n"
     ]
    },
    {
     "name": "stderr",
     "output_type": "stream",
     "text": [
      "  3%|██▏                                                                               | 8/300 [00:01<00:51,  5.71it/s]"
     ]
    },
    {
     "name": "stdout",
     "output_type": "stream",
     "text": [
      "Loss 7: 9.10564386844635\n",
      "Acc 7: 47.888888888888886\n",
      "F1 7: 0.4602357585218165\n",
      "Loss 8: 9.101167917251587\n",
      "Acc 8: 48.0\n",
      "F1 8: 0.4674447937088177\n"
     ]
    },
    {
     "name": "stderr",
     "output_type": "stream",
     "text": [
      "  3%|██▍                                                                               | 9/300 [00:01<00:50,  5.77it/s]"
     ]
    },
    {
     "name": "stdout",
     "output_type": "stream",
     "text": [
      "Loss 9: 9.074259519577026\n",
      "Acc 9: 47.888888888888886\n",
      "F1 9: 0.4611753609633251\n"
     ]
    },
    {
     "name": "stderr",
     "output_type": "stream",
     "text": [
      "  4%|██▉                                                                              | 11/300 [00:01<00:52,  5.54it/s]"
     ]
    },
    {
     "name": "stdout",
     "output_type": "stream",
     "text": [
      "Loss 10: 9.007554769515991\n",
      "Acc 10: 48.0\n",
      "F1 10: 0.46407704331197586\n",
      "Loss 11: 8.96095985174179\n",
      "Acc 11: 49.888888888888886\n",
      "F1 11: 0.48559434887043057\n"
     ]
    },
    {
     "name": "stderr",
     "output_type": "stream",
     "text": [
      "  4%|███▌                                                                             | 13/300 [00:02<00:50,  5.72it/s]"
     ]
    },
    {
     "name": "stdout",
     "output_type": "stream",
     "text": [
      "Loss 12: 8.929899454116821\n",
      "Acc 12: 48.55555555555556\n",
      "F1 12: 0.47511771903124056\n",
      "Loss 13: 8.895259499549866\n",
      "Acc 13: 48.111111111111114\n",
      "F1 13: 0.46275131093979016\n"
     ]
    },
    {
     "name": "stderr",
     "output_type": "stream",
     "text": [
      "  5%|███▊                                                                             | 14/300 [00:02<00:49,  5.74it/s]"
     ]
    },
    {
     "name": "stdout",
     "output_type": "stream",
     "text": [
      "Loss 14: 8.899052441120148\n",
      "Acc 14: 48.77777777777778\n",
      "F1 14: 0.46733589579784734\n"
     ]
    },
    {
     "name": "stderr",
     "output_type": "stream",
     "text": [
      "  5%|████▎                                                                            | 16/300 [00:02<00:49,  5.69it/s]"
     ]
    },
    {
     "name": "stdout",
     "output_type": "stream",
     "text": [
      "Loss 15: 8.891969561576843\n",
      "Acc 15: 48.55555555555556\n",
      "F1 15: 0.45792355547534835\n",
      "Loss 16: 8.87608540058136\n",
      "Acc 16: 48.111111111111114\n",
      "F1 16: 0.46731999973397836\n"
     ]
    },
    {
     "name": "stderr",
     "output_type": "stream",
     "text": [
      "  6%|████▊                                                                            | 18/300 [00:03<00:52,  5.33it/s]"
     ]
    },
    {
     "name": "stdout",
     "output_type": "stream",
     "text": [
      "Loss 17: 8.775278866291046\n",
      "Acc 17: 50.77777777777778\n",
      "F1 17: 0.4860448362963577\n",
      "Loss 18: 8.691391468048096\n",
      "Acc 18: 51.77777777777778\n",
      "F1 18: 0.49640822186309\n"
     ]
    },
    {
     "name": "stderr",
     "output_type": "stream",
     "text": [
      "  7%|█████▍                                                                           | 20/300 [00:03<00:51,  5.48it/s]"
     ]
    },
    {
     "name": "stdout",
     "output_type": "stream",
     "text": [
      "Loss 19: 8.751885175704956\n",
      "Acc 19: 51.111111111111114\n",
      "F1 19: 0.49453877408754704\n",
      "Loss 20: 8.657425105571747\n",
      "Acc 20: 54.0\n",
      "F1 20: 0.5246226290419986\n"
     ]
    },
    {
     "name": "stderr",
     "output_type": "stream",
     "text": [
      "  7%|█████▉                                                                           | 22/300 [00:03<00:49,  5.60it/s]"
     ]
    },
    {
     "name": "stdout",
     "output_type": "stream",
     "text": [
      "Loss 21: 8.801645040512085\n",
      "Acc 21: 49.77777777777778\n",
      "F1 21: 0.4748317618472109\n",
      "Loss 22: 8.629363417625427\n",
      "Acc 22: 53.111111111111114\n",
      "F1 22: 0.5127838243035977\n"
     ]
    },
    {
     "name": "stderr",
     "output_type": "stream",
     "text": [
      "  8%|██████▍                                                                          | 24/300 [00:04<00:48,  5.67it/s]"
     ]
    },
    {
     "name": "stdout",
     "output_type": "stream",
     "text": [
      "Loss 23: 8.665714502334595\n",
      "Acc 23: 52.111111111111114\n",
      "F1 23: 0.5061173762362468\n",
      "Loss 24: 8.510021030902863\n",
      "Acc 24: 55.111111111111114\n",
      "F1 24: 0.5343790783391713\n"
     ]
    },
    {
     "name": "stderr",
     "output_type": "stream",
     "text": [
      "  9%|███████                                                                          | 26/300 [00:04<00:47,  5.79it/s]"
     ]
    },
    {
     "name": "stdout",
     "output_type": "stream",
     "text": [
      "Loss 25: 8.459161639213562\n",
      "Acc 25: 55.333333333333336\n",
      "F1 25: 0.5368603461053357\n",
      "Loss 26: 8.43934577703476\n",
      "Acc 26: 54.666666666666664\n",
      "F1 26: 0.5306775035541687\n"
     ]
    },
    {
     "name": "stderr",
     "output_type": "stream",
     "text": [
      "  9%|███████▌                                                                         | 28/300 [00:05<00:48,  5.63it/s]"
     ]
    },
    {
     "name": "stdout",
     "output_type": "stream",
     "text": [
      "Loss 27: 8.33408534526825\n",
      "Acc 27: 56.666666666666664\n",
      "F1 27: 0.5553342425448071\n",
      "Loss 28: 8.352182388305664\n",
      "Acc 28: 53.22222222222222\n",
      "F1 28: 0.5216751796334529\n"
     ]
    },
    {
     "name": "stderr",
     "output_type": "stream",
     "text": [
      " 10%|████████                                                                         | 30/300 [00:05<00:47,  5.73it/s]"
     ]
    },
    {
     "name": "stdout",
     "output_type": "stream",
     "text": [
      "Loss 29: 8.278263807296753\n",
      "Acc 29: 56.666666666666664\n",
      "F1 29: 0.5543561542596629\n",
      "Loss 30: 8.280331790447235\n",
      "Acc 30: 54.77777777777778\n",
      "F1 30: 0.5372443413903452\n"
     ]
    },
    {
     "name": "stderr",
     "output_type": "stream",
     "text": [
      " 11%|████████▋                                                                        | 32/300 [00:05<00:46,  5.82it/s]"
     ]
    },
    {
     "name": "stdout",
     "output_type": "stream",
     "text": [
      "Loss 31: 8.289100289344788\n",
      "Acc 31: 53.0\n",
      "F1 31: 0.5207139575027957\n",
      "Loss 32: 8.207722067832947\n",
      "Acc 32: 56.44444444444444\n",
      "F1 32: 0.5573031336056812\n"
     ]
    },
    {
     "name": "stderr",
     "output_type": "stream",
     "text": [
      " 11%|████████▉                                                                        | 33/300 [00:05<00:46,  5.77it/s]"
     ]
    },
    {
     "name": "stdout",
     "output_type": "stream",
     "text": [
      "Loss 33: 8.182253181934357\n",
      "Acc 33: 55.44444444444444\n",
      "F1 33: 0.5376979607954363\n",
      "Loss 34: 8.1004056930542\n",
      "Acc 34: 55.22222222222222\n"
     ]
    },
    {
     "name": "stderr",
     "output_type": "stream",
     "text": [
      " 12%|█████████▍                                                                       | 35/300 [00:06<00:47,  5.57it/s]"
     ]
    },
    {
     "name": "stdout",
     "output_type": "stream",
     "text": [
      "F1 34: 0.5426200278290464\n",
      "Loss 35: 8.02328073978424\n",
      "Acc 35: 58.77777777777778\n",
      "F1 35: 0.5737319637176538\n"
     ]
    },
    {
     "name": "stderr",
     "output_type": "stream",
     "text": [
      " 12%|█████████▉                                                                       | 37/300 [00:06<00:46,  5.65it/s]"
     ]
    },
    {
     "name": "stdout",
     "output_type": "stream",
     "text": [
      "Loss 36: 7.965907275676727\n",
      "Acc 36: 58.111111111111114\n",
      "F1 36: 0.5706643105706357\n",
      "Loss 37: 7.894464135169983\n",
      "Acc 37: 55.666666666666664\n",
      "F1 37: 0.5460660958671588\n"
     ]
    },
    {
     "name": "stderr",
     "output_type": "stream",
     "text": [
      " 13%|██████████▌                                                                      | 39/300 [00:06<00:45,  5.74it/s]"
     ]
    },
    {
     "name": "stdout",
     "output_type": "stream",
     "text": [
      "Loss 38: 7.974254608154297\n",
      "Acc 38: 56.77777777777778\n",
      "F1 38: 0.557088350723959\n",
      "Loss 39: 7.821860611438751\n",
      "Acc 39: 59.888888888888886\n",
      "F1 39: 0.5905703118003405\n"
     ]
    },
    {
     "name": "stderr",
     "output_type": "stream",
     "text": [
      " 14%|███████████                                                                      | 41/300 [00:07<00:44,  5.76it/s]"
     ]
    },
    {
     "name": "stdout",
     "output_type": "stream",
     "text": [
      "Loss 40: 7.7711034417152405\n",
      "Acc 40: 57.55555555555556\n",
      "F1 40: 0.5668067955377063\n",
      "Loss 41: 7.707392752170563\n",
      "Acc 41: 58.44444444444444\n",
      "F1 41: 0.5712738558467296\n"
     ]
    },
    {
     "name": "stderr",
     "output_type": "stream",
     "text": [
      " 14%|███████████▌                                                                     | 43/300 [00:07<00:44,  5.73it/s]"
     ]
    },
    {
     "name": "stdout",
     "output_type": "stream",
     "text": [
      "Loss 42: 7.7904117703437805\n",
      "Acc 42: 60.55555555555556\n",
      "F1 42: 0.5968841024513468\n",
      "Loss 43: 7.660676300525665\n",
      "Acc 43: 60.0\n",
      "F1 43: 0.5938701081887782\n"
     ]
    },
    {
     "name": "stderr",
     "output_type": "stream",
     "text": [
      " 15%|███████████▉                                                                     | 44/300 [00:07<00:46,  5.48it/s]"
     ]
    },
    {
     "name": "stdout",
     "output_type": "stream",
     "text": [
      "Loss 44: 7.592193901538849\n",
      "Acc 44: 58.888888888888886\n",
      "F1 44: 0.5765785142699383\n"
     ]
    },
    {
     "name": "stderr",
     "output_type": "stream",
     "text": [
      " 15%|████████████▏                                                                    | 45/300 [00:08<00:48,  5.28it/s]"
     ]
    },
    {
     "name": "stdout",
     "output_type": "stream",
     "text": [
      "Loss 45: 7.592845797538757\n",
      "Acc 45: 58.666666666666664\n",
      "F1 45: 0.5715745635732981\n"
     ]
    },
    {
     "name": "stderr",
     "output_type": "stream",
     "text": [
      " 16%|████████████▋                                                                    | 47/300 [00:08<00:49,  5.11it/s]"
     ]
    },
    {
     "name": "stdout",
     "output_type": "stream",
     "text": [
      "Loss 46: 7.543137192726135\n",
      "Acc 46: 61.333333333333336\n",
      "F1 46: 0.5997598729303439\n",
      "Loss 47: 7.3462106585502625\n",
      "Acc 47: 60.77777777777778\n",
      "F1 47: 0.5944674073837226\n"
     ]
    },
    {
     "name": "stderr",
     "output_type": "stream",
     "text": [
      " 16%|█████████████▏                                                                   | 49/300 [00:08<00:48,  5.19it/s]"
     ]
    },
    {
     "name": "stdout",
     "output_type": "stream",
     "text": [
      "Loss 48: 7.656003713607788\n",
      "Acc 48: 59.0\n",
      "F1 48: 0.5785123503550245\n",
      "Loss 49: 7.364558815956116\n",
      "Acc 49: 61.55555555555556\n",
      "F1 49: 0.6005165466827991\n"
     ]
    },
    {
     "name": "stderr",
     "output_type": "stream",
     "text": [
      " 17%|█████████████▊                                                                   | 51/300 [00:09<00:46,  5.34it/s]"
     ]
    },
    {
     "name": "stdout",
     "output_type": "stream",
     "text": [
      "Loss 50: 7.695102035999298\n",
      "Acc 50: 57.666666666666664\n",
      "F1 50: 0.5663055874822047\n",
      "Loss 51: 7.5730937123298645\n",
      "Acc 51: 60.55555555555556\n",
      "F1 51: 0.5949795862427085\n"
     ]
    },
    {
     "name": "stderr",
     "output_type": "stream",
     "text": [
      " 18%|██████████████▎                                                                  | 53/300 [00:09<00:45,  5.44it/s]"
     ]
    },
    {
     "name": "stdout",
     "output_type": "stream",
     "text": [
      "Loss 52: 7.6716665625572205\n",
      "Acc 52: 59.333333333333336\n",
      "F1 52: 0.5778503550503871\n",
      "Loss 53: 7.981675326824188\n",
      "Acc 53: 57.44444444444444\n",
      "F1 53: 0.5613605882682378\n"
     ]
    },
    {
     "name": "stderr",
     "output_type": "stream",
     "text": [
      " 18%|██████████████▊                                                                  | 55/300 [00:09<00:43,  5.58it/s]"
     ]
    },
    {
     "name": "stdout",
     "output_type": "stream",
     "text": [
      "Loss 54: 7.382766306400299\n",
      "Acc 54: 62.55555555555556\n",
      "F1 54: 0.6084566749901682\n",
      "Loss 55: 7.41711300611496\n",
      "Acc 55: 59.111111111111114\n",
      "F1 55: 0.5695622494292791\n"
     ]
    },
    {
     "name": "stderr",
     "output_type": "stream",
     "text": [
      " 19%|███████████████▍                                                                 | 57/300 [00:10<00:42,  5.69it/s]"
     ]
    },
    {
     "name": "stdout",
     "output_type": "stream",
     "text": [
      "Loss 56: 7.533971726894379\n",
      "Acc 56: 57.0\n",
      "F1 56: 0.551347753094879\n",
      "Loss 57: 7.3922311663627625\n",
      "Acc 57: 61.22222222222222\n",
      "F1 57: 0.5968967940945346\n"
     ]
    },
    {
     "name": "stderr",
     "output_type": "stream",
     "text": [
      " 20%|███████████████▉                                                                 | 59/300 [00:10<00:42,  5.68it/s]"
     ]
    },
    {
     "name": "stdout",
     "output_type": "stream",
     "text": [
      "Loss 58: 7.3387211561203\n",
      "Acc 58: 62.77777777777778\n",
      "F1 58: 0.6096357290317708\n",
      "Loss 59: 7.2609933614730835\n",
      "Acc 59: 63.22222222222222\n",
      "F1 59: 0.6147813197098455\n"
     ]
    },
    {
     "name": "stderr",
     "output_type": "stream",
     "text": [
      " 20%|████████████████▏                                                                | 60/300 [00:10<00:42,  5.63it/s]"
     ]
    },
    {
     "name": "stdout",
     "output_type": "stream",
     "text": [
      "Loss 60: 7.217138290405273\n",
      "Acc 60: 64.22222222222223\n",
      "F1 60: 0.6314731789759818\n"
     ]
    },
    {
     "name": "stderr",
     "output_type": "stream",
     "text": [
      " 21%|████████████████▋                                                                | 62/300 [00:11<00:43,  5.52it/s]"
     ]
    },
    {
     "name": "stdout",
     "output_type": "stream",
     "text": [
      "Loss 61: 7.116723835468292\n",
      "Acc 61: 64.66666666666667\n",
      "F1 61: 0.6359213233834756\n",
      "Loss 62: 6.790737986564636\n",
      "Acc 62: 67.66666666666667\n",
      "F1 62: 0.6634251796937487\n"
     ]
    },
    {
     "name": "stderr",
     "output_type": "stream",
     "text": [
      " 21%|█████████████████▎                                                               | 64/300 [00:11<00:44,  5.28it/s]"
     ]
    },
    {
     "name": "stdout",
     "output_type": "stream",
     "text": [
      "Loss 63: 6.761032044887543\n",
      "Acc 63: 66.88888888888889\n",
      "F1 63: 0.6534993916139916\n",
      "Loss 64: 6.665195047855377\n",
      "Acc 64: 65.33333333333333\n",
      "F1 64: 0.6432839208831078\n"
     ]
    },
    {
     "name": "stderr",
     "output_type": "stream",
     "text": [
      " 22%|█████████████████▊                                                               | 66/300 [00:11<00:45,  5.13it/s]"
     ]
    },
    {
     "name": "stdout",
     "output_type": "stream",
     "text": [
      "Loss 65: 6.589561402797699\n",
      "Acc 65: 66.22222222222223\n",
      "F1 65: 0.6487900375035697\n",
      "Loss 66: 6.587515830993652\n",
      "Acc 66: 65.22222222222223\n",
      "F1 66: 0.6361348823429941\n"
     ]
    },
    {
     "name": "stderr",
     "output_type": "stream",
     "text": [
      " 23%|██████████████████▎                                                              | 68/300 [00:12<00:43,  5.36it/s]"
     ]
    },
    {
     "name": "stdout",
     "output_type": "stream",
     "text": [
      "Loss 67: 6.578770756721497\n",
      "Acc 67: 68.22222222222223\n",
      "F1 67: 0.6760016346911795\n",
      "Loss 68: 6.605592131614685\n",
      "Acc 68: 67.55555555555556\n",
      "F1 68: 0.6655291523431422\n"
     ]
    },
    {
     "name": "stderr",
     "output_type": "stream",
     "text": [
      " 23%|██████████████████▉                                                              | 70/300 [00:12<00:41,  5.54it/s]"
     ]
    },
    {
     "name": "stdout",
     "output_type": "stream",
     "text": [
      "Loss 69: 6.355917274951935\n",
      "Acc 69: 67.33333333333333\n",
      "F1 69: 0.659604654629053\n",
      "Loss 70: 6.542457103729248\n",
      "Acc 70: 66.55555555555556\n",
      "F1 70: 0.6507660572963839\n"
     ]
    },
    {
     "name": "stderr",
     "output_type": "stream",
     "text": [
      " 24%|███████████████████▍                                                             | 72/300 [00:13<00:41,  5.53it/s]"
     ]
    },
    {
     "name": "stdout",
     "output_type": "stream",
     "text": [
      "Loss 71: 6.58845055103302\n",
      "Acc 71: 67.44444444444444\n",
      "F1 71: 0.664912730305637\n",
      "Loss 72: 6.499307453632355\n",
      "Acc 72: 65.77777777777777\n",
      "F1 72: 0.6460138949687095\n"
     ]
    },
    {
     "name": "stderr",
     "output_type": "stream",
     "text": [
      " 25%|███████████████████▉                                                             | 74/300 [00:13<00:39,  5.69it/s]"
     ]
    },
    {
     "name": "stdout",
     "output_type": "stream",
     "text": [
      "Loss 73: 6.678768455982208\n",
      "Acc 73: 63.888888888888886\n",
      "F1 73: 0.6240164306713302\n",
      "Loss 74: 6.926453649997711\n",
      "Acc 74: 63.666666666666664\n",
      "F1 74: 0.6228130754490439\n"
     ]
    },
    {
     "name": "stderr",
     "output_type": "stream",
     "text": [
      " 25%|████████████████████▌                                                            | 76/300 [00:13<00:39,  5.73it/s]"
     ]
    },
    {
     "name": "stdout",
     "output_type": "stream",
     "text": [
      "Loss 75: 6.500226438045502\n",
      "Acc 75: 67.22222222222223\n",
      "F1 75: 0.6613263525165823\n",
      "Loss 76: 6.447935998439789\n",
      "Acc 76: 69.33333333333333\n",
      "F1 76: 0.6828647256898527\n"
     ]
    },
    {
     "name": "stderr",
     "output_type": "stream",
     "text": [
      " 26%|█████████████████████                                                            | 78/300 [00:14<00:39,  5.61it/s]"
     ]
    },
    {
     "name": "stdout",
     "output_type": "stream",
     "text": [
      "Loss 77: 6.288980543613434\n",
      "Acc 77: 65.77777777777777\n",
      "F1 77: 0.64733684446681\n",
      "Loss 78: 6.201072543859482\n",
      "Acc 78: 69.22222222222223\n",
      "F1 78: 0.6840133016091734\n"
     ]
    },
    {
     "name": "stderr",
     "output_type": "stream",
     "text": [
      " 27%|█████████████████████▌                                                           | 80/300 [00:14<00:39,  5.63it/s]"
     ]
    },
    {
     "name": "stdout",
     "output_type": "stream",
     "text": [
      "Loss 79: 6.038851588964462\n",
      "Acc 79: 69.88888888888889\n",
      "F1 79: 0.6918292949616277\n",
      "Loss 80: 6.0291528403759\n",
      "Acc 80: 67.88888888888889\n",
      "F1 80: 0.669975287164324\n"
     ]
    },
    {
     "name": "stderr",
     "output_type": "stream",
     "text": [
      " 27%|██████████████████████▏                                                          | 82/300 [00:14<00:38,  5.73it/s]"
     ]
    },
    {
     "name": "stdout",
     "output_type": "stream",
     "text": [
      "Loss 81: 6.032125115394592\n",
      "Acc 81: 69.66666666666667\n",
      "F1 81: 0.6887761682913365\n",
      "Loss 82: 6.000912249088287\n",
      "Acc 82: 68.44444444444444\n",
      "F1 82: 0.6749243793413421\n"
     ]
    },
    {
     "name": "stderr",
     "output_type": "stream",
     "text": [
      " 28%|██████████████████████▋                                                          | 84/300 [00:15<00:37,  5.77it/s]"
     ]
    },
    {
     "name": "stdout",
     "output_type": "stream",
     "text": [
      "Loss 83: 6.245327949523926\n",
      "Acc 83: 68.33333333333333\n",
      "F1 83: 0.6676107174462533\n",
      "Loss 84: 6.004809468984604\n",
      "Acc 84: 69.77777777777777\n",
      "F1 84: 0.6866836649123179\n"
     ]
    },
    {
     "name": "stderr",
     "output_type": "stream",
     "text": [
      " 29%|███████████████████████▏                                                         | 86/300 [00:15<00:36,  5.83it/s]"
     ]
    },
    {
     "name": "stdout",
     "output_type": "stream",
     "text": [
      "Loss 85: 5.971723347902298\n",
      "Acc 85: 68.66666666666667\n",
      "F1 85: 0.6768626143296754\n",
      "Loss 86: 5.9603128135204315\n",
      "Acc 86: 69.55555555555556\n",
      "F1 86: 0.6887753257451044\n"
     ]
    },
    {
     "name": "stderr",
     "output_type": "stream",
     "text": [
      " 29%|███████████████████████▍                                                         | 87/300 [00:15<00:36,  5.90it/s]"
     ]
    },
    {
     "name": "stdout",
     "output_type": "stream",
     "text": [
      "Loss 87: 5.892163127660751\n",
      "Acc 87: 71.88888888888889\n",
      "F1 87: 0.7077343193694582\n"
     ]
    },
    {
     "name": "stderr",
     "output_type": "stream",
     "text": [
      " 30%|████████████████████████                                                         | 89/300 [00:16<00:37,  5.67it/s]"
     ]
    },
    {
     "name": "stdout",
     "output_type": "stream",
     "text": [
      "Loss 88: 5.943624973297119\n",
      "Acc 88: 69.77777777777777\n",
      "F1 88: 0.6916109444326028\n",
      "Loss 89: 5.924682140350342\n",
      "Acc 89: 72.0\n",
      "F1 89: 0.7150926593473498\n"
     ]
    },
    {
     "name": "stderr",
     "output_type": "stream",
     "text": [
      " 30%|████████████████████████▌                                                        | 91/300 [00:16<00:37,  5.61it/s]"
     ]
    },
    {
     "name": "stdout",
     "output_type": "stream",
     "text": [
      "Loss 90: 5.913024872541428\n",
      "Acc 90: 67.88888888888889\n",
      "F1 90: 0.6703162270398996\n",
      "Loss 91: 5.9288953840732574\n",
      "Acc 91: 71.66666666666667\n",
      "F1 91: 0.7062236115941514\n"
     ]
    },
    {
     "name": "stderr",
     "output_type": "stream",
     "text": [
      " 31%|█████████████████████████                                                        | 93/300 [00:16<00:35,  5.86it/s]"
     ]
    },
    {
     "name": "stdout",
     "output_type": "stream",
     "text": [
      "Loss 92: 6.055673062801361\n",
      "Acc 92: 71.11111111111111\n",
      "F1 92: 0.7038459969807573\n",
      "Loss 93: 6.262152850627899\n",
      "Acc 93: 69.33333333333333\n",
      "F1 93: 0.686615799145048\n"
     ]
    },
    {
     "name": "stderr",
     "output_type": "stream",
     "text": [
      " 32%|█████████████████████████▋                                                       | 95/300 [00:17<00:34,  5.92it/s]"
     ]
    },
    {
     "name": "stdout",
     "output_type": "stream",
     "text": [
      "Loss 94: 6.1066285371780396\n",
      "Acc 94: 68.11111111111111\n",
      "F1 94: 0.6730715130669113\n",
      "Loss 95: 5.908820629119873\n",
      "Acc 95: 70.55555555555556\n",
      "F1 95: 0.694481312925918\n"
     ]
    },
    {
     "name": "stderr",
     "output_type": "stream",
     "text": [
      " 32%|██████████████████████████▏                                                      | 97/300 [00:17<00:34,  5.84it/s]"
     ]
    },
    {
     "name": "stdout",
     "output_type": "stream",
     "text": [
      "Loss 96: 5.961197763681412\n",
      "Acc 96: 68.22222222222223\n",
      "F1 96: 0.6722515968178933\n",
      "Loss 97: 5.9891057908535\n",
      "Acc 97: 70.33333333333333\n",
      "F1 97: 0.6984318399488029\n"
     ]
    },
    {
     "name": "stderr",
     "output_type": "stream",
     "text": [
      " 33%|██████████████████████████▋                                                      | 99/300 [00:17<00:34,  5.81it/s]"
     ]
    },
    {
     "name": "stdout",
     "output_type": "stream",
     "text": [
      "Loss 98: 5.873534619808197\n",
      "Acc 98: 72.44444444444444\n",
      "F1 98: 0.7121146485520566\n",
      "Loss 99: 5.633128494024277\n",
      "Acc 99: 72.0\n",
      "F1 99: 0.711229420492164\n"
     ]
    },
    {
     "name": "stderr",
     "output_type": "stream",
     "text": [
      " 34%|██████████████████████████▉                                                     | 101/300 [00:18<00:34,  5.84it/s]"
     ]
    },
    {
     "name": "stdout",
     "output_type": "stream",
     "text": [
      "Loss 100: 5.59042689204216\n",
      "Acc 100: 72.33333333333333\n",
      "F1 100: 0.7184357127418897\n",
      "Loss 101: 5.488157570362091\n",
      "Acc 101: 73.0\n",
      "F1 101: 0.7253328237351557\n"
     ]
    },
    {
     "name": "stderr",
     "output_type": "stream",
     "text": [
      " 34%|███████████████████████████▍                                                    | 103/300 [00:18<00:36,  5.41it/s]"
     ]
    },
    {
     "name": "stdout",
     "output_type": "stream",
     "text": [
      "Loss 102: 5.372105717658997\n",
      "Acc 102: 74.88888888888889\n",
      "F1 102: 0.7386992621600865\n",
      "Loss 103: 5.301766395568848\n",
      "Acc 103: 74.33333333333333\n",
      "F1 103: 0.7327527040809999\n"
     ]
    },
    {
     "name": "stderr",
     "output_type": "stream",
     "text": [
      " 35%|████████████████████████████                                                    | 105/300 [00:18<00:36,  5.29it/s]"
     ]
    },
    {
     "name": "stdout",
     "output_type": "stream",
     "text": [
      "Loss 104: 5.244672536849976\n",
      "Acc 104: 75.33333333333333\n",
      "F1 104: 0.7496513564040229\n",
      "Loss 105: 5.199231922626495\n",
      "Acc 105: 74.88888888888889\n",
      "F1 105: 0.7415599866150222\n"
     ]
    },
    {
     "name": "stderr",
     "output_type": "stream",
     "text": [
      " 36%|████████████████████████████▌                                                   | 107/300 [00:19<00:35,  5.43it/s]"
     ]
    },
    {
     "name": "stdout",
     "output_type": "stream",
     "text": [
      "Loss 106: 5.180384635925293\n",
      "Acc 106: 75.22222222222223\n",
      "F1 106: 0.749422919973677\n",
      "Loss 107: 5.186217188835144\n",
      "Acc 107: 75.22222222222223\n",
      "F1 107: 0.7499590203221344\n"
     ]
    },
    {
     "name": "stderr",
     "output_type": "stream",
     "text": [
      " 36%|█████████████████████████████                                                   | 109/300 [00:19<00:33,  5.67it/s]"
     ]
    },
    {
     "name": "stdout",
     "output_type": "stream",
     "text": [
      "Loss 108: 5.333979576826096\n",
      "Acc 108: 75.33333333333333\n",
      "F1 108: 0.7498066409609341\n",
      "Loss 109: 5.346033036708832\n",
      "Acc 109: 74.66666666666667\n",
      "F1 109: 0.7432461162360798\n"
     ]
    },
    {
     "name": "stderr",
     "output_type": "stream",
     "text": [
      " 37%|█████████████████████████████▌                                                  | 111/300 [00:19<00:33,  5.72it/s]"
     ]
    },
    {
     "name": "stdout",
     "output_type": "stream",
     "text": [
      "Loss 110: 5.365618944168091\n",
      "Acc 110: 73.22222222222223\n",
      "F1 110: 0.7265395875587628\n",
      "Loss 111: 5.239118367433548\n",
      "Acc 111: 74.55555555555556\n",
      "F1 111: 0.7413613131674841\n"
     ]
    },
    {
     "name": "stderr",
     "output_type": "stream",
     "text": [
      " 38%|██████████████████████████████▏                                                 | 113/300 [00:20<00:34,  5.43it/s]"
     ]
    },
    {
     "name": "stdout",
     "output_type": "stream",
     "text": [
      "Loss 112: 5.3825695514678955\n",
      "Acc 112: 72.55555555555556\n",
      "F1 112: 0.7152296754698592\n",
      "Loss 113: 5.362541228532791\n",
      "Acc 113: 73.22222222222223\n",
      "F1 113: 0.7268949332564095\n"
     ]
    },
    {
     "name": "stderr",
     "output_type": "stream",
     "text": [
      " 38%|██████████████████████████████▋                                                 | 115/300 [00:20<00:32,  5.68it/s]"
     ]
    },
    {
     "name": "stdout",
     "output_type": "stream",
     "text": [
      "Loss 114: 5.161799758672714\n",
      "Acc 114: 75.77777777777777\n",
      "F1 114: 0.7538958390925932\n",
      "Loss 115: 5.087580740451813\n",
      "Acc 115: 76.44444444444444\n",
      "F1 115: 0.7609207555108769\n"
     ]
    },
    {
     "name": "stderr",
     "output_type": "stream",
     "text": [
      " 39%|███████████████████████████████▏                                                | 117/300 [00:21<00:32,  5.59it/s]"
     ]
    },
    {
     "name": "stdout",
     "output_type": "stream",
     "text": [
      "Loss 116: 5.022167205810547\n",
      "Acc 116: 76.33333333333333\n",
      "F1 116: 0.7568978308163334\n",
      "Loss 117: 5.058456987142563\n",
      "Acc 117: 76.22222222222223\n",
      "F1 117: 0.7574203475662168\n"
     ]
    },
    {
     "name": "stderr",
     "output_type": "stream",
     "text": [
      " 40%|███████████████████████████████▋                                                | 119/300 [00:21<00:32,  5.61it/s]"
     ]
    },
    {
     "name": "stdout",
     "output_type": "stream",
     "text": [
      "Loss 118: 5.019551187753677\n",
      "Acc 118: 75.66666666666667\n",
      "F1 118: 0.7510486948741071\n",
      "Loss 119: 4.991567969322205\n",
      "Acc 119: 74.55555555555556\n",
      "F1 119: 0.7403728815655038\n"
     ]
    },
    {
     "name": "stderr",
     "output_type": "stream",
     "text": [
      " 40%|████████████████████████████████                                                | 120/300 [00:21<00:31,  5.64it/s]"
     ]
    },
    {
     "name": "stdout",
     "output_type": "stream",
     "text": [
      "Loss 120: 5.231218636035919\n",
      "Acc 120: 75.22222222222223\n",
      "F1 120: 0.7469817865992389\n"
     ]
    },
    {
     "name": "stderr",
     "output_type": "stream",
     "text": [
      " 41%|████████████████████████████████▌                                               | 122/300 [00:21<00:32,  5.45it/s]"
     ]
    },
    {
     "name": "stdout",
     "output_type": "stream",
     "text": [
      "Loss 121: 5.151490092277527\n",
      "Acc 121: 73.88888888888889\n",
      "F1 121: 0.7279537028883828\n",
      "Loss 122: 4.995742201805115\n",
      "Acc 122: 74.44444444444444\n",
      "F1 122: 0.7409585344787868\n"
     ]
    },
    {
     "name": "stderr",
     "output_type": "stream",
     "text": [
      " 41%|█████████████████████████████████                                               | 124/300 [00:22<00:31,  5.57it/s]"
     ]
    },
    {
     "name": "stdout",
     "output_type": "stream",
     "text": [
      "Loss 123: 4.832401782274246\n",
      "Acc 123: 76.11111111111111\n",
      "F1 123: 0.7567292216132997\n",
      "Loss 124: 5.045764982700348\n",
      "Acc 124: 75.44444444444444\n",
      "F1 124: 0.7491646106795862\n"
     ]
    },
    {
     "name": "stderr",
     "output_type": "stream",
     "text": [
      " 42%|█████████████████████████████████▌                                              | 126/300 [00:22<00:32,  5.36it/s]"
     ]
    },
    {
     "name": "stdout",
     "output_type": "stream",
     "text": [
      "Loss 125: 5.357174575328827\n",
      "Acc 125: 73.66666666666667\n",
      "F1 125: 0.732792086617966\n",
      "Loss 126: 5.263793975114822\n",
      "Acc 126: 73.77777777777777\n",
      "F1 126: 0.7355270632923534\n"
     ]
    },
    {
     "name": "stderr",
     "output_type": "stream",
     "text": [
      " 42%|█████████████████████████████████▊                                              | 127/300 [00:22<00:30,  5.62it/s]"
     ]
    },
    {
     "name": "stdout",
     "output_type": "stream",
     "text": [
      "Loss 127: 5.4037891030311584\n",
      "Acc 127: 74.22222222222223\n",
      "F1 127: 0.7374797658105037\n",
      "Loss 128: 5.645656168460846\n",
      "Acc 128: 71.0\n",
      "F1 128: 0.6987502358486719\n"
     ]
    },
    {
     "name": "stderr",
     "output_type": "stream",
     "text": [
      " 43%|██████████████████████████████████▍                                             | 129/300 [00:23<00:30,  5.67it/s]"
     ]
    },
    {
     "name": "stdout",
     "output_type": "stream",
     "text": [
      "Loss 129: 5.632497668266296\n",
      "Acc 129: 71.77777777777777\n",
      "F1 129: 0.713104887201628\n"
     ]
    },
    {
     "name": "stderr",
     "output_type": "stream",
     "text": [
      " 44%|██████████████████████████████████▉                                             | 131/300 [00:23<00:30,  5.59it/s]"
     ]
    },
    {
     "name": "stdout",
     "output_type": "stream",
     "text": [
      "Loss 130: 5.668962746858597\n",
      "Acc 130: 70.55555555555556\n",
      "F1 130: 0.7013991698121419\n",
      "Loss 131: 5.754629760980606\n",
      "Acc 131: 71.55555555555556\n",
      "F1 131: 0.7104083456408978\n"
     ]
    },
    {
     "name": "stderr",
     "output_type": "stream",
     "text": [
      " 44%|███████████████████████████████████▍                                            | 133/300 [00:23<00:28,  5.90it/s]"
     ]
    },
    {
     "name": "stdout",
     "output_type": "stream",
     "text": [
      "Loss 132: 5.612045556306839\n",
      "Acc 132: 71.44444444444444\n",
      "F1 132: 0.7087904955937501\n",
      "Loss 133: 5.363604635000229\n",
      "Acc 133: 73.44444444444444\n",
      "F1 133: 0.7313624006085178\n"
     ]
    },
    {
     "name": "stderr",
     "output_type": "stream",
     "text": [
      " 45%|███████████████████████████████████▋                                            | 134/300 [00:24<00:28,  5.79it/s]"
     ]
    },
    {
     "name": "stdout",
     "output_type": "stream",
     "text": [
      "Loss 134: 5.108742356300354\n",
      "Acc 134: 74.66666666666667\n",
      "F1 134: 0.7403183118768406\n"
     ]
    },
    {
     "name": "stderr",
     "output_type": "stream",
     "text": [
      " 45%|████████████████████████████████████▎                                           | 136/300 [00:24<00:29,  5.64it/s]"
     ]
    },
    {
     "name": "stdout",
     "output_type": "stream",
     "text": [
      "Loss 135: 4.951539367437363\n",
      "Acc 135: 76.55555555555556\n",
      "F1 135: 0.7601543846636534\n",
      "Loss 136: 4.831500440835953\n",
      "Acc 136: 76.88888888888889\n",
      "F1 136: 0.7663214002547044\n"
     ]
    },
    {
     "name": "stderr",
     "output_type": "stream",
     "text": [
      " 46%|████████████████████████████████████▊                                           | 138/300 [00:24<00:31,  5.21it/s]"
     ]
    },
    {
     "name": "stdout",
     "output_type": "stream",
     "text": [
      "Loss 137: 4.897836089134216\n",
      "Acc 137: 72.55555555555556\n",
      "F1 137: 0.7190478147113986\n",
      "Loss 138: 4.894665598869324\n",
      "Acc 138: 76.55555555555556\n",
      "F1 138: 0.7599196533470798\n"
     ]
    },
    {
     "name": "stderr",
     "output_type": "stream",
     "text": [
      " 46%|█████████████████████████████████████                                           | 139/300 [00:25<00:30,  5.34it/s]"
     ]
    },
    {
     "name": "stdout",
     "output_type": "stream",
     "text": [
      "Loss 139: 5.021644502878189\n",
      "Acc 139: 75.66666666666667\n",
      "F1 139: 0.7535656167418653\n"
     ]
    },
    {
     "name": "stderr",
     "output_type": "stream",
     "text": [
      " 47%|█████████████████████████████████████▌                                          | 141/300 [00:25<00:30,  5.17it/s]"
     ]
    },
    {
     "name": "stdout",
     "output_type": "stream",
     "text": [
      "Loss 140: 5.001246333122253\n",
      "Acc 140: 74.88888888888889\n",
      "F1 140: 0.7442651369048989\n",
      "Loss 141: 4.898059248924255\n",
      "Acc 141: 74.88888888888889\n",
      "F1 141: 0.7412336021921044\n"
     ]
    },
    {
     "name": "stderr",
     "output_type": "stream",
     "text": [
      " 48%|██████████████████████████████████████▏                                         | 143/300 [00:25<00:29,  5.25it/s]"
     ]
    },
    {
     "name": "stdout",
     "output_type": "stream",
     "text": [
      "Loss 142: 4.764585554599762\n",
      "Acc 142: 77.0\n",
      "F1 142: 0.7671638705518312\n",
      "Loss 143: 4.58157753944397\n",
      "Acc 143: 78.88888888888889\n",
      "F1 143: 0.7854705782608963\n"
     ]
    },
    {
     "name": "stderr",
     "output_type": "stream",
     "text": [
      " 48%|██████████████████████████████████████▍                                         | 144/300 [00:26<00:29,  5.32it/s]"
     ]
    },
    {
     "name": "stdout",
     "output_type": "stream",
     "text": [
      "Loss 144: 4.600170165300369\n",
      "Acc 144: 77.88888888888889\n",
      "F1 144: 0.7771027129138113\n"
     ]
    },
    {
     "name": "stderr",
     "output_type": "stream",
     "text": [
      " 49%|██████████████████████████████████████▉                                         | 146/300 [00:26<00:30,  5.10it/s]"
     ]
    },
    {
     "name": "stdout",
     "output_type": "stream",
     "text": [
      "Loss 145: 4.542905539274216\n",
      "Acc 145: 77.33333333333333\n",
      "F1 145: 0.767024842115086\n",
      "Loss 146: 4.604110509157181\n",
      "Acc 146: 77.11111111111111\n",
      "F1 146: 0.7669775572100667\n"
     ]
    },
    {
     "name": "stderr",
     "output_type": "stream",
     "text": [
      " 49%|███████████████████████████████████████▏                                        | 147/300 [00:26<00:29,  5.22it/s]"
     ]
    },
    {
     "name": "stdout",
     "output_type": "stream",
     "text": [
      "Loss 147: 4.665214359760284\n",
      "Acc 147: 78.66666666666667\n",
      "F1 147: 0.7821324951475086\n",
      "Loss 148: 4.73932608962059\n",
      "Acc 148: 77.44444444444444\n",
      "F1 148: 0.7729208457583477"
     ]
    },
    {
     "name": "stderr",
     "output_type": "stream",
     "text": [
      " 50%|███████████████████████████████████████▋                                        | 149/300 [00:26<00:28,  5.34it/s]"
     ]
    },
    {
     "name": "stdout",
     "output_type": "stream",
     "text": [
      "\n",
      "Loss 149: 4.800755202770233\n",
      "Acc 149: 76.44444444444444\n",
      "F1 149: 0.7557947854212181\n"
     ]
    },
    {
     "name": "stderr",
     "output_type": "stream",
     "text": [
      " 50%|████████████████████████████████████████▎                                       | 151/300 [00:27<00:28,  5.24it/s]"
     ]
    },
    {
     "name": "stdout",
     "output_type": "stream",
     "text": [
      "Loss 150: 4.868076711893082\n",
      "Acc 150: 75.0\n",
      "F1 150: 0.747803906296637\n",
      "Loss 151: 5.09013769030571\n",
      "Acc 151: 73.55555555555556\n",
      "F1 151: 0.732120562490064\n"
     ]
    },
    {
     "name": "stderr",
     "output_type": "stream",
     "text": [
      " 51%|████████████████████████████████████████▊                                       | 153/300 [00:27<00:28,  5.14it/s]"
     ]
    },
    {
     "name": "stdout",
     "output_type": "stream",
     "text": [
      "Loss 152: 5.227685362100601\n",
      "Acc 152: 74.22222222222223\n",
      "F1 152: 0.7361181199576811\n",
      "Loss 153: 5.395424246788025\n",
      "Acc 153: 72.88888888888889\n",
      "F1 153: 0.7207106454162103\n"
     ]
    },
    {
     "name": "stderr",
     "output_type": "stream",
     "text": [
      " 52%|█████████████████████████████████████████▎                                      | 155/300 [00:28<00:27,  5.28it/s]"
     ]
    },
    {
     "name": "stdout",
     "output_type": "stream",
     "text": [
      "Loss 154: 5.304984480142593\n",
      "Acc 154: 74.22222222222223\n",
      "F1 154: 0.7332098562024995\n",
      "Loss 155: 5.208780944347382\n",
      "Acc 155: 74.11111111111111\n",
      "F1 155: 0.7410183795780517\n"
     ]
    },
    {
     "name": "stderr",
     "output_type": "stream",
     "text": [
      " 52%|█████████████████████████████████████████▌                                      | 156/300 [00:28<00:26,  5.34it/s]"
     ]
    },
    {
     "name": "stdout",
     "output_type": "stream",
     "text": [
      "Loss 156: 4.886768579483032\n",
      "Acc 156: 74.11111111111111\n",
      "F1 156: 0.7367981525965307\n"
     ]
    },
    {
     "name": "stderr",
     "output_type": "stream",
     "text": [
      " 53%|██████████████████████████████████████████▏                                     | 158/300 [00:28<00:26,  5.34it/s]"
     ]
    },
    {
     "name": "stdout",
     "output_type": "stream",
     "text": [
      "Loss 157: 4.869463115930557\n",
      "Acc 157: 78.33333333333333\n",
      "F1 157: 0.7762482413689479\n",
      "Loss 158: 4.634840816259384\n",
      "Acc 158: 76.77777777777777\n",
      "F1 158: 0.7631648329820165\n"
     ]
    },
    {
     "name": "stderr",
     "output_type": "stream",
     "text": [
      " 53%|██████████████████████████████████████████▋                                     | 160/300 [00:29<00:25,  5.48it/s]"
     ]
    },
    {
     "name": "stdout",
     "output_type": "stream",
     "text": [
      "Loss 159: 4.603515416383743\n",
      "Acc 159: 77.44444444444444\n",
      "F1 159: 0.7681852553530545\n",
      "Loss 160: 4.625562369823456\n",
      "Acc 160: 77.22222222222223\n",
      "F1 160: 0.7705967084130221\n"
     ]
    },
    {
     "name": "stderr",
     "output_type": "stream",
     "text": [
      " 54%|███████████████████████████████████████████▏                                    | 162/300 [00:29<00:24,  5.65it/s]"
     ]
    },
    {
     "name": "stdout",
     "output_type": "stream",
     "text": [
      "Loss 161: 4.622564315795898\n",
      "Acc 161: 77.55555555555556\n",
      "F1 161: 0.7721497147102737\n",
      "Loss 162: 4.774016708135605\n",
      "Acc 162: 77.33333333333333\n",
      "F1 162: 0.7683483684909542\n"
     ]
    },
    {
     "name": "stderr",
     "output_type": "stream",
     "text": [
      " 55%|███████████████████████████████████████████▋                                    | 164/300 [00:29<00:24,  5.55it/s]"
     ]
    },
    {
     "name": "stdout",
     "output_type": "stream",
     "text": [
      "Loss 163: 4.684230476617813\n",
      "Acc 163: 77.44444444444444\n",
      "F1 163: 0.7697780762190671\n",
      "Loss 164: 4.707048535346985\n",
      "Acc 164: 76.77777777777777\n",
      "F1 164: 0.7619673084691323\n"
     ]
    },
    {
     "name": "stderr",
     "output_type": "stream",
     "text": [
      " 55%|████████████████████████████████████████████▎                                   | 166/300 [00:30<00:23,  5.62it/s]"
     ]
    },
    {
     "name": "stdout",
     "output_type": "stream",
     "text": [
      "Loss 165: 4.611359819769859\n",
      "Acc 165: 77.77777777777777\n",
      "F1 165: 0.7736259492818718\n",
      "Loss 166: 4.440600708127022\n",
      "Acc 166: 78.0\n",
      "F1 166: 0.7767231542916941\n"
     ]
    },
    {
     "name": "stderr",
     "output_type": "stream",
     "text": [
      " 56%|████████████████████████████████████████████▊                                   | 168/300 [00:30<00:23,  5.58it/s]"
     ]
    },
    {
     "name": "stdout",
     "output_type": "stream",
     "text": [
      "Loss 167: 4.754807859659195\n",
      "Acc 167: 77.0\n",
      "F1 167: 0.767790036982416\n",
      "Loss 168: 4.613724410533905\n",
      "Acc 168: 77.55555555555556\n",
      "F1 168: 0.7734162948456099\n"
     ]
    },
    {
     "name": "stderr",
     "output_type": "stream",
     "text": [
      " 56%|█████████████████████████████████████████████                                   | 169/300 [00:30<00:23,  5.65it/s]"
     ]
    },
    {
     "name": "stdout",
     "output_type": "stream",
     "text": [
      "Loss 169: 4.512933194637299\n",
      "Acc 169: 79.77777777777777\n",
      "F1 169: 0.7920883624478767\n",
      "Loss 170: 4.600979119539261\n",
      "Acc 170: 76.66666666666667\n",
      "F1 170: 0.7666864974651812\n"
     ]
    },
    {
     "name": "stderr",
     "output_type": "stream",
     "text": [
      " 57%|█████████████████████████████████████████████▌                                  | 171/300 [00:30<00:22,  5.80it/s]"
     ]
    },
    {
     "name": "stdout",
     "output_type": "stream",
     "text": [
      "Loss 171: 4.3727917075157166\n",
      "Acc 171: 78.33333333333333\n",
      "F1 171: 0.7789834310024308\n"
     ]
    },
    {
     "name": "stderr",
     "output_type": "stream",
     "text": [
      " 58%|██████████████████████████████████████████████▏                                 | 173/300 [00:31<00:22,  5.67it/s]"
     ]
    },
    {
     "name": "stdout",
     "output_type": "stream",
     "text": [
      "Loss 172: 4.4832219034433365\n",
      "Acc 172: 76.66666666666667\n",
      "F1 172: 0.7606757893645752\n",
      "Loss 173: 4.684156984090805\n",
      "Acc 173: 76.33333333333333\n",
      "F1 173: 0.7555191118996495\n"
     ]
    },
    {
     "name": "stderr",
     "output_type": "stream",
     "text": [
      " 58%|██████████████████████████████████████████████▋                                 | 175/300 [00:31<00:21,  5.70it/s]"
     ]
    },
    {
     "name": "stdout",
     "output_type": "stream",
     "text": [
      "Loss 174: 4.9683007299900055\n",
      "Acc 174: 76.33333333333333\n",
      "F1 174: 0.761809096169357\n",
      "Loss 175: 4.880352258682251\n",
      "Acc 175: 76.0\n",
      "F1 175: 0.7559011715946612\n"
     ]
    },
    {
     "name": "stderr",
     "output_type": "stream",
     "text": [
      " 59%|███████████████████████████████████████████████▏                                | 177/300 [00:32<00:20,  5.90it/s]"
     ]
    },
    {
     "name": "stdout",
     "output_type": "stream",
     "text": [
      "Loss 176: 4.757463917136192\n",
      "Acc 176: 76.66666666666667\n",
      "F1 176: 0.7598222572939459\n",
      "Loss 177: 4.5507955849170685\n",
      "Acc 177: 76.88888888888889\n",
      "F1 177: 0.7650374388702398\n"
     ]
    },
    {
     "name": "stderr",
     "output_type": "stream",
     "text": [
      " 60%|███████████████████████████████████████████████▋                                | 179/300 [00:32<00:20,  5.87it/s]"
     ]
    },
    {
     "name": "stdout",
     "output_type": "stream",
     "text": [
      "Loss 178: 4.613786727190018\n",
      "Acc 178: 75.88888888888889\n",
      "F1 178: 0.7545711186845518\n",
      "Loss 179: 4.302203193306923\n",
      "Acc 179: 79.33333333333333\n",
      "F1 179: 0.7900169929069671\n"
     ]
    },
    {
     "name": "stderr",
     "output_type": "stream",
     "text": [
      " 60%|████████████████████████████████████████████████▎                               | 181/300 [00:32<00:20,  5.91it/s]"
     ]
    },
    {
     "name": "stdout",
     "output_type": "stream",
     "text": [
      "Loss 180: 4.436395078897476\n",
      "Acc 180: 77.11111111111111\n",
      "F1 180: 0.7672371336887777\n",
      "Loss 181: 4.684555888175964\n",
      "Acc 181: 74.66666666666667\n",
      "F1 181: 0.742668641762555\n"
     ]
    },
    {
     "name": "stderr",
     "output_type": "stream",
     "text": [
      " 61%|████████████████████████████████████████████████▊                               | 183/300 [00:33<00:20,  5.83it/s]"
     ]
    },
    {
     "name": "stdout",
     "output_type": "stream",
     "text": [
      "Loss 182: 4.6912029683589935\n",
      "Acc 182: 74.88888888888889\n",
      "F1 182: 0.7439401536507555\n",
      "Loss 183: 4.803920269012451\n",
      "Acc 183: 77.66666666666667\n",
      "F1 183: 0.7739698455803705\n"
     ]
    },
    {
     "name": "stderr",
     "output_type": "stream",
     "text": [
      " 62%|█████████████████████████████████████████████████▎                              | 185/300 [00:33<00:19,  5.85it/s]"
     ]
    },
    {
     "name": "stdout",
     "output_type": "stream",
     "text": [
      "Loss 184: 5.163249313831329\n",
      "Acc 184: 72.44444444444444\n",
      "F1 184: 0.7213178919862373\n",
      "Loss 185: 4.8368130922317505\n",
      "Acc 185: 75.77777777777777\n",
      "F1 185: 0.7508113891244544\n"
     ]
    },
    {
     "name": "stderr",
     "output_type": "stream",
     "text": [
      " 62%|█████████████████████████████████████████████████▊                              | 187/300 [00:33<00:19,  5.80it/s]"
     ]
    },
    {
     "name": "stdout",
     "output_type": "stream",
     "text": [
      "Loss 186: 4.906667977571487\n",
      "Acc 186: 75.88888888888889\n",
      "F1 186: 0.7547717579239459\n",
      "Loss 187: 4.8520947098731995\n",
      "Acc 187: 74.22222222222223\n",
      "F1 187: 0.7368480964972426\n"
     ]
    },
    {
     "name": "stderr",
     "output_type": "stream",
     "text": [
      " 63%|██████████████████████████████████████████████████▍                             | 189/300 [00:34<00:19,  5.82it/s]"
     ]
    },
    {
     "name": "stdout",
     "output_type": "stream",
     "text": [
      "Loss 188: 4.868282586336136\n",
      "Acc 188: 75.11111111111111\n",
      "F1 188: 0.7445636430137286\n",
      "Loss 189: 5.132077664136887\n",
      "Acc 189: 73.0\n",
      "F1 189: 0.7224625828636327\n"
     ]
    },
    {
     "name": "stderr",
     "output_type": "stream",
     "text": [
      " 64%|██████████████████████████████████████████████████▉                             | 191/300 [00:34<00:18,  5.90it/s]"
     ]
    },
    {
     "name": "stdout",
     "output_type": "stream",
     "text": [
      "Loss 190: 4.752952754497528\n",
      "Acc 190: 76.66666666666667\n",
      "F1 190: 0.7630320578726763\n",
      "Loss 191: 4.367591306567192\n",
      "Acc 191: 78.0\n",
      "F1 191: 0.7738677879945991\n"
     ]
    },
    {
     "name": "stderr",
     "output_type": "stream",
     "text": [
      " 64%|███████████████████████████████████████████████████▍                            | 193/300 [00:34<00:18,  5.78it/s]"
     ]
    },
    {
     "name": "stdout",
     "output_type": "stream",
     "text": [
      "Loss 192: 4.210202798247337\n",
      "Acc 192: 80.22222222222223\n",
      "F1 192: 0.7989086563386218\n",
      "Loss 193: 4.241584002971649\n",
      "Acc 193: 78.22222222222223\n",
      "F1 193: 0.778898581322902\n"
     ]
    },
    {
     "name": "stderr",
     "output_type": "stream",
     "text": [
      " 65%|████████████████████████████████████████████████████                            | 195/300 [00:35<00:18,  5.59it/s]"
     ]
    },
    {
     "name": "stdout",
     "output_type": "stream",
     "text": [
      "Loss 194: 4.066697865724564\n",
      "Acc 194: 79.22222222222223\n",
      "F1 194: 0.791505083091025\n",
      "Loss 195: 3.9446839839220047\n",
      "Acc 195: 82.11111111111111\n",
      "F1 195: 0.8188831561174231\n"
     ]
    },
    {
     "name": "stderr",
     "output_type": "stream",
     "text": [
      " 65%|████████████████████████████████████████████████████▎                           | 196/300 [00:35<00:17,  5.80it/s]"
     ]
    },
    {
     "name": "stdout",
     "output_type": "stream",
     "text": [
      "Loss 196: 4.006934091448784\n",
      "Acc 196: 80.33333333333333\n",
      "F1 196: 0.7994824303892285\n"
     ]
    },
    {
     "name": "stderr",
     "output_type": "stream",
     "text": [
      " 66%|████████████████████████████████████████████████████▊                           | 198/300 [00:35<00:18,  5.59it/s]"
     ]
    },
    {
     "name": "stdout",
     "output_type": "stream",
     "text": [
      "Loss 197: 3.967347800731659\n",
      "Acc 197: 79.11111111111111\n",
      "F1 197: 0.7889113021451495\n",
      "Loss 198: 3.9999280720949173\n",
      "Acc 198: 78.66666666666667\n",
      "F1 198: 0.7848473231907714\n"
     ]
    },
    {
     "name": "stderr",
     "output_type": "stream",
     "text": [
      " 67%|█████████████████████████████████████████████████████▎                          | 200/300 [00:36<00:17,  5.78it/s]"
     ]
    },
    {
     "name": "stdout",
     "output_type": "stream",
     "text": [
      "Loss 199: 4.295327931642532\n",
      "Acc 199: 80.55555555555556\n",
      "F1 199: 0.8002434795453988\n",
      "Loss 200: 4.367089360952377\n",
      "Acc 200: 78.88888888888889\n",
      "F1 200: 0.7829920489547262\n"
     ]
    },
    {
     "name": "stderr",
     "output_type": "stream",
     "text": [
      " 67%|█████████████████████████████████████████████████████▊                          | 202/300 [00:36<00:17,  5.59it/s]"
     ]
    },
    {
     "name": "stdout",
     "output_type": "stream",
     "text": [
      "Loss 201: 4.276475101709366\n",
      "Acc 201: 78.22222222222223\n",
      "F1 201: 0.7769426312632942\n",
      "Loss 202: 4.307066857814789\n",
      "Acc 202: 77.22222222222223\n",
      "F1 202: 0.767392816522524\n"
     ]
    },
    {
     "name": "stderr",
     "output_type": "stream",
     "text": [
      " 68%|██████████████████████████████████████████████████████▍                         | 204/300 [00:36<00:17,  5.65it/s]"
     ]
    },
    {
     "name": "stdout",
     "output_type": "stream",
     "text": [
      "Loss 203: 4.266892641782761\n",
      "Acc 203: 78.33333333333333\n",
      "F1 203: 0.7734885626936934\n",
      "Loss 204: 4.1094328463077545\n",
      "Acc 204: 80.22222222222223\n",
      "F1 204: 0.7988342104517958\n"
     ]
    },
    {
     "name": "stderr",
     "output_type": "stream",
     "text": [
      " 69%|██████████████████████████████████████████████████████▉                         | 206/300 [00:37<00:16,  5.83it/s]"
     ]
    },
    {
     "name": "stdout",
     "output_type": "stream",
     "text": [
      "Loss 205: 4.03452967107296\n",
      "Acc 205: 80.88888888888889\n",
      "F1 205: 0.8048365286559701\n",
      "Loss 206: 4.157235100865364\n",
      "Acc 206: 80.55555555555556\n",
      "F1 206: 0.8025896939938171\n"
     ]
    },
    {
     "name": "stderr",
     "output_type": "stream",
     "text": [
      " 69%|███████████████████████████████████████████████████████▍                        | 208/300 [00:37<00:16,  5.57it/s]"
     ]
    },
    {
     "name": "stdout",
     "output_type": "stream",
     "text": [
      "Loss 207: 4.124812468886375\n",
      "Acc 207: 79.11111111111111\n",
      "F1 207: 0.7851774794943709\n",
      "Loss 208: 4.108108684420586\n",
      "Acc 208: 79.66666666666667\n",
      "F1 208: 0.7892198065395899\n"
     ]
    },
    {
     "name": "stderr",
     "output_type": "stream",
     "text": [
      " 70%|████████████████████████████████████████████████████████                        | 210/300 [00:37<00:15,  5.79it/s]"
     ]
    },
    {
     "name": "stdout",
     "output_type": "stream",
     "text": [
      "Loss 209: 4.234085887670517\n",
      "Acc 209: 79.44444444444444\n",
      "F1 209: 0.7907014836532942\n",
      "Loss 210: 4.298733681440353\n",
      "Acc 210: 78.33333333333333\n",
      "F1 210: 0.7768514281063479\n"
     ]
    },
    {
     "name": "stderr",
     "output_type": "stream",
     "text": [
      " 71%|████████████████████████████████████████████████████████▌                       | 212/300 [00:38<00:15,  5.64it/s]"
     ]
    },
    {
     "name": "stdout",
     "output_type": "stream",
     "text": [
      "Loss 211: 4.325070396065712\n",
      "Acc 211: 78.88888888888889\n",
      "F1 211: 0.7828717310766939\n",
      "Loss 212: 4.307844370603561\n",
      "Acc 212: 78.33333333333333\n",
      "F1 212: 0.7826289995121218\n"
     ]
    },
    {
     "name": "stderr",
     "output_type": "stream",
     "text": [
      " 71%|█████████████████████████████████████████████████████████                       | 214/300 [00:38<00:15,  5.56it/s]"
     ]
    },
    {
     "name": "stdout",
     "output_type": "stream",
     "text": [
      "Loss 213: 4.03965936601162\n",
      "Acc 213: 81.0\n",
      "F1 213: 0.8060784766395214\n",
      "Loss 214: 4.34492863714695\n",
      "Acc 214: 80.33333333333333\n",
      "F1 214: 0.8002494781445386\n"
     ]
    },
    {
     "name": "stderr",
     "output_type": "stream",
     "text": [
      " 72%|█████████████████████████████████████████████████████████▌                      | 216/300 [00:38<00:15,  5.45it/s]"
     ]
    },
    {
     "name": "stdout",
     "output_type": "stream",
     "text": [
      "Loss 215: 4.992700546979904\n",
      "Acc 215: 76.22222222222223\n",
      "F1 215: 0.755881566006814\n",
      "Loss 216: 4.691130340099335\n",
      "Acc 216: 77.0\n",
      "F1 216: 0.7637235141602677\n"
     ]
    },
    {
     "name": "stderr",
     "output_type": "stream",
     "text": [
      " 73%|██████████████████████████████████████████████████████████▏                     | 218/300 [00:39<00:14,  5.47it/s]"
     ]
    },
    {
     "name": "stdout",
     "output_type": "stream",
     "text": [
      "Loss 217: 4.29316408932209\n",
      "Acc 217: 78.77777777777777\n",
      "F1 217: 0.7840980000169597\n",
      "Loss 218: 4.32810540497303\n",
      "Acc 218: 79.66666666666667\n",
      "F1 218: 0.7924262747498653\n"
     ]
    },
    {
     "name": "stderr",
     "output_type": "stream",
     "text": [
      " 73%|██████████████████████████████████████████████████████████▋                     | 220/300 [00:39<00:13,  5.73it/s]"
     ]
    },
    {
     "name": "stdout",
     "output_type": "stream",
     "text": [
      "Loss 219: 4.3072991371154785\n",
      "Acc 219: 80.11111111111111\n",
      "F1 219: 0.7957921193836764\n",
      "Loss 220: 4.3766036331653595\n",
      "Acc 220: 78.66666666666667\n",
      "F1 220: 0.7845149339780405\n"
     ]
    },
    {
     "name": "stderr",
     "output_type": "stream",
     "text": [
      " 74%|███████████████████████████████████████████████████████████▏                    | 222/300 [00:39<00:13,  5.62it/s]"
     ]
    },
    {
     "name": "stdout",
     "output_type": "stream",
     "text": [
      "Loss 221: 4.337773233652115\n",
      "Acc 221: 77.88888888888889\n",
      "F1 221: 0.7725763586710129\n",
      "Loss 222: 3.887639954686165\n",
      "Acc 222: 80.88888888888889\n",
      "F1 222: 0.8038629482018598\n"
     ]
    },
    {
     "name": "stderr",
     "output_type": "stream",
     "text": [
      " 75%|███████████████████████████████████████████████████████████▋                    | 224/300 [00:40<00:13,  5.78it/s]"
     ]
    },
    {
     "name": "stdout",
     "output_type": "stream",
     "text": [
      "Loss 223: 3.990865007042885\n",
      "Acc 223: 79.66666666666667\n",
      "F1 223: 0.7938458817364212\n",
      "Loss 224: 3.7929255068302155\n",
      "Acc 224: 80.55555555555556\n",
      "F1 224: 0.7989895756695087\n"
     ]
    },
    {
     "name": "stderr",
     "output_type": "stream",
     "text": [
      " 75%|████████████████████████████████████████████████████████████▎                   | 226/300 [00:40<00:12,  5.85it/s]"
     ]
    },
    {
     "name": "stdout",
     "output_type": "stream",
     "text": [
      "Loss 225: 3.6255748718976974\n",
      "Acc 225: 82.11111111111111\n",
      "F1 225: 0.818387876214513\n",
      "Loss 226: 3.9159871339797974\n",
      "Acc 226: 80.11111111111111\n",
      "F1 226: 0.797707789847407\n"
     ]
    },
    {
     "name": "stderr",
     "output_type": "stream",
     "text": [
      " 76%|████████████████████████████████████████████████████████████▊                   | 228/300 [00:40<00:12,  5.75it/s]"
     ]
    },
    {
     "name": "stdout",
     "output_type": "stream",
     "text": [
      "Loss 227: 3.7710134983062744\n",
      "Acc 227: 81.33333333333333\n",
      "F1 227: 0.8081366751613082\n",
      "Loss 228: 4.103090062737465\n",
      "Acc 228: 81.11111111111111\n",
      "F1 228: 0.803694754204845\n"
     ]
    },
    {
     "name": "stderr",
     "output_type": "stream",
     "text": [
      " 77%|█████████████████████████████████████████████████████████████▎                  | 230/300 [00:41<00:12,  5.63it/s]"
     ]
    },
    {
     "name": "stdout",
     "output_type": "stream",
     "text": [
      "Loss 229: 4.900341838598251\n",
      "Acc 229: 74.22222222222223\n",
      "F1 229: 0.7341992866621536\n",
      "Loss 230: 4.438183024525642\n",
      "Acc 230: 77.33333333333333\n",
      "F1 230: 0.7699706861475728\n"
     ]
    },
    {
     "name": "stderr",
     "output_type": "stream",
     "text": [
      " 77%|█████████████████████████████████████████████████████████████▊                  | 232/300 [00:41<00:11,  5.74it/s]"
     ]
    },
    {
     "name": "stdout",
     "output_type": "stream",
     "text": [
      "Loss 231: 4.8633409440517426\n",
      "Acc 231: 76.22222222222223\n",
      "F1 231: 0.7547868622467887\n",
      "Loss 232: 4.7197781056165695\n",
      "Acc 232: 77.66666666666667\n",
      "F1 232: 0.7719240598856042\n"
     ]
    },
    {
     "name": "stderr",
     "output_type": "stream",
     "text": [
      " 78%|██████████████████████████████████████████████████████████████▍                 | 234/300 [00:42<00:11,  5.64it/s]"
     ]
    },
    {
     "name": "stdout",
     "output_type": "stream",
     "text": [
      "Loss 233: 4.320447042584419\n",
      "Acc 233: 77.22222222222223\n",
      "F1 233: 0.7702509730973404\n",
      "Loss 234: 4.3060629814863205\n",
      "Acc 234: 79.66666666666667\n",
      "F1 234: 0.7913170686358936\n"
     ]
    },
    {
     "name": "stderr",
     "output_type": "stream",
     "text": [
      " 79%|██████████████████████████████████████████████████████████████▉                 | 236/300 [00:42<00:10,  5.88it/s]"
     ]
    },
    {
     "name": "stdout",
     "output_type": "stream",
     "text": [
      "Loss 235: 3.9442590326070786\n",
      "Acc 235: 80.66666666666667\n",
      "F1 235: 0.8052296648957457\n",
      "Loss 236: 3.7924882918596268\n",
      "Acc 236: 83.0\n",
      "F1 236: 0.8273470225533813\n"
     ]
    },
    {
     "name": "stderr",
     "output_type": "stream",
     "text": [
      " 79%|███████████████████████████████████████████████████████████████▏                | 237/300 [00:42<00:10,  5.85it/s]"
     ]
    },
    {
     "name": "stdout",
     "output_type": "stream",
     "text": [
      "Loss 237: 3.8409746140241623\n",
      "Acc 237: 80.55555555555556\n",
      "F1 237: 0.7998226222376275\n"
     ]
    },
    {
     "name": "stderr",
     "output_type": "stream",
     "text": [
      " 80%|███████████████████████████████████████████████████████████████▋                | 239/300 [00:42<00:11,  5.54it/s]"
     ]
    },
    {
     "name": "stdout",
     "output_type": "stream",
     "text": [
      "Loss 238: 3.6906845718622208\n",
      "Acc 238: 83.33333333333333\n",
      "F1 238: 0.8288019327610581\n",
      "Loss 239: 3.4667705297470093\n",
      "Acc 239: 84.11111111111111\n",
      "F1 239: 0.839535364750966\n"
     ]
    },
    {
     "name": "stderr",
     "output_type": "stream",
     "text": [
      " 80%|████████████████████████████████████████████████████████████████▎               | 241/300 [00:43<00:10,  5.78it/s]"
     ]
    },
    {
     "name": "stdout",
     "output_type": "stream",
     "text": [
      "Loss 240: 3.4457776844501495\n",
      "Acc 240: 82.77777777777777\n",
      "F1 240: 0.824427778446985\n",
      "Loss 241: 3.3722261488437653\n",
      "Acc 241: 83.88888888888889\n",
      "F1 241: 0.8335373032680911\n"
     ]
    },
    {
     "name": "stderr",
     "output_type": "stream",
     "text": [
      " 81%|████████████████████████████████████████████████████████████████▊               | 243/300 [00:43<00:09,  5.88it/s]"
     ]
    },
    {
     "name": "stdout",
     "output_type": "stream",
     "text": [
      "Loss 242: 3.3872871100902557\n",
      "Acc 242: 85.11111111111111\n",
      "F1 242: 0.8507094144450803\n",
      "Loss 243: 3.6344867795705795\n",
      "Acc 243: 83.66666666666667\n",
      "F1 243: 0.8349872673254719\n"
     ]
    },
    {
     "name": "stderr",
     "output_type": "stream",
     "text": [
      " 82%|█████████████████████████████████████████████████████████████████▎              | 245/300 [00:43<00:09,  5.72it/s]"
     ]
    },
    {
     "name": "stdout",
     "output_type": "stream",
     "text": [
      "Loss 244: 3.4556751996278763\n",
      "Acc 244: 85.11111111111111\n",
      "F1 244: 0.8483864178705453\n",
      "Loss 245: 3.6206576973199844\n",
      "Acc 245: 81.33333333333333\n",
      "F1 245: 0.8060315886024298\n"
     ]
    },
    {
     "name": "stderr",
     "output_type": "stream",
     "text": [
      " 82%|█████████████████████████████████████████████████████████████████▊              | 247/300 [00:44<00:09,  5.84it/s]"
     ]
    },
    {
     "name": "stdout",
     "output_type": "stream",
     "text": [
      "Loss 246: 3.6891933381557465\n",
      "Acc 246: 83.66666666666667\n",
      "F1 246: 0.8344363685351697\n",
      "Loss 247: 3.608798325061798\n",
      "Acc 247: 83.0\n",
      "F1 247: 0.8260564514903401\n"
     ]
    },
    {
     "name": "stderr",
     "output_type": "stream",
     "text": [
      " 83%|██████████████████████████████████████████████████████████████████▍             | 249/300 [00:44<00:08,  5.72it/s]"
     ]
    },
    {
     "name": "stdout",
     "output_type": "stream",
     "text": [
      "Loss 248: 3.6287228018045425\n",
      "Acc 248: 81.55555555555556\n",
      "F1 248: 0.8112539063863401\n",
      "Loss 249: 3.5645222663879395\n",
      "Acc 249: 82.88888888888889\n",
      "F1 249: 0.8273651404937955\n"
     ]
    },
    {
     "name": "stderr",
     "output_type": "stream",
     "text": [
      " 84%|██████████████████████████████████████████████████████████████████▉             | 251/300 [00:45<00:08,  5.72it/s]"
     ]
    },
    {
     "name": "stdout",
     "output_type": "stream",
     "text": [
      "Loss 250: 3.3521919921040535\n",
      "Acc 250: 82.66666666666667\n",
      "F1 250: 0.8212184431611884\n",
      "Loss 251: 3.3774450048804283\n",
      "Acc 251: 84.33333333333333\n",
      "F1 251: 0.8426018716313228\n"
     ]
    },
    {
     "name": "stderr",
     "output_type": "stream",
     "text": [
      " 84%|███████████████████████████████████████████████████████████████████▍            | 253/300 [00:45<00:08,  5.87it/s]"
     ]
    },
    {
     "name": "stdout",
     "output_type": "stream",
     "text": [
      "Loss 252: 3.567471608519554\n",
      "Acc 252: 82.66666666666667\n",
      "F1 252: 0.8202889647189479\n",
      "Loss 253: 3.640184074640274\n",
      "Acc 253: 82.44444444444444\n",
      "F1 253: 0.8207940468983073\n"
     ]
    },
    {
     "name": "stderr",
     "output_type": "stream",
     "text": [
      " 85%|████████████████████████████████████████████████████████████████████            | 255/300 [00:45<00:07,  5.81it/s]"
     ]
    },
    {
     "name": "stdout",
     "output_type": "stream",
     "text": [
      "Loss 254: 3.500292368233204\n",
      "Acc 254: 83.22222222222223\n",
      "F1 254: 0.8296744335337123\n",
      "Loss 255: 3.5433097928762436\n",
      "Acc 255: 81.66666666666667\n",
      "F1 255: 0.8125261711802998\n"
     ]
    },
    {
     "name": "stderr",
     "output_type": "stream",
     "text": [
      " 86%|████████████████████████████████████████████████████████████████████▌           | 257/300 [00:46<00:07,  5.81it/s]"
     ]
    },
    {
     "name": "stdout",
     "output_type": "stream",
     "text": [
      "Loss 256: 3.4834412187337875\n",
      "Acc 256: 83.22222222222223\n",
      "F1 256: 0.8293269040969299\n",
      "Loss 257: 3.454151540994644\n",
      "Acc 257: 84.22222222222223\n",
      "F1 257: 0.839194570699438\n"
     ]
    },
    {
     "name": "stderr",
     "output_type": "stream",
     "text": [
      " 86%|█████████████████████████████████████████████████████████████████████           | 259/300 [00:46<00:06,  5.95it/s]"
     ]
    },
    {
     "name": "stdout",
     "output_type": "stream",
     "text": [
      "Loss 258: 3.2608888521790504\n",
      "Acc 258: 84.44444444444444\n",
      "F1 258: 0.8402996909843952\n",
      "Loss 259: 3.382299780845642\n",
      "Acc 259: 85.11111111111111\n",
      "F1 259: 0.8483596215036566\n"
     ]
    },
    {
     "name": "stderr",
     "output_type": "stream",
     "text": [
      " 87%|█████████████████████████████████████████████████████████████████████▌          | 261/300 [00:46<00:06,  5.90it/s]"
     ]
    },
    {
     "name": "stdout",
     "output_type": "stream",
     "text": [
      "Loss 260: 3.3340377286076546\n",
      "Acc 260: 83.22222222222223\n",
      "F1 260: 0.8291019816166365\n",
      "Loss 261: 3.4504482373595238\n",
      "Acc 261: 84.11111111111111\n",
      "F1 261: 0.8391011081354729\n"
     ]
    },
    {
     "name": "stderr",
     "output_type": "stream",
     "text": [
      " 88%|██████████████████████████████████████████████████████████████████████▏         | 263/300 [00:47<00:06,  5.89it/s]"
     ]
    },
    {
     "name": "stdout",
     "output_type": "stream",
     "text": [
      "Loss 262: 3.8367826342582703\n",
      "Acc 262: 81.55555555555556\n",
      "F1 262: 0.8136572507944426\n",
      "Loss 263: 4.011712118983269\n",
      "Acc 263: 80.44444444444444\n",
      "F1 263: 0.8003895813060082\n"
     ]
    },
    {
     "name": "stderr",
     "output_type": "stream",
     "text": [
      " 88%|██████████████████████████████████████████████████████████████████████▋         | 265/300 [00:47<00:06,  5.79it/s]"
     ]
    },
    {
     "name": "stdout",
     "output_type": "stream",
     "text": [
      "Loss 264: 3.9384633749723434\n",
      "Acc 264: 80.11111111111111\n",
      "F1 264: 0.7973155855835055\n",
      "Loss 265: 4.33190381526947\n",
      "Acc 265: 78.44444444444444\n",
      "F1 265: 0.778129893545139\n"
     ]
    },
    {
     "name": "stderr",
     "output_type": "stream",
     "text": [
      " 89%|███████████████████████████████████████████████████████████████████████▏        | 267/300 [00:47<00:05,  5.83it/s]"
     ]
    },
    {
     "name": "stdout",
     "output_type": "stream",
     "text": [
      "Loss 266: 3.707024574279785\n",
      "Acc 266: 83.22222222222223\n",
      "F1 266: 0.8273124464939365\n",
      "Loss 267: 3.6059552431106567\n",
      "Acc 267: 83.11111111111111\n",
      "F1 267: 0.826172278263814\n"
     ]
    },
    {
     "name": "stderr",
     "output_type": "stream",
     "text": [
      " 90%|███████████████████████████████████████████████████████████████████████▋        | 269/300 [00:48<00:05,  5.68it/s]"
     ]
    },
    {
     "name": "stdout",
     "output_type": "stream",
     "text": [
      "Loss 268: 3.5005056113004684\n",
      "Acc 268: 84.22222222222223\n",
      "F1 268: 0.8414116486546936\n",
      "Loss 269: 3.6619246900081635\n",
      "Acc 269: 82.88888888888889\n",
      "F1 269: 0.822029778995915\n"
     ]
    },
    {
     "name": "stderr",
     "output_type": "stream",
     "text": [
      " 90%|████████████████████████████████████████████████████████████████████████▎       | 271/300 [00:48<00:04,  5.84it/s]"
     ]
    },
    {
     "name": "stdout",
     "output_type": "stream",
     "text": [
      "Loss 270: 3.615747958421707\n",
      "Acc 270: 83.22222222222223\n",
      "F1 270: 0.8288382920939664\n",
      "Loss 271: 3.5815121978521347\n",
      "Acc 271: 82.11111111111111\n",
      "F1 271: 0.8174457221087481\n"
     ]
    },
    {
     "name": "stderr",
     "output_type": "stream",
     "text": [
      " 91%|████████████████████████████████████████████████████████████████████████▊       | 273/300 [00:48<00:04,  5.87it/s]"
     ]
    },
    {
     "name": "stdout",
     "output_type": "stream",
     "text": [
      "Loss 272: 3.3214406967163086\n",
      "Acc 272: 84.0\n",
      "F1 272: 0.8392276873612435\n",
      "Loss 273: 3.292321041226387\n",
      "Acc 273: 82.77777777777777\n",
      "F1 273: 0.8221491464423698\n"
     ]
    },
    {
     "name": "stderr",
     "output_type": "stream",
     "text": [
      " 92%|█████████████████████████████████████████████████████████████████████████▎      | 275/300 [00:49<00:04,  5.69it/s]"
     ]
    },
    {
     "name": "stdout",
     "output_type": "stream",
     "text": [
      "Loss 274: 3.275138348340988\n",
      "Acc 274: 84.66666666666667\n",
      "F1 274: 0.8417304428609421\n",
      "Loss 275: 3.190028630197048\n",
      "Acc 275: 84.0\n",
      "F1 275: 0.8364377971601292\n"
     ]
    },
    {
     "name": "stderr",
     "output_type": "stream",
     "text": [
      " 92%|█████████████████████████████████████████████████████████████████████████▊      | 277/300 [00:49<00:03,  5.76it/s]"
     ]
    },
    {
     "name": "stdout",
     "output_type": "stream",
     "text": [
      "Loss 276: 3.5104070007801056\n",
      "Acc 276: 84.44444444444444\n",
      "F1 276: 0.8415917676546082\n",
      "Loss 277: 3.3142923712730408\n",
      "Acc 277: 84.22222222222223\n",
      "F1 277: 0.8372351681951697\n"
     ]
    },
    {
     "name": "stderr",
     "output_type": "stream",
     "text": [
      " 93%|██████████████████████████████████████████████████████████████████████████▍     | 279/300 [00:49<00:03,  5.86it/s]"
     ]
    },
    {
     "name": "stdout",
     "output_type": "stream",
     "text": [
      "Loss 278: 3.4080169200897217\n",
      "Acc 278: 82.88888888888889\n",
      "F1 278: 0.8230894469277035\n",
      "Loss 279: 3.3073390796780586\n",
      "Acc 279: 84.88888888888889\n",
      "F1 279: 0.8445627662631328\n"
     ]
    },
    {
     "name": "stderr",
     "output_type": "stream",
     "text": [
      " 94%|██████████████████████████████████████████████████████████████████████████▉     | 281/300 [00:50<00:03,  5.68it/s]"
     ]
    },
    {
     "name": "stdout",
     "output_type": "stream",
     "text": [
      "Loss 280: 3.31985379755497\n",
      "Acc 280: 84.11111111111111\n",
      "F1 280: 0.8413507454642473\n",
      "Loss 281: 3.588341608643532\n",
      "Acc 281: 82.77777777777777\n",
      "F1 281: 0.8232121091575642\n"
     ]
    },
    {
     "name": "stderr",
     "output_type": "stream",
     "text": [
      " 94%|███████████████████████████████████████████████████████████████████████████▍    | 283/300 [00:50<00:02,  5.88it/s]"
     ]
    },
    {
     "name": "stdout",
     "output_type": "stream",
     "text": [
      "Loss 282: 3.349283069372177\n",
      "Acc 282: 82.33333333333333\n",
      "F1 282: 0.820237042715911\n",
      "Loss 283: 3.3167197704315186\n",
      "Acc 283: 83.33333333333333\n",
      "F1 283: 0.8305008265550292\n"
     ]
    },
    {
     "name": "stderr",
     "output_type": "stream",
     "text": [
      " 95%|████████████████████████████████████████████████████████████████████████████    | 285/300 [00:50<00:02,  5.53it/s]"
     ]
    },
    {
     "name": "stdout",
     "output_type": "stream",
     "text": [
      "Loss 284: 3.753814607858658\n",
      "Acc 284: 81.44444444444444\n",
      "F1 284: 0.8109539839251555\n",
      "Loss 285: 3.4387969076633453\n",
      "Acc 285: 82.66666666666667\n",
      "F1 285: 0.8213986108791204\n"
     ]
    },
    {
     "name": "stderr",
     "output_type": "stream",
     "text": [
      " 96%|████████████████████████████████████████████████████████████████████████████▌   | 287/300 [00:51<00:02,  5.77it/s]"
     ]
    },
    {
     "name": "stdout",
     "output_type": "stream",
     "text": [
      "Loss 286: 3.5165851712226868\n",
      "Acc 286: 84.0\n",
      "F1 286: 0.8364495322386296\n",
      "Loss 287: 3.4963030219078064\n",
      "Acc 287: 83.33333333333333\n",
      "F1 287: 0.8299059406554503\n"
     ]
    },
    {
     "name": "stderr",
     "output_type": "stream",
     "text": [
      " 96%|█████████████████████████████████████████████████████████████████████████████   | 289/300 [00:51<00:01,  5.72it/s]"
     ]
    },
    {
     "name": "stdout",
     "output_type": "stream",
     "text": [
      "Loss 288: 3.4744923263788223\n",
      "Acc 288: 83.33333333333333\n",
      "F1 288: 0.8270993887006625\n",
      "Loss 289: 3.150867760181427\n",
      "Acc 289: 86.11111111111111\n",
      "F1 289: 0.8571033697980837\n"
     ]
    },
    {
     "name": "stderr",
     "output_type": "stream",
     "text": [
      " 97%|█████████████████████████████████████████████████████████████████████████████▌  | 291/300 [00:51<00:01,  5.70it/s]"
     ]
    },
    {
     "name": "stdout",
     "output_type": "stream",
     "text": [
      "Loss 290: 3.2258560433983803\n",
      "Acc 290: 84.11111111111111\n",
      "F1 290: 0.8386835013538727\n",
      "Loss 291: 3.2304834201931953\n",
      "Acc 291: 84.88888888888889\n",
      "F1 291: 0.840501932840554\n"
     ]
    },
    {
     "name": "stderr",
     "output_type": "stream",
     "text": [
      " 98%|██████████████████████████████████████████████████████████████████████████████▏ | 293/300 [00:52<00:01,  5.71it/s]"
     ]
    },
    {
     "name": "stdout",
     "output_type": "stream",
     "text": [
      "Loss 292: 3.024194210767746\n",
      "Acc 292: 86.88888888888889\n",
      "F1 292: 0.8672920380983916\n",
      "Loss 293: 3.0514724776148796\n",
      "Acc 293: 86.77777777777777\n",
      "F1 293: 0.8625900373755343\n"
     ]
    },
    {
     "name": "stderr",
     "output_type": "stream",
     "text": [
      " 98%|██████████████████████████████████████████████████████████████████████████████▋ | 295/300 [00:52<00:00,  5.86it/s]"
     ]
    },
    {
     "name": "stdout",
     "output_type": "stream",
     "text": [
      "Loss 294: 3.0861187428236008\n",
      "Acc 294: 85.66666666666667\n",
      "F1 294: 0.8536246316946801\n",
      "Loss 295: 3.190841928124428\n",
      "Acc 295: 84.55555555555556\n",
      "F1 295: 0.842796354078844\n"
     ]
    },
    {
     "name": "stderr",
     "output_type": "stream",
     "text": [
      " 99%|███████████████████████████████████████████████████████████████████████████████▏| 297/300 [00:52<00:00,  5.77it/s]"
     ]
    },
    {
     "name": "stdout",
     "output_type": "stream",
     "text": [
      "Loss 296: 3.1076538786292076\n",
      "Acc 296: 84.77777777777777\n",
      "F1 296: 0.8438815849655419\n",
      "Loss 297: 3.042546235024929\n",
      "Acc 297: 86.22222222222223\n",
      "F1 297: 0.8586924985658808\n"
     ]
    },
    {
     "name": "stderr",
     "output_type": "stream",
     "text": [
      "100%|███████████████████████████████████████████████████████████████████████████████▋| 299/300 [00:53<00:00,  5.77it/s]"
     ]
    },
    {
     "name": "stdout",
     "output_type": "stream",
     "text": [
      "Loss 298: 3.0747986882925034\n",
      "Acc 298: 87.11111111111111\n",
      "F1 298: 0.8690470682618392\n",
      "Loss 299: 3.187272846698761\n",
      "Acc 299: 83.77777777777777\n",
      "F1 299: 0.8333451740569953\n"
     ]
    },
    {
     "name": "stderr",
     "output_type": "stream",
     "text": [
      "100%|████████████████████████████████████████████████████████████████████████████████| 300/300 [00:53<00:00,  5.61it/s]"
     ]
    },
    {
     "name": "stdout",
     "output_type": "stream",
     "text": [
      "Loss 300: 3.266880474984646\n",
      "Acc 300: 85.0\n",
      "F1 300: 0.8471191467243998\n"
     ]
    },
    {
     "name": "stderr",
     "output_type": "stream",
     "text": [
      "\n"
     ]
    }
   ],
   "source": [
    "EPOCHS = 300\n",
    "for i in tqdm(range(EPOCHS)):\n",
    "    loss_epoch = 0\n",
    "    acc_epoch = 0\n",
    "    f1_epoch = 0\n",
    "    model.train()\n",
    "    for X, y in train_loader:\n",
    "        X, y = X.to(device), y.to(device).flatten()\n",
    "        optimizer.zero_grad()\n",
    "        y_pred = model(X)\n",
    "        loss = criterion(y_pred, y)\n",
    "        acc = multi_acc(y_pred, y)\n",
    "        f1 = F1_score(y_pred, y)\n",
    "        loss.backward()\n",
    "        optimizer.step()\n",
    "        loss_epoch += loss.item()\n",
    "        acc_epoch += acc.item()\n",
    "        f1_epoch += f1.item()\n",
    "        \n",
    "    print(f'Loss {i+1}: {loss_epoch}')\n",
    "    print(f'Acc {i+1}: {acc_epoch/len(train_loader)}')\n",
    "    print(f'F1 {i+1}: {f1_epoch/len(train_loader)}')"
   ]
  },
  {
   "cell_type": "code",
   "execution_count": null,
   "id": "f007f7d5",
   "metadata": {},
   "outputs": [],
   "source": []
  }
 ],
 "metadata": {
  "kernelspec": {
   "display_name": "Python 3",
   "language": "python",
   "name": "python3"
  },
  "language_info": {
   "codemirror_mode": {
    "name": "ipython",
    "version": 3
   },
   "file_extension": ".py",
   "mimetype": "text/x-python",
   "name": "python",
   "nbconvert_exporter": "python",
   "pygments_lexer": "ipython3",
   "version": "3.7.10"
  }
 },
 "nbformat": 4,
 "nbformat_minor": 5
}
