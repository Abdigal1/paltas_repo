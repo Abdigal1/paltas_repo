{
 "cells": [
  {
   "cell_type": "code",
   "execution_count": 1,
   "metadata": {},
   "outputs": [],
   "source": [
    "import os\n",
    "import pickle\n",
    "import torch\n",
    "from torch.utils.data import DataLoader, Dataset\n",
    "import torch.nn as nn\n",
    "import torch.functional as F\n",
    "from sklearn.preprocessing import MinMaxScaler\n",
    "import torch.optim as optim\n",
    "from tqdm import tqdm"
   ]
  },
  {
   "cell_type": "code",
   "execution_count": 2,
   "metadata": {},
   "outputs": [],
   "source": [
    "from meta_load import *"
   ]
  },
  {
   "cell_type": "code",
   "execution_count": 3,
   "metadata": {},
   "outputs": [
    {
     "name": "stdout",
     "output_type": "stream",
     "text": [
      "6 4133\n",
      "(4133, 36) (4133,) (4133,) (4133,)\n"
     ]
    },
    {
     "data": {
      "text/html": [
       "<div>\n",
       "<style scoped>\n",
       "    .dataframe tbody tr th:only-of-type {\n",
       "        vertical-align: middle;\n",
       "    }\n",
       "\n",
       "    .dataframe tbody tr th {\n",
       "        vertical-align: top;\n",
       "    }\n",
       "\n",
       "    .dataframe thead th {\n",
       "        text-align: right;\n",
       "    }\n",
       "</style>\n",
       "<table border=\"1\" class=\"dataframe\">\n",
       "  <thead>\n",
       "    <tr style=\"text-align: right;\">\n",
       "      <th></th>\n",
       "      <th>SenteraASM15_0</th>\n",
       "      <th>SenteraASM15_90</th>\n",
       "      <th>SenteraASM30_0</th>\n",
       "      <th>SenteraASM30_90</th>\n",
       "      <th>SenteraASM50_0</th>\n",
       "      <th>SenteraASM50_90</th>\n",
       "      <th>Senteracontrast15_0</th>\n",
       "      <th>Senteracontrast15_90</th>\n",
       "      <th>Senteracontrast30_0</th>\n",
       "      <th>Senteracontrast30_90</th>\n",
       "      <th>...</th>\n",
       "      <th>Senteraenergy50_90</th>\n",
       "      <th>Senterahomogeneity15_0</th>\n",
       "      <th>Senterahomogeneity15_90</th>\n",
       "      <th>Senterahomogeneity30_0</th>\n",
       "      <th>Senterahomogeneity30_90</th>\n",
       "      <th>Senterahomogeneity50_0</th>\n",
       "      <th>Senterahomogeneity50_90</th>\n",
       "      <th>fly</th>\n",
       "      <th>landmark</th>\n",
       "      <th>Place</th>\n",
       "    </tr>\n",
       "  </thead>\n",
       "  <tbody>\n",
       "    <tr>\n",
       "      <th>0</th>\n",
       "      <td>0.000705</td>\n",
       "      <td>0.000711</td>\n",
       "      <td>0.000594</td>\n",
       "      <td>0.000592</td>\n",
       "      <td>0.000560</td>\n",
       "      <td>0.000559</td>\n",
       "      <td>143.419535</td>\n",
       "      <td>127.969690</td>\n",
       "      <td>200.391433</td>\n",
       "      <td>196.198353</td>\n",
       "      <td>...</td>\n",
       "      <td>0.023634</td>\n",
       "      <td>0.144670</td>\n",
       "      <td>0.144798</td>\n",
       "      <td>0.116794</td>\n",
       "      <td>0.115318</td>\n",
       "      <td>0.106531</td>\n",
       "      <td>0.105428</td>\n",
       "      <td>8</td>\n",
       "      <td>N_Control</td>\n",
       "      <td>10_A</td>\n",
       "    </tr>\n",
       "    <tr>\n",
       "      <th>1</th>\n",
       "      <td>0.000855</td>\n",
       "      <td>0.000869</td>\n",
       "      <td>0.000725</td>\n",
       "      <td>0.000722</td>\n",
       "      <td>0.000690</td>\n",
       "      <td>0.000680</td>\n",
       "      <td>112.393476</td>\n",
       "      <td>104.478127</td>\n",
       "      <td>154.060668</td>\n",
       "      <td>155.406801</td>\n",
       "      <td>...</td>\n",
       "      <td>0.026083</td>\n",
       "      <td>0.151051</td>\n",
       "      <td>0.152582</td>\n",
       "      <td>0.122054</td>\n",
       "      <td>0.121578</td>\n",
       "      <td>0.112162</td>\n",
       "      <td>0.110044</td>\n",
       "      <td>8</td>\n",
       "      <td>P_Control</td>\n",
       "      <td>10_B</td>\n",
       "    </tr>\n",
       "    <tr>\n",
       "      <th>2</th>\n",
       "      <td>0.000813</td>\n",
       "      <td>0.000833</td>\n",
       "      <td>0.000672</td>\n",
       "      <td>0.000673</td>\n",
       "      <td>0.000635</td>\n",
       "      <td>0.000637</td>\n",
       "      <td>123.028084</td>\n",
       "      <td>106.878970</td>\n",
       "      <td>183.036163</td>\n",
       "      <td>180.869956</td>\n",
       "      <td>...</td>\n",
       "      <td>0.025233</td>\n",
       "      <td>0.147733</td>\n",
       "      <td>0.151046</td>\n",
       "      <td>0.115586</td>\n",
       "      <td>0.115848</td>\n",
       "      <td>0.105117</td>\n",
       "      <td>0.105493</td>\n",
       "      <td>8</td>\n",
       "      <td>K_Control</td>\n",
       "      <td>10_C</td>\n",
       "    </tr>\n",
       "    <tr>\n",
       "      <th>3</th>\n",
       "      <td>0.000728</td>\n",
       "      <td>0.000766</td>\n",
       "      <td>0.000647</td>\n",
       "      <td>0.000642</td>\n",
       "      <td>0.000618</td>\n",
       "      <td>0.000607</td>\n",
       "      <td>151.597590</td>\n",
       "      <td>132.826108</td>\n",
       "      <td>193.162567</td>\n",
       "      <td>206.125643</td>\n",
       "      <td>...</td>\n",
       "      <td>0.024637</td>\n",
       "      <td>0.131963</td>\n",
       "      <td>0.140764</td>\n",
       "      <td>0.112058</td>\n",
       "      <td>0.111860</td>\n",
       "      <td>0.103291</td>\n",
       "      <td>0.103053</td>\n",
       "      <td>8</td>\n",
       "      <td>Control</td>\n",
       "      <td>10_D</td>\n",
       "    </tr>\n",
       "    <tr>\n",
       "      <th>4</th>\n",
       "      <td>0.000926</td>\n",
       "      <td>0.000944</td>\n",
       "      <td>0.000776</td>\n",
       "      <td>0.000771</td>\n",
       "      <td>0.000737</td>\n",
       "      <td>0.000721</td>\n",
       "      <td>117.817314</td>\n",
       "      <td>100.882589</td>\n",
       "      <td>167.043099</td>\n",
       "      <td>161.468386</td>\n",
       "      <td>...</td>\n",
       "      <td>0.026853</td>\n",
       "      <td>0.158860</td>\n",
       "      <td>0.162291</td>\n",
       "      <td>0.127165</td>\n",
       "      <td>0.126652</td>\n",
       "      <td>0.118328</td>\n",
       "      <td>0.113454</td>\n",
       "      <td>8</td>\n",
       "      <td>H50%</td>\n",
       "      <td>10_E</td>\n",
       "    </tr>\n",
       "    <tr>\n",
       "      <th>...</th>\n",
       "      <td>...</td>\n",
       "      <td>...</td>\n",
       "      <td>...</td>\n",
       "      <td>...</td>\n",
       "      <td>...</td>\n",
       "      <td>...</td>\n",
       "      <td>...</td>\n",
       "      <td>...</td>\n",
       "      <td>...</td>\n",
       "      <td>...</td>\n",
       "      <td>...</td>\n",
       "      <td>...</td>\n",
       "      <td>...</td>\n",
       "      <td>...</td>\n",
       "      <td>...</td>\n",
       "      <td>...</td>\n",
       "      <td>...</td>\n",
       "      <td>...</td>\n",
       "      <td>...</td>\n",
       "      <td>...</td>\n",
       "      <td>...</td>\n",
       "    </tr>\n",
       "    <tr>\n",
       "      <th>4128</th>\n",
       "      <td>0.000449</td>\n",
       "      <td>0.000461</td>\n",
       "      <td>0.000397</td>\n",
       "      <td>0.000400</td>\n",
       "      <td>0.000374</td>\n",
       "      <td>0.000378</td>\n",
       "      <td>291.551824</td>\n",
       "      <td>279.614601</td>\n",
       "      <td>357.266417</td>\n",
       "      <td>356.500160</td>\n",
       "      <td>...</td>\n",
       "      <td>0.019449</td>\n",
       "      <td>0.116537</td>\n",
       "      <td>0.120360</td>\n",
       "      <td>0.100817</td>\n",
       "      <td>0.102188</td>\n",
       "      <td>0.092546</td>\n",
       "      <td>0.095513</td>\n",
       "      <td>12</td>\n",
       "      <td>K_Control</td>\n",
       "      <td>9_C</td>\n",
       "    </tr>\n",
       "    <tr>\n",
       "      <th>4129</th>\n",
       "      <td>0.000389</td>\n",
       "      <td>0.000401</td>\n",
       "      <td>0.000342</td>\n",
       "      <td>0.000351</td>\n",
       "      <td>0.000325</td>\n",
       "      <td>0.000337</td>\n",
       "      <td>329.941675</td>\n",
       "      <td>309.016892</td>\n",
       "      <td>396.023013</td>\n",
       "      <td>383.123028</td>\n",
       "      <td>...</td>\n",
       "      <td>0.018349</td>\n",
       "      <td>0.102952</td>\n",
       "      <td>0.105841</td>\n",
       "      <td>0.086658</td>\n",
       "      <td>0.089652</td>\n",
       "      <td>0.079483</td>\n",
       "      <td>0.083362</td>\n",
       "      <td>12</td>\n",
       "      <td>Control</td>\n",
       "      <td>9_D</td>\n",
       "    </tr>\n",
       "    <tr>\n",
       "      <th>4130</th>\n",
       "      <td>0.000531</td>\n",
       "      <td>0.000527</td>\n",
       "      <td>0.000468</td>\n",
       "      <td>0.000471</td>\n",
       "      <td>0.000451</td>\n",
       "      <td>0.000453</td>\n",
       "      <td>259.923293</td>\n",
       "      <td>263.598031</td>\n",
       "      <td>314.750834</td>\n",
       "      <td>312.506270</td>\n",
       "      <td>...</td>\n",
       "      <td>0.021276</td>\n",
       "      <td>0.114995</td>\n",
       "      <td>0.113984</td>\n",
       "      <td>0.097978</td>\n",
       "      <td>0.097928</td>\n",
       "      <td>0.092691</td>\n",
       "      <td>0.092209</td>\n",
       "      <td>12</td>\n",
       "      <td>H50%</td>\n",
       "      <td>9_E</td>\n",
       "    </tr>\n",
       "    <tr>\n",
       "      <th>4131</th>\n",
       "      <td>0.000394</td>\n",
       "      <td>0.000403</td>\n",
       "      <td>0.000348</td>\n",
       "      <td>0.000354</td>\n",
       "      <td>0.000332</td>\n",
       "      <td>0.000341</td>\n",
       "      <td>338.214450</td>\n",
       "      <td>322.251519</td>\n",
       "      <td>402.663766</td>\n",
       "      <td>391.480817</td>\n",
       "      <td>...</td>\n",
       "      <td>0.018455</td>\n",
       "      <td>0.107977</td>\n",
       "      <td>0.111161</td>\n",
       "      <td>0.092265</td>\n",
       "      <td>0.093713</td>\n",
       "      <td>0.085414</td>\n",
       "      <td>0.087113</td>\n",
       "      <td>12</td>\n",
       "      <td>H75%</td>\n",
       "      <td>9_F</td>\n",
       "    </tr>\n",
       "    <tr>\n",
       "      <th>4132</th>\n",
       "      <td>0.000430</td>\n",
       "      <td>0.000446</td>\n",
       "      <td>0.000377</td>\n",
       "      <td>0.000387</td>\n",
       "      <td>0.000360</td>\n",
       "      <td>0.000367</td>\n",
       "      <td>303.804310</td>\n",
       "      <td>271.122719</td>\n",
       "      <td>390.387043</td>\n",
       "      <td>358.919336</td>\n",
       "      <td>...</td>\n",
       "      <td>0.019158</td>\n",
       "      <td>0.110396</td>\n",
       "      <td>0.116226</td>\n",
       "      <td>0.093093</td>\n",
       "      <td>0.097496</td>\n",
       "      <td>0.087228</td>\n",
       "      <td>0.090680</td>\n",
       "      <td>12</td>\n",
       "      <td>Control</td>\n",
       "      <td>9_G</td>\n",
       "    </tr>\n",
       "  </tbody>\n",
       "</table>\n",
       "<p>4133 rows × 39 columns</p>\n",
       "</div>"
      ],
      "text/plain": [
       "      SenteraASM15_0  SenteraASM15_90  SenteraASM30_0  SenteraASM30_90  \\\n",
       "0           0.000705         0.000711        0.000594         0.000592   \n",
       "1           0.000855         0.000869        0.000725         0.000722   \n",
       "2           0.000813         0.000833        0.000672         0.000673   \n",
       "3           0.000728         0.000766        0.000647         0.000642   \n",
       "4           0.000926         0.000944        0.000776         0.000771   \n",
       "...              ...              ...             ...              ...   \n",
       "4128        0.000449         0.000461        0.000397         0.000400   \n",
       "4129        0.000389         0.000401        0.000342         0.000351   \n",
       "4130        0.000531         0.000527        0.000468         0.000471   \n",
       "4131        0.000394         0.000403        0.000348         0.000354   \n",
       "4132        0.000430         0.000446        0.000377         0.000387   \n",
       "\n",
       "      SenteraASM50_0  SenteraASM50_90  Senteracontrast15_0  \\\n",
       "0           0.000560         0.000559           143.419535   \n",
       "1           0.000690         0.000680           112.393476   \n",
       "2           0.000635         0.000637           123.028084   \n",
       "3           0.000618         0.000607           151.597590   \n",
       "4           0.000737         0.000721           117.817314   \n",
       "...              ...              ...                  ...   \n",
       "4128        0.000374         0.000378           291.551824   \n",
       "4129        0.000325         0.000337           329.941675   \n",
       "4130        0.000451         0.000453           259.923293   \n",
       "4131        0.000332         0.000341           338.214450   \n",
       "4132        0.000360         0.000367           303.804310   \n",
       "\n",
       "      Senteracontrast15_90  Senteracontrast30_0  Senteracontrast30_90  ...  \\\n",
       "0               127.969690           200.391433            196.198353  ...   \n",
       "1               104.478127           154.060668            155.406801  ...   \n",
       "2               106.878970           183.036163            180.869956  ...   \n",
       "3               132.826108           193.162567            206.125643  ...   \n",
       "4               100.882589           167.043099            161.468386  ...   \n",
       "...                    ...                  ...                   ...  ...   \n",
       "4128            279.614601           357.266417            356.500160  ...   \n",
       "4129            309.016892           396.023013            383.123028  ...   \n",
       "4130            263.598031           314.750834            312.506270  ...   \n",
       "4131            322.251519           402.663766            391.480817  ...   \n",
       "4132            271.122719           390.387043            358.919336  ...   \n",
       "\n",
       "      Senteraenergy50_90  Senterahomogeneity15_0  Senterahomogeneity15_90  \\\n",
       "0               0.023634                0.144670                 0.144798   \n",
       "1               0.026083                0.151051                 0.152582   \n",
       "2               0.025233                0.147733                 0.151046   \n",
       "3               0.024637                0.131963                 0.140764   \n",
       "4               0.026853                0.158860                 0.162291   \n",
       "...                  ...                     ...                      ...   \n",
       "4128            0.019449                0.116537                 0.120360   \n",
       "4129            0.018349                0.102952                 0.105841   \n",
       "4130            0.021276                0.114995                 0.113984   \n",
       "4131            0.018455                0.107977                 0.111161   \n",
       "4132            0.019158                0.110396                 0.116226   \n",
       "\n",
       "      Senterahomogeneity30_0  Senterahomogeneity30_90  Senterahomogeneity50_0  \\\n",
       "0                   0.116794                 0.115318                0.106531   \n",
       "1                   0.122054                 0.121578                0.112162   \n",
       "2                   0.115586                 0.115848                0.105117   \n",
       "3                   0.112058                 0.111860                0.103291   \n",
       "4                   0.127165                 0.126652                0.118328   \n",
       "...                      ...                      ...                     ...   \n",
       "4128                0.100817                 0.102188                0.092546   \n",
       "4129                0.086658                 0.089652                0.079483   \n",
       "4130                0.097978                 0.097928                0.092691   \n",
       "4131                0.092265                 0.093713                0.085414   \n",
       "4132                0.093093                 0.097496                0.087228   \n",
       "\n",
       "      Senterahomogeneity50_90  fly   landmark  Place  \n",
       "0                    0.105428    8  N_Control   10_A  \n",
       "1                    0.110044    8  P_Control   10_B  \n",
       "2                    0.105493    8  K_Control   10_C  \n",
       "3                    0.103053    8    Control   10_D  \n",
       "4                    0.113454    8       H50%   10_E  \n",
       "...                       ...  ...        ...    ...  \n",
       "4128                 0.095513   12  K_Control    9_C  \n",
       "4129                 0.083362   12    Control    9_D  \n",
       "4130                 0.092209   12       H50%    9_E  \n",
       "4131                 0.087113   12       H75%    9_F  \n",
       "4132                 0.090680   12    Control    9_G  \n",
       "\n",
       "[4133 rows x 39 columns]"
      ]
     },
     "execution_count": 3,
     "metadata": {},
     "output_type": "execute_result"
    }
   ],
   "source": [
    "df = load_meta_v2()\n",
    "df"
   ]
  },
  {
   "cell_type": "code",
   "execution_count": 4,
   "metadata": {},
   "outputs": [],
   "source": [
    "device = 'cuda' if torch.cuda.is_available() else 'cpu'\n"
   ]
  },
  {
   "cell_type": "code",
   "execution_count": 5,
   "metadata": {},
   "outputs": [
    {
     "name": "stdout",
     "output_type": "stream",
     "text": [
      "Index(['SenteraASM50_0', 'SenteraASM50_90', 'Senteracontrast50_0',\n",
      "       'Senteracontrast50_90', 'Senteracorrelation50_0',\n",
      "       'Senteracorrelation50_90', 'Senteradissimilarity50_0',\n",
      "       'Senteradissimilarity50_90', 'Senteraenergy50_0', 'Senteraenergy50_90',\n",
      "       'Senterahomogeneity50_0', 'Senterahomogeneity50_90', 'fly', 'landmark',\n",
      "       'Place'],\n",
      "      dtype='object')\n"
     ]
    },
    {
     "data": {
      "text/html": [
       "<div>\n",
       "<style scoped>\n",
       "    .dataframe tbody tr th:only-of-type {\n",
       "        vertical-align: middle;\n",
       "    }\n",
       "\n",
       "    .dataframe tbody tr th {\n",
       "        vertical-align: top;\n",
       "    }\n",
       "\n",
       "    .dataframe thead th {\n",
       "        text-align: right;\n",
       "    }\n",
       "</style>\n",
       "<table border=\"1\" class=\"dataframe\">\n",
       "  <thead>\n",
       "    <tr style=\"text-align: right;\">\n",
       "      <th></th>\n",
       "      <th>SenteraASM50_0</th>\n",
       "      <th>SenteraASM50_90</th>\n",
       "      <th>Senteracontrast50_0</th>\n",
       "      <th>Senteracontrast50_90</th>\n",
       "      <th>Senteracorrelation50_0</th>\n",
       "      <th>Senteracorrelation50_90</th>\n",
       "      <th>Senteradissimilarity50_0</th>\n",
       "      <th>Senteradissimilarity50_90</th>\n",
       "      <th>Senteraenergy50_0</th>\n",
       "      <th>Senteraenergy50_90</th>\n",
       "      <th>Senterahomogeneity50_0</th>\n",
       "      <th>Senterahomogeneity50_90</th>\n",
       "      <th>fly</th>\n",
       "      <th>landmark</th>\n",
       "      <th>Place</th>\n",
       "    </tr>\n",
       "  </thead>\n",
       "  <tbody>\n",
       "    <tr>\n",
       "      <th>0</th>\n",
       "      <td>0.000560</td>\n",
       "      <td>0.000559</td>\n",
       "      <td>218.931111</td>\n",
       "      <td>219.047059</td>\n",
       "      <td>0.385036</td>\n",
       "      <td>0.382759</td>\n",
       "      <td>11.041644</td>\n",
       "      <td>11.056423</td>\n",
       "      <td>0.023664</td>\n",
       "      <td>0.023634</td>\n",
       "      <td>0.106531</td>\n",
       "      <td>0.105428</td>\n",
       "      <td>8</td>\n",
       "      <td>N_Control</td>\n",
       "      <td>10_A</td>\n",
       "    </tr>\n",
       "    <tr>\n",
       "      <th>5</th>\n",
       "      <td>0.000381</td>\n",
       "      <td>0.000383</td>\n",
       "      <td>302.398967</td>\n",
       "      <td>299.681248</td>\n",
       "      <td>0.367352</td>\n",
       "      <td>0.371699</td>\n",
       "      <td>13.224918</td>\n",
       "      <td>13.158797</td>\n",
       "      <td>0.019511</td>\n",
       "      <td>0.019573</td>\n",
       "      <td>0.086932</td>\n",
       "      <td>0.086379</td>\n",
       "      <td>8</td>\n",
       "      <td>N_Control</td>\n",
       "      <td>11_A</td>\n",
       "    </tr>\n",
       "    <tr>\n",
       "      <th>14</th>\n",
       "      <td>0.000740</td>\n",
       "      <td>0.000737</td>\n",
       "      <td>194.193897</td>\n",
       "      <td>192.186004</td>\n",
       "      <td>0.340949</td>\n",
       "      <td>0.347341</td>\n",
       "      <td>10.389573</td>\n",
       "      <td>10.355175</td>\n",
       "      <td>0.027209</td>\n",
       "      <td>0.027140</td>\n",
       "      <td>0.112421</td>\n",
       "      <td>0.112791</td>\n",
       "      <td>8</td>\n",
       "      <td>N_Control</td>\n",
       "      <td>13_A</td>\n",
       "    </tr>\n",
       "    <tr>\n",
       "      <th>19</th>\n",
       "      <td>0.000589</td>\n",
       "      <td>0.000578</td>\n",
       "      <td>211.280959</td>\n",
       "      <td>216.151676</td>\n",
       "      <td>0.365355</td>\n",
       "      <td>0.349626</td>\n",
       "      <td>10.963472</td>\n",
       "      <td>11.088518</td>\n",
       "      <td>0.024268</td>\n",
       "      <td>0.024038</td>\n",
       "      <td>0.105244</td>\n",
       "      <td>0.103858</td>\n",
       "      <td>8</td>\n",
       "      <td>N_Control</td>\n",
       "      <td>14_A</td>\n",
       "    </tr>\n",
       "    <tr>\n",
       "      <th>25</th>\n",
       "      <td>0.001016</td>\n",
       "      <td>0.001005</td>\n",
       "      <td>125.493477</td>\n",
       "      <td>129.942448</td>\n",
       "      <td>0.389787</td>\n",
       "      <td>0.368334</td>\n",
       "      <td>8.384933</td>\n",
       "      <td>8.504090</td>\n",
       "      <td>0.031880</td>\n",
       "      <td>0.031707</td>\n",
       "      <td>0.130143</td>\n",
       "      <td>0.130093</td>\n",
       "      <td>8</td>\n",
       "      <td>N_Deficiencia</td>\n",
       "      <td>15_A</td>\n",
       "    </tr>\n",
       "    <tr>\n",
       "      <th>...</th>\n",
       "      <td>...</td>\n",
       "      <td>...</td>\n",
       "      <td>...</td>\n",
       "      <td>...</td>\n",
       "      <td>...</td>\n",
       "      <td>...</td>\n",
       "      <td>...</td>\n",
       "      <td>...</td>\n",
       "      <td>...</td>\n",
       "      <td>...</td>\n",
       "      <td>...</td>\n",
       "      <td>...</td>\n",
       "      <td>...</td>\n",
       "      <td>...</td>\n",
       "      <td>...</td>\n",
       "    </tr>\n",
       "    <tr>\n",
       "      <th>4098</th>\n",
       "      <td>0.000355</td>\n",
       "      <td>0.000356</td>\n",
       "      <td>401.295713</td>\n",
       "      <td>406.205535</td>\n",
       "      <td>0.309834</td>\n",
       "      <td>0.301848</td>\n",
       "      <td>14.724052</td>\n",
       "      <td>14.745610</td>\n",
       "      <td>0.018836</td>\n",
       "      <td>0.018858</td>\n",
       "      <td>0.087387</td>\n",
       "      <td>0.088539</td>\n",
       "      <td>12</td>\n",
       "      <td>N_Exceso</td>\n",
       "      <td>5_A</td>\n",
       "    </tr>\n",
       "    <tr>\n",
       "      <th>4105</th>\n",
       "      <td>0.000212</td>\n",
       "      <td>0.000212</td>\n",
       "      <td>775.322718</td>\n",
       "      <td>773.187599</td>\n",
       "      <td>0.237944</td>\n",
       "      <td>0.241044</td>\n",
       "      <td>20.692041</td>\n",
       "      <td>20.709060</td>\n",
       "      <td>0.014551</td>\n",
       "      <td>0.014546</td>\n",
       "      <td>0.066327</td>\n",
       "      <td>0.064902</td>\n",
       "      <td>12</td>\n",
       "      <td>N_Exceso</td>\n",
       "      <td>6_A</td>\n",
       "    </tr>\n",
       "    <tr>\n",
       "      <th>4112</th>\n",
       "      <td>0.000346</td>\n",
       "      <td>0.000347</td>\n",
       "      <td>481.172257</td>\n",
       "      <td>486.141844</td>\n",
       "      <td>0.332131</td>\n",
       "      <td>0.325299</td>\n",
       "      <td>15.667647</td>\n",
       "      <td>15.703994</td>\n",
       "      <td>0.018600</td>\n",
       "      <td>0.018629</td>\n",
       "      <td>0.098011</td>\n",
       "      <td>0.097584</td>\n",
       "      <td>12</td>\n",
       "      <td>N_Exceso</td>\n",
       "      <td>7_A</td>\n",
       "    </tr>\n",
       "    <tr>\n",
       "      <th>4119</th>\n",
       "      <td>0.000319</td>\n",
       "      <td>0.000332</td>\n",
       "      <td>403.020283</td>\n",
       "      <td>391.572719</td>\n",
       "      <td>0.349588</td>\n",
       "      <td>0.363965</td>\n",
       "      <td>15.088874</td>\n",
       "      <td>14.694055</td>\n",
       "      <td>0.017864</td>\n",
       "      <td>0.018217</td>\n",
       "      <td>0.080117</td>\n",
       "      <td>0.085360</td>\n",
       "      <td>12</td>\n",
       "      <td>N_Control</td>\n",
       "      <td>8_A</td>\n",
       "    </tr>\n",
       "    <tr>\n",
       "      <th>4126</th>\n",
       "      <td>0.000330</td>\n",
       "      <td>0.000335</td>\n",
       "      <td>427.912013</td>\n",
       "      <td>425.953137</td>\n",
       "      <td>0.352564</td>\n",
       "      <td>0.359163</td>\n",
       "      <td>15.297405</td>\n",
       "      <td>15.184957</td>\n",
       "      <td>0.018162</td>\n",
       "      <td>0.018303</td>\n",
       "      <td>0.084012</td>\n",
       "      <td>0.087000</td>\n",
       "      <td>12</td>\n",
       "      <td>N_Control</td>\n",
       "      <td>9_A</td>\n",
       "    </tr>\n",
       "  </tbody>\n",
       "</table>\n",
       "<p>540 rows × 15 columns</p>\n",
       "</div>"
      ],
      "text/plain": [
       "      SenteraASM50_0  SenteraASM50_90  Senteracontrast50_0  \\\n",
       "0           0.000560         0.000559           218.931111   \n",
       "5           0.000381         0.000383           302.398967   \n",
       "14          0.000740         0.000737           194.193897   \n",
       "19          0.000589         0.000578           211.280959   \n",
       "25          0.001016         0.001005           125.493477   \n",
       "...              ...              ...                  ...   \n",
       "4098        0.000355         0.000356           401.295713   \n",
       "4105        0.000212         0.000212           775.322718   \n",
       "4112        0.000346         0.000347           481.172257   \n",
       "4119        0.000319         0.000332           403.020283   \n",
       "4126        0.000330         0.000335           427.912013   \n",
       "\n",
       "      Senteracontrast50_90  Senteracorrelation50_0  Senteracorrelation50_90  \\\n",
       "0               219.047059                0.385036                 0.382759   \n",
       "5               299.681248                0.367352                 0.371699   \n",
       "14              192.186004                0.340949                 0.347341   \n",
       "19              216.151676                0.365355                 0.349626   \n",
       "25              129.942448                0.389787                 0.368334   \n",
       "...                    ...                     ...                      ...   \n",
       "4098            406.205535                0.309834                 0.301848   \n",
       "4105            773.187599                0.237944                 0.241044   \n",
       "4112            486.141844                0.332131                 0.325299   \n",
       "4119            391.572719                0.349588                 0.363965   \n",
       "4126            425.953137                0.352564                 0.359163   \n",
       "\n",
       "      Senteradissimilarity50_0  Senteradissimilarity50_90  Senteraenergy50_0  \\\n",
       "0                    11.041644                  11.056423           0.023664   \n",
       "5                    13.224918                  13.158797           0.019511   \n",
       "14                   10.389573                  10.355175           0.027209   \n",
       "19                   10.963472                  11.088518           0.024268   \n",
       "25                    8.384933                   8.504090           0.031880   \n",
       "...                        ...                        ...                ...   \n",
       "4098                 14.724052                  14.745610           0.018836   \n",
       "4105                 20.692041                  20.709060           0.014551   \n",
       "4112                 15.667647                  15.703994           0.018600   \n",
       "4119                 15.088874                  14.694055           0.017864   \n",
       "4126                 15.297405                  15.184957           0.018162   \n",
       "\n",
       "      Senteraenergy50_90  Senterahomogeneity50_0  Senterahomogeneity50_90  \\\n",
       "0               0.023634                0.106531                 0.105428   \n",
       "5               0.019573                0.086932                 0.086379   \n",
       "14              0.027140                0.112421                 0.112791   \n",
       "19              0.024038                0.105244                 0.103858   \n",
       "25              0.031707                0.130143                 0.130093   \n",
       "...                  ...                     ...                      ...   \n",
       "4098            0.018858                0.087387                 0.088539   \n",
       "4105            0.014546                0.066327                 0.064902   \n",
       "4112            0.018629                0.098011                 0.097584   \n",
       "4119            0.018217                0.080117                 0.085360   \n",
       "4126            0.018303                0.084012                 0.087000   \n",
       "\n",
       "      fly       landmark Place  \n",
       "0       8      N_Control  10_A  \n",
       "5       8      N_Control  11_A  \n",
       "14      8      N_Control  13_A  \n",
       "19      8      N_Control  14_A  \n",
       "25      8  N_Deficiencia  15_A  \n",
       "...   ...            ...   ...  \n",
       "4098   12       N_Exceso   5_A  \n",
       "4105   12       N_Exceso   6_A  \n",
       "4112   12       N_Exceso   7_A  \n",
       "4119   12      N_Control   8_A  \n",
       "4126   12      N_Control   9_A  \n",
       "\n",
       "[540 rows x 15 columns]"
      ]
     },
     "execution_count": 5,
     "metadata": {},
     "output_type": "execute_result"
    }
   ],
   "source": [
    "N_data = df[(df['landmark']=='N_Control') | (df['landmark']=='N_Exceso') | (df['landmark']=='N_Deficiencia')]\n",
    "#optional\n",
    "N_data = N_data.iloc[:,[4,5,10,11,16,17,22,23,28,29,34,35,36,37,38]]\n",
    "print(N_data.columns)\n",
    "N_data = N_data[N_data['fly']!=0]\n",
    "N_data"
   ]
  },
  {
   "cell_type": "code",
   "execution_count": 6,
   "metadata": {},
   "outputs": [],
   "source": [
    "n2clas={'N_Deficiencia':0, 'N_Control':1, 'N_Exceso':2}"
   ]
  },
  {
   "cell_type": "code",
   "execution_count": 7,
   "metadata": {},
   "outputs": [
    {
     "data": {
      "text/html": [
       "<div>\n",
       "<style scoped>\n",
       "    .dataframe tbody tr th:only-of-type {\n",
       "        vertical-align: middle;\n",
       "    }\n",
       "\n",
       "    .dataframe tbody tr th {\n",
       "        vertical-align: top;\n",
       "    }\n",
       "\n",
       "    .dataframe thead th {\n",
       "        text-align: right;\n",
       "    }\n",
       "</style>\n",
       "<table border=\"1\" class=\"dataframe\">\n",
       "  <thead>\n",
       "    <tr style=\"text-align: right;\">\n",
       "      <th></th>\n",
       "      <th>SenteraASM50_0</th>\n",
       "      <th>SenteraASM50_90</th>\n",
       "      <th>Senteracontrast50_0</th>\n",
       "      <th>Senteracontrast50_90</th>\n",
       "      <th>Senteracorrelation50_0</th>\n",
       "      <th>Senteracorrelation50_90</th>\n",
       "      <th>Senteradissimilarity50_0</th>\n",
       "      <th>Senteradissimilarity50_90</th>\n",
       "      <th>Senteraenergy50_0</th>\n",
       "      <th>Senteraenergy50_90</th>\n",
       "      <th>Senterahomogeneity50_0</th>\n",
       "      <th>Senterahomogeneity50_90</th>\n",
       "      <th>fly</th>\n",
       "      <th>landmark</th>\n",
       "      <th>Place</th>\n",
       "    </tr>\n",
       "  </thead>\n",
       "  <tbody>\n",
       "    <tr>\n",
       "      <th>0</th>\n",
       "      <td>0.000560</td>\n",
       "      <td>0.000559</td>\n",
       "      <td>218.931111</td>\n",
       "      <td>219.047059</td>\n",
       "      <td>0.385036</td>\n",
       "      <td>0.382759</td>\n",
       "      <td>11.041644</td>\n",
       "      <td>11.056423</td>\n",
       "      <td>0.023664</td>\n",
       "      <td>0.023634</td>\n",
       "      <td>0.106531</td>\n",
       "      <td>0.105428</td>\n",
       "      <td>8</td>\n",
       "      <td>1</td>\n",
       "      <td>10_A</td>\n",
       "    </tr>\n",
       "    <tr>\n",
       "      <th>5</th>\n",
       "      <td>0.000381</td>\n",
       "      <td>0.000383</td>\n",
       "      <td>302.398967</td>\n",
       "      <td>299.681248</td>\n",
       "      <td>0.367352</td>\n",
       "      <td>0.371699</td>\n",
       "      <td>13.224918</td>\n",
       "      <td>13.158797</td>\n",
       "      <td>0.019511</td>\n",
       "      <td>0.019573</td>\n",
       "      <td>0.086932</td>\n",
       "      <td>0.086379</td>\n",
       "      <td>8</td>\n",
       "      <td>1</td>\n",
       "      <td>11_A</td>\n",
       "    </tr>\n",
       "    <tr>\n",
       "      <th>14</th>\n",
       "      <td>0.000740</td>\n",
       "      <td>0.000737</td>\n",
       "      <td>194.193897</td>\n",
       "      <td>192.186004</td>\n",
       "      <td>0.340949</td>\n",
       "      <td>0.347341</td>\n",
       "      <td>10.389573</td>\n",
       "      <td>10.355175</td>\n",
       "      <td>0.027209</td>\n",
       "      <td>0.027140</td>\n",
       "      <td>0.112421</td>\n",
       "      <td>0.112791</td>\n",
       "      <td>8</td>\n",
       "      <td>1</td>\n",
       "      <td>13_A</td>\n",
       "    </tr>\n",
       "    <tr>\n",
       "      <th>19</th>\n",
       "      <td>0.000589</td>\n",
       "      <td>0.000578</td>\n",
       "      <td>211.280959</td>\n",
       "      <td>216.151676</td>\n",
       "      <td>0.365355</td>\n",
       "      <td>0.349626</td>\n",
       "      <td>10.963472</td>\n",
       "      <td>11.088518</td>\n",
       "      <td>0.024268</td>\n",
       "      <td>0.024038</td>\n",
       "      <td>0.105244</td>\n",
       "      <td>0.103858</td>\n",
       "      <td>8</td>\n",
       "      <td>1</td>\n",
       "      <td>14_A</td>\n",
       "    </tr>\n",
       "    <tr>\n",
       "      <th>25</th>\n",
       "      <td>0.001016</td>\n",
       "      <td>0.001005</td>\n",
       "      <td>125.493477</td>\n",
       "      <td>129.942448</td>\n",
       "      <td>0.389787</td>\n",
       "      <td>0.368334</td>\n",
       "      <td>8.384933</td>\n",
       "      <td>8.504090</td>\n",
       "      <td>0.031880</td>\n",
       "      <td>0.031707</td>\n",
       "      <td>0.130143</td>\n",
       "      <td>0.130093</td>\n",
       "      <td>8</td>\n",
       "      <td>0</td>\n",
       "      <td>15_A</td>\n",
       "    </tr>\n",
       "    <tr>\n",
       "      <th>...</th>\n",
       "      <td>...</td>\n",
       "      <td>...</td>\n",
       "      <td>...</td>\n",
       "      <td>...</td>\n",
       "      <td>...</td>\n",
       "      <td>...</td>\n",
       "      <td>...</td>\n",
       "      <td>...</td>\n",
       "      <td>...</td>\n",
       "      <td>...</td>\n",
       "      <td>...</td>\n",
       "      <td>...</td>\n",
       "      <td>...</td>\n",
       "      <td>...</td>\n",
       "      <td>...</td>\n",
       "    </tr>\n",
       "    <tr>\n",
       "      <th>4098</th>\n",
       "      <td>0.000355</td>\n",
       "      <td>0.000356</td>\n",
       "      <td>401.295713</td>\n",
       "      <td>406.205535</td>\n",
       "      <td>0.309834</td>\n",
       "      <td>0.301848</td>\n",
       "      <td>14.724052</td>\n",
       "      <td>14.745610</td>\n",
       "      <td>0.018836</td>\n",
       "      <td>0.018858</td>\n",
       "      <td>0.087387</td>\n",
       "      <td>0.088539</td>\n",
       "      <td>12</td>\n",
       "      <td>2</td>\n",
       "      <td>5_A</td>\n",
       "    </tr>\n",
       "    <tr>\n",
       "      <th>4105</th>\n",
       "      <td>0.000212</td>\n",
       "      <td>0.000212</td>\n",
       "      <td>775.322718</td>\n",
       "      <td>773.187599</td>\n",
       "      <td>0.237944</td>\n",
       "      <td>0.241044</td>\n",
       "      <td>20.692041</td>\n",
       "      <td>20.709060</td>\n",
       "      <td>0.014551</td>\n",
       "      <td>0.014546</td>\n",
       "      <td>0.066327</td>\n",
       "      <td>0.064902</td>\n",
       "      <td>12</td>\n",
       "      <td>2</td>\n",
       "      <td>6_A</td>\n",
       "    </tr>\n",
       "    <tr>\n",
       "      <th>4112</th>\n",
       "      <td>0.000346</td>\n",
       "      <td>0.000347</td>\n",
       "      <td>481.172257</td>\n",
       "      <td>486.141844</td>\n",
       "      <td>0.332131</td>\n",
       "      <td>0.325299</td>\n",
       "      <td>15.667647</td>\n",
       "      <td>15.703994</td>\n",
       "      <td>0.018600</td>\n",
       "      <td>0.018629</td>\n",
       "      <td>0.098011</td>\n",
       "      <td>0.097584</td>\n",
       "      <td>12</td>\n",
       "      <td>2</td>\n",
       "      <td>7_A</td>\n",
       "    </tr>\n",
       "    <tr>\n",
       "      <th>4119</th>\n",
       "      <td>0.000319</td>\n",
       "      <td>0.000332</td>\n",
       "      <td>403.020283</td>\n",
       "      <td>391.572719</td>\n",
       "      <td>0.349588</td>\n",
       "      <td>0.363965</td>\n",
       "      <td>15.088874</td>\n",
       "      <td>14.694055</td>\n",
       "      <td>0.017864</td>\n",
       "      <td>0.018217</td>\n",
       "      <td>0.080117</td>\n",
       "      <td>0.085360</td>\n",
       "      <td>12</td>\n",
       "      <td>1</td>\n",
       "      <td>8_A</td>\n",
       "    </tr>\n",
       "    <tr>\n",
       "      <th>4126</th>\n",
       "      <td>0.000330</td>\n",
       "      <td>0.000335</td>\n",
       "      <td>427.912013</td>\n",
       "      <td>425.953137</td>\n",
       "      <td>0.352564</td>\n",
       "      <td>0.359163</td>\n",
       "      <td>15.297405</td>\n",
       "      <td>15.184957</td>\n",
       "      <td>0.018162</td>\n",
       "      <td>0.018303</td>\n",
       "      <td>0.084012</td>\n",
       "      <td>0.087000</td>\n",
       "      <td>12</td>\n",
       "      <td>1</td>\n",
       "      <td>9_A</td>\n",
       "    </tr>\n",
       "  </tbody>\n",
       "</table>\n",
       "<p>540 rows × 15 columns</p>\n",
       "</div>"
      ],
      "text/plain": [
       "      SenteraASM50_0  SenteraASM50_90  Senteracontrast50_0  \\\n",
       "0           0.000560         0.000559           218.931111   \n",
       "5           0.000381         0.000383           302.398967   \n",
       "14          0.000740         0.000737           194.193897   \n",
       "19          0.000589         0.000578           211.280959   \n",
       "25          0.001016         0.001005           125.493477   \n",
       "...              ...              ...                  ...   \n",
       "4098        0.000355         0.000356           401.295713   \n",
       "4105        0.000212         0.000212           775.322718   \n",
       "4112        0.000346         0.000347           481.172257   \n",
       "4119        0.000319         0.000332           403.020283   \n",
       "4126        0.000330         0.000335           427.912013   \n",
       "\n",
       "      Senteracontrast50_90  Senteracorrelation50_0  Senteracorrelation50_90  \\\n",
       "0               219.047059                0.385036                 0.382759   \n",
       "5               299.681248                0.367352                 0.371699   \n",
       "14              192.186004                0.340949                 0.347341   \n",
       "19              216.151676                0.365355                 0.349626   \n",
       "25              129.942448                0.389787                 0.368334   \n",
       "...                    ...                     ...                      ...   \n",
       "4098            406.205535                0.309834                 0.301848   \n",
       "4105            773.187599                0.237944                 0.241044   \n",
       "4112            486.141844                0.332131                 0.325299   \n",
       "4119            391.572719                0.349588                 0.363965   \n",
       "4126            425.953137                0.352564                 0.359163   \n",
       "\n",
       "      Senteradissimilarity50_0  Senteradissimilarity50_90  Senteraenergy50_0  \\\n",
       "0                    11.041644                  11.056423           0.023664   \n",
       "5                    13.224918                  13.158797           0.019511   \n",
       "14                   10.389573                  10.355175           0.027209   \n",
       "19                   10.963472                  11.088518           0.024268   \n",
       "25                    8.384933                   8.504090           0.031880   \n",
       "...                        ...                        ...                ...   \n",
       "4098                 14.724052                  14.745610           0.018836   \n",
       "4105                 20.692041                  20.709060           0.014551   \n",
       "4112                 15.667647                  15.703994           0.018600   \n",
       "4119                 15.088874                  14.694055           0.017864   \n",
       "4126                 15.297405                  15.184957           0.018162   \n",
       "\n",
       "      Senteraenergy50_90  Senterahomogeneity50_0  Senterahomogeneity50_90  \\\n",
       "0               0.023634                0.106531                 0.105428   \n",
       "5               0.019573                0.086932                 0.086379   \n",
       "14              0.027140                0.112421                 0.112791   \n",
       "19              0.024038                0.105244                 0.103858   \n",
       "25              0.031707                0.130143                 0.130093   \n",
       "...                  ...                     ...                      ...   \n",
       "4098            0.018858                0.087387                 0.088539   \n",
       "4105            0.014546                0.066327                 0.064902   \n",
       "4112            0.018629                0.098011                 0.097584   \n",
       "4119            0.018217                0.080117                 0.085360   \n",
       "4126            0.018303                0.084012                 0.087000   \n",
       "\n",
       "      fly  landmark Place  \n",
       "0       8         1  10_A  \n",
       "5       8         1  11_A  \n",
       "14      8         1  13_A  \n",
       "19      8         1  14_A  \n",
       "25      8         0  15_A  \n",
       "...   ...       ...   ...  \n",
       "4098   12         2   5_A  \n",
       "4105   12         2   6_A  \n",
       "4112   12         2   7_A  \n",
       "4119   12         1   8_A  \n",
       "4126   12         1   9_A  \n",
       "\n",
       "[540 rows x 15 columns]"
      ]
     },
     "execution_count": 7,
     "metadata": {},
     "output_type": "execute_result"
    }
   ],
   "source": [
    "N_data.landmark.replace(n2clas, inplace=True)\n",
    "N_data"
   ]
  },
  {
   "cell_type": "code",
   "execution_count": 8,
   "metadata": {},
   "outputs": [
    {
     "data": {
      "text/plain": [
       "(540, 15)"
      ]
     },
     "execution_count": 8,
     "metadata": {},
     "output_type": "execute_result"
    }
   ],
   "source": [
    "N_data.shape"
   ]
  },
  {
   "cell_type": "code",
   "execution_count": 9,
   "metadata": {},
   "outputs": [],
   "source": [
    "\n",
    "class datapaltas(Dataset):\n",
    "    def __init__(self, df=N_data, scale =True):\n",
    "        self.df = df\n",
    "\n",
    "    def __getitem__(self, index):\n",
    "        X = (self.df.iloc[index,:12]).values\n",
    "        X = X.astype(np.float64)\n",
    "        X = torch.from_numpy(X).float()\n",
    "        y = self.df.iloc[index,13]\n",
    "        #print(y)\n",
    "        y = torch.Tensor([y]).long()\n",
    "        return X, y\n",
    "    \n",
    "    def __len__(self):\n",
    "        return self.df.shape[0]"
   ]
  },
  {
   "cell_type": "code",
   "execution_count": 10,
   "metadata": {},
   "outputs": [],
   "source": [
    "class SimpleClassification(nn.Module):\n",
    "    \n",
    "    def __init__(self, n_features = 12, n_classes = 3):\n",
    "        super(SimpleClassification, self).__init__()\n",
    "        \n",
    "        self.l1 = nn.Linear(n_features, 64)\n",
    "        self.l2 = nn.Linear(64, 32)\n",
    "        self.l3 = nn.Linear(32, 16)\n",
    "        self.l4 = nn.Linear(16, n_classes)\n",
    "        \n",
    "        self.relu = nn.ReLU()\n",
    "        self.batchnorm1 = nn.BatchNorm1d(64)\n",
    "        self.batchnorm2 = nn.BatchNorm1d(32)\n",
    "        self.batchnorm3 = nn.BatchNorm1d(16)\n",
    "    \n",
    "    def forward(self, x):\n",
    "        x = self.relu(self.batchnorm1(self.l1(x)))\n",
    "        x = self.relu(self.batchnorm2(self.l2(x)))\n",
    "        x = self.relu(self.batchnorm3(self.l3(x)))\n",
    "        return self.l4(x)"
   ]
  },
  {
   "cell_type": "code",
   "execution_count": 11,
   "metadata": {},
   "outputs": [
    {
     "data": {
      "text/plain": [
       "((tensor([5.5998e-04, 5.5856e-04, 2.1893e+02, 2.1905e+02, 3.8504e-01, 3.8276e-01,\n",
       "          1.1042e+01, 1.1056e+01, 2.3664e-02, 2.3634e-02, 1.0653e-01, 1.0543e-01]),\n",
       "  tensor([1])),\n",
       " (tensor([1.0163e-03, 1.0053e-03, 1.2549e+02, 1.2994e+02, 3.8979e-01, 3.6833e-01,\n",
       "          8.3849e+00, 8.5041e+00, 3.1880e-02, 3.1707e-02, 1.3014e-01, 1.3009e-01]),\n",
       "  tensor([0])))"
      ]
     },
     "execution_count": 11,
     "metadata": {},
     "output_type": "execute_result"
    }
   ],
   "source": [
    "a = datapaltas()\n",
    "a[0], a[4]"
   ]
  },
  {
   "cell_type": "code",
   "execution_count": 12,
   "metadata": {},
   "outputs": [
    {
     "name": "stdout",
     "output_type": "stream",
     "text": [
      "SimpleClassification(\n",
      "  (l1): Linear(in_features=12, out_features=64, bias=True)\n",
      "  (l2): Linear(in_features=64, out_features=32, bias=True)\n",
      "  (l3): Linear(in_features=32, out_features=16, bias=True)\n",
      "  (l4): Linear(in_features=16, out_features=3, bias=True)\n",
      "  (relu): ReLU()\n",
      "  (batchnorm1): BatchNorm1d(64, eps=1e-05, momentum=0.1, affine=True, track_running_stats=True)\n",
      "  (batchnorm2): BatchNorm1d(32, eps=1e-05, momentum=0.1, affine=True, track_running_stats=True)\n",
      "  (batchnorm3): BatchNorm1d(16, eps=1e-05, momentum=0.1, affine=True, track_running_stats=True)\n",
      ")\n"
     ]
    }
   ],
   "source": [
    "a = datapaltas()\n",
    "train_loader = DataLoader(dataset=a, batch_size=64)\n",
    "model = SimpleClassification()\n",
    "model.to(device)\n",
    "criterion = nn.CrossEntropyLoss()\n",
    "optimizer = optim.Adam(model.parameters(), lr = 0.001)\n",
    "print(model)\n"
   ]
  },
  {
   "cell_type": "code",
   "execution_count": 14,
   "metadata": {},
   "outputs": [],
   "source": [
    "def multi_acc(y_pred, y_test):\n",
    "    y_pred_softmax = torch.log_softmax(y_pred, dim = 1)\n",
    "    _, y_pred_tags = torch.max(y_pred_softmax, dim = 1)    \n",
    "    \n",
    "    correct_pred = (y_pred_tags == y_test).float()\n",
    "    acc = correct_pred.sum() / len(correct_pred)\n",
    "    \n",
    "    acc = torch.round(acc * 100)\n",
    "    \n",
    "    return acc"
   ]
  },
  {
   "cell_type": "code",
   "execution_count": 16,
   "metadata": {},
   "outputs": [
    {
     "name": "stderr",
     "output_type": "stream",
     "text": [
      "  1%|▌                                                                                 | 2/300 [00:00<00:51,  5.75it/s]"
     ]
    },
    {
     "name": "stdout",
     "output_type": "stream",
     "text": [
      "Loss 1: 3.306207090616226\n",
      "Acc 1: 86.0\n",
      "Loss 2: 3.4649879336357117\n",
      "Acc 2: 84.88888888888889\n"
     ]
    },
    {
     "name": "stderr",
     "output_type": "stream",
     "text": [
      "  1%|█                                                                                 | 4/300 [00:00<00:51,  5.77it/s]"
     ]
    },
    {
     "name": "stdout",
     "output_type": "stream",
     "text": [
      "Loss 3: 3.3202486485242844\n",
      "Acc 3: 86.33333333333333\n",
      "Loss 4: 3.505600795149803\n",
      "Acc 4: 85.22222222222223\n"
     ]
    },
    {
     "name": "stderr",
     "output_type": "stream",
     "text": [
      "  2%|█▋                                                                                | 6/300 [00:01<00:50,  5.81it/s]"
     ]
    },
    {
     "name": "stdout",
     "output_type": "stream",
     "text": [
      "Loss 5: 3.4180112928152084\n",
      "Acc 5: 83.22222222222223\n",
      "Loss 6: 3.7580096423625946\n",
      "Acc 6: 83.0\n"
     ]
    },
    {
     "name": "stderr",
     "output_type": "stream",
     "text": [
      "  3%|██▏                                                                               | 8/300 [00:01<00:49,  5.88it/s]"
     ]
    },
    {
     "name": "stdout",
     "output_type": "stream",
     "text": [
      "Loss 7: 3.86064775288105\n",
      "Acc 7: 81.77777777777777\n",
      "Loss 8: 3.733798384666443\n",
      "Acc 8: 82.33333333333333\n"
     ]
    },
    {
     "name": "stderr",
     "output_type": "stream",
     "text": [
      "  3%|██▋                                                                              | 10/300 [00:01<00:48,  5.96it/s]"
     ]
    },
    {
     "name": "stdout",
     "output_type": "stream",
     "text": [
      "Loss 9: 3.836943358182907\n",
      "Acc 9: 83.11111111111111\n",
      "Loss 10: 3.729586973786354\n",
      "Acc 10: 83.55555555555556\n"
     ]
    },
    {
     "name": "stderr",
     "output_type": "stream",
     "text": [
      "  4%|███▏                                                                             | 12/300 [00:02<00:49,  5.81it/s]"
     ]
    },
    {
     "name": "stdout",
     "output_type": "stream",
     "text": [
      "Loss 11: 3.905380204319954\n",
      "Acc 11: 82.0\n",
      "Loss 12: 4.013253673911095\n",
      "Acc 12: 81.55555555555556\n"
     ]
    },
    {
     "name": "stderr",
     "output_type": "stream",
     "text": [
      "  5%|███▊                                                                             | 14/300 [00:02<00:50,  5.62it/s]"
     ]
    },
    {
     "name": "stdout",
     "output_type": "stream",
     "text": [
      "Loss 13: 3.5454159677028656\n",
      "Acc 13: 84.55555555555556\n",
      "Loss 14: 3.613043025135994\n",
      "Acc 14: 82.77777777777777\n"
     ]
    },
    {
     "name": "stderr",
     "output_type": "stream",
     "text": [
      "  5%|████▎                                                                            | 16/300 [00:02<00:49,  5.70it/s]"
     ]
    },
    {
     "name": "stdout",
     "output_type": "stream",
     "text": [
      "Loss 15: 3.8427497148513794\n",
      "Acc 15: 82.66666666666667\n",
      "Loss 16: 3.4317718148231506\n",
      "Acc 16: 83.22222222222223\n"
     ]
    },
    {
     "name": "stderr",
     "output_type": "stream",
     "text": [
      "  6%|████▊                                                                            | 18/300 [00:03<00:49,  5.72it/s]"
     ]
    },
    {
     "name": "stdout",
     "output_type": "stream",
     "text": [
      "Loss 17: 3.5766183584928513\n",
      "Acc 17: 82.66666666666667\n",
      "Loss 18: 3.848250150680542\n",
      "Acc 18: 83.55555555555556\n"
     ]
    },
    {
     "name": "stderr",
     "output_type": "stream",
     "text": [
      "  7%|█████▍                                                                           | 20/300 [00:03<00:48,  5.75it/s]"
     ]
    },
    {
     "name": "stdout",
     "output_type": "stream",
     "text": [
      "Loss 19: 3.4913531243801117\n",
      "Acc 19: 84.55555555555556\n",
      "Loss 20: 3.4638001322746277\n",
      "Acc 20: 84.55555555555556\n"
     ]
    },
    {
     "name": "stderr",
     "output_type": "stream",
     "text": [
      "  7%|█████▉                                                                           | 22/300 [00:03<00:48,  5.76it/s]"
     ]
    },
    {
     "name": "stdout",
     "output_type": "stream",
     "text": [
      "Loss 21: 3.269788071513176\n",
      "Acc 21: 84.88888888888889\n",
      "Loss 22: 3.0900894105434418\n",
      "Acc 22: 87.55555555555556\n"
     ]
    },
    {
     "name": "stderr",
     "output_type": "stream",
     "text": [
      "  8%|██████▍                                                                          | 24/300 [00:04<00:49,  5.55it/s]"
     ]
    },
    {
     "name": "stdout",
     "output_type": "stream",
     "text": [
      "Loss 23: 3.026882529258728\n",
      "Acc 23: 88.11111111111111\n",
      "Loss 24: 3.0416667461395264\n",
      "Acc 24: 86.88888888888889\n"
     ]
    },
    {
     "name": "stderr",
     "output_type": "stream",
     "text": [
      "  9%|███████                                                                          | 26/300 [00:04<00:46,  5.90it/s]"
     ]
    },
    {
     "name": "stdout",
     "output_type": "stream",
     "text": [
      "Loss 25: 3.120262011885643\n",
      "Acc 25: 87.22222222222223\n",
      "Loss 26: 3.380914732813835\n",
      "Acc 26: 83.88888888888889\n"
     ]
    },
    {
     "name": "stderr",
     "output_type": "stream",
     "text": [
      "  9%|███████▌                                                                         | 28/300 [00:04<00:46,  5.87it/s]"
     ]
    },
    {
     "name": "stdout",
     "output_type": "stream",
     "text": [
      "Loss 27: 3.6903632283210754\n",
      "Acc 27: 84.33333333333333\n",
      "Loss 28: 3.606125608086586\n",
      "Acc 28: 82.88888888888889\n"
     ]
    },
    {
     "name": "stderr",
     "output_type": "stream",
     "text": [
      " 10%|████████                                                                         | 30/300 [00:05<00:46,  5.81it/s]"
     ]
    },
    {
     "name": "stdout",
     "output_type": "stream",
     "text": [
      "Loss 29: 3.6666978001594543\n",
      "Acc 29: 82.0\n",
      "Loss 30: 3.3452226519584656\n",
      "Acc 30: 83.33333333333333\n"
     ]
    },
    {
     "name": "stderr",
     "output_type": "stream",
     "text": [
      " 11%|████████▋                                                                        | 32/300 [00:05<00:44,  5.99it/s]"
     ]
    },
    {
     "name": "stdout",
     "output_type": "stream",
     "text": [
      "Loss 31: 3.3404416739940643\n",
      "Acc 31: 83.55555555555556\n",
      "Loss 32: 3.7112590968608856\n",
      "Acc 32: 82.77777777777777\n"
     ]
    },
    {
     "name": "stderr",
     "output_type": "stream",
     "text": [
      " 11%|█████████▏                                                                       | 34/300 [00:05<00:45,  5.85it/s]"
     ]
    },
    {
     "name": "stdout",
     "output_type": "stream",
     "text": [
      "Loss 33: 3.3348775655031204\n",
      "Acc 33: 86.66666666666667\n",
      "Loss 34: 3.3529933989048004\n",
      "Acc 34: 85.0\n"
     ]
    },
    {
     "name": "stderr",
     "output_type": "stream",
     "text": [
      " 12%|█████████▋                                                                       | 36/300 [00:06<00:43,  6.03it/s]"
     ]
    },
    {
     "name": "stdout",
     "output_type": "stream",
     "text": [
      "Loss 35: 3.199002206325531\n",
      "Acc 35: 86.33333333333333\n",
      "Loss 36: 3.262593984603882\n",
      "Acc 36: 86.33333333333333\n"
     ]
    },
    {
     "name": "stderr",
     "output_type": "stream",
     "text": [
      " 13%|██████████▎                                                                      | 38/300 [00:06<00:46,  5.59it/s]"
     ]
    },
    {
     "name": "stdout",
     "output_type": "stream",
     "text": [
      "Loss 37: 3.218572184443474\n",
      "Acc 37: 85.55555555555556\n",
      "Loss 38: 3.153808981180191\n",
      "Acc 38: 87.11111111111111\n"
     ]
    },
    {
     "name": "stderr",
     "output_type": "stream",
     "text": [
      " 13%|██████████▊                                                                      | 40/300 [00:06<00:45,  5.76it/s]"
     ]
    },
    {
     "name": "stdout",
     "output_type": "stream",
     "text": [
      "Loss 39: 3.2092414051294327\n",
      "Acc 39: 86.44444444444444\n",
      "Loss 40: 3.466503769159317\n",
      "Acc 40: 84.33333333333333\n"
     ]
    },
    {
     "name": "stderr",
     "output_type": "stream",
     "text": [
      " 14%|███████████▎                                                                     | 42/300 [00:07<00:47,  5.42it/s]"
     ]
    },
    {
     "name": "stdout",
     "output_type": "stream",
     "text": [
      "Loss 41: 3.2075772881507874\n",
      "Acc 41: 86.0\n",
      "Loss 42: 3.282371535897255\n",
      "Acc 42: 84.33333333333333\n"
     ]
    },
    {
     "name": "stderr",
     "output_type": "stream",
     "text": [
      " 15%|███████████▉                                                                     | 44/300 [00:07<00:43,  5.89it/s]"
     ]
    },
    {
     "name": "stdout",
     "output_type": "stream",
     "text": [
      "Loss 43: 3.483985647559166\n",
      "Acc 43: 85.88888888888889\n",
      "Loss 44: 3.1676344126462936\n",
      "Acc 44: 86.55555555555556\n"
     ]
    },
    {
     "name": "stderr",
     "output_type": "stream",
     "text": [
      " 15%|████████████▍                                                                    | 46/300 [00:08<00:44,  5.74it/s]"
     ]
    },
    {
     "name": "stdout",
     "output_type": "stream",
     "text": [
      "Loss 45: 3.448140099644661\n",
      "Acc 45: 85.77777777777777\n",
      "Loss 46: 3.214104250073433\n",
      "Acc 46: 86.22222222222223\n"
     ]
    },
    {
     "name": "stderr",
     "output_type": "stream",
     "text": [
      " 16%|████████████▉                                                                    | 48/300 [00:08<00:43,  5.79it/s]"
     ]
    },
    {
     "name": "stdout",
     "output_type": "stream",
     "text": [
      "Loss 47: 3.0806788504123688\n",
      "Acc 47: 86.33333333333333\n",
      "Loss 48: 3.4570698589086533\n",
      "Acc 48: 84.0\n"
     ]
    },
    {
     "name": "stderr",
     "output_type": "stream",
     "text": [
      " 17%|█████████████▌                                                                   | 50/300 [00:08<00:42,  5.93it/s]"
     ]
    },
    {
     "name": "stdout",
     "output_type": "stream",
     "text": [
      "Loss 49: 3.143612802028656\n",
      "Acc 49: 86.44444444444444\n",
      "Loss 50: 3.1398421823978424\n",
      "Acc 50: 85.88888888888889\n"
     ]
    },
    {
     "name": "stderr",
     "output_type": "stream",
     "text": [
      " 17%|██████████████                                                                   | 52/300 [00:09<00:42,  5.80it/s]"
     ]
    },
    {
     "name": "stdout",
     "output_type": "stream",
     "text": [
      "Loss 51: 2.9023184776306152\n",
      "Acc 51: 87.55555555555556\n",
      "Loss 52: 2.8623674511909485\n",
      "Acc 52: 87.77777777777777\n"
     ]
    },
    {
     "name": "stderr",
     "output_type": "stream",
     "text": [
      " 18%|██████████████▌                                                                  | 54/300 [00:09<00:43,  5.60it/s]"
     ]
    },
    {
     "name": "stdout",
     "output_type": "stream",
     "text": [
      "Loss 53: 2.89112688601017\n",
      "Acc 53: 87.22222222222223\n",
      "Loss 54: 2.9643910378217697\n",
      "Acc 54: 87.55555555555556\n"
     ]
    },
    {
     "name": "stderr",
     "output_type": "stream",
     "text": [
      " 19%|███████████████                                                                  | 56/300 [00:09<00:45,  5.31it/s]"
     ]
    },
    {
     "name": "stdout",
     "output_type": "stream",
     "text": [
      "Loss 55: 3.069652423262596\n",
      "Acc 55: 86.22222222222223\n",
      "Loss 56: 3.1934743970632553\n",
      "Acc 56: 86.11111111111111\n"
     ]
    },
    {
     "name": "stderr",
     "output_type": "stream",
     "text": [
      " 19%|███████████████▋                                                                 | 58/300 [00:10<00:44,  5.40it/s]"
     ]
    },
    {
     "name": "stdout",
     "output_type": "stream",
     "text": [
      "Loss 57: 3.235193982720375\n",
      "Acc 57: 86.66666666666667\n",
      "Loss 58: 3.362304389476776\n",
      "Acc 58: 86.11111111111111\n"
     ]
    },
    {
     "name": "stderr",
     "output_type": "stream",
     "text": [
      " 20%|████████████████▏                                                                | 60/300 [00:10<00:42,  5.58it/s]"
     ]
    },
    {
     "name": "stdout",
     "output_type": "stream",
     "text": [
      "Loss 59: 3.016330748796463\n",
      "Acc 59: 87.22222222222223\n",
      "Loss 60: 3.1135299503803253\n",
      "Acc 60: 88.33333333333333\n"
     ]
    },
    {
     "name": "stderr",
     "output_type": "stream",
     "text": [
      " 21%|████████████████▋                                                                | 62/300 [00:10<00:42,  5.63it/s]"
     ]
    },
    {
     "name": "stdout",
     "output_type": "stream",
     "text": [
      "Loss 61: 2.7850548774003983\n",
      "Acc 61: 89.0\n",
      "Loss 62: 2.8699492067098618\n",
      "Acc 62: 87.11111111111111\n"
     ]
    },
    {
     "name": "stderr",
     "output_type": "stream",
     "text": [
      " 21%|█████████████████▎                                                               | 64/300 [00:11<00:43,  5.42it/s]"
     ]
    },
    {
     "name": "stdout",
     "output_type": "stream",
     "text": [
      "Loss 63: 2.940044477581978\n",
      "Acc 63: 87.88888888888889\n",
      "Loss 64: 3.2697823345661163\n",
      "Acc 64: 87.0\n"
     ]
    },
    {
     "name": "stderr",
     "output_type": "stream",
     "text": [
      " 22%|█████████████████▊                                                               | 66/300 [00:11<00:41,  5.66it/s]"
     ]
    },
    {
     "name": "stdout",
     "output_type": "stream",
     "text": [
      "Loss 65: 3.1715806424617767\n",
      "Acc 65: 86.66666666666667\n",
      "Loss 66: 3.267414927482605\n",
      "Acc 66: 85.77777777777777\n"
     ]
    },
    {
     "name": "stderr",
     "output_type": "stream",
     "text": [
      " 23%|██████████████████▎                                                              | 68/300 [00:11<00:41,  5.62it/s]"
     ]
    },
    {
     "name": "stdout",
     "output_type": "stream",
     "text": [
      "Loss 67: 2.935122013092041\n",
      "Acc 67: 86.44444444444444\n",
      "Loss 68: 2.9980721548199654\n",
      "Acc 68: 87.88888888888889\n"
     ]
    },
    {
     "name": "stderr",
     "output_type": "stream",
     "text": [
      " 23%|██████████████████▉                                                              | 70/300 [00:12<00:39,  5.86it/s]"
     ]
    },
    {
     "name": "stdout",
     "output_type": "stream",
     "text": [
      "Loss 69: 3.179630681872368\n",
      "Acc 69: 85.44444444444444\n",
      "Loss 70: 2.999317467212677\n",
      "Acc 70: 87.88888888888889\n"
     ]
    },
    {
     "name": "stderr",
     "output_type": "stream",
     "text": [
      " 24%|███████████████████▍                                                             | 72/300 [00:12<00:38,  5.96it/s]"
     ]
    },
    {
     "name": "stdout",
     "output_type": "stream",
     "text": [
      "Loss 71: 2.8484567999839783\n",
      "Acc 71: 89.0\n",
      "Loss 72: 2.690838873386383\n",
      "Acc 72: 90.22222222222223\n"
     ]
    },
    {
     "name": "stderr",
     "output_type": "stream",
     "text": [
      " 25%|███████████████████▉                                                             | 74/300 [00:12<00:37,  6.06it/s]"
     ]
    },
    {
     "name": "stdout",
     "output_type": "stream",
     "text": [
      "Loss 73: 2.873031258583069\n",
      "Acc 73: 88.44444444444444\n",
      "Loss 74: 2.8118284568190575\n",
      "Acc 74: 89.33333333333333\n"
     ]
    },
    {
     "name": "stderr",
     "output_type": "stream",
     "text": [
      " 25%|████████████████████▌                                                            | 76/300 [00:13<00:37,  5.90it/s]"
     ]
    },
    {
     "name": "stdout",
     "output_type": "stream",
     "text": [
      "Loss 75: 2.8019612431526184\n",
      "Acc 75: 88.77777777777777\n",
      "Loss 76: 2.8311741054058075\n",
      "Acc 76: 88.66666666666667\n"
     ]
    },
    {
     "name": "stderr",
     "output_type": "stream",
     "text": [
      " 26%|█████████████████████                                                            | 78/300 [00:13<00:37,  6.00it/s]"
     ]
    },
    {
     "name": "stdout",
     "output_type": "stream",
     "text": [
      "Loss 77: 2.8935965299606323\n",
      "Acc 77: 86.88888888888889\n",
      "Loss 78: 2.859641447663307\n",
      "Acc 78: 87.11111111111111\n"
     ]
    },
    {
     "name": "stderr",
     "output_type": "stream",
     "text": [
      " 27%|█████████████████████▌                                                           | 80/300 [00:13<00:36,  5.98it/s]"
     ]
    },
    {
     "name": "stdout",
     "output_type": "stream",
     "text": [
      "Loss 79: 2.984082654118538\n",
      "Acc 79: 87.44444444444444\n",
      "Loss 80: 2.725118361413479\n",
      "Acc 80: 88.66666666666667\n"
     ]
    },
    {
     "name": "stderr",
     "output_type": "stream",
     "text": [
      " 27%|██████████████████████▏                                                          | 82/300 [00:14<00:36,  6.04it/s]"
     ]
    },
    {
     "name": "stdout",
     "output_type": "stream",
     "text": [
      "Loss 81: 2.8591818809509277\n",
      "Acc 81: 88.77777777777777\n",
      "Loss 82: 2.9440541118383408\n",
      "Acc 82: 87.0\n"
     ]
    },
    {
     "name": "stderr",
     "output_type": "stream",
     "text": [
      " 28%|██████████████████████▋                                                          | 84/300 [00:14<00:37,  5.70it/s]"
     ]
    },
    {
     "name": "stdout",
     "output_type": "stream",
     "text": [
      "Loss 83: 2.7268147245049477\n",
      "Acc 83: 89.22222222222223\n",
      "Loss 84: 2.5391420796513557\n",
      "Acc 84: 90.44444444444444\n"
     ]
    },
    {
     "name": "stderr",
     "output_type": "stream",
     "text": [
      " 29%|███████████████████████▏                                                         | 86/300 [00:14<00:37,  5.74it/s]"
     ]
    },
    {
     "name": "stdout",
     "output_type": "stream",
     "text": [
      "Loss 85: 2.5252173990011215\n",
      "Acc 85: 89.55555555555556\n",
      "Loss 86: 2.5962576419115067\n",
      "Acc 86: 90.44444444444444\n"
     ]
    },
    {
     "name": "stderr",
     "output_type": "stream",
     "text": [
      " 29%|███████████████████████▊                                                         | 88/300 [00:15<00:36,  5.85it/s]"
     ]
    },
    {
     "name": "stdout",
     "output_type": "stream",
     "text": [
      "Loss 87: 2.751859351992607\n",
      "Acc 87: 88.33333333333333\n",
      "Loss 88: 2.9770468026399612\n",
      "Acc 88: 87.55555555555556\n"
     ]
    },
    {
     "name": "stderr",
     "output_type": "stream",
     "text": [
      " 30%|████████████████████████                                                         | 89/300 [00:15<00:37,  5.65it/s]"
     ]
    },
    {
     "name": "stdout",
     "output_type": "stream",
     "text": [
      "Loss 89: 3.029981032013893\n",
      "Acc 89: 86.44444444444444\n"
     ]
    },
    {
     "name": "stderr",
     "output_type": "stream",
     "text": [
      " 30%|████████████████████████▌                                                        | 91/300 [00:15<00:36,  5.71it/s]"
     ]
    },
    {
     "name": "stdout",
     "output_type": "stream",
     "text": [
      "Loss 90: 3.1140583604574203\n",
      "Acc 90: 86.0\n",
      "Loss 91: 2.8897960856556892\n",
      "Acc 91: 85.88888888888889\n"
     ]
    },
    {
     "name": "stderr",
     "output_type": "stream",
     "text": [
      " 31%|████████████████████████▊                                                        | 92/300 [00:16<00:36,  5.63it/s]"
     ]
    },
    {
     "name": "stdout",
     "output_type": "stream",
     "text": [
      "Loss 92: 3.1648884266614914\n",
      "Acc 92: 86.11111111111111\n"
     ]
    },
    {
     "name": "stderr",
     "output_type": "stream",
     "text": [
      " 31%|█████████████████████████▍                                                       | 94/300 [00:16<00:38,  5.38it/s]"
     ]
    },
    {
     "name": "stdout",
     "output_type": "stream",
     "text": [
      "Loss 93: 3.5194365829229355\n",
      "Acc 93: 84.44444444444444\n",
      "Loss 94: 3.3593346774578094\n",
      "Acc 94: 85.33333333333333\n"
     ]
    },
    {
     "name": "stderr",
     "output_type": "stream",
     "text": [
      " 32%|█████████████████████████▉                                                       | 96/300 [00:16<00:35,  5.70it/s]"
     ]
    },
    {
     "name": "stdout",
     "output_type": "stream",
     "text": [
      "Loss 95: 3.6898103952407837\n",
      "Acc 95: 84.66666666666667\n",
      "Loss 96: 3.1581391245126724\n",
      "Acc 96: 86.66666666666667\n"
     ]
    },
    {
     "name": "stderr",
     "output_type": "stream",
     "text": [
      " 33%|██████████████████████████▍                                                      | 98/300 [00:17<00:33,  5.95it/s]"
     ]
    },
    {
     "name": "stdout",
     "output_type": "stream",
     "text": [
      "Loss 97: 2.761026069521904\n",
      "Acc 97: 89.44444444444444\n",
      "Loss 98: 2.5921477004885674\n",
      "Acc 98: 89.0\n"
     ]
    },
    {
     "name": "stderr",
     "output_type": "stream",
     "text": [
      " 33%|██████████████████████████▋                                                     | 100/300 [00:17<00:34,  5.88it/s]"
     ]
    },
    {
     "name": "stdout",
     "output_type": "stream",
     "text": [
      "Loss 99: 2.85010527074337\n",
      "Acc 99: 88.55555555555556\n",
      "Loss 100: 3.1173582822084427\n",
      "Acc 100: 87.55555555555556\n"
     ]
    },
    {
     "name": "stderr",
     "output_type": "stream",
     "text": [
      " 34%|███████████████████████████▏                                                    | 102/300 [00:17<00:34,  5.72it/s]"
     ]
    },
    {
     "name": "stdout",
     "output_type": "stream",
     "text": [
      "Loss 101: 2.6950631216168404\n",
      "Acc 101: 88.88888888888889\n",
      "Loss 102: 2.6767328530550003\n",
      "Acc 102: 90.44444444444444\n"
     ]
    },
    {
     "name": "stderr",
     "output_type": "stream",
     "text": [
      " 35%|███████████████████████████▋                                                    | 104/300 [00:18<00:36,  5.36it/s]"
     ]
    },
    {
     "name": "stdout",
     "output_type": "stream",
     "text": [
      "Loss 103: 2.5395465046167374\n",
      "Acc 103: 90.66666666666667\n",
      "Loss 104: 2.4537337943911552\n",
      "Acc 104: 90.88888888888889\n"
     ]
    },
    {
     "name": "stderr",
     "output_type": "stream",
     "text": [
      " 35%|████████████████████████████                                                    | 105/300 [00:18<00:35,  5.46it/s]"
     ]
    },
    {
     "name": "stdout",
     "output_type": "stream",
     "text": [
      "Loss 105: 2.3980388566851616\n",
      "Acc 105: 90.55555555555556\n"
     ]
    },
    {
     "name": "stderr",
     "output_type": "stream",
     "text": [
      " 36%|████████████████████████████▌                                                   | 107/300 [00:18<00:36,  5.31it/s]"
     ]
    },
    {
     "name": "stdout",
     "output_type": "stream",
     "text": [
      "Loss 106: 2.3040472641587257\n",
      "Acc 106: 92.0\n",
      "Loss 107: 2.4856845438480377\n",
      "Acc 107: 91.66666666666667\n"
     ]
    },
    {
     "name": "stderr",
     "output_type": "stream",
     "text": [
      " 36%|█████████████████████████████                                                   | 109/300 [00:19<00:32,  5.79it/s]"
     ]
    },
    {
     "name": "stdout",
     "output_type": "stream",
     "text": [
      "Loss 108: 2.597064271569252\n",
      "Acc 108: 90.22222222222223\n",
      "Loss 109: 2.8938296735286713\n",
      "Acc 109: 88.55555555555556\n"
     ]
    },
    {
     "name": "stderr",
     "output_type": "stream",
     "text": [
      " 37%|█████████████████████████████▌                                                  | 111/300 [00:19<00:33,  5.63it/s]"
     ]
    },
    {
     "name": "stdout",
     "output_type": "stream",
     "text": [
      "Loss 110: 3.121340796351433\n",
      "Acc 110: 85.77777777777777\n",
      "Loss 111: 3.208325058221817\n",
      "Acc 111: 86.44444444444444\n"
     ]
    },
    {
     "name": "stderr",
     "output_type": "stream",
     "text": [
      " 38%|██████████████████████████████▏                                                 | 113/300 [00:19<00:32,  5.68it/s]"
     ]
    },
    {
     "name": "stdout",
     "output_type": "stream",
     "text": [
      "Loss 112: 2.944820076227188\n",
      "Acc 112: 86.44444444444444\n",
      "Loss 113: 2.804171070456505\n",
      "Acc 113: 89.33333333333333\n"
     ]
    },
    {
     "name": "stderr",
     "output_type": "stream",
     "text": [
      " 38%|██████████████████████████████▋                                                 | 115/300 [00:20<00:31,  5.83it/s]"
     ]
    },
    {
     "name": "stdout",
     "output_type": "stream",
     "text": [
      "Loss 114: 2.7372965216636658\n",
      "Acc 114: 89.11111111111111\n",
      "Loss 115: 2.906110033392906\n",
      "Acc 115: 86.88888888888889\n"
     ]
    },
    {
     "name": "stderr",
     "output_type": "stream",
     "text": [
      " 39%|███████████████████████████████▏                                                | 117/300 [00:20<00:31,  5.82it/s]"
     ]
    },
    {
     "name": "stdout",
     "output_type": "stream",
     "text": [
      "Loss 116: 2.7781314328312874\n",
      "Acc 116: 88.88888888888889\n",
      "Loss 117: 2.9556634575128555\n",
      "Acc 117: 87.77777777777777\n"
     ]
    },
    {
     "name": "stderr",
     "output_type": "stream",
     "text": [
      " 40%|███████████████████████████████▋                                                | 119/300 [00:20<00:30,  5.90it/s]"
     ]
    },
    {
     "name": "stdout",
     "output_type": "stream",
     "text": [
      "Loss 118: 2.7750831693410873\n",
      "Acc 118: 88.55555555555556\n",
      "Loss 119: 3.4477235674858093\n",
      "Acc 119: 84.11111111111111\n"
     ]
    },
    {
     "name": "stderr",
     "output_type": "stream",
     "text": [
      " 40%|████████████████████████████████▎                                               | 121/300 [00:21<00:29,  6.00it/s]"
     ]
    },
    {
     "name": "stdout",
     "output_type": "stream",
     "text": [
      "Loss 120: 3.879177525639534\n",
      "Acc 120: 83.22222222222223\n",
      "Loss 121: 3.179053634405136\n",
      "Acc 121: 85.88888888888889\n"
     ]
    },
    {
     "name": "stderr",
     "output_type": "stream",
     "text": [
      " 41%|████████████████████████████████▊                                               | 123/300 [00:21<00:29,  5.91it/s]"
     ]
    },
    {
     "name": "stdout",
     "output_type": "stream",
     "text": [
      "Loss 122: 3.590604990720749\n",
      "Acc 122: 82.88888888888889\n",
      "Loss 123: 3.4719512462615967\n",
      "Acc 123: 84.22222222222223\n"
     ]
    },
    {
     "name": "stderr",
     "output_type": "stream",
     "text": [
      " 42%|█████████████████████████████████▎                                              | 125/300 [00:21<00:28,  6.05it/s]"
     ]
    },
    {
     "name": "stdout",
     "output_type": "stream",
     "text": [
      "Loss 124: 3.491129770874977\n",
      "Acc 124: 84.77777777777777\n",
      "Loss 125: 2.852549858391285\n",
      "Acc 125: 88.66666666666667\n"
     ]
    },
    {
     "name": "stderr",
     "output_type": "stream",
     "text": [
      " 42%|█████████████████████████████████▊                                              | 127/300 [00:22<00:31,  5.51it/s]"
     ]
    },
    {
     "name": "stdout",
     "output_type": "stream",
     "text": [
      "Loss 126: 3.517394967377186\n",
      "Acc 126: 84.55555555555556\n",
      "Loss 127: 3.7656247317790985\n",
      "Acc 127: 83.33333333333333\n"
     ]
    },
    {
     "name": "stderr",
     "output_type": "stream",
     "text": [
      " 43%|██████████████████████████████████▍                                             | 129/300 [00:22<00:30,  5.65it/s]"
     ]
    },
    {
     "name": "stdout",
     "output_type": "stream",
     "text": [
      "Loss 128: 3.3958456963300705\n",
      "Acc 128: 85.33333333333333\n",
      "Loss 129: 3.6009771078824997\n",
      "Acc 129: 84.22222222222223\n"
     ]
    },
    {
     "name": "stderr",
     "output_type": "stream",
     "text": [
      " 43%|██████████████████████████████████▋                                             | 130/300 [00:22<00:30,  5.66it/s]"
     ]
    },
    {
     "name": "stdout",
     "output_type": "stream",
     "text": [
      "Loss 130: 3.905270904302597\n",
      "Acc 130: 82.11111111111111\n"
     ]
    },
    {
     "name": "stderr",
     "output_type": "stream",
     "text": [
      " 44%|███████████████████████████████████▏                                            | 132/300 [00:23<00:31,  5.30it/s]"
     ]
    },
    {
     "name": "stdout",
     "output_type": "stream",
     "text": [
      "Loss 131: 3.650627374649048\n",
      "Acc 131: 82.0\n",
      "Loss 132: 3.0296304672956467\n",
      "Acc 132: 87.66666666666667\n"
     ]
    },
    {
     "name": "stderr",
     "output_type": "stream",
     "text": [
      " 45%|███████████████████████████████████▋                                            | 134/300 [00:23<00:29,  5.64it/s]"
     ]
    },
    {
     "name": "stdout",
     "output_type": "stream",
     "text": [
      "Loss 133: 3.283450871706009\n",
      "Acc 133: 85.0\n",
      "Loss 134: 3.403941795229912\n",
      "Acc 134: 85.66666666666667\n"
     ]
    },
    {
     "name": "stderr",
     "output_type": "stream",
     "text": [
      " 45%|████████████████████████████████████▎                                           | 136/300 [00:23<00:30,  5.40it/s]"
     ]
    },
    {
     "name": "stdout",
     "output_type": "stream",
     "text": [
      "Loss 135: 3.04281784594059\n",
      "Acc 135: 87.44444444444444\n",
      "Loss 136: 2.94018142670393\n",
      "Acc 136: 88.77777777777777\n"
     ]
    },
    {
     "name": "stderr",
     "output_type": "stream",
     "text": [
      " 46%|████████████████████████████████████▊                                           | 138/300 [00:24<00:28,  5.76it/s]"
     ]
    },
    {
     "name": "stdout",
     "output_type": "stream",
     "text": [
      "Loss 137: 2.6324073523283005\n",
      "Acc 137: 89.66666666666667\n",
      "Loss 138: 2.4148087352514267\n",
      "Acc 138: 90.88888888888889\n"
     ]
    },
    {
     "name": "stderr",
     "output_type": "stream",
     "text": [
      " 47%|█████████████████████████████████████▎                                          | 140/300 [00:24<00:27,  5.91it/s]"
     ]
    },
    {
     "name": "stdout",
     "output_type": "stream",
     "text": [
      "Loss 139: 2.3306228443980217\n",
      "Acc 139: 90.77777777777777\n",
      "Loss 140: 2.263676628470421\n",
      "Acc 140: 91.55555555555556\n"
     ]
    },
    {
     "name": "stderr",
     "output_type": "stream",
     "text": [
      " 47%|█████████████████████████████████████▊                                          | 142/300 [00:24<00:26,  5.88it/s]"
     ]
    },
    {
     "name": "stdout",
     "output_type": "stream",
     "text": [
      "Loss 141: 2.265155613422394\n",
      "Acc 141: 91.55555555555556\n",
      "Loss 142: 2.2705691307783127\n",
      "Acc 142: 91.33333333333333\n"
     ]
    },
    {
     "name": "stderr",
     "output_type": "stream",
     "text": [
      " 48%|██████████████████████████████████████▍                                         | 144/300 [00:25<00:27,  5.71it/s]"
     ]
    },
    {
     "name": "stdout",
     "output_type": "stream",
     "text": [
      "Loss 143: 2.2624644190073013\n",
      "Acc 143: 91.55555555555556\n",
      "Loss 144: 2.4810413867235184\n",
      "Acc 144: 89.44444444444444\n"
     ]
    },
    {
     "name": "stderr",
     "output_type": "stream",
     "text": [
      " 49%|██████████████████████████████████████▉                                         | 146/300 [00:25<00:26,  5.76it/s]"
     ]
    },
    {
     "name": "stdout",
     "output_type": "stream",
     "text": [
      "Loss 145: 2.5060307160019875\n",
      "Acc 145: 89.77777777777777\n",
      "Loss 146: 2.34263077378273\n",
      "Acc 146: 91.88888888888889\n"
     ]
    },
    {
     "name": "stderr",
     "output_type": "stream",
     "text": [
      " 49%|███████████████████████████████████████▍                                        | 148/300 [00:25<00:26,  5.82it/s]"
     ]
    },
    {
     "name": "stdout",
     "output_type": "stream",
     "text": [
      "Loss 147: 2.515354424715042\n",
      "Acc 147: 88.66666666666667\n",
      "Loss 148: 2.5345554426312447\n",
      "Acc 148: 89.22222222222223\n"
     ]
    },
    {
     "name": "stderr",
     "output_type": "stream",
     "text": [
      " 50%|████████████████████████████████████████                                        | 150/300 [00:26<00:26,  5.59it/s]"
     ]
    },
    {
     "name": "stdout",
     "output_type": "stream",
     "text": [
      "Loss 149: 2.587998315691948\n",
      "Acc 149: 90.33333333333333\n",
      "Loss 150: 3.0325012654066086\n",
      "Acc 150: 86.55555555555556\n"
     ]
    },
    {
     "name": "stderr",
     "output_type": "stream",
     "text": [
      " 51%|████████████████████████████████████████▌                                       | 152/300 [00:26<00:26,  5.66it/s]"
     ]
    },
    {
     "name": "stdout",
     "output_type": "stream",
     "text": [
      "Loss 151: 2.9794238284230232\n",
      "Acc 151: 86.77777777777777\n",
      "Loss 152: 2.887290194630623\n",
      "Acc 152: 87.88888888888889\n"
     ]
    },
    {
     "name": "stderr",
     "output_type": "stream",
     "text": [
      " 51%|█████████████████████████████████████████                                       | 154/300 [00:27<00:27,  5.41it/s]"
     ]
    },
    {
     "name": "stdout",
     "output_type": "stream",
     "text": [
      "Loss 153: 3.177479788661003\n",
      "Acc 153: 86.11111111111111\n",
      "Loss 154: 3.0325618237257004\n",
      "Acc 154: 85.44444444444444\n"
     ]
    },
    {
     "name": "stderr",
     "output_type": "stream",
     "text": [
      " 52%|█████████████████████████████████████████▌                                      | 156/300 [00:27<00:26,  5.49it/s]"
     ]
    },
    {
     "name": "stdout",
     "output_type": "stream",
     "text": [
      "Loss 155: 2.735235348343849\n",
      "Acc 155: 88.77777777777777\n",
      "Loss 156: 2.7778908908367157\n",
      "Acc 156: 88.11111111111111\n"
     ]
    },
    {
     "name": "stderr",
     "output_type": "stream",
     "text": [
      " 53%|██████████████████████████████████████████▏                                     | 158/300 [00:27<00:24,  5.81it/s]"
     ]
    },
    {
     "name": "stdout",
     "output_type": "stream",
     "text": [
      "Loss 157: 2.798817239701748\n",
      "Acc 157: 87.77777777777777\n",
      "Loss 158: 2.6828139573335648\n",
      "Acc 158: 89.44444444444444\n"
     ]
    },
    {
     "name": "stderr",
     "output_type": "stream",
     "text": [
      " 53%|██████████████████████████████████████████▍                                     | 159/300 [00:27<00:25,  5.44it/s]"
     ]
    },
    {
     "name": "stdout",
     "output_type": "stream",
     "text": [
      "Loss 159: 2.7618630081415176\n",
      "Acc 159: 87.55555555555556\n"
     ]
    },
    {
     "name": "stderr",
     "output_type": "stream",
     "text": [
      " 54%|██████████████████████████████████████████▉                                     | 161/300 [00:28<00:25,  5.37it/s]"
     ]
    },
    {
     "name": "stdout",
     "output_type": "stream",
     "text": [
      "Loss 160: 3.0742296278476715\n",
      "Acc 160: 86.33333333333333\n",
      "Loss 161: 2.8729104548692703\n",
      "Acc 161: 88.0\n"
     ]
    },
    {
     "name": "stderr",
     "output_type": "stream",
     "text": [
      " 54%|███████████████████████████████████████████▍                                    | 163/300 [00:28<00:25,  5.33it/s]"
     ]
    },
    {
     "name": "stdout",
     "output_type": "stream",
     "text": [
      "Loss 162: 2.533935233950615\n",
      "Acc 162: 90.77777777777777\n",
      "Loss 163: 2.495142199099064\n",
      "Acc 163: 89.44444444444444\n"
     ]
    },
    {
     "name": "stderr",
     "output_type": "stream",
     "text": [
      " 55%|███████████████████████████████████████████▋                                    | 164/300 [00:28<00:25,  5.41it/s]"
     ]
    },
    {
     "name": "stdout",
     "output_type": "stream",
     "text": [
      "Loss 164: 2.436774142086506\n",
      "Acc 164: 91.11111111111111\n"
     ]
    },
    {
     "name": "stderr",
     "output_type": "stream",
     "text": [
      " 55%|████████████████████████████████████████████▎                                   | 166/300 [00:29<00:25,  5.32it/s]"
     ]
    },
    {
     "name": "stdout",
     "output_type": "stream",
     "text": [
      "Loss 165: 2.395879127085209\n",
      "Acc 165: 90.11111111111111\n",
      "Loss 166: 3.0362629890441895\n",
      "Acc 166: 87.22222222222223\n"
     ]
    },
    {
     "name": "stderr",
     "output_type": "stream",
     "text": [
      " 56%|████████████████████████████████████████████▌                                   | 167/300 [00:29<00:24,  5.33it/s]"
     ]
    },
    {
     "name": "stdout",
     "output_type": "stream",
     "text": [
      "Loss 167: 2.968851312994957\n",
      "Acc 167: 87.77777777777777\n"
     ]
    },
    {
     "name": "stderr",
     "output_type": "stream",
     "text": [
      " 56%|█████████████████████████████████████████████                                   | 169/300 [00:29<00:25,  5.15it/s]"
     ]
    },
    {
     "name": "stdout",
     "output_type": "stream",
     "text": [
      "Loss 168: 2.8439941853284836\n",
      "Acc 168: 88.55555555555556\n",
      "Loss 169: 2.637401267886162\n",
      "Acc 169: 89.77777777777777\n"
     ]
    },
    {
     "name": "stderr",
     "output_type": "stream",
     "text": [
      " 57%|█████████████████████████████████████████████▌                                  | 171/300 [00:30<00:23,  5.38it/s]"
     ]
    },
    {
     "name": "stdout",
     "output_type": "stream",
     "text": [
      "Loss 170: 2.7146684378385544\n",
      "Acc 170: 89.0\n",
      "Loss 171: 2.600747659802437\n",
      "Acc 171: 89.66666666666667\n"
     ]
    },
    {
     "name": "stderr",
     "output_type": "stream",
     "text": [
      " 58%|██████████████████████████████████████████████▏                                 | 173/300 [00:30<00:22,  5.71it/s]"
     ]
    },
    {
     "name": "stdout",
     "output_type": "stream",
     "text": [
      "Loss 172: 2.592706061899662\n",
      "Acc 172: 89.11111111111111\n",
      "Loss 173: 2.6231446340680122\n",
      "Acc 173: 88.77777777777777\n"
     ]
    },
    {
     "name": "stderr",
     "output_type": "stream",
     "text": [
      " 58%|██████████████████████████████████████████████▋                                 | 175/300 [00:30<00:21,  5.75it/s]"
     ]
    },
    {
     "name": "stdout",
     "output_type": "stream",
     "text": [
      "Loss 174: 2.440142124891281\n",
      "Acc 174: 90.0\n",
      "Loss 175: 2.118600621819496\n",
      "Acc 175: 92.55555555555556\n"
     ]
    },
    {
     "name": "stderr",
     "output_type": "stream",
     "text": [
      " 59%|███████████████████████████████████████████████▏                                | 177/300 [00:31<00:21,  5.66it/s]"
     ]
    },
    {
     "name": "stdout",
     "output_type": "stream",
     "text": [
      "Loss 176: 2.151035748422146\n",
      "Acc 176: 92.0\n",
      "Loss 177: 2.008884958922863\n",
      "Acc 177: 92.11111111111111\n"
     ]
    },
    {
     "name": "stderr",
     "output_type": "stream",
     "text": [
      " 59%|███████████████████████████████████████████████▍                                | 178/300 [00:31<00:21,  5.79it/s]"
     ]
    },
    {
     "name": "stdout",
     "output_type": "stream",
     "text": [
      "Loss 178: 2.0202439948916435\n",
      "Acc 178: 93.55555555555556\n"
     ]
    },
    {
     "name": "stderr",
     "output_type": "stream",
     "text": [
      " 60%|████████████████████████████████████████████████                                | 180/300 [00:31<00:21,  5.49it/s]"
     ]
    },
    {
     "name": "stdout",
     "output_type": "stream",
     "text": [
      "Loss 179: 1.9920786991715431\n",
      "Acc 179: 93.11111111111111\n",
      "Loss 180: 1.9031264558434486\n",
      "Acc 180: 92.66666666666667\n"
     ]
    },
    {
     "name": "stderr",
     "output_type": "stream",
     "text": [
      " 61%|████████████████████████████████████████████████▌                               | 182/300 [00:32<00:21,  5.52it/s]"
     ]
    },
    {
     "name": "stdout",
     "output_type": "stream",
     "text": [
      "Loss 181: 1.8505494743585587\n",
      "Acc 181: 94.77777777777777\n",
      "Loss 182: 1.8237699791789055\n",
      "Acc 182: 94.77777777777777\n"
     ]
    },
    {
     "name": "stderr",
     "output_type": "stream",
     "text": [
      " 61%|█████████████████████████████████████████████████                               | 184/300 [00:32<00:20,  5.78it/s]"
     ]
    },
    {
     "name": "stdout",
     "output_type": "stream",
     "text": [
      "Loss 183: 1.9538232386112213\n",
      "Acc 183: 93.22222222222223\n",
      "Loss 184: 2.0202358439564705\n",
      "Acc 184: 93.22222222222223\n"
     ]
    },
    {
     "name": "stderr",
     "output_type": "stream",
     "text": [
      " 62%|█████████████████████████████████████████████████▌                              | 186/300 [00:32<00:19,  5.77it/s]"
     ]
    },
    {
     "name": "stdout",
     "output_type": "stream",
     "text": [
      "Loss 185: 2.182681731879711\n",
      "Acc 185: 91.88888888888889\n",
      "Loss 186: 2.0215424597263336\n",
      "Acc 186: 91.77777777777777\n"
     ]
    },
    {
     "name": "stderr",
     "output_type": "stream",
     "text": [
      " 63%|██████████████████████████████████████████████████▏                             | 188/300 [00:33<00:19,  5.82it/s]"
     ]
    },
    {
     "name": "stdout",
     "output_type": "stream",
     "text": [
      "Loss 187: 2.3084884136915207\n",
      "Acc 187: 90.77777777777777\n",
      "Loss 188: 2.3719654008746147\n",
      "Acc 188: 91.11111111111111\n"
     ]
    },
    {
     "name": "stderr",
     "output_type": "stream",
     "text": [
      " 63%|██████████████████████████████████████████████████▋                             | 190/300 [00:33<00:20,  5.42it/s]"
     ]
    },
    {
     "name": "stdout",
     "output_type": "stream",
     "text": [
      "Loss 189: 2.293047957122326\n",
      "Acc 189: 89.66666666666667\n",
      "Loss 190: 2.403644286096096\n",
      "Acc 190: 89.66666666666667\n"
     ]
    },
    {
     "name": "stderr",
     "output_type": "stream",
     "text": [
      " 64%|███████████████████████████████████████████████████▏                            | 192/300 [00:33<00:19,  5.53it/s]"
     ]
    },
    {
     "name": "stdout",
     "output_type": "stream",
     "text": [
      "Loss 191: 2.455296330153942\n",
      "Acc 191: 89.22222222222223\n",
      "Loss 192: 2.6017383337020874\n",
      "Acc 192: 88.66666666666667\n"
     ]
    },
    {
     "name": "stderr",
     "output_type": "stream",
     "text": [
      " 65%|███████████████████████████████████████████████████▋                            | 194/300 [00:34<00:18,  5.59it/s]"
     ]
    },
    {
     "name": "stdout",
     "output_type": "stream",
     "text": [
      "Loss 193: 3.0764172226190567\n",
      "Acc 193: 85.33333333333333\n",
      "Loss 194: 3.5683998316526413\n",
      "Acc 194: 83.88888888888889\n"
     ]
    },
    {
     "name": "stderr",
     "output_type": "stream",
     "text": [
      " 65%|████████████████████████████████████████████████████▎                           | 196/300 [00:34<00:18,  5.77it/s]"
     ]
    },
    {
     "name": "stdout",
     "output_type": "stream",
     "text": [
      "Loss 195: 3.921771615743637\n",
      "Acc 195: 82.0\n",
      "Loss 196: 3.254423461854458\n",
      "Acc 196: 85.88888888888889\n"
     ]
    },
    {
     "name": "stderr",
     "output_type": "stream",
     "text": [
      " 66%|████████████████████████████████████████████████████▊                           | 198/300 [00:34<00:17,  5.90it/s]"
     ]
    },
    {
     "name": "stdout",
     "output_type": "stream",
     "text": [
      "Loss 197: 3.155620113015175\n",
      "Acc 197: 86.55555555555556\n",
      "Loss 198: 3.1318050175905228\n",
      "Acc 198: 84.33333333333333\n"
     ]
    },
    {
     "name": "stderr",
     "output_type": "stream",
     "text": [
      " 67%|█████████████████████████████████████████████████████▎                          | 200/300 [00:35<00:17,  5.87it/s]"
     ]
    },
    {
     "name": "stdout",
     "output_type": "stream",
     "text": [
      "Loss 199: 2.8196700364351273\n",
      "Acc 199: 89.11111111111111\n",
      "Loss 200: 2.9636513888835907\n",
      "Acc 200: 87.22222222222223\n"
     ]
    },
    {
     "name": "stderr",
     "output_type": "stream",
     "text": [
      " 67%|█████████████████████████████████████████████████████▊                          | 202/300 [00:35<00:17,  5.68it/s]"
     ]
    },
    {
     "name": "stdout",
     "output_type": "stream",
     "text": [
      "Loss 201: 2.542370267212391\n",
      "Acc 201: 88.66666666666667\n",
      "Loss 202: 2.4364927858114243\n",
      "Acc 202: 90.55555555555556\n"
     ]
    },
    {
     "name": "stderr",
     "output_type": "stream",
     "text": [
      " 68%|██████████████████████████████████████████████████████▍                         | 204/300 [00:36<00:17,  5.48it/s]"
     ]
    },
    {
     "name": "stdout",
     "output_type": "stream",
     "text": [
      "Loss 203: 2.37115965038538\n",
      "Acc 203: 91.0\n",
      "Loss 204: 2.339792139828205\n",
      "Acc 204: 91.11111111111111\n"
     ]
    },
    {
     "name": "stderr",
     "output_type": "stream",
     "text": [
      " 69%|██████████████████████████████████████████████████████▉                         | 206/300 [00:36<00:17,  5.33it/s]"
     ]
    },
    {
     "name": "stdout",
     "output_type": "stream",
     "text": [
      "Loss 205: 2.4301038160920143\n",
      "Acc 205: 90.66666666666667\n",
      "Loss 206: 2.266829714179039\n",
      "Acc 206: 91.44444444444444\n"
     ]
    },
    {
     "name": "stderr",
     "output_type": "stream",
     "text": [
      " 69%|███████████████████████████████████████████████████████▍                        | 208/300 [00:36<00:16,  5.58it/s]"
     ]
    },
    {
     "name": "stdout",
     "output_type": "stream",
     "text": [
      "Loss 207: 2.2801077514886856\n",
      "Acc 207: 91.44444444444444\n",
      "Loss 208: 2.305754393339157\n",
      "Acc 208: 91.22222222222223\n"
     ]
    },
    {
     "name": "stderr",
     "output_type": "stream",
     "text": [
      " 70%|████████████████████████████████████████████████████████                        | 210/300 [00:37<00:15,  5.68it/s]"
     ]
    },
    {
     "name": "stdout",
     "output_type": "stream",
     "text": [
      "Loss 209: 2.4446152672171593\n",
      "Acc 209: 90.44444444444444\n",
      "Loss 210: 2.3857136890292168\n",
      "Acc 210: 89.55555555555556\n"
     ]
    },
    {
     "name": "stderr",
     "output_type": "stream",
     "text": [
      " 71%|████████████████████████████████████████████████████████▌                       | 212/300 [00:37<00:15,  5.71it/s]"
     ]
    },
    {
     "name": "stdout",
     "output_type": "stream",
     "text": [
      "Loss 211: 2.462690867483616\n",
      "Acc 211: 89.11111111111111\n",
      "Loss 212: 2.386075124144554\n",
      "Acc 212: 91.44444444444444\n"
     ]
    },
    {
     "name": "stderr",
     "output_type": "stream",
     "text": [
      " 71%|█████████████████████████████████████████████████████████                       | 214/300 [00:37<00:15,  5.46it/s]"
     ]
    },
    {
     "name": "stdout",
     "output_type": "stream",
     "text": [
      "Loss 213: 2.2014926597476006\n",
      "Acc 213: 91.55555555555556\n",
      "Loss 214: 2.3199153766036034\n",
      "Acc 214: 91.0\n"
     ]
    },
    {
     "name": "stderr",
     "output_type": "stream",
     "text": [
      " 72%|█████████████████████████████████████████████████████████▌                      | 216/300 [00:38<00:14,  5.64it/s]"
     ]
    },
    {
     "name": "stdout",
     "output_type": "stream",
     "text": [
      "Loss 215: 2.3726342990994453\n",
      "Acc 215: 90.22222222222223\n",
      "Loss 216: 2.258473724126816\n",
      "Acc 216: 91.77777777777777\n"
     ]
    },
    {
     "name": "stderr",
     "output_type": "stream",
     "text": [
      " 73%|██████████████████████████████████████████████████████████▏                     | 218/300 [00:38<00:13,  5.93it/s]"
     ]
    },
    {
     "name": "stdout",
     "output_type": "stream",
     "text": [
      "Loss 217: 2.255019396543503\n",
      "Acc 217: 91.22222222222223\n",
      "Loss 218: 2.180218979716301\n",
      "Acc 218: 91.66666666666667\n"
     ]
    },
    {
     "name": "stderr",
     "output_type": "stream",
     "text": [
      " 73%|██████████████████████████████████████████████████████████▋                     | 220/300 [00:38<00:14,  5.49it/s]"
     ]
    },
    {
     "name": "stdout",
     "output_type": "stream",
     "text": [
      "Loss 219: 1.9693810790777206\n",
      "Acc 219: 94.33333333333333\n",
      "Loss 220: 2.0445751547813416\n",
      "Acc 220: 92.77777777777777\n"
     ]
    },
    {
     "name": "stderr",
     "output_type": "stream",
     "text": [
      " 74%|███████████████████████████████████████████████████████████▏                    | 222/300 [00:39<00:13,  5.72it/s]"
     ]
    },
    {
     "name": "stdout",
     "output_type": "stream",
     "text": [
      "Loss 221: 1.919655129313469\n",
      "Acc 221: 93.55555555555556\n",
      "Loss 222: 1.7957898825407028\n",
      "Acc 222: 93.77777777777777\n"
     ]
    },
    {
     "name": "stderr",
     "output_type": "stream",
     "text": [
      " 75%|███████████████████████████████████████████████████████████▋                    | 224/300 [00:39<00:13,  5.79it/s]"
     ]
    },
    {
     "name": "stdout",
     "output_type": "stream",
     "text": [
      "Loss 223: 1.8910679817199707\n",
      "Acc 223: 93.44444444444444\n",
      "Loss 224: 1.8280468732118607\n",
      "Acc 224: 93.77777777777777\n"
     ]
    },
    {
     "name": "stderr",
     "output_type": "stream",
     "text": [
      " 75%|████████████████████████████████████████████████████████████▎                   | 226/300 [00:39<00:13,  5.59it/s]"
     ]
    },
    {
     "name": "stdout",
     "output_type": "stream",
     "text": [
      "Loss 225: 1.8612028136849403\n",
      "Acc 225: 93.44444444444444\n",
      "Loss 226: 1.9065276458859444\n",
      "Acc 226: 93.77777777777777\n"
     ]
    },
    {
     "name": "stderr",
     "output_type": "stream",
     "text": [
      " 76%|████████████████████████████████████████████████████████████▊                   | 228/300 [00:40<00:13,  5.34it/s]"
     ]
    },
    {
     "name": "stdout",
     "output_type": "stream",
     "text": [
      "Loss 227: 1.8824063017964363\n",
      "Acc 227: 93.88888888888889\n",
      "Loss 228: 1.9932037815451622\n",
      "Acc 228: 92.22222222222223\n"
     ]
    },
    {
     "name": "stderr",
     "output_type": "stream",
     "text": [
      " 77%|█████████████████████████████████████████████████████████████▎                  | 230/300 [00:40<00:12,  5.69it/s]"
     ]
    },
    {
     "name": "stdout",
     "output_type": "stream",
     "text": [
      "Loss 229: 1.9960125461220741\n",
      "Acc 229: 92.44444444444444\n",
      "Loss 230: 2.105379171669483\n",
      "Acc 230: 92.44444444444444\n"
     ]
    },
    {
     "name": "stderr",
     "output_type": "stream",
     "text": [
      " 77%|█████████████████████████████████████████████████████████████▊                  | 232/300 [00:40<00:11,  5.94it/s]"
     ]
    },
    {
     "name": "stdout",
     "output_type": "stream",
     "text": [
      "Loss 231: 2.0247847363352776\n",
      "Acc 231: 91.55555555555556\n",
      "Loss 232: 2.0127117931842804\n",
      "Acc 232: 93.44444444444444\n"
     ]
    },
    {
     "name": "stderr",
     "output_type": "stream",
     "text": [
      " 78%|██████████████████████████████████████████████████████████████▍                 | 234/300 [00:41<00:11,  5.99it/s]"
     ]
    },
    {
     "name": "stdout",
     "output_type": "stream",
     "text": [
      "Loss 233: 2.0908390879631042\n",
      "Acc 233: 91.22222222222223\n",
      "Loss 234: 2.0603370256721973\n",
      "Acc 234: 92.55555555555556\n"
     ]
    },
    {
     "name": "stderr",
     "output_type": "stream",
     "text": [
      " 79%|██████████████████████████████████████████████████████████████▉                 | 236/300 [00:41<00:10,  6.03it/s]"
     ]
    },
    {
     "name": "stdout",
     "output_type": "stream",
     "text": [
      "Loss 235: 1.9278410747647285\n",
      "Acc 235: 92.33333333333333\n",
      "Loss 236: 1.7008130177855492\n",
      "Acc 236: 94.88888888888889\n"
     ]
    },
    {
     "name": "stderr",
     "output_type": "stream",
     "text": [
      " 79%|███████████████████████████████████████████████████████████████▍                | 238/300 [00:41<00:10,  5.95it/s]"
     ]
    },
    {
     "name": "stdout",
     "output_type": "stream",
     "text": [
      "Loss 237: 1.692481242120266\n",
      "Acc 237: 94.44444444444444\n",
      "Loss 238: 1.7525317519903183\n",
      "Acc 238: 93.77777777777777\n"
     ]
    },
    {
     "name": "stderr",
     "output_type": "stream",
     "text": [
      " 80%|████████████████████████████████████████████████████████████████                | 240/300 [00:42<00:09,  6.00it/s]"
     ]
    },
    {
     "name": "stdout",
     "output_type": "stream",
     "text": [
      "Loss 239: 2.0936607122421265\n",
      "Acc 239: 92.22222222222223\n",
      "Loss 240: 2.158345490694046\n",
      "Acc 240: 91.88888888888889\n"
     ]
    },
    {
     "name": "stderr",
     "output_type": "stream",
     "text": [
      " 81%|████████████████████████████████████████████████████████████████▌               | 242/300 [00:42<00:10,  5.77it/s]"
     ]
    },
    {
     "name": "stdout",
     "output_type": "stream",
     "text": [
      "Loss 241: 2.457830250263214\n",
      "Acc 241: 87.77777777777777\n",
      "Loss 242: 2.538433164358139\n",
      "Acc 242: 88.33333333333333\n"
     ]
    },
    {
     "name": "stderr",
     "output_type": "stream",
     "text": [
      " 81%|█████████████████████████████████████████████████████████████████               | 244/300 [00:43<00:10,  5.40it/s]"
     ]
    },
    {
     "name": "stdout",
     "output_type": "stream",
     "text": [
      "Loss 243: 2.985760122537613\n",
      "Acc 243: 88.55555555555556\n",
      "Loss 244: 2.310239478945732\n",
      "Acc 244: 90.55555555555556\n"
     ]
    },
    {
     "name": "stderr",
     "output_type": "stream",
     "text": [
      " 82%|█████████████████████████████████████████████████████████████████▌              | 246/300 [00:43<00:09,  5.57it/s]"
     ]
    },
    {
     "name": "stdout",
     "output_type": "stream",
     "text": [
      "Loss 245: 2.4074878096580505\n",
      "Acc 245: 89.77777777777777\n",
      "Loss 246: 2.7742112055420876\n",
      "Acc 246: 89.22222222222223\n"
     ]
    },
    {
     "name": "stderr",
     "output_type": "stream",
     "text": [
      " 83%|██████████████████████████████████████████████████████████████████▏             | 248/300 [00:43<00:09,  5.67it/s]"
     ]
    },
    {
     "name": "stdout",
     "output_type": "stream",
     "text": [
      "Loss 247: 3.1487683206796646\n",
      "Acc 247: 86.55555555555556\n",
      "Loss 248: 2.948250934481621\n",
      "Acc 248: 86.66666666666667\n"
     ]
    },
    {
     "name": "stderr",
     "output_type": "stream",
     "text": [
      " 83%|██████████████████████████████████████████████████████████████████▋             | 250/300 [00:44<00:08,  5.89it/s]"
     ]
    },
    {
     "name": "stdout",
     "output_type": "stream",
     "text": [
      "Loss 249: 3.329201951622963\n",
      "Acc 249: 86.22222222222223\n",
      "Loss 250: 3.223911263048649\n",
      "Acc 250: 86.55555555555556\n"
     ]
    },
    {
     "name": "stderr",
     "output_type": "stream",
     "text": [
      " 84%|███████████████████████████████████████████████████████████████████▏            | 252/300 [00:44<00:08,  5.80it/s]"
     ]
    },
    {
     "name": "stdout",
     "output_type": "stream",
     "text": [
      "Loss 251: 3.099013075232506\n",
      "Acc 251: 87.55555555555556\n",
      "Loss 252: 3.7865378707647324\n",
      "Acc 252: 84.44444444444444\n"
     ]
    },
    {
     "name": "stderr",
     "output_type": "stream",
     "text": [
      " 84%|███████████████████████████████████████████████████████████████████▍            | 253/300 [00:44<00:08,  5.75it/s]"
     ]
    },
    {
     "name": "stdout",
     "output_type": "stream",
     "text": [
      "Loss 253: 4.251290321350098\n",
      "Acc 253: 82.0\n"
     ]
    },
    {
     "name": "stderr",
     "output_type": "stream",
     "text": [
      " 85%|████████████████████████████████████████████████████████████████████            | 255/300 [00:45<00:08,  5.35it/s]"
     ]
    },
    {
     "name": "stdout",
     "output_type": "stream",
     "text": [
      "Loss 254: 3.3538438826799393\n",
      "Acc 254: 84.44444444444444\n",
      "Loss 255: 3.0733386129140854\n",
      "Acc 255: 85.88888888888889\n"
     ]
    },
    {
     "name": "stderr",
     "output_type": "stream",
     "text": [
      " 86%|████████████████████████████████████████████████████████████████████▌           | 257/300 [00:45<00:07,  5.55it/s]"
     ]
    },
    {
     "name": "stdout",
     "output_type": "stream",
     "text": [
      "Loss 256: 2.6966821402311325\n",
      "Acc 256: 88.33333333333333\n",
      "Loss 257: 2.320744566619396\n",
      "Acc 257: 90.11111111111111\n"
     ]
    },
    {
     "name": "stderr",
     "output_type": "stream",
     "text": [
      " 86%|█████████████████████████████████████████████████████████████████████           | 259/300 [00:45<00:07,  5.59it/s]"
     ]
    },
    {
     "name": "stdout",
     "output_type": "stream",
     "text": [
      "Loss 258: 2.5526986718177795\n",
      "Acc 258: 89.55555555555556\n",
      "Loss 259: 2.4050482660531998\n",
      "Acc 259: 90.77777777777777\n"
     ]
    },
    {
     "name": "stderr",
     "output_type": "stream",
     "text": [
      " 87%|█████████████████████████████████████████████████████████████████████▌          | 261/300 [00:46<00:06,  5.79it/s]"
     ]
    },
    {
     "name": "stdout",
     "output_type": "stream",
     "text": [
      "Loss 260: 2.2599062025547028\n",
      "Acc 260: 90.44444444444444\n",
      "Loss 261: 2.1469588950276375\n",
      "Acc 261: 92.77777777777777\n"
     ]
    },
    {
     "name": "stderr",
     "output_type": "stream",
     "text": [
      " 88%|██████████████████████████████████████████████████████████████████████▏         | 263/300 [00:46<00:06,  6.15it/s]"
     ]
    },
    {
     "name": "stdout",
     "output_type": "stream",
     "text": [
      "Loss 262: 2.1372532099485397\n",
      "Acc 262: 92.22222222222223\n",
      "Loss 263: 2.0889239609241486\n",
      "Acc 263: 91.66666666666667\n"
     ]
    },
    {
     "name": "stderr",
     "output_type": "stream",
     "text": [
      " 88%|██████████████████████████████████████████████████████████████████████▍         | 264/300 [00:46<00:06,  5.99it/s]"
     ]
    },
    {
     "name": "stdout",
     "output_type": "stream",
     "text": [
      "Loss 264: 2.4136949852108955\n",
      "Acc 264: 91.33333333333333\n"
     ]
    },
    {
     "name": "stderr",
     "output_type": "stream",
     "text": [
      " 88%|██████████████████████████████████████████████████████████████████████▋         | 265/300 [00:46<00:06,  5.58it/s]"
     ]
    },
    {
     "name": "stdout",
     "output_type": "stream",
     "text": [
      "Loss 265: 2.425042875111103\n",
      "Acc 265: 89.55555555555556\n"
     ]
    },
    {
     "name": "stderr",
     "output_type": "stream",
     "text": [
      " 89%|██████████████████████████████████████████████████████████████████████▉         | 266/300 [00:46<00:06,  5.10it/s]"
     ]
    },
    {
     "name": "stdout",
     "output_type": "stream",
     "text": [
      "Loss 266: 2.5090706795454025\n",
      "Acc 266: 90.77777777777777\n"
     ]
    },
    {
     "name": "stderr",
     "output_type": "stream",
     "text": [
      " 89%|███████████████████████████████████████████████████████████████████████▍        | 268/300 [00:47<00:06,  4.86it/s]"
     ]
    },
    {
     "name": "stdout",
     "output_type": "stream",
     "text": [
      "Loss 267: 2.3085480853915215\n",
      "Acc 267: 90.44444444444444\n",
      "Loss 268: 2.3713530898094177\n",
      "Acc 268: 90.55555555555556\n"
     ]
    },
    {
     "name": "stderr",
     "output_type": "stream",
     "text": [
      " 90%|████████████████████████████████████████████████████████████████████████        | 270/300 [00:47<00:05,  5.38it/s]"
     ]
    },
    {
     "name": "stdout",
     "output_type": "stream",
     "text": [
      "Loss 269: 2.1652990952134132\n",
      "Acc 269: 93.33333333333333\n",
      "Loss 270: 2.800863668322563\n",
      "Acc 270: 87.22222222222223\n"
     ]
    },
    {
     "name": "stderr",
     "output_type": "stream",
     "text": [
      " 91%|████████████████████████████████████████████████████████████████████████▌       | 272/300 [00:48<00:05,  5.59it/s]"
     ]
    },
    {
     "name": "stdout",
     "output_type": "stream",
     "text": [
      "Loss 271: 2.2131752967834473\n",
      "Acc 271: 91.33333333333333\n",
      "Loss 272: 1.9362031482160091\n",
      "Acc 272: 93.0\n"
     ]
    },
    {
     "name": "stderr",
     "output_type": "stream",
     "text": [
      " 91%|█████████████████████████████████████████████████████████████████████████       | 274/300 [00:48<00:04,  5.50it/s]"
     ]
    },
    {
     "name": "stdout",
     "output_type": "stream",
     "text": [
      "Loss 273: 1.8759341835975647\n",
      "Acc 273: 92.88888888888889\n",
      "Loss 274: 1.8418113440275192\n",
      "Acc 274: 93.77777777777777\n"
     ]
    },
    {
     "name": "stderr",
     "output_type": "stream",
     "text": [
      " 92%|█████████████████████████████████████████████████████████████████████████▌      | 276/300 [00:48<00:04,  5.63it/s]"
     ]
    },
    {
     "name": "stdout",
     "output_type": "stream",
     "text": [
      "Loss 275: 1.8679107800126076\n",
      "Acc 275: 93.88888888888889\n",
      "Loss 276: 1.924229234457016\n",
      "Acc 276: 92.77777777777777\n"
     ]
    },
    {
     "name": "stderr",
     "output_type": "stream",
     "text": [
      " 93%|██████████████████████████████████████████████████████████████████████████▏     | 278/300 [00:49<00:03,  5.52it/s]"
     ]
    },
    {
     "name": "stdout",
     "output_type": "stream",
     "text": [
      "Loss 277: 2.12410406768322\n",
      "Acc 277: 91.44444444444444\n",
      "Loss 278: 2.3588638082146645\n",
      "Acc 278: 91.11111111111111\n"
     ]
    },
    {
     "name": "stderr",
     "output_type": "stream",
     "text": [
      " 93%|██████████████████████████████████████████████████████████████████████████▋     | 280/300 [00:49<00:03,  5.43it/s]"
     ]
    },
    {
     "name": "stdout",
     "output_type": "stream",
     "text": [
      "Loss 279: 2.31289055198431\n",
      "Acc 279: 90.33333333333333\n",
      "Loss 280: 2.486661411821842\n",
      "Acc 280: 90.0\n"
     ]
    },
    {
     "name": "stderr",
     "output_type": "stream",
     "text": [
      " 94%|███████████████████████████████████████████████████████████████████████████▏    | 282/300 [00:49<00:03,  5.48it/s]"
     ]
    },
    {
     "name": "stdout",
     "output_type": "stream",
     "text": [
      "Loss 281: 2.4088183268904686\n",
      "Acc 281: 90.33333333333333\n",
      "Loss 282: 3.024115167558193\n",
      "Acc 282: 87.55555555555556\n"
     ]
    },
    {
     "name": "stderr",
     "output_type": "stream",
     "text": [
      " 95%|███████████████████████████████████████████████████████████████████████████▋    | 284/300 [00:50<00:02,  5.59it/s]"
     ]
    },
    {
     "name": "stdout",
     "output_type": "stream",
     "text": [
      "Loss 283: 3.781402200460434\n",
      "Acc 283: 85.22222222222223\n",
      "Loss 284: 3.370440326631069\n",
      "Acc 284: 84.66666666666667\n"
     ]
    },
    {
     "name": "stderr",
     "output_type": "stream",
     "text": [
      " 95%|████████████████████████████████████████████████████████████████████████████▎   | 286/300 [00:50<00:02,  5.60it/s]"
     ]
    },
    {
     "name": "stdout",
     "output_type": "stream",
     "text": [
      "Loss 285: 3.0643297880887985\n",
      "Acc 285: 86.44444444444444\n",
      "Loss 286: 4.488160878419876\n",
      "Acc 286: 80.22222222222223\n"
     ]
    },
    {
     "name": "stderr",
     "output_type": "stream",
     "text": [
      " 96%|████████████████████████████████████████████████████████████████████████████▊   | 288/300 [00:51<00:02,  5.33it/s]"
     ]
    },
    {
     "name": "stdout",
     "output_type": "stream",
     "text": [
      "Loss 287: 3.619102455675602\n",
      "Acc 287: 85.22222222222223\n",
      "Loss 288: 3.6305056661367416\n",
      "Acc 288: 84.44444444444444\n"
     ]
    },
    {
     "name": "stderr",
     "output_type": "stream",
     "text": [
      " 97%|█████████████████████████████████████████████████████████████████████████████▎  | 290/300 [00:51<00:01,  5.41it/s]"
     ]
    },
    {
     "name": "stdout",
     "output_type": "stream",
     "text": [
      "Loss 289: 3.3485726565122604\n",
      "Acc 289: 83.55555555555556\n",
      "Loss 290: 3.0241935700178146\n",
      "Acc 290: 88.11111111111111\n"
     ]
    },
    {
     "name": "stderr",
     "output_type": "stream",
     "text": [
      " 97%|█████████████████████████████████████████████████████████████████████████████▌  | 291/300 [00:51<00:01,  5.52it/s]"
     ]
    },
    {
     "name": "stdout",
     "output_type": "stream",
     "text": [
      "Loss 291: 3.097441717982292\n",
      "Acc 291: 85.77777777777777\n"
     ]
    },
    {
     "name": "stderr",
     "output_type": "stream",
     "text": [
      " 97%|█████████████████████████████████████████████████████████████████████████████▊  | 292/300 [00:51<00:01,  5.15it/s]"
     ]
    },
    {
     "name": "stdout",
     "output_type": "stream",
     "text": [
      "Loss 292: 3.3798242956399918\n",
      "Acc 292: 84.33333333333333\n"
     ]
    },
    {
     "name": "stderr",
     "output_type": "stream",
     "text": [
      " 98%|██████████████████████████████████████████████████████████████████████████████▏ | 293/300 [00:52<00:01,  4.68it/s]"
     ]
    },
    {
     "name": "stdout",
     "output_type": "stream",
     "text": [
      "Loss 293: 3.463130682706833\n",
      "Acc 293: 86.0\n"
     ]
    },
    {
     "name": "stderr",
     "output_type": "stream",
     "text": [
      " 98%|██████████████████████████████████████████████████████████████████████████████▍ | 294/300 [00:52<00:01,  4.30it/s]"
     ]
    },
    {
     "name": "stdout",
     "output_type": "stream",
     "text": [
      "Loss 294: 2.5479096174240112\n",
      "Acc 294: 89.66666666666667\n"
     ]
    },
    {
     "name": "stderr",
     "output_type": "stream",
     "text": [
      " 99%|██████████████████████████████████████████████████████████████████████████████▉ | 296/300 [00:52<00:00,  4.64it/s]"
     ]
    },
    {
     "name": "stdout",
     "output_type": "stream",
     "text": [
      "Loss 295: 2.570658326148987\n",
      "Acc 295: 88.22222222222223\n",
      "Loss 296: 2.7647786363959312\n",
      "Acc 296: 88.55555555555556\n"
     ]
    },
    {
     "name": "stderr",
     "output_type": "stream",
     "text": [
      " 99%|███████████████████████████████████████████████████████████████████████████████▍| 298/300 [00:53<00:00,  4.98it/s]"
     ]
    },
    {
     "name": "stdout",
     "output_type": "stream",
     "text": [
      "Loss 297: 3.0033946484327316\n",
      "Acc 297: 88.11111111111111\n",
      "Loss 298: 2.839325003325939\n",
      "Acc 298: 87.55555555555556\n"
     ]
    },
    {
     "name": "stderr",
     "output_type": "stream",
     "text": [
      "100%|███████████████████████████████████████████████████████████████████████████████▋| 299/300 [00:53<00:00,  4.95it/s]"
     ]
    },
    {
     "name": "stdout",
     "output_type": "stream",
     "text": [
      "Loss 299: 2.763556033372879\n",
      "Acc 299: 88.33333333333333\n"
     ]
    },
    {
     "name": "stderr",
     "output_type": "stream",
     "text": [
      "100%|████████████████████████████████████████████████████████████████████████████████| 300/300 [00:53<00:00,  5.60it/s]"
     ]
    },
    {
     "name": "stdout",
     "output_type": "stream",
     "text": [
      "Loss 300: 2.6317169442772865\n",
      "Acc 300: 88.77777777777777\n"
     ]
    },
    {
     "name": "stderr",
     "output_type": "stream",
     "text": [
      "\n"
     ]
    }
   ],
   "source": [
    "EPOCHS = 300\n",
    "for i in tqdm(range(EPOCHS)):\n",
    "    loss_epoch = 0\n",
    "    acc_epoch = 0\n",
    "    model.train()\n",
    "    for X, y in train_loader:\n",
    "        X, y = X.to(device), y.to(device).flatten()\n",
    "        optimizer.zero_grad()\n",
    "        y_pred = model(X)\n",
    "        loss = criterion(y_pred, y)\n",
    "        acc = multi_acc(y_pred, y)\n",
    "        loss.backward()\n",
    "        optimizer.step()\n",
    "        loss_epoch += loss.item()\n",
    "        acc_epoch += acc.item()\n",
    "        \n",
    "    print(f'Loss {i+1}: {loss_epoch}')\n",
    "    print(f'Acc {i+1}: {acc_epoch/len(train_loader)}')"
   ]
  },
  {
   "cell_type": "code",
   "execution_count": null,
   "metadata": {},
   "outputs": [],
   "source": []
  }
 ],
 "metadata": {
  "kernelspec": {
   "display_name": "Python 3",
   "language": "python",
   "name": "python3"
  },
  "language_info": {
   "codemirror_mode": {
    "name": "ipython",
    "version": 3
   },
   "file_extension": ".py",
   "mimetype": "text/x-python",
   "name": "python",
   "nbconvert_exporter": "python",
   "pygments_lexer": "ipython3",
   "version": "3.8.5"
  }
 },
 "nbformat": 4,
 "nbformat_minor": 5
}
