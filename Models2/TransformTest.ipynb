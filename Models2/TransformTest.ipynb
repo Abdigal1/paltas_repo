{
 "cells": [
  {
   "cell_type": "code",
   "execution_count": null,
   "id": "ab9e402b-a3d3-40a6-aaae-d799104189a2",
   "metadata": {},
   "outputs": [],
   "source": [
    "/run/user/1000/gvfs/afp-volume:host=MyCloudPR4100.local,user=paltas,volume=Paltas_DataBase\n"
   ]
  },
  {
   "cell_type": "code",
   "execution_count": 1,
   "id": "0e3cf848-fc2a-4b95-b61a-31a6d92fc652",
   "metadata": {},
   "outputs": [
    {
     "ename": "ModuleNotFoundError",
     "evalue": "No module named 'Custom_dataloader'",
     "output_type": "error",
     "traceback": [
      "\u001b[0;31m---------------------------------------------------------------------------\u001b[0m",
      "\u001b[0;31mModuleNotFoundError\u001b[0m                       Traceback (most recent call last)",
      "\u001b[0;32m<ipython-input-1-bd5e053f9b60>\u001b[0m in \u001b[0;36m<module>\u001b[0;34m\u001b[0m\n\u001b[1;32m      8\u001b[0m \u001b[0;32mimport\u001b[0m \u001b[0mskimage\u001b[0m\u001b[0;34m\u001b[0m\u001b[0;34m\u001b[0m\u001b[0m\n\u001b[1;32m      9\u001b[0m \u001b[0;32mimport\u001b[0m \u001b[0mmatplotlib\u001b[0m\u001b[0;34m.\u001b[0m\u001b[0mpyplot\u001b[0m \u001b[0;32mas\u001b[0m \u001b[0mplt\u001b[0m\u001b[0;34m\u001b[0m\u001b[0;34m\u001b[0m\u001b[0m\n\u001b[0;32m---> 10\u001b[0;31m \u001b[0;32mfrom\u001b[0m \u001b[0mCustom_dataloader\u001b[0m \u001b[0;32mimport\u001b[0m \u001b[0;34m*\u001b[0m\u001b[0;34m\u001b[0m\u001b[0;34m\u001b[0m\u001b[0m\n\u001b[0m\u001b[1;32m     11\u001b[0m \u001b[0;32mfrom\u001b[0m \u001b[0;34m...\u001b[0m\u001b[0mTransforms\u001b[0m \u001b[0;32mimport\u001b[0m \u001b[0mphantom_segmentation\u001b[0m\u001b[0;34m\u001b[0m\u001b[0;34m\u001b[0m\u001b[0m\n\u001b[1;32m     12\u001b[0m \u001b[0;32mfrom\u001b[0m \u001b[0mTransforms\u001b[0m \u001b[0;32mimport\u001b[0m \u001b[0mentropy_mark_transform\u001b[0m\u001b[0;34m\u001b[0m\u001b[0;34m\u001b[0m\u001b[0m\n",
      "\u001b[0;31mModuleNotFoundError\u001b[0m: No module named 'Custom_dataloader'"
     ]
    }
   ],
   "source": [
    "import os\n",
    "#import skimage\n",
    "import torch\n",
    "from torchvision import transforms\n",
    "import numpy as np\n",
    "import glob\n",
    "from skimage import io\n",
    "import skimage\n",
    "import matplotlib.pyplot as plt\n",
    "from Custom_dataloader import *\n",
    "from ...Transforms import phantom_segmentation\n",
    "from Transforms import entropy_mark_transform\n",
    "from Transforms import hsv_stats_transfrom\n",
    "from Transforms import lab_stats_transfrom\n",
    "from Transforms import black_perc_transfrom\n",
    "from Transforms import ndvi_desc\n",
    "from Transforms import multi_image_resize\n",
    "import matplotlib.pyplot as plt\n",
    "\n",
    "#DB=\"/run/user/1000/gvfs/afp-volume:host=MyCloudPR4100.local,user=admin,volume=Paltas_DataBase/Data_Base\"\n",
    "DB=\"/home/lambda/paltas/Local_data_base/Data_Base_v2\"\n",
    "d_t=transforms.Compose([\n",
    "                        trans_registration(),\n",
    "        multi_image_resize(ImType=['SenteraRGB','SenteraNIR'],size=(512,512)),\n",
    "                       ])"
   ]
  },
  {
   "cell_type": "code",
   "execution_count": null,
   "id": "cc305387-f560-4f65-9ee6-a5752cabf478",
   "metadata": {},
   "outputs": [],
   "source": [
    "#d_t=transforms.Compose([sentera_segmentation(False)])\n",
    "tdatab=Dataset_direct(root_dir=DB,ImType=['SenteraRGB','SenteraNIR','SenteraMASK'],Trees_fil='*',Intersec=False,transform=d_t)\n",
    "#datab=Dataset_direct(root_dir=DB,ImType=['SenteraRGB','SenteraNIR','SenteraMASK'],Trees_fil='*',Intersec=False)"
   ]
  }
 ],
 "metadata": {
  "kernelspec": {
   "display_name": "Python 3",
   "language": "python",
   "name": "python3"
  },
  "language_info": {
   "codemirror_mode": {
    "name": "ipython",
    "version": 3
   },
   "file_extension": ".py",
   "mimetype": "text/x-python",
   "name": "python",
   "nbconvert_exporter": "python",
   "pygments_lexer": "ipython3",
   "version": "3.6.9"
  }
 },
 "nbformat": 4,
 "nbformat_minor": 5
}
