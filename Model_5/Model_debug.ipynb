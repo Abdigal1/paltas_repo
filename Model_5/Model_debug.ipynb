{
 "cells": [
  {
   "cell_type": "code",
   "execution_count": 25,
   "id": "df8b3981",
   "metadata": {},
   "outputs": [],
   "source": [
    "import pathlib\n",
    "import fire as fire\n",
    "from B_VAE.VAE_meta import b_encodeco\n",
    "from Train_utils import train_utils\n",
    "from B_VAE.Utils_imp_VAE import loss_fn\n",
    "from Train_utils.train_utils import train,test,K_fold_train\n",
    "\n",
    "import sys\n",
    "import os\n",
    "sys.path.append(os.path.join(\"..\",\"Data_prep\"))\n",
    "from torchvision import transforms\n",
    "from Custom_dataloader import *\n",
    "from Transforms import phantom_segmentation\n",
    "from Transforms import multi_image_resize\n",
    "from Transforms import multi_ToTensor\n",
    "from Transforms import output_transform\n",
    "from Transforms import pos_fly_transform\n",
    "from Transforms import concatenate_non_uniform_transform\n",
    "from Transforms import only_tensor_transform\n",
    "from Transforms import rgb_normalize\n",
    "from Transforms import hue_transform\n",
    "\n",
    "import torch\n",
    "from torch import nn\n",
    "\n",
    "import matplotlib.pyplot as plt"
   ]
  },
  {
   "cell_type": "code",
   "execution_count": 34,
   "id": "4f797723",
   "metadata": {},
   "outputs": [],
   "source": [
    "DB=\"/run/user/1000/gvfs/afp-volume:host=MyCloudPR4100.local,user=aorus_1,volume=Paltas_DataBase/Data_Base_v2\"\n",
    "DB=\"//MYCLOUDPR4100/Paltas_DataBase/Data_Base_v2\"\n",
    "\n",
    "d_tt=transforms.Compose([\n",
    "        phantom_segmentation(False,non_uniform_input=True),\n",
    "        hue_transform(),\n",
    "        #rgb_normalize(ImType=['PhantomRGB']),\n",
    "        multi_image_resize(ImType=['PhantomRGB'],size=(300,300)),\n",
    "        #pos_fly_transform(),\n",
    "        #concatenate_non_uniform_transform(),\n",
    "        multi_ToTensor(ImType=['PhantomRGB']),\n",
    "        only_tensor_transform(),\n",
    "        #output_transform()\n",
    "        ])"
   ]
  },
  {
   "cell_type": "code",
   "execution_count": 35,
   "id": "c8a19977",
   "metadata": {},
   "outputs": [],
   "source": [
    "datab=Dataset_direct(root_dir=DB,ImType=['PhantomRGB'],Intersec=False,transform=d_tt)"
   ]
  },
  {
   "cell_type": "code",
   "execution_count": 36,
   "id": "e1ba633d",
   "metadata": {},
   "outputs": [],
   "source": [
    "pr=datab[0]"
   ]
  },
  {
   "cell_type": "code",
   "execution_count": 39,
   "id": "7571668f",
   "metadata": {},
   "outputs": [
    {
     "data": {
      "text/plain": [
       "{'PhantomRGB': tensor([[[0., 0., 0.,  ..., 0., 0., 0.],\n",
       "          [0., 0., 0.,  ..., 0., 0., 0.],\n",
       "          [0., 0., 0.,  ..., 0., 0., 0.],\n",
       "          ...,\n",
       "          [0., 0., 0.,  ..., 0., 0., 0.],\n",
       "          [0., 0., 0.,  ..., 0., 0., 0.],\n",
       "          [0., 0., 0.,  ..., 0., 0., 0.]]])}"
      ]
     },
     "execution_count": 39,
     "metadata": {},
     "output_type": "execute_result"
    }
   ],
   "source": [
    "#print(np.max(pr[\"PhantomRGB\"]))\n",
    "pr"
   ]
  },
  {
   "cell_type": "code",
   "execution_count": 7,
   "id": "f000e58b",
   "metadata": {},
   "outputs": [],
   "source": [
    "model=b_encodeco(\n",
    "                 image_dim=int(20),\n",
    "                 image_channels=3,\n",
    "                 non_uniform_dim=32,\n",
    "                 repr_sizes=[2,4],\n",
    "                 pre_layer_sizes=[500],\n",
    "                 layer_sizes=[300],\n",
    "                 pre_output=400,\n",
    "                 latent_space_size=20,\n",
    "                 conv_kernel_size=5,\n",
    "                 activators=[nn.Tanh(),nn.ReLU()],\n",
    "                 conv_pooling=False,\n",
    "                 conv_batch_norm=True,\n",
    "                 NN_batch_norm=True,\n",
    "                 stride=1,\n",
    "                device='cpu')"
   ]
  },
  {
   "cell_type": "code",
   "execution_count": 8,
   "id": "0dd108f9",
   "metadata": {},
   "outputs": [
    {
     "data": {
      "text/plain": [
       "b_encodeco(\n",
       "  (encoder_conv): b_encoder_conv(\n",
       "    (im_layers): ModuleList(\n",
       "      (0): set_conv(\n",
       "        (comp_layer): ModuleList(\n",
       "          (0): Conv2d(3, 2, kernel_size=(5, 5), stride=(1, 1))\n",
       "          (1): Tanh()\n",
       "          (2): BatchNorm2d(2, eps=1e-05, momentum=0.1, affine=True, track_running_stats=True)\n",
       "        )\n",
       "      )\n",
       "      (1): set_conv(\n",
       "        (comp_layer): ModuleList(\n",
       "          (0): Conv2d(2, 4, kernel_size=(5, 5), stride=(1, 1))\n",
       "          (1): ReLU()\n",
       "          (2): BatchNorm2d(4, eps=1e-05, momentum=0.1, affine=True, track_running_stats=True)\n",
       "        )\n",
       "      )\n",
       "    )\n",
       "  )\n",
       "  (pre_encoder): NeuralNet(\n",
       "    (layers): ModuleList(\n",
       "      (0): Sequential(\n",
       "        (0): NN_layer(\n",
       "          (layer): ModuleList(\n",
       "            (0): Linear(in_features=608, out_features=500, bias=True)\n",
       "            (1): BatchNorm1d(500, eps=1e-05, momentum=0.1, affine=True, track_running_stats=True)\n",
       "            (2): ReLU()\n",
       "          )\n",
       "        )\n",
       "      )\n",
       "      (1): Sequential(\n",
       "        (0): NN_layer(\n",
       "          (layer): ModuleList(\n",
       "            (0): Linear(in_features=500, out_features=400, bias=True)\n",
       "            (1): BatchNorm1d(400, eps=1e-05, momentum=0.1, affine=True, track_running_stats=True)\n",
       "            (2): ReLU()\n",
       "          )\n",
       "        )\n",
       "      )\n",
       "    )\n",
       "  )\n",
       "  (encoder_NN_mu): NeuralNet(\n",
       "    (layers): ModuleList(\n",
       "      (0): Sequential(\n",
       "        (0): NN_layer(\n",
       "          (layer): ModuleList(\n",
       "            (0): Linear(in_features=400, out_features=300, bias=True)\n",
       "            (1): BatchNorm1d(300, eps=1e-05, momentum=0.1, affine=True, track_running_stats=True)\n",
       "            (2): LeakyReLU(negative_slope=0.01)\n",
       "          )\n",
       "        )\n",
       "      )\n",
       "      (1): Sequential(\n",
       "        (0): NN_layer(\n",
       "          (layer): ModuleList(\n",
       "            (0): Linear(in_features=300, out_features=20, bias=True)\n",
       "            (1): BatchNorm1d(20, eps=1e-05, momentum=0.1, affine=True, track_running_stats=True)\n",
       "            (2): Identity()\n",
       "          )\n",
       "        )\n",
       "      )\n",
       "    )\n",
       "  )\n",
       "  (encoder_NN_sig): NeuralNet(\n",
       "    (layers): ModuleList(\n",
       "      (0): Sequential(\n",
       "        (0): NN_layer(\n",
       "          (layer): ModuleList(\n",
       "            (0): Linear(in_features=400, out_features=300, bias=True)\n",
       "            (1): BatchNorm1d(300, eps=1e-05, momentum=0.1, affine=True, track_running_stats=True)\n",
       "            (2): LeakyReLU(negative_slope=0.01)\n",
       "          )\n",
       "        )\n",
       "      )\n",
       "      (1): Sequential(\n",
       "        (0): NN_layer(\n",
       "          (layer): ModuleList(\n",
       "            (0): Linear(in_features=300, out_features=20, bias=True)\n",
       "            (1): BatchNorm1d(20, eps=1e-05, momentum=0.1, affine=True, track_running_stats=True)\n",
       "            (2): Identity()\n",
       "          )\n",
       "        )\n",
       "      )\n",
       "    )\n",
       "  )\n",
       "  (flatten): s_view()\n",
       "  (decoder_NN): NeuralNet(\n",
       "    (layers): ModuleList(\n",
       "      (0): Sequential(\n",
       "        (0): NN_layer(\n",
       "          (layer): ModuleList(\n",
       "            (0): Linear(in_features=20, out_features=300, bias=True)\n",
       "            (1): BatchNorm1d(300, eps=1e-05, momentum=0.1, affine=True, track_running_stats=True)\n",
       "            (2): ReLU()\n",
       "          )\n",
       "        )\n",
       "      )\n",
       "      (1): Sequential(\n",
       "        (0): NN_layer(\n",
       "          (layer): ModuleList(\n",
       "            (0): Linear(in_features=300, out_features=400, bias=True)\n",
       "            (1): BatchNorm1d(400, eps=1e-05, momentum=0.1, affine=True, track_running_stats=True)\n",
       "            (2): ReLU()\n",
       "          )\n",
       "        )\n",
       "      )\n",
       "    )\n",
       "  )\n",
       "  (post_encoder): NeuralNet(\n",
       "    (layers): ModuleList(\n",
       "      (0): Sequential(\n",
       "        (0): NN_layer(\n",
       "          (layer): ModuleList(\n",
       "            (0): Linear(in_features=400, out_features=500, bias=True)\n",
       "            (1): BatchNorm1d(500, eps=1e-05, momentum=0.1, affine=True, track_running_stats=True)\n",
       "            (2): ReLU()\n",
       "          )\n",
       "        )\n",
       "      )\n",
       "      (1): Sequential(\n",
       "        (0): NN_layer(\n",
       "          (layer): ModuleList(\n",
       "            (0): Linear(in_features=500, out_features=608, bias=True)\n",
       "            (1): BatchNorm1d(608, eps=1e-05, momentum=0.1, affine=True, track_running_stats=True)\n",
       "            (2): ReLU()\n",
       "          )\n",
       "        )\n",
       "      )\n",
       "    )\n",
       "  )\n",
       "  (decoder_conv): b_decoder_conv(\n",
       "    (im_layers): ModuleList(\n",
       "      (0): set_deconv(\n",
       "        (comp_layer): ModuleList(\n",
       "          (0): ConvTranspose2d(4, 2, kernel_size=(5, 5), stride=(1, 1))\n",
       "          (1): ReLU()\n",
       "          (2): BatchNorm2d(2, eps=1e-05, momentum=0.1, affine=True, track_running_stats=True)\n",
       "        )\n",
       "      )\n",
       "      (1): set_deconv(\n",
       "        (comp_layer): ModuleList(\n",
       "          (0): ConvTranspose2d(2, 3, kernel_size=(5, 5), stride=(1, 1))\n",
       "          (1): Tanh()\n",
       "          (2): BatchNorm2d(3, eps=1e-05, momentum=0.1, affine=True, track_running_stats=True)\n",
       "        )\n",
       "      )\n",
       "    )\n",
       "  )\n",
       ")"
      ]
     },
     "execution_count": 8,
     "metadata": {},
     "output_type": "execute_result"
    }
   ],
   "source": [
    "model.eval()"
   ]
  },
  {
   "cell_type": "code",
   "execution_count": 9,
   "id": "5d397c38",
   "metadata": {},
   "outputs": [],
   "source": [
    "dataloader_train=torch.utils.data.DataLoader(datab,batch_size=1,shuffle=False,num_workers=0)"
   ]
  },
  {
   "cell_type": "code",
   "execution_count": 10,
   "id": "feb77923",
   "metadata": {},
   "outputs": [],
   "source": [
    "for batch in dataloader_train:\n",
    "    #print(idx)\n",
    "    break"
   ]
  },
  {
   "cell_type": "code",
   "execution_count": 11,
   "id": "adbf052a",
   "metadata": {},
   "outputs": [
    {
     "data": {
      "text/plain": [
       "{'PhantomRGB': tensor([[[[0.0000e+00, 0.0000e+00, 0.0000e+00,  ..., 0.0000e+00,\n",
       "            0.0000e+00, 0.0000e+00],\n",
       "           [0.0000e+00, 0.0000e+00, 0.0000e+00,  ..., 0.0000e+00,\n",
       "            0.0000e+00, 0.0000e+00],\n",
       "           [0.0000e+00, 0.0000e+00, 0.0000e+00,  ..., 0.0000e+00,\n",
       "            0.0000e+00, 0.0000e+00],\n",
       "           ...,\n",
       "           [1.0513e-03, 2.9332e-02, 1.4440e-01,  ..., 4.7411e-05,\n",
       "            3.5064e-05, 2.2639e-06],\n",
       "           [9.9853e-06, 4.9352e-03, 9.8949e-02,  ..., 0.0000e+00,\n",
       "            0.0000e+00, 0.0000e+00],\n",
       "           [1.9663e-07, 1.0973e-03, 2.5193e-02,  ..., 0.0000e+00,\n",
       "            0.0000e+00, 0.0000e+00]],\n",
       " \n",
       "          [[0.0000e+00, 0.0000e+00, 0.0000e+00,  ..., 0.0000e+00,\n",
       "            0.0000e+00, 0.0000e+00],\n",
       "           [0.0000e+00, 0.0000e+00, 0.0000e+00,  ..., 0.0000e+00,\n",
       "            0.0000e+00, 0.0000e+00],\n",
       "           [0.0000e+00, 0.0000e+00, 0.0000e+00,  ..., 0.0000e+00,\n",
       "            0.0000e+00, 0.0000e+00],\n",
       "           ...,\n",
       "           [1.0296e-03, 2.9761e-02, 1.5790e-01,  ..., 5.0700e-05,\n",
       "            3.5602e-05, 2.3803e-06],\n",
       "           [1.0411e-05, 5.1775e-03, 1.0567e-01,  ..., 0.0000e+00,\n",
       "            0.0000e+00, 0.0000e+00],\n",
       "           [2.1980e-07, 1.1586e-03, 2.6741e-02,  ..., 0.0000e+00,\n",
       "            0.0000e+00, 0.0000e+00]],\n",
       " \n",
       "          [[0.0000e+00, 0.0000e+00, 0.0000e+00,  ..., 0.0000e+00,\n",
       "            0.0000e+00, 0.0000e+00],\n",
       "           [0.0000e+00, 0.0000e+00, 0.0000e+00,  ..., 0.0000e+00,\n",
       "            0.0000e+00, 0.0000e+00],\n",
       "           [0.0000e+00, 0.0000e+00, 0.0000e+00,  ..., 0.0000e+00,\n",
       "            0.0000e+00, 0.0000e+00],\n",
       "           ...,\n",
       "           [8.5476e-04, 2.5477e-02, 1.3058e-01,  ..., 4.2502e-05,\n",
       "            2.8779e-05, 1.9975e-06],\n",
       "           [9.1112e-06, 4.3613e-03, 8.8066e-02,  ..., 0.0000e+00,\n",
       "            0.0000e+00, 0.0000e+00],\n",
       "           [1.9650e-07, 9.9380e-04, 2.2534e-02,  ..., 0.0000e+00,\n",
       "            0.0000e+00, 0.0000e+00]]]]),\n",
       " 'Non_uniform_input': tensor([[[[0.2625, 0.4051, 0.1250, 1.0000, 0.0000, 0.0000, 0.0000, 0.0000,\n",
       "            0.0000, 0.0000, 0.0000, 0.0000, 0.0000, 0.0000, 0.0000, 0.0000,\n",
       "            0.0000, 0.0000, 0.0000, 0.0000, 0.0000, 0.0000, 0.0000, 0.0000,\n",
       "            0.0000, 0.0000, 0.0000, 0.0000, 0.0000, 0.0000, 0.0000, 0.0000]]]])}"
      ]
     },
     "execution_count": 11,
     "metadata": {},
     "output_type": "execute_result"
    }
   ],
   "source": [
    "batch"
   ]
  },
  {
   "cell_type": "code",
   "execution_count": 12,
   "id": "4496b0f4",
   "metadata": {},
   "outputs": [],
   "source": [
    "z1,z2,mu,sig=model.forward_non_uniform(batch['PhantomRGB'],batch['Non_uniform_input'])"
   ]
  },
  {
   "cell_type": "code",
   "execution_count": 16,
   "id": "81455439",
   "metadata": {},
   "outputs": [
    {
     "data": {
      "text/plain": [
       "torch.Size([1, 3, 20, 20])"
      ]
     },
     "execution_count": 16,
     "metadata": {},
     "output_type": "execute_result"
    }
   ],
   "source": [
    "z1.shape"
   ]
  },
  {
   "cell_type": "code",
   "execution_count": 1,
   "id": "0acfc691",
   "metadata": {},
   "outputs": [
    {
     "ename": "NameError",
     "evalue": "name 'torch' is not defined",
     "output_type": "error",
     "traceback": [
      "\u001b[1;31m---------------------------------------------------------------------------\u001b[0m",
      "\u001b[1;31mNameError\u001b[0m                                 Traceback (most recent call last)",
      "\u001b[1;32m~\\AppData\\Local\\Temp/ipykernel_10816/3824334840.py\u001b[0m in \u001b[0;36m<module>\u001b[1;34m\u001b[0m\n\u001b[1;32m----> 1\u001b[1;33m \u001b[0ma\u001b[0m\u001b[1;33m=\u001b[0m\u001b[0mtorch\u001b[0m\u001b[1;33m.\u001b[0m\u001b[0mfrom_numpy\u001b[0m\u001b[1;33m(\u001b[0m\u001b[0mnp\u001b[0m\u001b[1;33m.\u001b[0m\u001b[0mrandom\u001b[0m\u001b[1;33m.\u001b[0m\u001b[0muniform\u001b[0m\u001b[1;33m(\u001b[0m\u001b[1;36m0\u001b[0m\u001b[1;33m,\u001b[0m\u001b[1;36m4\u001b[0m\u001b[1;33m,\u001b[0m\u001b[1;33m(\u001b[0m\u001b[1;36m1\u001b[0m\u001b[1;33m,\u001b[0m\u001b[1;36m3\u001b[0m\u001b[1;33m)\u001b[0m\u001b[1;33m)\u001b[0m\u001b[1;33m)\u001b[0m\u001b[1;33m\u001b[0m\u001b[1;33m\u001b[0m\u001b[0m\n\u001b[0m\u001b[0;32m      2\u001b[0m \u001b[0mb\u001b[0m\u001b[1;33m=\u001b[0m\u001b[0mtorch\u001b[0m\u001b[1;33m.\u001b[0m\u001b[0mfrom_numpy\u001b[0m\u001b[1;33m(\u001b[0m\u001b[0mnp\u001b[0m\u001b[1;33m.\u001b[0m\u001b[0mrandom\u001b[0m\u001b[1;33m.\u001b[0m\u001b[0muniform\u001b[0m\u001b[1;33m(\u001b[0m\u001b[1;36m0\u001b[0m\u001b[1;33m,\u001b[0m\u001b[1;36m4\u001b[0m\u001b[1;33m,\u001b[0m\u001b[1;33m(\u001b[0m\u001b[1;36m1\u001b[0m\u001b[1;33m,\u001b[0m\u001b[1;36m5\u001b[0m\u001b[1;33m)\u001b[0m\u001b[1;33m)\u001b[0m\u001b[1;33m)\u001b[0m\u001b[1;33m\u001b[0m\u001b[1;33m\u001b[0m\u001b[0m\n\u001b[0;32m      3\u001b[0m \u001b[0mtorch\u001b[0m\u001b[1;33m.\u001b[0m\u001b[0mconcat\u001b[0m\u001b[1;33m(\u001b[0m\u001b[1;33m(\u001b[0m\u001b[0ma\u001b[0m\u001b[1;33m,\u001b[0m\u001b[0mb\u001b[0m\u001b[1;33m)\u001b[0m\u001b[1;33m,\u001b[0m\u001b[0mdim\u001b[0m\u001b[1;33m=\u001b[0m\u001b[1;36m1\u001b[0m\u001b[1;33m)\u001b[0m\u001b[1;33m\u001b[0m\u001b[1;33m\u001b[0m\u001b[0m\n",
      "\u001b[1;31mNameError\u001b[0m: name 'torch' is not defined"
     ]
    }
   ],
   "source": [
    "a=torch.from_numpy(np.random.uniform(0,4,(1,3)))\n",
    "b=torch.from_numpy(np.random.uniform(0,4,(1,5)))\n",
    "torch.concat((a,b),dim=1)\n"
   ]
  },
  {
   "cell_type": "code",
   "execution_count": null,
   "id": "9c048902",
   "metadata": {},
   "outputs": [],
   "source": [
    "x1=batch['PhantomRGB']\n",
    "x2=batch['Non_uniform_input']\n",
    "\n",
    "x1=model.encoder_conv(x1)\n",
    "x1=model.flatten(x1)\n",
    "#Pre estimation\n",
    "print(torch.concat((x1,x2.squeeze(1).squeeze(1)),dim=1)) #CHECK\n",
    "x=model.pre_encoder(torch.concat((x1,x2.squeeze(1).squeeze(1)),dim=1))\n",
    "#FCNN\n",
    "mu=model.encoder_NN_mu(x)\n",
    "sig=model.encoder_NN_sig(x)\n",
    "\n",
    "z12=model.reparametrization(mu,sig)\n",
    "#Pre estimation inv\n",
    "\n",
    "z12=model.decoder_NN(z12)\n",
    "z12=model.post_encoder(z12) #TODO: split image and other input latent variables\n",
    "z1,z2=torch.split(z12,[model.NN_input,model.non_uniform_input_dim],dim=1)\n",
    "\n",
    "z1=model.flatten(z1)\n",
    "z1=model.decoder_conv(z1)"
   ]
  },
  {
   "cell_type": "code",
   "execution_count": null,
   "id": "c6ecb73f",
   "metadata": {},
   "outputs": [],
   "source": [
    "torch.concat((x1,x2.squeeze(1).squeeze(1)),dim=1).shape"
   ]
  },
  {
   "cell_type": "code",
   "execution_count": null,
   "id": "674409b7",
   "metadata": {},
   "outputs": [],
   "source": [
    "x1.shape"
   ]
  },
  {
   "cell_type": "code",
   "execution_count": null,
   "id": "c099291f",
   "metadata": {},
   "outputs": [],
   "source": [
    "xx=x2.squeeze(1).squeeze(1)\n",
    "xx.shape"
   ]
  },
  {
   "cell_type": "code",
   "execution_count": null,
   "id": "a6246c9b",
   "metadata": {},
   "outputs": [],
   "source": [
    "z1,z2=torch.split(z12,[model.NN_input,model.non_uniform_input_dim],dim=1)"
   ]
  },
  {
   "cell_type": "code",
   "execution_count": null,
   "id": "a1dfbf1e",
   "metadata": {},
   "outputs": [],
   "source": [
    "z2"
   ]
  }
 ],
 "metadata": {
  "kernelspec": {
   "display_name": "paltas",
   "language": "python",
   "name": "paltas"
  },
  "language_info": {
   "codemirror_mode": {
    "name": "ipython",
    "version": 3
   },
   "file_extension": ".py",
   "mimetype": "text/x-python",
   "name": "python",
   "nbconvert_exporter": "python",
   "pygments_lexer": "ipython3",
   "version": "3.9.7"
  }
 },
 "nbformat": 4,
 "nbformat_minor": 5
}
